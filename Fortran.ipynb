{
 "metadata": {
  "name": ""
 },
 "nbformat": 3,
 "nbformat_minor": 0,
 "worksheets": [
  {
   "cells": [
    {
     "cell_type": "code",
     "collapsed": false,
     "input": [
      "%install_ext https://raw.github.com/mgaitan/fortran_magic/master/fortranmagic.py"
     ],
     "language": "python",
     "metadata": {},
     "outputs": [
      {
       "output_type": "stream",
       "stream": "stdout",
       "text": [
        "Installed fortranmagic.py. To use it, type:\n",
        "  %load_ext fortranmagic\n"
       ]
      }
     ],
     "prompt_number": 1
    },
    {
     "cell_type": "code",
     "collapsed": false,
     "input": [
      "%load_ext fortranmagic"
     ],
     "language": "python",
     "metadata": {},
     "outputs": [
      {
       "javascript": [
        "$.getScript(\"https://raw.github.com/marijnh/CodeMirror/master/mode/fortran/fortran.js\", function () {\n",
        "IPython.config.cell_magic_highlight['magic_fortran'] = {'reg':[/^%%fortran/]};});\n"
       ],
       "metadata": {},
       "output_type": "display_data"
      }
     ],
     "prompt_number": 2
    },
    {
     "cell_type": "code",
     "collapsed": false,
     "input": [
      "%%fortran\n",
      "subroutine f1(x, y, z)\n",
      "    real, intent(in) :: x,y\n",
      "    real, intent(out) :: z\n",
      "\n",
      "    z = sin(x+y)\n",
      "\n",
      "end subroutine f1"
     ],
     "language": "python",
     "metadata": {},
     "outputs": [],
     "prompt_number": 3
    },
    {
     "cell_type": "code",
     "collapsed": false,
     "input": [
      "f1(1.0, 2.1415)"
     ],
     "language": "python",
     "metadata": {},
     "outputs": [
      {
       "metadata": {},
       "output_type": "pyout",
       "prompt_number": 4,
       "text": [
        "9.2657406639773399e-05"
       ]
      }
     ],
     "prompt_number": 4
    },
    {
     "cell_type": "code",
     "collapsed": false,
     "input": [
      "%timeit f1(1.0, 2.1415)"
     ],
     "language": "python",
     "metadata": {},
     "outputs": [
      {
       "output_type": "stream",
       "stream": "stdout",
       "text": [
        "1000000 loops, best of 3: 192 ns per loop\n"
       ]
      }
     ],
     "prompt_number": 6
    },
    {
     "cell_type": "code",
     "collapsed": false,
     "input": [
      "import numpy as np\n",
      "def nsin(x,y):\n",
      "    z = np.sin(x+y)\n",
      "    return z"
     ],
     "language": "python",
     "metadata": {},
     "outputs": [],
     "prompt_number": 13
    },
    {
     "cell_type": "code",
     "collapsed": false,
     "input": [
      "%timeit nsin(1.0,2.1415)"
     ],
     "language": "python",
     "metadata": {},
     "outputs": [
      {
       "output_type": "stream",
       "stream": "stdout",
       "text": [
        "1000000 loops, best of 3: 1.83 \u00b5s per loop\n"
       ]
      }
     ],
     "prompt_number": 14
    },
    {
     "cell_type": "code",
     "collapsed": false,
     "input": [
      "import math\n",
      "def psin(x,y):\n",
      "    z = math.sin(x+y)\n",
      "    return z    "
     ],
     "language": "python",
     "metadata": {},
     "outputs": [],
     "prompt_number": 11
    },
    {
     "cell_type": "code",
     "collapsed": false,
     "input": [
      "%timeit psin(1.0,2.1415)"
     ],
     "language": "python",
     "metadata": {},
     "outputs": [
      {
       "output_type": "stream",
       "stream": "stdout",
       "text": [
        "1000000 loops, best of 3: 370 ns per loop\n"
       ]
      }
     ],
     "prompt_number": 12
    },
    {
     "cell_type": "code",
     "collapsed": false,
     "input": [
      "%%fortran\n",
      "!integer, external :: f2\n",
      "\n",
      "integer function f2(x)\n",
      "    implicit none\n",
      "    integer, intent(in) :: x\n",
      "    !integer, intent(out) :: f2\n",
      "    \n",
      "    f2 = x**2\n",
      "end function\n",
      "\n",
      "integer function f3(f2,x)\n",
      "    implicit none\n",
      "    integer, intent(in) :: x\n",
      "    !integer, intent(in) :: f\n",
      "    interface\n",
      "    function f2(x)\n",
      "    integer :: x\n",
      "    end function\n",
      "    end interface\n",
      "    !integer, intent(out) :: f3    \n",
      "    f3 = f2(x)\n",
      "end function"
     ],
     "language": "python",
     "metadata": {},
     "outputs": [
      {
       "output_type": "stream",
       "stream": "stderr",
       "text": [
        "sign2map: Confused: external f2 is not in lcb_map[].\n",
        "append_needs: unknown need 'f2'\n",
        "append_needs: unknown need 'f2'\n"
       ]
      },
      {
       "output_type": "stream",
       "stream": "stdout",
       "text": [
        "running build\n",
        "running config_cc\n",
        "unifing config_cc, config, build_clib, build_ext, build commands --compiler options\n",
        "running config_fc\n",
        "unifing config_fc, config, build_clib, build_ext, build commands --fcompiler options\n",
        "running build_src\n",
        "build_src\n",
        "building extension \"_fortran_magic_132847a0ac11647158c9ad75dcf2198c\" sources\n",
        "f2py options: []\n",
        "f2py:> /tmp/tmpfkzcj1/src.linux-x86_64-2.6/_fortran_magic_132847a0ac11647158c9ad75dcf2198cmodule.c\n",
        "creating /tmp/tmpfkzcj1\n",
        "creating /tmp/tmpfkzcj1/src.linux-x86_64-2.6\n",
        "Reading fortran codes...\n",
        "\tReading file '/usr2/gager/.cache/ipython/fortran/_fortran_magic_132847a0ac11647158c9ad75dcf2198c.f90' (format:free)\n",
        "Post-processing...\n",
        "\tBlock: _fortran_magic_132847a0ac11647158c9ad75dcf2198c\n",
        "\t\t\tBlock: f2\n",
        "\t\t\tBlock: f3\n",
        "\t\t\t\t\tBlock: f2\n",
        "Post-processing (stage 2)...\n",
        "Building modules...\n",
        "\tBuilding module \"_fortran_magic_132847a0ac11647158c9ad75dcf2198c\"...\n",
        "\t\tCreating wrapper for Fortran function \"f2\"(\"f2\")...\n",
        "\t\tConstructing wrapper function \"f2\"...\n",
        "\t\t  f2 = f2(x)\n",
        "\t\tCreating wrapper for Fortran function \"f3\"(\"f3\")...\n",
        "\t\tConstructing wrapper function \"f3\"...\n",
        "\t\t  f3 = f3(f2,x,[f2_extra_args])\n",
        "\tWrote C/API module \"_fortran_magic_132847a0ac11647158c9ad75dcf2198c\" to file \"/tmp/tmpfkzcj1/src.linux-x86_64-2.6/_fortran_magic_132847a0ac11647158c9ad75dcf2198cmodule.c\"\n",
        "\tFortran 77 wrappers are saved to \"/tmp/tmpfkzcj1/src.linux-x86_64-2.6/_fortran_magic_132847a0ac11647158c9ad75dcf2198c-f2pywrappers.f\"\n",
        "  adding '/tmp/tmpfkzcj1/src.linux-x86_64-2.6/fortranobject.c' to sources.\n",
        "  adding '/tmp/tmpfkzcj1/src.linux-x86_64-2.6' to include_dirs.\n",
        "copying /usr/lib64/python2.6/site-packages/numpy/f2py/src/fortranobject.c -> /tmp/tmpfkzcj1/src.linux-x86_64-2.6\n",
        "copying /usr/lib64/python2.6/site-packages/numpy/f2py/src/fortranobject.h -> /tmp/tmpfkzcj1/src.linux-x86_64-2.6\n",
        "  adding '/tmp/tmpfkzcj1/src.linux-x86_64-2.6/_fortran_magic_132847a0ac11647158c9ad75dcf2198c-f2pywrappers.f' to sources.\n",
        "build_src: building npy-pkg config files\n",
        "running build_ext\n",
        "customize UnixCCompiler\n",
        "customize UnixCCompiler using build_ext\n",
        "customize GnuFCompiler\n",
        "customize IntelFCompiler\n",
        "customize LaheyFCompiler\n",
        "customize PGroupFCompiler\n",
        "customize AbsoftFCompiler\n",
        "customize NAGFCompiler\n",
        "customize VastFCompiler\n",
        "customize CompaqFCompiler\n",
        "customize IntelItaniumFCompiler\n",
        "customize IntelEM64TFCompiler\n",
        "customize IntelEM64TFCompiler\n",
        "customize IntelEM64TFCompiler using build_ext\n",
        "building '_fortran_magic_132847a0ac11647158c9ad75dcf2198c' extension\n",
        "compiling C sources\n",
        "C compiler: gcc -pthread -fno-strict-aliasing -O2 -g -pipe -Wall -Wp,-D_FORTIFY_SOURCE=2 -fexceptions -fstack-protector --param=ssp-buffer-size=4 -m64 -mtune=generic -D_GNU_SOURCE -fPIC -fwrapv -DNDEBUG -O2 -g -pipe -Wall -Wp,-D_FORTIFY_SOURCE=2 -fexceptions -fstack-protector --param=ssp-buffer-size=4 -m64 -mtune=generic -D_GNU_SOURCE -fPIC -fwrapv -fPIC\n",
        "\n",
        "creating /tmp/tmpfkzcj1/tmp\n",
        "creating /tmp/tmpfkzcj1/tmp/tmpfkzcj1\n",
        "creating /tmp/tmpfkzcj1/tmp/tmpfkzcj1/src.linux-x86_64-2.6\n",
        "compile options: '-I/tmp/tmpfkzcj1/src.linux-x86_64-2.6 -I/usr/lib64/python2.6/site-packages/numpy/core/include -I/usr/include/python2.6 -c'\n",
        "gcc: /tmp/tmpfkzcj1/src.linux-x86_64-2.6/_fortran_magic_132847a0ac11647158c9ad75dcf2198cmodule.c\n",
        "/tmp/tmpfkzcj1/src.linux-x86_64-2.6/_fortran_magic_132847a0ac11647158c9ad75dcf2198cmodule.c: In function \u2018f2py_rout__fortran_magic_132847a0ac11647158c9ad75dcf2198c_f3\u2019:\n",
        "/tmp/tmpfkzcj1/src.linux-x86_64-2.6/_fortran_magic_132847a0ac11647158c9ad75dcf2198cmodule.c:389: error: \u2018f2_typedef\u2019 undeclared (first use in this function)\n",
        "/tmp/tmpfkzcj1/src.linux-x86_64-2.6/_fortran_magic_132847a0ac11647158c9ad75dcf2198cmodule.c:389: error: (Each undeclared identifier is reported only once\n",
        "/tmp/tmpfkzcj1/src.linux-x86_64-2.6/_fortran_magic_132847a0ac11647158c9ad75dcf2198cmodule.c:389: error: for each function it appears in.)\n",
        "/tmp/tmpfkzcj1/src.linux-x86_64-2.6/_fortran_magic_132847a0ac11647158c9ad75dcf2198cmodule.c:389: error: expected \u2018;\u2019 before \u2018f2_cptr\u2019\n",
        "/tmp/tmpfkzcj1/src.linux-x86_64-2.6/_fortran_magic_132847a0ac11647158c9ad75dcf2198cmodule.c:408: error: \u2018f2_cptr\u2019 undeclared (first use in this function)\n",
        "/tmp/tmpfkzcj1/src.linux-x86_64-2.6/_fortran_magic_132847a0ac11647158c9ad75dcf2198cmodule.c:410: error: \u2018f2\u2019 undeclared (first use in this function)\n",
        "/tmp/tmpfkzcj1/src.linux-x86_64-2.6/_fortran_magic_132847a0ac11647158c9ad75dcf2198cmodule.c:413: error: \u2018f2_nofargs\u2019 undeclared (first use in this function)\n",
        "/tmp/tmpfkzcj1/src.linux-x86_64-2.6/_fortran_magic_132847a0ac11647158c9ad75dcf2198cmodule.c:414: error: stray \u2018#\u2019 in program\n",
        "/tmp/tmpfkzcj1/src.linux-x86_64-2.6/_fortran_magic_132847a0ac11647158c9ad75dcf2198cmodule.c:414: error: stray \u2018#\u2019 in program\n",
        "/tmp/tmpfkzcj1/src.linux-x86_64-2.6/_fortran_magic_132847a0ac11647158c9ad75dcf2198cmodule.c:414: error: \u2018maxnofargs\u2019 undeclared (first use in this function)\n",
        "/tmp/tmpfkzcj1/src.linux-x86_64-2.6/_fortran_magic_132847a0ac11647158c9ad75dcf2198cmodule.c:414: error: stray \u2018#\u2019 in program\n",
        "/tmp/tmpfkzcj1/src.linux-x86_64-2.6/_fortran_magic_132847a0ac11647158c9ad75dcf2198cmodule.c:414: error: stray \u2018#\u2019 in program\n",
        "/tmp/tmpfkzcj1/src.linux-x86_64-2.6/_fortran_magic_132847a0ac11647158c9ad75dcf2198cmodule.c:414: error: \u2018nofoptargs\u2019 undeclared (first use in this function)\n"
       ]
      },
      {
       "output_type": "stream",
       "stream": "stderr",
       "text": [
        "UsageError: error: Command \"gcc -pthread -fno-strict-aliasing -O2 -g -pipe -Wall -Wp,-D_FORTIFY_SOURCE=2 -fexceptions -fstack-protector --param=ssp-buffer-size=4 -m64 -mtune=generic -D_GNU_SOURCE -fPIC -fwrapv -DNDEBUG -O2 -g -pipe -Wall -Wp,-D_FORTIFY_SOURCE=2 -fexceptions -fstack-protector --param=ssp-buffer-size=4 -m64 -mtune=generic -D_GNU_SOURCE -fPIC -fwrapv -fPIC -I/tmp/tmpfkzcj1/src.linux-x86_64-2.6 -I/usr/lib64/python2.6/site-packages/numpy/core/include -I/usr/include/python2.6 -c /tmp/tmpfkzcj1/src.linux-x86_64-2.6/_fortran_magic_132847a0ac11647158c9ad75dcf2198cmodule.c -o /tmp/tmpfkzcj1/tmp/tmpfkzcj1/src.linux-x86_64-2.6/_fortran_magic_132847a0ac11647158c9ad75dcf2198cmodule.o\" failed with exit status 1"
       ]
      }
     ],
     "prompt_number": 42
    },
    {
     "cell_type": "code",
     "collapsed": false,
     "input": [
      "f2(4)"
     ],
     "language": "python",
     "metadata": {},
     "outputs": [
      {
       "metadata": {},
       "output_type": "pyout",
       "prompt_number": 17,
       "text": [
        "16"
       ]
      }
     ],
     "prompt_number": 17
    },
    {
     "cell_type": "code",
     "collapsed": false,
     "input": [
      "f3(f2,4)"
     ],
     "language": "python",
     "metadata": {},
     "outputs": [
      {
       "ename": "error",
       "evalue": "_fortran_magic_86cecc18751943802ec46c3fd358d0a3.f3() 1st argument (f) can't be converted to int",
       "output_type": "pyerr",
       "traceback": [
        "\u001b[1;31m---------------------------------------------------------------------------\u001b[0m\n\u001b[1;31merror\u001b[0m                                     Traceback (most recent call last)",
        "\u001b[1;32m<ipython-input-18-5293dd9969d7>\u001b[0m in \u001b[0;36m<module>\u001b[1;34m()\u001b[0m\n\u001b[1;32m----> 1\u001b[1;33m \u001b[0mf3\u001b[0m\u001b[1;33m(\u001b[0m\u001b[0mf2\u001b[0m\u001b[1;33m,\u001b[0m\u001b[1;36m4\u001b[0m\u001b[1;33m)\u001b[0m\u001b[1;33m\u001b[0m\u001b[0m\n\u001b[0m",
        "\u001b[1;31merror\u001b[0m: _fortran_magic_86cecc18751943802ec46c3fd358d0a3.f3() 1st argument (f) can't be converted to int"
       ]
      }
     ],
     "prompt_number": 18
    },
    {
     "cell_type": "code",
     "collapsed": false,
     "input": [
      "%%fortran\n",
      "module dummy\n",
      "  implicit none\n",
      "  external dyn_func\n",
      "contains\n",
      "!------------------------------------------------------------------------------\n",
      "function func1(a)\n",
      "  implicit none\n",
      "  real :: a\n",
      "  real :: func1\n",
      "\n",
      "  func1 = a+5\n",
      "end function func1\n",
      "!------------------------------------------------------------------------------\n",
      "function func2(b)\n",
      "  implicit none\n",
      "  real :: b\n",
      "  real :: func2\n",
      "\n",
      "  func2 = b*3.0\n",
      "end function func2\n",
      "!------------------------------------------------------------------------------\n",
      "function func3(dyn_func, c)\n",
      "  implicit none\n",
      "  real :: c\n",
      "  real :: dyn_func\n",
      "  real :: func3\n",
      "\n",
      "  func3 = dyn_func(c)\n",
      "end function func3\n",
      "end module dummy\n",
      "!------------------------------------------------------------------------------\n",
      "program passing_functions\n",
      "  use dummy\n",
      "  implicit none\n",
      "  \n",
      "  real :: alpha=0.5, beta\n",
      "  \n",
      "  beta = func3(func1, alpha)\n",
      "  write(*,*) 'beta = ', beta\n",
      "  beta = func3(func2, alpha)\n",
      "  write(*,*) 'beta = ', beta\n",
      "end program passing_functions"
     ],
     "language": "python",
     "metadata": {},
     "outputs": [
      {
       "ename": "KeyError",
       "evalue": "'void'",
       "output_type": "pyerr",
       "traceback": [
        "\u001b[1;31m---------------------------------------------------------------------------\u001b[0m\n\u001b[1;31mKeyError\u001b[0m                                  Traceback (most recent call last)",
        "\u001b[1;32m<ipython-input-36-a6ec1da3151d>\u001b[0m in \u001b[0;36m<module>\u001b[1;34m()\u001b[0m\n\u001b[1;32m----> 1\u001b[1;33m \u001b[0mget_ipython\u001b[0m\u001b[1;33m(\u001b[0m\u001b[1;33m)\u001b[0m\u001b[1;33m.\u001b[0m\u001b[0mrun_cell_magic\u001b[0m\u001b[1;33m(\u001b[0m\u001b[1;34mu'fortran'\u001b[0m\u001b[1;33m,\u001b[0m \u001b[1;34mu''\u001b[0m\u001b[1;33m,\u001b[0m \u001b[1;34mu\"module dummy\\n  implicit none\\n  external dyn_func\\ncontains\\n!------------------------------------------------------------------------------\\nfunction func1(a)\\n  implicit none\\n  real :: a\\n  real :: func1\\n\\n  func1 = a+5\\nend function func1\\n!------------------------------------------------------------------------------\\nfunction func2(b)\\n  implicit none\\n  real :: b\\n  real :: func2\\n\\n  func2 = b*3.0\\nend function func2\\n!------------------------------------------------------------------------------\\nfunction func3(dyn_func, c)\\n  implicit none\\n  real :: c\\n  real :: dyn_func\\n  real :: func3\\n\\n  func3 = dyn_func(c)\\nend function func3\\nend module dummy\\n!------------------------------------------------------------------------------\\nprogram passing_functions\\n  use dummy\\n  implicit none\\n  \\n  real :: alpha=0.5, beta\\n  \\n  beta = func3(func1, alpha)\\n  write(*,*) 'beta = ', beta\\n  beta = func3(func2, alpha)\\n  write(*,*) 'beta = ', beta\\nend program passing_functions\"\u001b[0m\u001b[1;33m)\u001b[0m\u001b[1;33m\u001b[0m\u001b[0m\n\u001b[0m",
        "\u001b[1;32m/usr2/gager/usr/lib/python2.6/site-packages/ipython-1.1.0-py2.6.egg/IPython/core/interactiveshell.pyc\u001b[0m in \u001b[0;36mrun_cell_magic\u001b[1;34m(self, magic_name, line, cell)\u001b[0m\n\u001b[0;32m   2127\u001b[0m             \u001b[0mmagic_arg_s\u001b[0m \u001b[1;33m=\u001b[0m \u001b[0mself\u001b[0m\u001b[1;33m.\u001b[0m\u001b[0mvar_expand\u001b[0m\u001b[1;33m(\u001b[0m\u001b[0mline\u001b[0m\u001b[1;33m,\u001b[0m \u001b[0mstack_depth\u001b[0m\u001b[1;33m)\u001b[0m\u001b[1;33m\u001b[0m\u001b[0m\n\u001b[0;32m   2128\u001b[0m             \u001b[1;32mwith\u001b[0m \u001b[0mself\u001b[0m\u001b[1;33m.\u001b[0m\u001b[0mbuiltin_trap\u001b[0m\u001b[1;33m:\u001b[0m\u001b[1;33m\u001b[0m\u001b[0m\n\u001b[1;32m-> 2129\u001b[1;33m                 \u001b[0mresult\u001b[0m \u001b[1;33m=\u001b[0m \u001b[0mfn\u001b[0m\u001b[1;33m(\u001b[0m\u001b[0mmagic_arg_s\u001b[0m\u001b[1;33m,\u001b[0m \u001b[0mcell\u001b[0m\u001b[1;33m)\u001b[0m\u001b[1;33m\u001b[0m\u001b[0m\n\u001b[0m\u001b[0;32m   2130\u001b[0m             \u001b[1;32mreturn\u001b[0m \u001b[0mresult\u001b[0m\u001b[1;33m\u001b[0m\u001b[0m\n\u001b[0;32m   2131\u001b[0m \u001b[1;33m\u001b[0m\u001b[0m\n",
        "\u001b[1;32m/usr2/gager/.config/ipython/extensions/fortranmagic.py\u001b[0m in \u001b[0;36mfortran\u001b[1;34m(self, line, cell)\u001b[0m\n",
        "\u001b[1;32m/usr2/gager/usr/lib/python2.6/site-packages/ipython-1.1.0-py2.6.egg/IPython/core/magic.pyc\u001b[0m in \u001b[0;36m<lambda>\u001b[1;34m(f, *a, **k)\u001b[0m\n\u001b[0;32m    189\u001b[0m     \u001b[1;31m# but it's overkill for just that one bit of state.\u001b[0m\u001b[1;33m\u001b[0m\u001b[1;33m\u001b[0m\u001b[0m\n\u001b[0;32m    190\u001b[0m     \u001b[1;32mdef\u001b[0m \u001b[0mmagic_deco\u001b[0m\u001b[1;33m(\u001b[0m\u001b[0marg\u001b[0m\u001b[1;33m)\u001b[0m\u001b[1;33m:\u001b[0m\u001b[1;33m\u001b[0m\u001b[0m\n\u001b[1;32m--> 191\u001b[1;33m         \u001b[0mcall\u001b[0m \u001b[1;33m=\u001b[0m \u001b[1;32mlambda\u001b[0m \u001b[0mf\u001b[0m\u001b[1;33m,\u001b[0m \u001b[1;33m*\u001b[0m\u001b[0ma\u001b[0m\u001b[1;33m,\u001b[0m \u001b[1;33m**\u001b[0m\u001b[0mk\u001b[0m\u001b[1;33m:\u001b[0m \u001b[0mf\u001b[0m\u001b[1;33m(\u001b[0m\u001b[1;33m*\u001b[0m\u001b[0ma\u001b[0m\u001b[1;33m,\u001b[0m \u001b[1;33m**\u001b[0m\u001b[0mk\u001b[0m\u001b[1;33m)\u001b[0m\u001b[1;33m\u001b[0m\u001b[0m\n\u001b[0m\u001b[0;32m    192\u001b[0m \u001b[1;33m\u001b[0m\u001b[0m\n\u001b[0;32m    193\u001b[0m         \u001b[1;32mif\u001b[0m \u001b[0mcallable\u001b[0m\u001b[1;33m(\u001b[0m\u001b[0marg\u001b[0m\u001b[1;33m)\u001b[0m\u001b[1;33m:\u001b[0m\u001b[1;33m\u001b[0m\u001b[0m\n",
        "\u001b[1;32m/usr2/gager/.config/ipython/extensions/fortranmagic.py\u001b[0m in \u001b[0;36mfortran\u001b[1;34m(self, line, cell)\u001b[0m\n\u001b[0;32m    332\u001b[0m \u001b[1;33m\u001b[0m\u001b[0m\n\u001b[0;32m    333\u001b[0m         self._run_f2py(f2py_args + ['-m', module_name, '-c', f90_file],\n\u001b[1;32m--> 334\u001b[1;33m                        verbosity=args.verbosity)\n\u001b[0m\u001b[0;32m    335\u001b[0m \u001b[1;33m\u001b[0m\u001b[0m\n\u001b[0;32m    336\u001b[0m         \u001b[0mself\u001b[0m\u001b[1;33m.\u001b[0m\u001b[0m_code_cache\u001b[0m\u001b[1;33m[\u001b[0m\u001b[0mkey\u001b[0m\u001b[1;33m]\u001b[0m \u001b[1;33m=\u001b[0m \u001b[0mmodule_name\u001b[0m\u001b[1;33m\u001b[0m\u001b[0m\n",
        "\u001b[1;32m/usr2/gager/.config/ipython/extensions/fortranmagic.py\u001b[0m in \u001b[0;36m_run_f2py\u001b[1;34m(self, argv, show_captured, verbosity)\u001b[0m\n\u001b[0;32m    168\u001b[0m             \u001b[1;32mtry\u001b[0m\u001b[1;33m:\u001b[0m\u001b[1;33m\u001b[0m\u001b[0m\n\u001b[0;32m    169\u001b[0m                 \u001b[1;32mwith\u001b[0m \u001b[0mcapture_output\u001b[0m\u001b[1;33m(\u001b[0m\u001b[1;33m)\u001b[0m \u001b[1;32mas\u001b[0m \u001b[0mcaptured\u001b[0m\u001b[1;33m:\u001b[0m\u001b[1;33m\u001b[0m\u001b[0m\n\u001b[1;32m--> 170\u001b[1;33m                     \u001b[0mf2py2e\u001b[0m\u001b[1;33m.\u001b[0m\u001b[0mmain\u001b[0m\u001b[1;33m(\u001b[0m\u001b[1;33m)\u001b[0m\u001b[1;33m\u001b[0m\u001b[0m\n\u001b[0m\u001b[0;32m    171\u001b[0m                 \u001b[1;32mif\u001b[0m \u001b[0mshow_captured\u001b[0m \u001b[1;32mor\u001b[0m \u001b[0mverbosity\u001b[0m \u001b[1;33m>\u001b[0m \u001b[1;36m2\u001b[0m\u001b[1;33m:\u001b[0m\u001b[1;33m\u001b[0m\u001b[0m\n\u001b[0;32m    172\u001b[0m                     \u001b[0mcaptured\u001b[0m\u001b[1;33m(\u001b[0m\u001b[1;33m)\u001b[0m\u001b[1;33m\u001b[0m\u001b[0m\n",
        "\u001b[1;32m/usr/lib64/python2.6/site-packages/numpy/f2py/f2py2e.pyc\u001b[0m in \u001b[0;36mmain\u001b[1;34m()\u001b[0m\n\u001b[0;32m    586\u001b[0m         \u001b[1;32mreturn\u001b[0m\u001b[1;33m\u001b[0m\u001b[0m\n\u001b[0;32m    587\u001b[0m     \u001b[1;32mif\u001b[0m \u001b[1;34m'-c'\u001b[0m \u001b[1;32min\u001b[0m \u001b[0msys\u001b[0m\u001b[1;33m.\u001b[0m\u001b[0margv\u001b[0m\u001b[1;33m[\u001b[0m\u001b[1;36m1\u001b[0m\u001b[1;33m:\u001b[0m\u001b[1;33m]\u001b[0m\u001b[1;33m:\u001b[0m\u001b[1;33m\u001b[0m\u001b[0m\n\u001b[1;32m--> 588\u001b[1;33m         \u001b[0mrun_compile\u001b[0m\u001b[1;33m(\u001b[0m\u001b[1;33m)\u001b[0m\u001b[1;33m\u001b[0m\u001b[0m\n\u001b[0m\u001b[0;32m    589\u001b[0m     \u001b[1;32melse\u001b[0m\u001b[1;33m:\u001b[0m\u001b[1;33m\u001b[0m\u001b[0m\n\u001b[0;32m    590\u001b[0m         \u001b[0mrun_main\u001b[0m\u001b[1;33m(\u001b[0m\u001b[0msys\u001b[0m\u001b[1;33m.\u001b[0m\u001b[0margv\u001b[0m\u001b[1;33m[\u001b[0m\u001b[1;36m1\u001b[0m\u001b[1;33m:\u001b[0m\u001b[1;33m]\u001b[0m\u001b[1;33m)\u001b[0m\u001b[1;33m\u001b[0m\u001b[0m\n",
        "\u001b[1;32m/usr/lib64/python2.6/site-packages/numpy/f2py/f2py2e.pyc\u001b[0m in \u001b[0;36mrun_compile\u001b[1;34m()\u001b[0m\n\u001b[0;32m    572\u001b[0m         \u001b[0msys\u001b[0m\u001b[1;33m.\u001b[0m\u001b[0margv\u001b[0m\u001b[1;33m.\u001b[0m\u001b[0mextend\u001b[0m\u001b[1;33m(\u001b[0m\u001b[1;33m[\u001b[0m\u001b[1;34m'build_ext'\u001b[0m\u001b[1;33m]\u001b[0m\u001b[1;33m+\u001b[0m\u001b[0mflib_flags\u001b[0m\u001b[1;33m)\u001b[0m\u001b[1;33m\u001b[0m\u001b[0m\n\u001b[0;32m    573\u001b[0m \u001b[1;33m\u001b[0m\u001b[0m\n\u001b[1;32m--> 574\u001b[1;33m     \u001b[0msetup\u001b[0m\u001b[1;33m(\u001b[0m\u001b[0mext_modules\u001b[0m \u001b[1;33m=\u001b[0m \u001b[1;33m[\u001b[0m\u001b[0mext\u001b[0m\u001b[1;33m]\u001b[0m\u001b[1;33m)\u001b[0m\u001b[1;33m\u001b[0m\u001b[0m\n\u001b[0m\u001b[0;32m    575\u001b[0m \u001b[1;33m\u001b[0m\u001b[0m\n\u001b[0;32m    576\u001b[0m     \u001b[1;32mif\u001b[0m \u001b[0mremove_build_dir\u001b[0m \u001b[1;32mand\u001b[0m \u001b[0mos\u001b[0m\u001b[1;33m.\u001b[0m\u001b[0mpath\u001b[0m\u001b[1;33m.\u001b[0m\u001b[0mexists\u001b[0m\u001b[1;33m(\u001b[0m\u001b[0mbuild_dir\u001b[0m\u001b[1;33m)\u001b[0m\u001b[1;33m:\u001b[0m\u001b[1;33m\u001b[0m\u001b[0m\n",
        "\u001b[1;32m/usr/lib64/python2.6/site-packages/numpy/distutils/core.pyc\u001b[0m in \u001b[0;36msetup\u001b[1;34m(**attr)\u001b[0m\n\u001b[0;32m    184\u001b[0m     \u001b[0mnew_attr\u001b[0m\u001b[1;33m[\u001b[0m\u001b[1;34m'distclass'\u001b[0m\u001b[1;33m]\u001b[0m \u001b[1;33m=\u001b[0m \u001b[0mNumpyDistribution\u001b[0m\u001b[1;33m\u001b[0m\u001b[0m\n\u001b[0;32m    185\u001b[0m \u001b[1;33m\u001b[0m\u001b[0m\n\u001b[1;32m--> 186\u001b[1;33m     \u001b[1;32mreturn\u001b[0m \u001b[0mold_setup\u001b[0m\u001b[1;33m(\u001b[0m\u001b[1;33m**\u001b[0m\u001b[0mnew_attr\u001b[0m\u001b[1;33m)\u001b[0m\u001b[1;33m\u001b[0m\u001b[0m\n\u001b[0m\u001b[0;32m    187\u001b[0m \u001b[1;33m\u001b[0m\u001b[0m\n\u001b[0;32m    188\u001b[0m \u001b[1;32mdef\u001b[0m \u001b[0m_check_append_library\u001b[0m\u001b[1;33m(\u001b[0m\u001b[0mlibraries\u001b[0m\u001b[1;33m,\u001b[0m \u001b[0mitem\u001b[0m\u001b[1;33m)\u001b[0m\u001b[1;33m:\u001b[0m\u001b[1;33m\u001b[0m\u001b[0m\n",
        "\u001b[1;32m/usr/lib64/python2.6/distutils/core.pyc\u001b[0m in \u001b[0;36msetup\u001b[1;34m(**attrs)\u001b[0m\n\u001b[0;32m    150\u001b[0m     \u001b[1;32mif\u001b[0m \u001b[0mok\u001b[0m\u001b[1;33m:\u001b[0m\u001b[1;33m\u001b[0m\u001b[0m\n\u001b[0;32m    151\u001b[0m         \u001b[1;32mtry\u001b[0m\u001b[1;33m:\u001b[0m\u001b[1;33m\u001b[0m\u001b[0m\n\u001b[1;32m--> 152\u001b[1;33m             \u001b[0mdist\u001b[0m\u001b[1;33m.\u001b[0m\u001b[0mrun_commands\u001b[0m\u001b[1;33m(\u001b[0m\u001b[1;33m)\u001b[0m\u001b[1;33m\u001b[0m\u001b[0m\n\u001b[0m\u001b[0;32m    153\u001b[0m         \u001b[1;32mexcept\u001b[0m \u001b[0mKeyboardInterrupt\u001b[0m\u001b[1;33m:\u001b[0m\u001b[1;33m\u001b[0m\u001b[0m\n\u001b[0;32m    154\u001b[0m             \u001b[1;32mraise\u001b[0m \u001b[0mSystemExit\u001b[0m\u001b[1;33m,\u001b[0m \u001b[1;34m\"interrupted\"\u001b[0m\u001b[1;33m\u001b[0m\u001b[0m\n",
        "\u001b[1;32m/usr/lib64/python2.6/distutils/dist.pyc\u001b[0m in \u001b[0;36mrun_commands\u001b[1;34m(self)\u001b[0m\n\u001b[0;32m    973\u001b[0m         \"\"\"\n\u001b[0;32m    974\u001b[0m         \u001b[1;32mfor\u001b[0m \u001b[0mcmd\u001b[0m \u001b[1;32min\u001b[0m \u001b[0mself\u001b[0m\u001b[1;33m.\u001b[0m\u001b[0mcommands\u001b[0m\u001b[1;33m:\u001b[0m\u001b[1;33m\u001b[0m\u001b[0m\n\u001b[1;32m--> 975\u001b[1;33m             \u001b[0mself\u001b[0m\u001b[1;33m.\u001b[0m\u001b[0mrun_command\u001b[0m\u001b[1;33m(\u001b[0m\u001b[0mcmd\u001b[0m\u001b[1;33m)\u001b[0m\u001b[1;33m\u001b[0m\u001b[0m\n\u001b[0m\u001b[0;32m    976\u001b[0m \u001b[1;33m\u001b[0m\u001b[0m\n\u001b[0;32m    977\u001b[0m \u001b[1;33m\u001b[0m\u001b[0m\n",
        "\u001b[1;32m/usr/lib64/python2.6/distutils/dist.pyc\u001b[0m in \u001b[0;36mrun_command\u001b[1;34m(self, command)\u001b[0m\n\u001b[0;32m    993\u001b[0m         \u001b[0mcmd_obj\u001b[0m \u001b[1;33m=\u001b[0m \u001b[0mself\u001b[0m\u001b[1;33m.\u001b[0m\u001b[0mget_command_obj\u001b[0m\u001b[1;33m(\u001b[0m\u001b[0mcommand\u001b[0m\u001b[1;33m)\u001b[0m\u001b[1;33m\u001b[0m\u001b[0m\n\u001b[0;32m    994\u001b[0m         \u001b[0mcmd_obj\u001b[0m\u001b[1;33m.\u001b[0m\u001b[0mensure_finalized\u001b[0m\u001b[1;33m(\u001b[0m\u001b[1;33m)\u001b[0m\u001b[1;33m\u001b[0m\u001b[0m\n\u001b[1;32m--> 995\u001b[1;33m         \u001b[0mcmd_obj\u001b[0m\u001b[1;33m.\u001b[0m\u001b[0mrun\u001b[0m\u001b[1;33m(\u001b[0m\u001b[1;33m)\u001b[0m\u001b[1;33m\u001b[0m\u001b[0m\n\u001b[0m\u001b[0;32m    996\u001b[0m         \u001b[0mself\u001b[0m\u001b[1;33m.\u001b[0m\u001b[0mhave_run\u001b[0m\u001b[1;33m[\u001b[0m\u001b[0mcommand\u001b[0m\u001b[1;33m]\u001b[0m \u001b[1;33m=\u001b[0m \u001b[1;36m1\u001b[0m\u001b[1;33m\u001b[0m\u001b[0m\n\u001b[0;32m    997\u001b[0m \u001b[1;33m\u001b[0m\u001b[0m\n",
        "\u001b[1;32m/usr/lib64/python2.6/site-packages/numpy/distutils/command/build.pyc\u001b[0m in \u001b[0;36mrun\u001b[1;34m(self)\u001b[0m\n\u001b[0;32m     35\u001b[0m \u001b[1;33m\u001b[0m\u001b[0m\n\u001b[0;32m     36\u001b[0m     \u001b[1;32mdef\u001b[0m \u001b[0mrun\u001b[0m\u001b[1;33m(\u001b[0m\u001b[0mself\u001b[0m\u001b[1;33m)\u001b[0m\u001b[1;33m:\u001b[0m\u001b[1;33m\u001b[0m\u001b[0m\n\u001b[1;32m---> 37\u001b[1;33m         \u001b[0mold_build\u001b[0m\u001b[1;33m.\u001b[0m\u001b[0mrun\u001b[0m\u001b[1;33m(\u001b[0m\u001b[0mself\u001b[0m\u001b[1;33m)\u001b[0m\u001b[1;33m\u001b[0m\u001b[0m\n\u001b[0m",
        "\u001b[1;32m/usr/lib64/python2.6/distutils/command/build.pyc\u001b[0m in \u001b[0;36mrun\u001b[1;34m(self)\u001b[0m\n\u001b[0;32m    132\u001b[0m         \u001b[1;31m#  - build_scripts - (Python) scripts\u001b[0m\u001b[1;33m\u001b[0m\u001b[1;33m\u001b[0m\u001b[0m\n\u001b[0;32m    133\u001b[0m         \u001b[1;32mfor\u001b[0m \u001b[0mcmd_name\u001b[0m \u001b[1;32min\u001b[0m \u001b[0mself\u001b[0m\u001b[1;33m.\u001b[0m\u001b[0mget_sub_commands\u001b[0m\u001b[1;33m(\u001b[0m\u001b[1;33m)\u001b[0m\u001b[1;33m:\u001b[0m\u001b[1;33m\u001b[0m\u001b[0m\n\u001b[1;32m--> 134\u001b[1;33m             \u001b[0mself\u001b[0m\u001b[1;33m.\u001b[0m\u001b[0mrun_command\u001b[0m\u001b[1;33m(\u001b[0m\u001b[0mcmd_name\u001b[0m\u001b[1;33m)\u001b[0m\u001b[1;33m\u001b[0m\u001b[0m\n\u001b[0m\u001b[0;32m    135\u001b[0m \u001b[1;33m\u001b[0m\u001b[0m\n\u001b[0;32m    136\u001b[0m \u001b[1;33m\u001b[0m\u001b[0m\n",
        "\u001b[1;32m/usr/lib64/python2.6/distutils/cmd.pyc\u001b[0m in \u001b[0;36mrun_command\u001b[1;34m(self, command)\u001b[0m\n\u001b[0;32m    331\u001b[0m         \u001b[0mnecessary\u001b[0m \u001b[1;32mand\u001b[0m \u001b[0mthen\u001b[0m \u001b[0minvokes\u001b[0m \u001b[0mits\u001b[0m \u001b[1;34m'run()'\u001b[0m \u001b[0mmethod\u001b[0m\u001b[1;33m.\u001b[0m\u001b[1;33m\u001b[0m\u001b[0m\n\u001b[0;32m    332\u001b[0m         \"\"\"\n\u001b[1;32m--> 333\u001b[1;33m         \u001b[0mself\u001b[0m\u001b[1;33m.\u001b[0m\u001b[0mdistribution\u001b[0m\u001b[1;33m.\u001b[0m\u001b[0mrun_command\u001b[0m\u001b[1;33m(\u001b[0m\u001b[0mcommand\u001b[0m\u001b[1;33m)\u001b[0m\u001b[1;33m\u001b[0m\u001b[0m\n\u001b[0m\u001b[0;32m    334\u001b[0m \u001b[1;33m\u001b[0m\u001b[0m\n\u001b[0;32m    335\u001b[0m \u001b[1;33m\u001b[0m\u001b[0m\n",
        "\u001b[1;32m/usr/lib64/python2.6/distutils/dist.pyc\u001b[0m in \u001b[0;36mrun_command\u001b[1;34m(self, command)\u001b[0m\n\u001b[0;32m    993\u001b[0m         \u001b[0mcmd_obj\u001b[0m \u001b[1;33m=\u001b[0m \u001b[0mself\u001b[0m\u001b[1;33m.\u001b[0m\u001b[0mget_command_obj\u001b[0m\u001b[1;33m(\u001b[0m\u001b[0mcommand\u001b[0m\u001b[1;33m)\u001b[0m\u001b[1;33m\u001b[0m\u001b[0m\n\u001b[0;32m    994\u001b[0m         \u001b[0mcmd_obj\u001b[0m\u001b[1;33m.\u001b[0m\u001b[0mensure_finalized\u001b[0m\u001b[1;33m(\u001b[0m\u001b[1;33m)\u001b[0m\u001b[1;33m\u001b[0m\u001b[0m\n\u001b[1;32m--> 995\u001b[1;33m         \u001b[0mcmd_obj\u001b[0m\u001b[1;33m.\u001b[0m\u001b[0mrun\u001b[0m\u001b[1;33m(\u001b[0m\u001b[1;33m)\u001b[0m\u001b[1;33m\u001b[0m\u001b[0m\n\u001b[0m\u001b[0;32m    996\u001b[0m         \u001b[0mself\u001b[0m\u001b[1;33m.\u001b[0m\u001b[0mhave_run\u001b[0m\u001b[1;33m[\u001b[0m\u001b[0mcommand\u001b[0m\u001b[1;33m]\u001b[0m \u001b[1;33m=\u001b[0m \u001b[1;36m1\u001b[0m\u001b[1;33m\u001b[0m\u001b[0m\n\u001b[0;32m    997\u001b[0m \u001b[1;33m\u001b[0m\u001b[0m\n",
        "\u001b[1;32m/usr/lib64/python2.6/site-packages/numpy/distutils/command/build_src.pyc\u001b[0m in \u001b[0;36mrun\u001b[1;34m(self)\u001b[0m\n\u001b[0;32m    150\u001b[0m         \u001b[1;32mif\u001b[0m \u001b[1;32mnot\u001b[0m \u001b[1;33m(\u001b[0m\u001b[0mself\u001b[0m\u001b[1;33m.\u001b[0m\u001b[0mextensions\u001b[0m \u001b[1;32mor\u001b[0m \u001b[0mself\u001b[0m\u001b[1;33m.\u001b[0m\u001b[0mlibraries\u001b[0m\u001b[1;33m)\u001b[0m\u001b[1;33m:\u001b[0m\u001b[1;33m\u001b[0m\u001b[0m\n\u001b[0;32m    151\u001b[0m             \u001b[1;32mreturn\u001b[0m\u001b[1;33m\u001b[0m\u001b[0m\n\u001b[1;32m--> 152\u001b[1;33m         \u001b[0mself\u001b[0m\u001b[1;33m.\u001b[0m\u001b[0mbuild_sources\u001b[0m\u001b[1;33m(\u001b[0m\u001b[1;33m)\u001b[0m\u001b[1;33m\u001b[0m\u001b[0m\n\u001b[0m\u001b[0;32m    153\u001b[0m \u001b[1;33m\u001b[0m\u001b[0m\n\u001b[0;32m    154\u001b[0m     \u001b[1;32mdef\u001b[0m \u001b[0mbuild_sources\u001b[0m\u001b[1;33m(\u001b[0m\u001b[0mself\u001b[0m\u001b[1;33m)\u001b[0m\u001b[1;33m:\u001b[0m\u001b[1;33m\u001b[0m\u001b[0m\n",
        "\u001b[1;32m/usr/lib64/python2.6/site-packages/numpy/distutils/command/build_src.pyc\u001b[0m in \u001b[0;36mbuild_sources\u001b[1;34m(self)\u001b[0m\n\u001b[0;32m    167\u001b[0m \u001b[1;33m\u001b[0m\u001b[0m\n\u001b[0;32m    168\u001b[0m             \u001b[1;32mfor\u001b[0m \u001b[0mext\u001b[0m \u001b[1;32min\u001b[0m \u001b[0mself\u001b[0m\u001b[1;33m.\u001b[0m\u001b[0mextensions\u001b[0m\u001b[1;33m:\u001b[0m\u001b[1;33m\u001b[0m\u001b[0m\n\u001b[1;32m--> 169\u001b[1;33m                 \u001b[0mself\u001b[0m\u001b[1;33m.\u001b[0m\u001b[0mbuild_extension_sources\u001b[0m\u001b[1;33m(\u001b[0m\u001b[0mext\u001b[0m\u001b[1;33m)\u001b[0m\u001b[1;33m\u001b[0m\u001b[0m\n\u001b[0m\u001b[0;32m    170\u001b[0m \u001b[1;33m\u001b[0m\u001b[0m\n\u001b[0;32m    171\u001b[0m         \u001b[0mself\u001b[0m\u001b[1;33m.\u001b[0m\u001b[0mbuild_data_files_sources\u001b[0m\u001b[1;33m(\u001b[0m\u001b[1;33m)\u001b[0m\u001b[1;33m\u001b[0m\u001b[0m\n",
        "\u001b[1;32m/usr/lib64/python2.6/site-packages/numpy/distutils/command/build_src.pyc\u001b[0m in \u001b[0;36mbuild_extension_sources\u001b[1;34m(self, ext)\u001b[0m\n\u001b[0;32m    332\u001b[0m         \u001b[0msources\u001b[0m \u001b[1;33m=\u001b[0m \u001b[0mself\u001b[0m\u001b[1;33m.\u001b[0m\u001b[0mswig_sources\u001b[0m\u001b[1;33m(\u001b[0m\u001b[0msources\u001b[0m\u001b[1;33m,\u001b[0m \u001b[0mext\u001b[0m\u001b[1;33m)\u001b[0m\u001b[1;33m\u001b[0m\u001b[0m\n\u001b[0;32m    333\u001b[0m \u001b[1;33m\u001b[0m\u001b[0m\n\u001b[1;32m--> 334\u001b[1;33m         \u001b[0msources\u001b[0m \u001b[1;33m=\u001b[0m \u001b[0mself\u001b[0m\u001b[1;33m.\u001b[0m\u001b[0mf2py_sources\u001b[0m\u001b[1;33m(\u001b[0m\u001b[0msources\u001b[0m\u001b[1;33m,\u001b[0m \u001b[0mext\u001b[0m\u001b[1;33m)\u001b[0m\u001b[1;33m\u001b[0m\u001b[0m\n\u001b[0m\u001b[0;32m    335\u001b[0m \u001b[1;33m\u001b[0m\u001b[0m\n\u001b[0;32m    336\u001b[0m         \u001b[0msources\u001b[0m \u001b[1;33m=\u001b[0m \u001b[0mself\u001b[0m\u001b[1;33m.\u001b[0m\u001b[0mpyrex_sources\u001b[0m\u001b[1;33m(\u001b[0m\u001b[0msources\u001b[0m\u001b[1;33m,\u001b[0m \u001b[0mext\u001b[0m\u001b[1;33m)\u001b[0m\u001b[1;33m\u001b[0m\u001b[0m\n",
        "\u001b[1;32m/usr/lib64/python2.6/site-packages/numpy/distutils/command/build_src.pyc\u001b[0m in \u001b[0;36mf2py_sources\u001b[1;34m(self, sources, extension)\u001b[0m\n\u001b[0;32m    591\u001b[0m                 numpy.f2py.run_main(f2py_options + ['--lower',\n\u001b[0;32m    592\u001b[0m                                                 '--build-dir',target_dir]+\\\n\u001b[1;32m--> 593\u001b[1;33m                                 ['-m',ext_name]+f_sources)\n\u001b[0m\u001b[0;32m    594\u001b[0m             \u001b[1;32melse\u001b[0m\u001b[1;33m:\u001b[0m\u001b[1;33m\u001b[0m\u001b[0m\n\u001b[0;32m    595\u001b[0m                 log.debug(\"  skipping f2py fortran files for '%s' (up-to-date)\"\\\n",
        "\u001b[1;32m/usr/lib64/python2.6/site-packages/numpy/f2py/f2py2e.pyc\u001b[0m in \u001b[0;36mrun_main\u001b[1;34m(comline_list)\u001b[0m\n\u001b[0;32m    386\u001b[0m     \u001b[0mauxfuncs\u001b[0m\u001b[1;33m.\u001b[0m\u001b[0mwrapfuncs\u001b[0m\u001b[1;33m=\u001b[0m\u001b[0moptions\u001b[0m\u001b[1;33m[\u001b[0m\u001b[1;34m'wrapfuncs'\u001b[0m\u001b[1;33m]\u001b[0m\u001b[1;33m\u001b[0m\u001b[0m\n\u001b[0;32m    387\u001b[0m \u001b[1;33m\u001b[0m\u001b[0m\n\u001b[1;32m--> 388\u001b[1;33m     \u001b[0mret\u001b[0m\u001b[1;33m=\u001b[0m\u001b[0mbuildmodules\u001b[0m\u001b[1;33m(\u001b[0m\u001b[0mpostlist\u001b[0m\u001b[1;33m)\u001b[0m\u001b[1;33m\u001b[0m\u001b[0m\n\u001b[0m\u001b[0;32m    389\u001b[0m \u001b[1;33m\u001b[0m\u001b[0m\n\u001b[0;32m    390\u001b[0m     \u001b[1;32mfor\u001b[0m \u001b[0mmn\u001b[0m \u001b[1;32min\u001b[0m \u001b[0mret\u001b[0m\u001b[1;33m.\u001b[0m\u001b[0mkeys\u001b[0m\u001b[1;33m(\u001b[0m\u001b[1;33m)\u001b[0m\u001b[1;33m:\u001b[0m\u001b[1;33m\u001b[0m\u001b[0m\n",
        "\u001b[1;32m/usr/lib64/python2.6/site-packages/numpy/f2py/f2py2e.pyc\u001b[0m in \u001b[0;36mbuildmodules\u001b[1;34m(lst)\u001b[0m\n\u001b[0;32m    333\u001b[0m                         \u001b[0moutmess\u001b[0m\u001b[1;33m(\u001b[0m\u001b[1;34m'\\tModule \"%s\" uses nonexisting \"%s\" which will be ignored.\\n'\u001b[0m\u001b[1;33m%\u001b[0m\u001b[1;33m(\u001b[0m\u001b[0mmnames\u001b[0m\u001b[1;33m[\u001b[0m\u001b[0mi\u001b[0m\u001b[1;33m]\u001b[0m\u001b[1;33m,\u001b[0m\u001b[0mu\u001b[0m\u001b[1;33m)\u001b[0m\u001b[1;33m)\u001b[0m\u001b[1;33m\u001b[0m\u001b[0m\n\u001b[0;32m    334\u001b[0m             \u001b[0mret\u001b[0m\u001b[1;33m[\u001b[0m\u001b[0mmnames\u001b[0m\u001b[1;33m[\u001b[0m\u001b[0mi\u001b[0m\u001b[1;33m]\u001b[0m\u001b[1;33m]\u001b[0m \u001b[1;33m=\u001b[0m \u001b[1;33m{\u001b[0m\u001b[1;33m}\u001b[0m\u001b[1;33m\u001b[0m\u001b[0m\n\u001b[1;32m--> 335\u001b[1;33m             \u001b[0mdict_append\u001b[0m\u001b[1;33m(\u001b[0m\u001b[0mret\u001b[0m\u001b[1;33m[\u001b[0m\u001b[0mmnames\u001b[0m\u001b[1;33m[\u001b[0m\u001b[0mi\u001b[0m\u001b[1;33m]\u001b[0m\u001b[1;33m]\u001b[0m\u001b[1;33m,\u001b[0m\u001b[0mrules\u001b[0m\u001b[1;33m.\u001b[0m\u001b[0mbuildmodule\u001b[0m\u001b[1;33m(\u001b[0m\u001b[0mmodules\u001b[0m\u001b[1;33m[\u001b[0m\u001b[0mi\u001b[0m\u001b[1;33m]\u001b[0m\u001b[1;33m,\u001b[0m\u001b[0mum\u001b[0m\u001b[1;33m)\u001b[0m\u001b[1;33m)\u001b[0m\u001b[1;33m\u001b[0m\u001b[0m\n\u001b[0m\u001b[0;32m    336\u001b[0m     \u001b[1;32mreturn\u001b[0m \u001b[0mret\u001b[0m\u001b[1;33m\u001b[0m\u001b[0m\n\u001b[0;32m    337\u001b[0m \u001b[1;33m\u001b[0m\u001b[0m\n",
        "\u001b[1;32m/usr/lib64/python2.6/site-packages/numpy/f2py/rules.pyc\u001b[0m in \u001b[0;36mbuildmodule\u001b[1;34m(m, um)\u001b[0m\n\u001b[0;32m   1206\u001b[0m \u001b[1;33m\u001b[0m\u001b[0m\n\u001b[0;32m   1207\u001b[0m     \u001b[1;31m# Construct F90 module support\u001b[0m\u001b[1;33m\u001b[0m\u001b[1;33m\u001b[0m\u001b[0m\n\u001b[1;32m-> 1208\u001b[1;33m     \u001b[0mmr\u001b[0m\u001b[1;33m,\u001b[0m\u001b[0mwrap\u001b[0m \u001b[1;33m=\u001b[0m \u001b[0mf90mod_rules\u001b[0m\u001b[1;33m.\u001b[0m\u001b[0mbuildhooks\u001b[0m\u001b[1;33m(\u001b[0m\u001b[0mm\u001b[0m\u001b[1;33m)\u001b[0m\u001b[1;33m\u001b[0m\u001b[0m\n\u001b[0m\u001b[0;32m   1209\u001b[0m     \u001b[1;32mif\u001b[0m \u001b[0mwrap\u001b[0m\u001b[1;33m:\u001b[0m\u001b[1;33m\u001b[0m\u001b[0m\n\u001b[0;32m   1210\u001b[0m         \u001b[0mfuncwrappers2\u001b[0m\u001b[1;33m.\u001b[0m\u001b[0mappend\u001b[0m\u001b[1;33m(\u001b[0m\u001b[0mwrap\u001b[0m\u001b[1;33m)\u001b[0m\u001b[1;33m\u001b[0m\u001b[0m\n",
        "\u001b[1;32m/usr/lib64/python2.6/site-packages/numpy/f2py/f90mod_rules.pyc\u001b[0m in \u001b[0;36mbuildhooks\u001b[1;34m(pymod)\u001b[0m\n\u001b[0;32m    126\u001b[0m             \u001b[0mmodobjs\u001b[0m\u001b[1;33m.\u001b[0m\u001b[0mappend\u001b[0m\u001b[1;33m(\u001b[0m\u001b[0mn\u001b[0m\u001b[1;33m)\u001b[0m\u001b[1;33m\u001b[0m\u001b[0m\n\u001b[0;32m    127\u001b[0m             \u001b[0mct\u001b[0m \u001b[1;33m=\u001b[0m \u001b[0mcapi_maps\u001b[0m\u001b[1;33m.\u001b[0m\u001b[0mgetctype\u001b[0m\u001b[1;33m(\u001b[0m\u001b[0mvar\u001b[0m\u001b[1;33m)\u001b[0m\u001b[1;33m\u001b[0m\u001b[0m\n\u001b[1;32m--> 128\u001b[1;33m             \u001b[0mat\u001b[0m \u001b[1;33m=\u001b[0m \u001b[0mcapi_maps\u001b[0m\u001b[1;33m.\u001b[0m\u001b[0mc2capi_map\u001b[0m\u001b[1;33m[\u001b[0m\u001b[0mct\u001b[0m\u001b[1;33m]\u001b[0m\u001b[1;33m\u001b[0m\u001b[0m\n\u001b[0m\u001b[0;32m    129\u001b[0m             \u001b[0mdm\u001b[0m \u001b[1;33m=\u001b[0m \u001b[0mcapi_maps\u001b[0m\u001b[1;33m.\u001b[0m\u001b[0mgetarrdims\u001b[0m\u001b[1;33m(\u001b[0m\u001b[0mn\u001b[0m\u001b[1;33m,\u001b[0m\u001b[0mvar\u001b[0m\u001b[1;33m)\u001b[0m\u001b[1;33m\u001b[0m\u001b[0m\n\u001b[0;32m    130\u001b[0m             \u001b[0mdms\u001b[0m \u001b[1;33m=\u001b[0m \u001b[0mdm\u001b[0m\u001b[1;33m[\u001b[0m\u001b[1;34m'dims'\u001b[0m\u001b[1;33m]\u001b[0m\u001b[1;33m.\u001b[0m\u001b[0mreplace\u001b[0m\u001b[1;33m(\u001b[0m\u001b[1;34m'*'\u001b[0m\u001b[1;33m,\u001b[0m\u001b[1;34m'-1'\u001b[0m\u001b[1;33m)\u001b[0m\u001b[1;33m.\u001b[0m\u001b[0mstrip\u001b[0m\u001b[1;33m(\u001b[0m\u001b[1;33m)\u001b[0m\u001b[1;33m\u001b[0m\u001b[0m\n",
        "\u001b[1;31mKeyError\u001b[0m: 'void'"
       ]
      }
     ],
     "prompt_number": 36
    },
    {
     "cell_type": "code",
     "collapsed": false,
     "input": [],
     "language": "python",
     "metadata": {},
     "outputs": []
    }
   ],
   "metadata": {}
  }
 ]
}