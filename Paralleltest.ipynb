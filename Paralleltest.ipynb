{
 "metadata": {
  "name": "Paralleltest"
 },
 "nbformat": 3,
 "nbformat_minor": 0,
 "worksheets": [
  {
   "cells": [
    {
     "cell_type": "code",
     "collapsed": false,
     "input": [
      "from IPython.parallel import Client"
     ],
     "language": "python",
     "metadata": {},
     "outputs": [],
     "prompt_number": 10
    },
    {
     "cell_type": "code",
     "collapsed": false,
     "input": [
      "rc = Client()"
     ],
     "language": "python",
     "metadata": {},
     "outputs": [],
     "prompt_number": 11
    },
    {
     "cell_type": "code",
     "collapsed": false,
     "input": [
      "rc.ids"
     ],
     "language": "python",
     "metadata": {},
     "outputs": [
      {
       "output_type": "pyout",
       "prompt_number": 12,
       "text": [
        "[0, 1, 2, 3]"
       ]
      }
     ],
     "prompt_number": 12
    },
    {
     "cell_type": "code",
     "collapsed": false,
     "input": [
      "dview = rc[:]"
     ],
     "language": "python",
     "metadata": {},
     "outputs": [],
     "prompt_number": 13
    },
    {
     "cell_type": "code",
     "collapsed": false,
     "input": [
      "from numpy.random import random\n",
      "nr = 10\n",
      "nodes=[]\n",
      "for i in range(nr):\n",
      "    nodes.append(random(4))\n",
      "data=random(nr)\n",
      "nonrs = range(nr)"
     ],
     "language": "python",
     "metadata": {},
     "outputs": [],
     "prompt_number": 31
    },
    {
     "cell_type": "code",
     "collapsed": false,
     "input": [
      "#print data\n",
      "nodes"
     ],
     "language": "python",
     "metadata": {},
     "outputs": [
      {
       "output_type": "pyout",
       "prompt_number": 32,
       "text": [
        "[array([ 0.59101771,  0.48285452,  0.23911467,  0.53640698]),\n",
        " array([ 0.80730485,  0.36725691,  0.03575603,  0.4817173 ]),\n",
        " array([ 0.15257015,  0.89933428,  0.57542368,  0.5546277 ]),\n",
        " array([ 0.20599511,  0.25701094,  0.04251323,  0.68777838]),\n",
        " array([ 0.09579897,  0.49868436,  0.3746172 ,  0.93377697]),\n",
        " array([ 0.99670833,  0.06135194,  0.89836642,  0.15620492]),\n",
        " array([ 0.48547173,  0.8138738 ,  0.48442856,  0.06278327]),\n",
        " array([ 0.24499148,  0.54604109,  0.00379748,  0.24935934]),\n",
        " array([ 0.60405709,  0.31227151,  0.47923129,  0.17467085]),\n",
        " array([ 0.64383199,  0.83379494,  0.90239792,  0.12408801])]"
       ]
      }
     ],
     "prompt_number": 32
    },
    {
     "cell_type": "markdown",
     "metadata": {},
     "source": [
      "Mit dview.scatter can man daten an die einzelnen Rechennodes verteilen. Hier ist der variablenname as String mit zuuebergeben."
     ]
    },
    {
     "cell_type": "code",
     "collapsed": false,
     "input": [
      "#dview.push(nodes)\n",
      "dview.scatter('nodes_core',nodes)"
     ],
     "language": "python",
     "metadata": {},
     "outputs": [
      {
       "output_type": "pyout",
       "prompt_number": 36,
       "text": [
        "<AsyncResult: scatter>"
       ]
      }
     ],
     "prompt_number": 36
    },
    {
     "cell_type": "code",
     "collapsed": false,
     "input": [
      "dview['nodes_core']"
     ],
     "language": "python",
     "metadata": {},
     "outputs": [
      {
       "output_type": "pyout",
       "prompt_number": 37,
       "text": [
        "[[array([ 0.59101771,  0.48285452,  0.23911467,  0.53640698]),\n",
        "  array([ 0.80730485,  0.36725691,  0.03575603,  0.4817173 ]),\n",
        "  array([ 0.15257015,  0.89933428,  0.57542368,  0.5546277 ])],\n",
        " [array([ 0.20599511,  0.25701094,  0.04251323,  0.68777838]),\n",
        "  array([ 0.09579897,  0.49868436,  0.3746172 ,  0.93377697]),\n",
        "  array([ 0.99670833,  0.06135194,  0.89836642,  0.15620492])],\n",
        " [array([ 0.48547173,  0.8138738 ,  0.48442856,  0.06278327]),\n",
        "  array([ 0.24499148,  0.54604109,  0.00379748,  0.24935934])],\n",
        " [array([ 0.60405709,  0.31227151,  0.47923129,  0.17467085]),\n",
        "  array([ 0.64383199,  0.83379494,  0.90239792,  0.12408801])]]"
       ]
      }
     ],
     "prompt_number": 37
    },
    {
     "cell_type": "code",
     "collapsed": false,
     "input": [
      "@dview.remote()\n",
      "def rf(x):\n",
      "    add_nodes = nodes_core\n",
      "    return nodes_core[0][0]+x\n",
      "\n",
      "rf(1)"
     ],
     "language": "python",
     "metadata": {},
     "outputs": [
      {
       "output_type": "pyout",
       "prompt_number": 45,
       "text": [
        "[1.591017707562802, 1.2059951089657059, 1.4854717281325154, 1.6040570906066989]"
       ]
      }
     ],
     "prompt_number": 45
    },
    {
     "cell_type": "code",
     "collapsed": false,
     "input": [],
     "language": "python",
     "metadata": {},
     "outputs": [],
     "prompt_number": 46
    },
    {
     "cell_type": "markdown",
     "metadata": {},
     "source": [
      "load balanced approach"
     ]
    },
    {
     "cell_type": "code",
     "collapsed": false,
     "input": [
      "lview = rc.load_balanced_view() # default load-balanced view\n",
      "@lview.parallel()\n",
      "def f(node):\n",
      "    #print nodes[x]\n",
      "    for i in range(100000):\n",
      "        i+=1\n",
      "    return (node[1]+node[2])*node[0] + node[3]\n",
      "    #return 3*x"
     ],
     "language": "python",
     "metadata": {},
     "outputs": [],
     "prompt_number": 6
    },
    {
     "cell_type": "code",
     "collapsed": false,
     "input": [
      "%timeit res = f.map(nodes)"
     ],
     "language": "python",
     "metadata": {},
     "outputs": [
      {
       "output_type": "stream",
       "stream": "stdout",
       "text": [
        "10 loops, best of 3: 96.8 ms per loop\n"
       ]
      }
     ],
     "prompt_number": 7
    },
    {
     "cell_type": "code",
     "collapsed": false,
     "input": [
      "res.result"
     ],
     "language": "python",
     "metadata": {},
     "outputs": [
      {
       "ename": "NameError",
       "evalue": "name 'res' is not defined",
       "output_type": "pyerr",
       "traceback": [
        "\u001b[1;31m---------------------------------------------------------------------------\u001b[0m\n\u001b[1;31mNameError\u001b[0m                                 Traceback (most recent call last)",
        "\u001b[1;32m<ipython-input-10-c64557cc397e>\u001b[0m in \u001b[0;36m<module>\u001b[1;34m()\u001b[0m\n\u001b[1;32m----> 1\u001b[1;33m \u001b[0mres\u001b[0m\u001b[1;33m.\u001b[0m\u001b[0mresult\u001b[0m\u001b[1;33m\u001b[0m\u001b[0m\n\u001b[0m",
        "\u001b[1;31mNameError\u001b[0m: name 'res' is not defined"
       ]
      }
     ],
     "prompt_number": 10
    },
    {
     "cell_type": "code",
     "collapsed": false,
     "input": [
      "def p(node):\n",
      "    #print nodes[x]\n",
      "    for i in range(100000):\n",
      "        i+=1\n",
      "    return (node[1]+node[2])*node[0] + node[3]"
     ],
     "language": "python",
     "metadata": {},
     "outputs": [],
     "prompt_number": 8
    },
    {
     "cell_type": "code",
     "collapsed": false,
     "input": [
      "%timeit map(p,nodes)    "
     ],
     "language": "python",
     "metadata": {},
     "outputs": [
      {
       "output_type": "stream",
       "stream": "stdout",
       "text": [
        "1 loops, best of 3: 547 ms per loop\n"
       ]
      }
     ],
     "prompt_number": 9
    },
    {
     "cell_type": "code",
     "collapsed": false,
     "input": [],
     "language": "python",
     "metadata": {},
     "outputs": []
    }
   ],
   "metadata": {}
  }
 ]
}