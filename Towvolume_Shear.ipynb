{
 "metadata": {
  "name": "Towvolume_Shear"
 },
 "nbformat": 3,
 "nbformat_minor": 0,
 "worksheets": [
  {
   "cells": [
    {
     "cell_type": "code",
     "collapsed": false,
     "input": [
      "import numpy as np\n",
      "# side lengths\n",
      "l1_n=13.24\n",
      "l2_n=13.24\n",
      "l3_n=0.622\n",
      "\n",
      "#l1_n, l2_n, l3_n = [1,1,1]\n",
      "\n",
      "# shear angle\n",
      "gamma = np.deg2rad(30)\n",
      "\n",
      "#layer\n",
      "layer = 1\n",
      "\n",
      "l1s_n = l1_n/np.cos(gamma/2.)\n",
      "l2s_n = l2_n/np.cos(gamma/2.)*np.cos(gamma)\n",
      "d2_n = l2_n/np.cos(gamma/2.)*np.sin(gamma)\n",
      "h_n = layer*l3_n\n",
      "\n",
      "# shear matrix\n",
      "a = np.tan(gamma/2.)\n",
      "smat = np.matrix([[1,a],[a,1]])\n",
      "\n",
      "# rotation matrix\n",
      "rotm = lambda g: np.matrix([[cos(g), -sin(g)],[sin(g), cos(g)]])\n",
      "\n",
      "pa=[l1s_n,0]\n",
      "pb=[d2_n, l2s_n]\n",
      "\n",
      "print 'l1s: ',l1s_n\n",
      "print 'l2s: ',l2s_n\n",
      "print 'd2: ',d2_n\n",
      "print 'h: ', h_n\n",
      "\n",
      "zero = np.zeros(2)\n",
      "\n",
      "pax,pay = zip(zero,pa)\n",
      "pbx,pby = zip(zero,pb)"
     ],
     "language": "python",
     "metadata": {},
     "outputs": [
      {
       "output_type": "stream",
       "stream": "stdout",
       "text": [
        "l1s:  13.7070566286\n",
        "l2s:  11.8706592515\n",
        "d2:  6.85352831431\n",
        "h:  0.622\n"
       ]
      }
     ],
     "prompt_number": 29
    },
    {
     "cell_type": "code",
     "collapsed": false,
     "input": [
      "V_orig = l1_n*l2_n*l3_n\n",
      "V_orig"
     ],
     "language": "python",
     "metadata": {},
     "outputs": [
      {
       "output_type": "pyout",
       "prompt_number": 30,
       "text": [
        "109.03510720000001"
       ]
      }
     ],
     "prompt_number": 30
    },
    {
     "cell_type": "code",
     "collapsed": false,
     "input": [
      "V_def = l1s_n*l2s_n*h_n\n",
      "V_def"
     ],
     "language": "python",
     "metadata": {},
     "outputs": [
      {
       "output_type": "pyout",
       "prompt_number": 31,
       "text": [
        "101.20673871647644"
       ]
      }
     ],
     "prompt_number": 31
    },
    {
     "cell_type": "code",
     "collapsed": false,
     "input": [
      "np.linalg.eigvals(smat)"
     ],
     "language": "python",
     "metadata": {},
     "outputs": [
      {
       "output_type": "pyout",
       "prompt_number": 32,
       "text": [
        "array([ 1.26794919,  0.73205081])"
       ]
      }
     ],
     "prompt_number": 32
    },
    {
     "cell_type": "code",
     "collapsed": false,
     "input": [
      "smat"
     ],
     "language": "python",
     "metadata": {},
     "outputs": [
      {
       "output_type": "pyout",
       "prompt_number": 33,
       "text": [
        "matrix([[ 1.        ,  0.26794919],\n",
        "        [ 0.26794919,  1.        ]])"
       ]
      }
     ],
     "prompt_number": 33
    },
    {
     "cell_type": "code",
     "collapsed": false,
     "input": [
      "detSM = np.linalg.det(smat)\n",
      "detSM"
     ],
     "language": "python",
     "metadata": {},
     "outputs": [
      {
       "output_type": "pyout",
       "prompt_number": 34,
       "text": [
        "0.92820323027550922"
       ]
      }
     ],
     "prompt_number": 34
    },
    {
     "cell_type": "code",
     "collapsed": false,
     "input": [
      "V_orig*detSM"
     ],
     "language": "python",
     "metadata": {},
     "outputs": [
      {
       "output_type": "pyout",
       "prompt_number": 35,
       "text": [
        "101.20673871647645"
       ]
      }
     ],
     "prompt_number": 35
    },
    {
     "cell_type": "code",
     "collapsed": false,
     "input": [],
     "language": "python",
     "metadata": {},
     "outputs": []
    }
   ],
   "metadata": {}
  }
 ]
}