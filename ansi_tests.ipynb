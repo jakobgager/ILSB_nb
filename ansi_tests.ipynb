{
 "metadata": {
  "name": "ansi_tests"
 },
 "nbformat": 3,
 "nbformat_minor": 0,
 "worksheets": [
  {
   "cells": [
    {
     "cell_type": "code",
     "collapsed": false,
     "input": [
      "text = u\"COPYING.txt  \\u001b[0m\\u001b[01;34mnbconvert1\\u001b[0m/    README.rst        Untitled0.ipynb\\r\\n\"\n",
      "print text\n",
      "text"
     ],
     "language": "python",
     "metadata": {},
     "outputs": [
      {
       "output_type": "stream",
       "stream": "stdout",
       "text": [
        "COPYING.txt  \u001b[0m\u001b[01;34mnbconvert1\u001b[0m/    README.rst        Untitled0.ipynb\r\n",
        "\n"
       ]
      },
      {
       "output_type": "pyout",
       "prompt_number": 113,
       "text": [
        "u'COPYING.txt  \\x1b[0m\\x1b[01;34mnbconvert1\\x1b[0m/    README.rst        Untitled0.ipynb\\r\\n'"
       ]
      }
     ],
     "prompt_number": 113
    },
    {
     "cell_type": "code",
     "collapsed": false,
     "input": [
      "import re\n",
      "def rm_consoleesc(text):\n",
      "    \"\"\"\n",
      "   Remove console escapes from text\n",
      "   \n",
      "    Parameters\n",
      "    ----------\n",
      "    text : str\n",
      "        Text to remove '/files/' from\n",
      "   \"\"\"\n",
      "    r= re.compile(\"\\033\\[[0-9;]+m\")\n",
      "    return r.sub('', text)"
     ],
     "language": "python",
     "metadata": {},
     "outputs": [],
     "prompt_number": 8
    },
    {
     "cell_type": "code",
     "collapsed": false,
     "input": [
      "rm_consoleesc(text)"
     ],
     "language": "python",
     "metadata": {},
     "outputs": [
      {
       "output_type": "pyout",
       "prompt_number": 9,
       "text": [
        "u'COPYING.txt  nbconvert1/    README.rst        Untitled0.ipynb\\r\\n'"
       ]
      }
     ],
     "prompt_number": 9
    },
    {
     "cell_type": "code",
     "collapsed": false,
     "input": [
      "from IPython.utils.coloransi import *\n",
      "from IPython.utils import coloransi"
     ],
     "language": "python",
     "metadata": {},
     "outputs": [],
     "prompt_number": 33
    },
    {
     "cell_type": "code",
     "collapsed": false,
     "input": [
      "tblue = TermColors.Blue"
     ],
     "language": "python",
     "metadata": {},
     "outputs": [
      {
       "output_type": "pyout",
       "prompt_number": 15,
       "text": [
        "'\\x1b[0;34m'"
       ]
      }
     ],
     "prompt_number": 15
    },
    {
     "cell_type": "markdown",
     "metadata": {},
     "source": [
      "TermColors class not iterable"
     ]
    },
    {
     "cell_type": "code",
     "collapsed": false,
     "input": [
      "for col in TermColors:\n",
      "    print col"
     ],
     "language": "python",
     "metadata": {},
     "outputs": [
      {
       "ename": "TypeError",
       "evalue": "'classobj' object is not iterable",
       "output_type": "pyerr",
       "traceback": [
        "\u001b[1;31m---------------------------------------------------------------------------\u001b[0m\n\u001b[1;31mTypeError\u001b[0m                                 Traceback (most recent call last)",
        "\u001b[1;32m<ipython-input-17-e9afb9507b0e>\u001b[0m in \u001b[0;36m<module>\u001b[1;34m()\u001b[0m\n\u001b[1;32m----> 1\u001b[1;33m \u001b[1;32mfor\u001b[0m \u001b[0mcol\u001b[0m \u001b[1;32min\u001b[0m \u001b[0mTermColors\u001b[0m\u001b[1;33m:\u001b[0m\u001b[1;33m\u001b[0m\u001b[0m\n\u001b[0m\u001b[0;32m      2\u001b[0m     \u001b[1;32mprint\u001b[0m \u001b[0mcol\u001b[0m\u001b[1;33m\u001b[0m\u001b[0m\n",
        "\u001b[1;31mTypeError\u001b[0m: 'classobj' object is not iterable"
       ]
      }
     ],
     "prompt_number": 17
    },
    {
     "cell_type": "code",
     "collapsed": false,
     "input": [
      "getattr(TermColors, \"Blue\")"
     ],
     "language": "python",
     "metadata": {},
     "outputs": [
      {
       "output_type": "pyout",
       "prompt_number": 42,
       "text": [
        "'\\x1b[0;34m'"
       ]
      }
     ],
     "prompt_number": 42
    },
    {
     "cell_type": "code",
     "collapsed": false,
     "input": [
      "import inspect\n",
      "attributes = inspect.getmembers(TermColors, lambda a:not(inspect.isroutine(a)))\n",
      "print [a for a in attributes if '_' not in a[0]]"
     ],
     "language": "python",
     "metadata": {},
     "outputs": [
      {
       "output_type": "stream",
       "stream": "stdout",
       "text": [
        "[('Black', '\\x1b[0;30m'), ('BlinkBlack', '\\x1b[5;30m'), ('BlinkBlue', '\\x1b[5;34m'), ('BlinkCyan', '\\x1b[5;36m'), ('BlinkGreen', '\\x1b[5;32m'), ('BlinkLightGray', '\\x1b[5;37m'), ('BlinkPurple', '\\x1b[5;35m'), ('BlinkRed', '\\x1b[5;31m'), ('BlinkYellow', '\\x1b[5;33m'), ('Blue', '\\x1b[0;34m'), ('Brown', '\\x1b[0;33m'), ('Cyan', '\\x1b[0;36m'), ('DarkGray', '\\x1b[1;30m'), ('Green', '\\x1b[0;32m'), ('LightBlue', '\\x1b[1;34m'), ('LightCyan', '\\x1b[1;36m'), ('LightGray', '\\x1b[0;37m'), ('LightGreen', '\\x1b[1;32m'), ('LightPurple', '\\x1b[1;35m'), ('LightRed', '\\x1b[1;31m'), ('NoColor', ''), ('Normal', '\\x1b[0m'), ('Purple', '\\x1b[0;35m'), ('Red', '\\x1b[0;31m'), ('White', '\\x1b[1;37m'), ('Yellow', '\\x1b[1;33m')]\n"
       ]
      }
     ],
     "prompt_number": 23
    },
    {
     "cell_type": "code",
     "collapsed": false,
     "input": [
      "cte = coloransi.color_templates\n",
      "print cte[0]"
     ],
     "language": "python",
     "metadata": {},
     "outputs": [
      {
       "output_type": "stream",
       "stream": "stdout",
       "text": [
        "('Black', '0;30')\n"
       ]
      }
     ],
     "prompt_number": 37
    },
    {
     "cell_type": "code",
     "collapsed": false,
     "input": [
      "for color in cte:\n",
      "    print getattr(TermColors,color[0])+'test'"
     ],
     "language": "python",
     "metadata": {},
     "outputs": [
      {
       "output_type": "stream",
       "stream": "stdout",
       "text": [
        "\u001b[0;30mtest\n",
        "\u001b[0;31mtest\n",
        "\u001b[0;32mtest\n",
        "\u001b[0;33mtest\n",
        "\u001b[0;34mtest\n",
        "\u001b[0;35mtest\n",
        "\u001b[0;36mtest\n",
        "\u001b[0;37mtest\n",
        "\u001b[1;30mtest\n",
        "\u001b[1;31mtest\n",
        "\u001b[1;32mtest\n",
        "\u001b[1;33mtest\n",
        "\u001b[1;34mtest\n",
        "\u001b[1;35mtest\n",
        "\u001b[1;36mtest\n",
        "\u001b[1;37mtest\n",
        "\u001b[5;30mtest\n",
        "\u001b[5;31mtest\n",
        "\u001b[5;32mtest\n",
        "\u001b[5;33mtest\n",
        "\u001b[5;34mtest\n",
        "\u001b[5;35mtest\n",
        "\u001b[5;36mtest\n",
        "\u001b[5;37mtest\n"
       ]
      }
     ],
     "prompt_number": 43
    },
    {
     "cell_type": "code",
     "collapsed": false,
     "input": [
      "temp = u'\\\\asdf123'"
     ],
     "language": "python",
     "metadata": {},
     "outputs": [],
     "prompt_number": 60
    },
    {
     "cell_type": "code",
     "collapsed": false,
     "input": [
      "def add_ansi_attr(ansistr, attr):\n",
      "    \"\"\"Adds the attribute key to the ansi colors defined\n",
      "    with IPython.utils.ansicolors. Allows to boldface\n",
      "    the dark characters.\n",
      "    \"\"\"\n",
      "    return ansistr[:3]+str(attr)+ansistr[3:]"
     ],
     "language": "python",
     "metadata": {},
     "outputs": [],
     "prompt_number": 88
    },
    {
     "cell_type": "code",
     "collapsed": false,
     "input": [
      "for color in cte[:5]:\n",
      "    print add_ansi_attr(getattr(TermColors,color[0]),1)+'test'"
     ],
     "language": "python",
     "metadata": {},
     "outputs": [
      {
       "output_type": "stream",
       "stream": "stdout",
       "text": [
        "\u001b[01;30mtest\n",
        "\u001b[01;31mtest\n",
        "\u001b[01;32mtest\n",
        "\u001b[01;33mtest\n",
        "\u001b[01;34mtest\n"
       ]
      }
     ],
     "prompt_number": 96
    },
    {
     "cell_type": "code",
     "collapsed": false,
     "input": [
      "add_ansi_attr(TermColors.Blue,4)"
     ],
     "language": "python",
     "metadata": {},
     "outputs": [
      {
       "output_type": "pyout",
       "prompt_number": 95,
       "text": [
        "'\\x1b[04;34m'"
       ]
      }
     ],
     "prompt_number": 95
    },
    {
     "cell_type": "code",
     "collapsed": false,
     "input": [
      "text3 = text[:]\n",
      "for color in cte:\n",
      "    # regular fonts\n",
      "    #r = re.compile(\"\\033\\[[0-9;]+m\")\n",
      "    #r.sub('', text)\n",
      "    text3 = text3.replace(getattr(TermColors,color[0]), color[0])\n",
      "    #print text\n",
      "    # bold fonts\n",
      "    text3 = text3.replace(add_ansi_attr(getattr(TermColors,color[0]),1), color[0]+'bold')\n",
      "    #print text\n",
      "print text3"
     ],
     "language": "python",
     "metadata": {},
     "outputs": [
      {
       "output_type": "stream",
       "stream": "stdout",
       "text": [
        "COPYING.txt  \u001b[0mBlueboldnbconvert1\u001b[0m/    README.rst        Untitled0.ipynb\r\n",
        "\n"
       ]
      }
     ],
     "prompt_number": 117
    },
    {
     "cell_type": "code",
     "collapsed": false,
     "input": [
      "text2 = text[:]\n",
      "text2.replace(add_ansi_attr(getattr(TermColors,'Blue'),1), 'blue:')"
     ],
     "language": "python",
     "metadata": {},
     "outputs": [
      {
       "output_type": "pyout",
       "prompt_number": 115,
       "text": [
        "u'COPYING.txt  \\x1b[0mblue:nbconvert1\\x1b[0m/    README.rst        Untitled0.ipynb\\r\\n'"
       ]
      }
     ],
     "prompt_number": 115
    },
    {
     "cell_type": "code",
     "collapsed": false,
     "input": [
      "text"
     ],
     "language": "python",
     "metadata": {},
     "outputs": [
      {
       "output_type": "pyout",
       "prompt_number": 116,
       "text": [
        "u'COPYING.txt  \\x1b[0m\\x1b[01;34mnbconvert1\\x1b[0m/    README.rst        Untitled0.ipynb\\r\\n'"
       ]
      }
     ],
     "prompt_number": 116
    },
    {
     "cell_type": "code",
     "collapsed": false,
     "input": [
      "def single_ansi2latex(code):\n",
      "    \"\"\"Converts single ansi markup to latex format\n",
      "\n",
      "    Return latex code and number of open brackets.\n",
      "    \"\"\"\n",
      "    for color in coloransi.color_templates:\n",
      "        # regular fonts\n",
      "        if code == getattr(TermColors,color[0]):\n",
      "            return '\\\\'+color[0].lower()+'{', 1\n",
      "        # bold fonts\n",
      "        if code == add_ansi_attr(getattr(TermColors,color[0]),1):\n",
      "            return '\\\\textbf{\\\\'+color[0].lower()+'{', 2\n",
      "    return '', 0"
     ],
     "language": "python",
     "metadata": {},
     "outputs": [],
     "prompt_number": 268
    },
    {
     "cell_type": "code",
     "collapsed": false,
     "input": [
      "def ansi2latex(text):\n",
      "    \"\"\"Converts ansi formated text to latex version\n",
      "\n",
      "    based on https://bitbucket.org/birkenfeld/sphinx-contrib/ansi.py\n",
      "    \"\"\"\n",
      "    color_pattern = re.compile('\\x1b\\\\[([^m]+)m')\n",
      "    last_end = 0\n",
      "    openbrack = 0\n",
      "    outstring = ''\n",
      "    for match in color_pattern.finditer(text):\n",
      "                #print match.start()\n",
      "                head = text[last_end:match.start()]\n",
      "                #print head\n",
      "                formater = match.group()\n",
      "                outstring += head\n",
      "                if openbrack:\n",
      "                    outstring += '}'*openbrack\n",
      "                    openbrack = 0\n",
      "                if match.group() <> TermColors.Normal and not openbrack:\n",
      "                    texform, openbrack = single_ansi2latex(match.group())\n",
      "                    outstring += texform\n",
      "                last_end = match.end()\n",
      "    \n",
      "    if openbrack: \n",
      "        outstring += '}'*openbrack\n",
      "    outstring += text[last_end:]\n",
      "    print outstring\n",
      "    return outstring.strip()"
     ],
     "language": "python",
     "metadata": {},
     "outputs": [],
     "prompt_number": 269
    },
    {
     "cell_type": "code",
     "collapsed": false,
     "input": [
      "ansi2latex(text)"
     ],
     "language": "python",
     "metadata": {},
     "outputs": [
      {
       "output_type": "stream",
       "stream": "stdout",
       "text": [
        "COPYING.txt  \\textbf{\\blue{nbconvert1}}/    README.rst        Untitled0.ipynb\r\n",
        "\n"
       ]
      },
      {
       "output_type": "pyout",
       "prompt_number": 271,
       "text": [
        "u'COPYING.txt  \\\\textbf{\\\\blue{nbconvert1}}/    README.rst        Untitled0.ipynb'"
       ]
      }
     ],
     "prompt_number": 271
    },
    {
     "cell_type": "code",
     "collapsed": false,
     "input": [
      "TermColors.Blue[2:-1]"
     ],
     "language": "python",
     "metadata": {},
     "outputs": [
      {
       "output_type": "pyout",
       "prompt_number": 192,
       "text": [
        "'0;34'"
       ]
      }
     ],
     "prompt_number": 192
    },
    {
     "cell_type": "code",
     "collapsed": false,
     "input": [
      "TermColors.Blue"
     ],
     "language": "python",
     "metadata": {},
     "outputs": [
      {
       "output_type": "pyout",
       "prompt_number": 205,
       "text": [
        "'\\x1b[0;34m'"
       ]
      }
     ],
     "prompt_number": 205
    },
    {
     "cell_type": "code",
     "collapsed": false,
     "input": [
      "ls > tempfile"
     ],
     "language": "python",
     "metadata": {},
     "outputs": [],
     "prompt_number": 232
    },
    {
     "cell_type": "code",
     "collapsed": false,
     "input": [
      "%load tempfile"
     ],
     "language": "python",
     "metadata": {},
     "outputs": [],
     "prompt_number": 240
    },
    {
     "cell_type": "code",
     "collapsed": false,
     "input": [
      "text2 = u'\u001b[0m\u001b[00mansi_tests.ipynb\u001b[0m \u001b[01;34mcz_test\u001b[0m   \u001b[00mDemo2_Load.ipynb\u001b[0m \u001b[00mDiffgl.ipynb\u001b[0m \u001b[01;34mFailureSurface\u001b[0m/ \u001b[01;32mfile22 d.exe\u001b[0m \u001b[01;35mgrid.png\u001b[0m \u001b[m'"
     ],
     "language": "python",
     "metadata": {},
     "outputs": [],
     "prompt_number": 241
    },
    {
     "cell_type": "code",
     "collapsed": false,
     "input": [
      "ansi2latex(text2)"
     ],
     "language": "python",
     "metadata": {},
     "outputs": [
      {
       "output_type": "stream",
       "stream": "stdout",
       "text": [
        "ansi_tests.ipynb \\textbf{\\blue{cz_test}}   Demo2_Load.ipynb Diffgl.ipynb \\textbf{\\blue{FailureSurface}}/ \\textbf{\\green{file22 d.exe}} \\textbf{\\purple{grid.png}} \u001b[m\n"
       ]
      },
      {
       "output_type": "pyout",
       "prompt_number": 272,
       "text": [
        "u'ansi_tests.ipynb \\\\textbf{\\\\blue{cz_test}}   Demo2_Load.ipynb Diffgl.ipynb \\\\textbf{\\\\blue{FailureSurface}}/ \\\\textbf{\\\\green{file22 d.exe}} \\\\textbf{\\\\purple{grid.png}} \\x1b[m'"
       ]
      }
     ],
     "prompt_number": 272
    },
    {
     "cell_type": "code",
     "collapsed": false,
     "input": [],
     "language": "python",
     "metadata": {},
     "outputs": []
    }
   ],
   "metadata": {}
  }
 ]
}