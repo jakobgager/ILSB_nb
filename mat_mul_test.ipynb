{
 "metadata": {
  "name": "mat_mul_test"
 },
 "nbformat": 3,
 "nbformat_minor": 0,
 "worksheets": [
  {
   "cells": [
    {
     "cell_type": "code",
     "collapsed": false,
     "input": [
      "%load_ext sympy.interactive.ipythonprinting"
     ],
     "language": "python",
     "metadata": {},
     "outputs": [],
     "prompt_number": 1
    },
    {
     "cell_type": "heading",
     "level": 2,
     "metadata": {},
     "source": [
      "Find a compact form of $A_{mn}x_m x_n$ "
     ]
    },
    {
     "cell_type": "markdown",
     "metadata": {},
     "source": [
      "$A_{mn}x_m x_n$ "
     ]
    },
    {
     "cell_type": "code",
     "collapsed": false,
     "input": [],
     "language": "python",
     "metadata": {},
     "outputs": []
    },
    {
     "cell_type": "code",
     "collapsed": false,
     "input": [
      "import sympy as sp\n",
      "import numpy as np"
     ],
     "language": "python",
     "metadata": {},
     "outputs": [],
     "prompt_number": 3
    },
    {
     "cell_type": "code",
     "collapsed": false,
     "input": [
      "def einsum(string, *args):\n",
      "    index_groups = map(list, string.split(','))\n",
      "    assert len(index_groups) == len(args)\n",
      "    tensor_indices_tuples = zip(index_groups, args)\n",
      "    return reduce(einsum_for_two, tensor_indices_tuples)[1]\n",
      "\n",
      "def einsum_for_two(tensor_indices1, tensor_indices2):\n",
      "    string1, tensor1 = tensor_indices1\n",
      "    string2, tensor2 = tensor_indices2\n",
      "    sum_over_indices = set(string1).intersection(set(string2))\n",
      "    new_string = string1 + string2\n",
      "    axes = ([], [])\n",
      "    for i in sum_over_indices:\n",
      "        new_string.remove(i)\n",
      "        new_string.remove(i)\n",
      "        axes[0].append(string1.index(i))\n",
      "        axes[1].append(string2.index(i))\n",
      "    return new_string, np.tensordot(tensor1, tensor2, axes)"
     ],
     "language": "python",
     "metadata": {},
     "outputs": [],
     "prompt_number": 4
    },
    {
     "cell_type": "code",
     "collapsed": false,
     "input": [
      "x1, x2, a11, a12, a21, a22 = sp.symbols('x1 x2 a11 a12 a21 a22')"
     ],
     "language": "python",
     "metadata": {},
     "outputs": [],
     "prompt_number": 5
    },
    {
     "cell_type": "code",
     "collapsed": false,
     "input": [
      "x = sp.Matrix([x1,x2])\n",
      "x"
     ],
     "language": "python",
     "metadata": {},
     "outputs": [
      {
       "latex": [
        "$$\\left[\\begin{smallmatrix}x_{1}\\\\x_{2}\\end{smallmatrix}\\right]$$"
       ],
       "output_type": "pyout",
       "prompt_number": 7,
       "text": [
        "\u23a1x\u2081\u23a4\n",
        "\u23a2  \u23a5\n",
        "\u23a3x\u2082\u23a6"
       ]
      }
     ],
     "prompt_number": 7
    },
    {
     "cell_type": "code",
     "collapsed": false,
     "input": [
      "A= sp.Matrix([[a11, a12],[a21,a22]])\n",
      "A"
     ],
     "language": "python",
     "metadata": {},
     "outputs": [
      {
       "latex": [
        "$$\\left[\\begin{smallmatrix}a_{11} & a_{12}\\\\a_{21} & a_{22}\\end{smallmatrix}\\right]$$"
       ],
       "output_type": "pyout",
       "prompt_number": 8,
       "text": [
        "\u23a1a\u2081\u2081  a\u2081\u2082\u23a4\n",
        "\u23a2        \u23a5\n",
        "\u23a3a\u2082\u2081  a\u2082\u2082\u23a6"
       ]
      }
     ],
     "prompt_number": 8
    },
    {
     "cell_type": "code",
     "collapsed": false,
     "input": [
      "einsum('ij,i,j',A,x,x)[0][0]"
     ],
     "language": "python",
     "metadata": {},
     "outputs": [
      {
       "latex": [
        "$$x_{1} \\left(a_{11} x_{1} + a_{21} x_{2}\\right) + x_{2} \\left(a_{12} x_{1} + a_{22} x_{2}\\right)$$"
       ],
       "output_type": "pyout",
       "png": "[encoded data removed]",
       "prompt_number": 14,
       "text": [
        "x\u2081\u22c5(a\u2081\u2081\u22c5x\u2081 + a\u2082\u2081\u22c5x\u2082) + x\u2082\u22c5(a\u2081\u2082\u22c5x\u2081 + a\u2082\u2082\u22c5x\u2082)"
       ]
      }
     ],
     "prompt_number": 14
    },
    {
     "cell_type": "code",
     "collapsed": false,
     "input": [
      "(A*x).dot(x)"
     ],
     "language": "python",
     "metadata": {},
     "outputs": [
      {
       "latex": [
        "$$x_{1} \\left(a_{11} x_{1} + a_{12} x_{2}\\right) + x_{2} \\left(a_{21} x_{1} + a_{22} x_{2}\\right)$$"
       ],
       "output_type": "pyout",
       "png": "[encoded data removed]",
       "prompt_number": 18,
       "text": [
        "x\u2081\u22c5(a\u2081\u2081\u22c5x\u2081 + a\u2081\u2082\u22c5x\u2082) + x\u2082\u22c5(a\u2082\u2081\u22c5x\u2081 + a\u2082\u2082\u22c5x\u2082)"
       ]
      }
     ],
     "prompt_number": 18
    },
    {
     "cell_type": "code",
     "collapsed": false,
     "input": [
      "A.dot(x)"
     ],
     "language": "python",
     "metadata": {},
     "outputs": [
      {
       "latex": [
        "$$\\begin{bmatrix}a_{11} x_{1} + a_{12} x_{2}, & a_{21} x_{1} + a_{22} x_{2}\\end{bmatrix}$$"
       ],
       "output_type": "pyout",
       "prompt_number": 16,
       "text": [
        "[a\u2081\u2081\u22c5x\u2081 + a\u2081\u2082\u22c5x\u2082, a\u2082\u2081\u22c5x\u2081 + a\u2082\u2082\u22c5x\u2082]"
       ]
      }
     ],
     "prompt_number": 16
    },
    {
     "cell_type": "code",
     "collapsed": false,
     "input": [],
     "language": "python",
     "metadata": {},
     "outputs": []
    }
   ],
   "metadata": {}
  }
 ]
}