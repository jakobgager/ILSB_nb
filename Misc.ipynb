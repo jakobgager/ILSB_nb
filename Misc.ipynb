{
 "metadata": {
  "name": ""
 },
 "nbformat": 3,
 "nbformat_minor": 0,
 "worksheets": [
  {
   "cells": [
    {
     "cell_type": "code",
     "collapsed": false,
     "input": [
      "Some things"
     ],
     "language": "python",
     "metadata": {},
     "outputs": []
    },
    {
     "cell_type": "code",
     "collapsed": false,
     "input": [
      "%%html\n",
      "<script type=\"text/javascript\">\n",
      "    show=true;\n",
      "    function toggle(){\n",
      "        if (show){\n",
      "            $('div.input').hide();\n",
      "        }else{\n",
      "            $('div.input').show();\n",
      "        }\n",
      "        show = !show\n",
      "    }\n",
      "</script>\n",
      "<a href=\"javascript:toggle()\" target=\"_self\">toggle input</a>"
     ],
     "language": "python",
     "metadata": {},
     "outputs": [
      {
       "html": [
        "<script type=\"text/javascript\">\n",
        "    show=true;\n",
        "    function toggle(){\n",
        "        if (show){\n",
        "            $('div.input').hide();\n",
        "        }else{\n",
        "            $('div.input').show();\n",
        "        }\n",
        "        show = !show\n",
        "    }\n",
        "</script>\n",
        "<a href=\"javascript:toggle()\" target=\"_self\">toggle input</a>"
       ],
       "metadata": {},
       "output_type": "display_data",
       "text": [
        "<IPython.core.display.HTML at 0x16e74d0>"
       ]
      }
     ],
     "prompt_number": 2
    },
    {
     "cell_type": "code",
     "collapsed": false,
     "input": [
      "from sys import path\n",
      "path.append('/usr2/gager/temp/pythontest')\n",
      "from xkcd2 import *"
     ],
     "language": "python",
     "metadata": {},
     "outputs": [],
     "prompt_number": 1
    },
    {
     "cell_type": "code",
     "collapsed": false,
     "input": [
      "import matplotlib.pyplot as plt\n",
      "from IPython.core.display import display"
     ],
     "language": "python",
     "metadata": {},
     "outputs": [],
     "prompt_number": 2
    },
    {
     "cell_type": "code",
     "collapsed": false,
     "input": [
      "%load_ext nbtoc\n",
      "%nbtoc"
     ],
     "language": "python",
     "metadata": {},
     "outputs": [
      {
       "html": [
        "<!-- extracted from https://gist.github.com/magican/5574556 -->\n",
        "<div id=\"toc-wrapper\">\n",
        "    <div class=\"header\">Contents <a href=\"#\" class=\"hide-btn\">[hide]</a></div>\n",
        "    <div id=\"toc\"></div>\n",
        "</div>\n",
        " \n",
        "<style>\n",
        "  #toc {\n",
        "    overflow-y: scroll;\n",
        "    max-height: 300px;\n",
        "  }\n",
        "  #toc-wrapper {\n",
        "    position: fixed; top: 120px; max-width:430px; right: 20px;\n",
        "    border: thin solid rgba(0, 0, 0, 0.38); opacity: .8;\n",
        "    border-radius: 5px; background-color: #fff; padding:10px;\n",
        "    z-index: 100;\n",
        "  }\n",
        "  #toc-wrapper.closed {\n",
        "      min-width: 100px;\n",
        "      width: auto;\n",
        "      transition: width;\n",
        "  }\n",
        "  #toc-wrapper:hover{\n",
        "      opacity:1;\n",
        "  }\n",
        "  #toc-wrapper .header {\n",
        "      font-size:18px; font-weight: bold;\n",
        "  }\n",
        "  #toc-wrapper .hide-btn {\n",
        "      font-size: 14px;\n",
        "  }\n",
        " \n",
        "</style>\n",
        "\n",
        "<style>\n",
        "  ol.nested {\n",
        "    counter-reset: item;\n",
        "    list-style: none;\n",
        "  }\n",
        "  li.nested {\n",
        "        display: block;\n",
        "    }\n",
        "  li.nested:before {\n",
        "        counter-increment: item;\n",
        "        content: counters(item, \".\")\" \";\n",
        "    }\n",
        "</style>\n"
       ],
       "metadata": {},
       "output_type": "display_data"
      },
      {
       "javascript": [
        "// adapted from https://gist.github.com/magican/5574556\n",
        "\n",
        "function clone_anchor(element) {\n",
        "  // clone link\n",
        "  var h = element.find(\"div.text_cell_render\").children().first();\n",
        "  var a = h.find('a').clone();\n",
        "  var new_a = $(\"<a>\");\n",
        "  new_a.attr(\"href\", a.attr(\"href\"));\n",
        "  new_a.text(h[0].innerText);\n",
        "  return new_a;\n",
        "}\n",
        "\n",
        "function ol_depth(element) {\n",
        "  // get depth of nested ol\n",
        "  var d = 0;\n",
        "  while (element.prop(\"tagName\").toLowerCase() == 'ol') {\n",
        "    d += 1;\n",
        "    element = element.parent();\n",
        "  }\n",
        "  return d;\n",
        "}\n",
        "\n",
        "function table_of_contents(threshold) {\n",
        "  if (threshold === undefined) {\n",
        "    threshold = 4;\n",
        "  }\n",
        "  var cells = IPython.notebook.get_cells();\n",
        "  \n",
        "  var ol = $(\"<ol/>\");\n",
        "  $(\"#toc\").empty().append(ol);\n",
        "  \n",
        "  for (var i=0; i < cells.length; i++) {\n",
        "    var cell = cells[i];\n",
        "    \n",
        "    if (cell.cell_type !== 'heading') continue;\n",
        "    \n",
        "    var level = cell.level;\n",
        "    if (level > threshold) continue;\n",
        "    \n",
        "    var depth = ol_depth(ol);\n",
        "\n",
        "    // walk down levels\n",
        "    for (; depth < level; depth++) {\n",
        "      var new_ol = $(\"<ol/>\");\n",
        "      ol.append(new_ol);\n",
        "      ol = new_ol;\n",
        "    }\n",
        "    // walk up levels\n",
        "    for (; depth > level; depth--) {\n",
        "      ol = ol.parent();\n",
        "    }\n",
        "    //\n",
        "    ol.append(\n",
        "      $(\"<li/>\").append(clone_anchor(cell.element))\n",
        "    );\n",
        "  }\n",
        "\n",
        "  $('#toc-wrapper .header').click(function(){\n",
        "    $('#toc').slideToggle();\n",
        "    $('#toc-wrapper').toggleClass('closed');\n",
        "    if ($('#toc-wrapper').hasClass('closed')){\n",
        "      $('#toc-wrapper .hide-btn').text('[show]');\n",
        "    } else {\n",
        "      $('#toc-wrapper .hide-btn').text('[hide]');\n",
        "    }\n",
        "    return false;\n",
        "  })\n",
        "\n",
        "  $(window).resize(function(){\n",
        "    $('#toc').css({maxHeight: $(window).height() - 200})\n",
        "  })\n",
        "\n",
        "  $(window).trigger('resize')\n",
        "}\n",
        "\n",
        "table_of_contents();\n",
        "\n",
        "\n"
       ],
       "metadata": {},
       "output_type": "display_data"
      }
     ],
     "prompt_number": 1
    },
    {
     "cell_type": "code",
     "collapsed": false,
     "input": [
      "x = linspace(0,10)\n",
      "y = sin(x)*(1-5*exp(-x))\n",
      "y2= exp(cos(x)**2)\n",
      "\n",
      "plt.plot(x,y,'k', label='line1')\n",
      "plt.plot(x,y2,'k--', label='line2')\n",
      "ax = plt.gca()\n",
      "#ax.set_xlabel('Label')\n",
      "ax.text(4,.5,'Test', fontsize=25)\n",
      "for i in range(11):\n",
      "    ax.text(i,2-0.3,'{0}'.format(i))\n",
      "for i in range(4):\n",
      "    ax.text(-0.5,i+0.1,'{0}'.format(i))\n",
      "plt.legend()\n",
      "XKCDify(ax, expand_axes=True, yaxis_loc=0, xaxis_loc=2)\n",
      "plt.show()"
     ],
     "language": "python",
     "metadata": {},
     "outputs": [],
     "prompt_number": 52
    },
    {
     "cell_type": "heading",
     "level": 2,
     "metadata": {},
     "source": [
      "Test class to render tables"
     ]
    },
    {
     "cell_type": "markdown",
     "metadata": {},
     "source": [
      "This is a simple test class."
     ]
    },
    {
     "cell_type": "code",
     "collapsed": false,
     "input": [
      "class Pytable():\n",
      "    def __init__(self,data,header=False, first_col=False):\n",
      "        self.header = header\n",
      "        self.first_col = first_col\n",
      "        self.data = data\n",
      "        self.shape = data.shape\n",
      "        if len(self.shape) == 1: \n",
      "            print \"Attention: wrong shape\"\n",
      "            self.data = self.data.reshape((1,self.shape[0]))\n",
      "            self.shape = self.data.shape\n",
      "    \n",
      "    def _repr_html_(self):   \n",
      "        html = \"<table>\\n\"\n",
      "        for row in range(self.shape[0]):\n",
      "            html += \"<tr>\\n\"\n",
      "            for column in range(self.shape[1]):\n",
      "                if self.header and row==0:\n",
      "                    b_start = '<b>'\n",
      "                    b_stop = '</b>'\n",
      "                elif self.first_col and column==0:\n",
      "                    b_start = '<b>'\n",
      "                    b_stop = '</b>'\n",
      "                else:\n",
      "                    b_start = ''\n",
      "                    b_stop = ''\n",
      "                html += \"<td>\"\n",
      "                html += \"{1}{0}{2}\".format(self.data[row,column],b_start,b_stop)\n",
      "                html += \"</td>\"\n",
      "            html += \"</tr>\\n\"\n",
      "        html += \"</table>\"\n",
      "        \n",
      "        return html"
     ],
     "language": "python",
     "metadata": {},
     "outputs": [],
     "prompt_number": 1
    },
    {
     "cell_type": "code",
     "collapsed": false,
     "input": [
      "class Picture():\n",
      "    def __init__(self, filename, width=0, height=0):\n",
      "        from PIL import Image\n",
      "        import matplotlib.pyplot as plt\n",
      "        \n",
      "        self.filename = filename\n",
      "        self.width = width\n",
      "        self.height = height\n",
      "        print 'Ini'\n",
      "    \n",
      "    def _repr_(self):\n",
      "        img = Image.open(self.filename)\n",
      "        dpi = plt.rcParams['figure.dpi']*2\n",
      "        figsize = img.size[0]/dpi, img.size[1]/dpi\n",
      "        \n",
      "        picfig = plt.figure(figsize=figsize)\n",
      "        ax = picfig.add_axes([0,0,1,1], frameon=False)\n",
      "        ax.set_axis_off()\n",
      "        plt.imshow(img);\n",
      "        ax.invert_yaxis()\n",
      "        print 'hello'\n",
      "        \n",
      "        return picfig"
     ],
     "language": "python",
     "metadata": {},
     "outputs": [],
     "prompt_number": 1
    },
    {
     "cell_type": "code",
     "collapsed": false,
     "input": [
      "def picture(filename, width=0):\n",
      "    from PIL import Image\n",
      "    import matplotlib.pyplot as plt\n",
      "    \n",
      "    img = Image.open(filename)\n",
      "    dpi = plt.rcParams['figure.dpi']*2\n",
      "    figsize = (img.size[0]/dpi, img.size[1]/dpi)\n",
      "    if width > 0:\n",
      "        height=width*img.size[1]/img.size[0]\n",
      "        figsize = (width, height)\n",
      "    picfig = plt.figure(figsize=figsize)\n",
      "    ax = picfig.add_axes([0,0,1,1], frameon=False)\n",
      "    ax.set_axis_off()\n",
      "    plt.imshow(img);\n",
      "    ax.invert_yaxis()\n",
      "        \n",
      "    #return picfig"
     ],
     "language": "python",
     "metadata": {},
     "outputs": [],
     "prompt_number": 27
    },
    {
     "cell_type": "code",
     "collapsed": false,
     "input": [
      "datafile = ('/usr2/gager/Simulations/Misc/SimMI21/images/chi22_2.png')\n",
      "picture(datafile,3.0)"
     ],
     "language": "python",
     "metadata": {},
     "outputs": [
      {
       "output_type": "display_data",
       "png": "[encoded data removed]"
      }
     ],
     "prompt_number": 33
    },
    {
     "cell_type": "code",
     "collapsed": false,
     "input": [
      "%pylab inline"
     ],
     "language": "python",
     "metadata": {},
     "outputs": [
      {
       "output_type": "stream",
       "stream": "stdout",
       "text": [
        "\n",
        "Welcome to pylab, a matplotlib-based Python environment [backend: module://IPython.zmq.pylab.backend_inline].\n",
        "For more information, type 'help(pylab)'.\n"
       ]
      }
     ],
     "prompt_number": 1
    },
    {
     "cell_type": "code",
     "collapsed": false,
     "input": [
      "import numpy as np\n",
      "dat = np.array(['Test'])"
     ],
     "language": "python",
     "metadata": {},
     "outputs": [],
     "prompt_number": 11
    },
    {
     "cell_type": "code",
     "collapsed": false,
     "input": [
      "Pytable(dat)"
     ],
     "language": "python",
     "metadata": {},
     "outputs": [
      {
       "output_type": "stream",
       "stream": "stdout",
       "text": [
        "Attention: wrong shape\n"
       ]
      },
      {
       "html": [
        "<table>\n",
        "<tr>\n",
        "<td>Test</td></tr>\n",
        "</table>"
       ],
       "output_type": "pyout",
       "prompt_number": 12,
       "text": [
        "<__main__.Pytable instance at 0x1f4d1b8>"
       ]
      }
     ],
     "prompt_number": 12
    },
    {
     "cell_type": "code",
     "collapsed": false,
     "input": [
      "test= np.array([['Test', 'Ahsu','asdfee'],['asdf',1,2]])\n",
      "Pytable(test,header=True, first_col=True)"
     ],
     "language": "python",
     "metadata": {},
     "outputs": [
      {
       "html": [
        "<table>\n",
        "<tr>\n",
        "<td><b>Test</b></td><td><b>Ahsu</b></td><td><b>asdfee</b></td></tr>\n",
        "<tr>\n",
        "<td><b>asdf</b></td><td>1</td><td>2</td></tr>\n",
        "</table>"
       ],
       "output_type": "pyout",
       "prompt_number": 13,
       "text": [
        "<__main__.Pytable instance at 0x1f4da28>"
       ]
      }
     ],
     "prompt_number": 13
    },
    {
     "cell_type": "code",
     "collapsed": false,
     "input": [
      "from IPython.core.display import Latex\n",
      "Latex(r'\\begin{equation} x \\label{eq:a}\\end{equation}')"
     ],
     "language": "python",
     "metadata": {},
     "outputs": [
      {
       "latex": [
        "\\begin{equation} x \\label{eq:a}\\end{equation}"
       ],
       "output_type": "pyout",
       "prompt_number": 15,
       "text": [
        "<IPython.core.display.Latex at 0x1fb3a90>"
       ]
      }
     ],
     "prompt_number": 15
    },
    {
     "cell_type": "markdown",
     "metadata": {},
     "source": [
      "These \\eqref{eq:a} asdf\n",
      "\n",
      "ls > ls.dat\n",
      "\n",
      "$\\gt$ adsf\n",
      "\n",
      "&gt; asdf"
     ]
    },
    {
     "cell_type": "code",
     "collapsed": false,
     "input": [
      "type([1])==list"
     ],
     "language": "python",
     "metadata": {},
     "outputs": [
      {
       "output_type": "pyout",
       "prompt_number": 26,
       "text": [
        "True"
       ]
      }
     ],
     "prompt_number": 26
    },
    {
     "cell_type": "code",
     "collapsed": false,
     "input": [
      "from HTMLParser import HTMLParser\n",
      "\n",
      "# create a subclass and override the handler methods\n",
      "class MyHTMLParser(HTMLParser):\n",
      "    opentags = []\n",
      "    def handle_starttag(self, tag, attrs):\n",
      "        if tag == 'img':\n",
      "            print 'image!'\n",
      "            print self.getpos()\n",
      "        else:    \n",
      "            if len(self.opentags)==0:\n",
      "                lin,offset = self.getpos()\n",
      "                spos = 0\n",
      "                for i in range(lin-1):\n",
      "                    spos = self.data.find('\\n',spos) + 1\n",
      "                self.spos = spos + offset\n",
      "                print 'start here ',self.getpos()\n",
      "            print \"Encountered a start tag:\", tag\n",
      "            self.opentags.append(tag)\n",
      "            #print self.opentags\n",
      "    \n",
      "    def handle_endtag(self, tag):\n",
      "        print \"Encountered an end tag :\", tag\n",
      "        self.opentags.pop()\n",
      "        #print self.opentags\n",
      "        if len(self.opentags)==0:\n",
      "            lin,offset = self.getpos()\n",
      "            epos = 0\n",
      "            for i in range(lin-1):\n",
      "                epos = self.data.find('\\n',epos) + 1\n",
      "            self.epos = epos + offset\n",
      "            print 'use till here ', self.getpos()\n",
      "            print self.data[self.spos:self.epos+len(tag)+3]\n",
      "    \n",
      "    def handle_startendtag(self, tag, attrs):\n",
      "        print \"Encountered an start-end tag :\", tag\n",
      "        print self.getpos()\n",
      "        \n",
      "    def handle_data(self, data):\n",
      "        print \"Encountered some data  :\", data\n",
      "    \n",
      "    def feed(self, data):\n",
      "        self.data = data\n",
      "        HTMLParser.feed(self,data)\n",
      "\n",
      "# instantiate the parser and fed it some HTML\n",
      "parser = MyHTMLParser()\n",
      "html_text = 'asdfa <p src=asdfa> asdf</p> sdfasdfas dfasd\\nfasdf asdf sdfa **asdf asdf asd**<html><head><title>Test</title></head><body><h1>Parse me!</h1></body></html>'\n",
      "parser.feed(html_text)"
     ],
     "language": "python",
     "metadata": {},
     "outputs": [
      {
       "output_type": "stream",
       "stream": "stdout",
       "text": [
        "Encountered some data  : asdfa \n",
        "start here  (1, 6)\n",
        "Encountered a start tag: p\n",
        "Encountered some data  :  asdf\n",
        "Encountered an end tag : p\n",
        "use till here  (1, 24)\n",
        "<p src=asdfa> asdf</p>\n",
        "Encountered some data  :  sdfasdfas dfasd\n",
        "fasdf asdf sdfa **asdf asdf asd**\n",
        "start here  (2, 33)\n",
        "Encountered a start tag: html\n",
        "Encountered a start tag: head\n",
        "Encountered a start tag: title\n",
        "Encountered some data  : Test\n",
        "Encountered an end tag : title\n",
        "Encountered an end tag : head\n",
        "Encountered a start tag: body\n",
        "Encountered a start tag: h1\n",
        "Encountered some data  : Parse me!\n",
        "Encountered an end tag : h1\n",
        "Encountered an end tag : body\n",
        "Encountered an end tag : html\n",
        "use till here  (2, 102)\n",
        "<html><head><title>Test</title></head><body><h1>Parse me!</h1></body></html>\n"
       ]
      }
     ],
     "prompt_number": 120
    },
    {
     "cell_type": "code",
     "collapsed": false,
     "input": [
      "import numpy as np\n",
      "F = np.matrix([[  9.99892111e-01,   1.04778220e-02],\n",
      "        [ -1.04981928e-05,   9.99995170e-01]])"
     ],
     "language": "python",
     "metadata": {},
     "outputs": [],
     "prompt_number": 1
    },
    {
     "cell_type": "code",
     "collapsed": false,
     "input": [
      "e_vals, e_vecs = np.linalg.eig(F*F.T)\n",
      "e_vals, e_vecs"
     ],
     "language": "python",
     "metadata": {},
     "outputs": [
      {
       "output_type": "pyout",
       "prompt_number": 4,
       "text": [
        "(array([ 0.98947479,  1.01040956]),\n",
        " matrix([[-0.70873163, -0.70547819],\n",
        "        [ 0.70547819, -0.70873163]]))"
       ]
      }
     ],
     "prompt_number": 4
    },
    {
     "cell_type": "code",
     "collapsed": false,
     "input": [
      "%timeit e_vals[0]*e_vecs[:,0]*e_vecs[:,0].T + e_vals[1]*e_vecs[:,1]*e_vecs[:,1].T"
     ],
     "language": "python",
     "metadata": {},
     "outputs": [
      {
       "output_type": "stream",
       "stream": "stdout",
       "text": [
        "10000 loops, best of 3: 91.3 us per loop\n"
       ]
      }
     ],
     "prompt_number": 17
    },
    {
     "cell_type": "code",
     "collapsed": false,
     "input": [
      "np.dot(np.diag(e_vals),e_vecs*e_vecs.T)"
     ],
     "language": "python",
     "metadata": {},
     "outputs": [
      {
       "output_type": "pyout",
       "prompt_number": 10,
       "text": [
        "matrix([[ 0.98947479,  0.        ],\n",
        "        [ 0.        ,  1.01040956]])"
       ]
      }
     ],
     "prompt_number": 10
    },
    {
     "cell_type": "code",
     "collapsed": false,
     "input": [
      "e_vecs*e_vecs.T"
     ],
     "language": "python",
     "metadata": {},
     "outputs": [
      {
       "output_type": "pyout",
       "prompt_number": 11,
       "text": [
        "matrix([[ 1.,  0.],\n",
        "        [ 0.,  1.]])"
       ]
      }
     ],
     "prompt_number": 11
    },
    {
     "cell_type": "code",
     "collapsed": false,
     "input": [
      "e_vecs[:,1]*e_vecs[:,1].T"
     ],
     "language": "python",
     "metadata": {},
     "outputs": [
      {
       "output_type": "pyout",
       "prompt_number": 13,
       "text": [
        "matrix([[ 0.49769948,  0.49999471],\n",
        "        [ 0.49999471,  0.50230052]])"
       ]
      }
     ],
     "prompt_number": 13
    },
    {
     "cell_type": "code",
     "collapsed": false,
     "input": [
      "e_vecs[:,0]*e_vecs[:,0].T"
     ],
     "language": "python",
     "metadata": {},
     "outputs": [
      {
       "output_type": "pyout",
       "prompt_number": 14,
       "text": [
        "matrix([[ 0.50230052, -0.49999471],\n",
        "        [-0.49999471,  0.49769948]])"
       ]
      }
     ],
     "prompt_number": 14
    },
    {
     "cell_type": "code",
     "collapsed": false,
     "input": [
      "%timeit e_vecs*np.dot(np.diag(np.log(e_vals)),e_vecs.T)"
     ],
     "language": "python",
     "metadata": {},
     "outputs": [
      {
       "output_type": "stream",
       "stream": "stdout",
       "text": [
        "10000 loops, best of 3: 26.2 us per loop\n"
       ]
      }
     ],
     "prompt_number": 24
    },
    {
     "cell_type": "code",
     "collapsed": false,
     "input": [
      "%load_ext sympy.interactive.ipythonprinting"
     ],
     "language": "python",
     "metadata": {},
     "outputs": [],
     "prompt_number": 28
    },
    {
     "cell_type": "code",
     "collapsed": false,
     "input": [
      "def conmat(mat):\n",
      "    \"\"\"convert sympy latex representation of matrix to be printed with IPython Math\"\"\"\n",
      "    return Latex(r'\\begin{p'+latex(mat)[18:][:-19]+'pmatrix}')"
     ],
     "language": "python",
     "metadata": {},
     "outputs": [],
     "prompt_number": 127
    },
    {
     "cell_type": "code",
     "collapsed": false,
     "input": [
      "import sympy as sp\n",
      "from sympy import symbols, Matrix, MatrixSymbol, latex\n",
      "from IPython.core.display import Latex\n",
      "dim = 3\n",
      "pA = Matrix(MatrixSymbol('p^A',dim,1))\n",
      "pB = Matrix(MatrixSymbol('p^B',dim,1))\n",
      "pC = Matrix(MatrixSymbol('p^C',dim,1))\n",
      "uA = MatrixSymbol('u^A',dim,1)\n",
      "uB = MatrixSymbol('u^B',dim,1)\n",
      "uC = MatrixSymbol('u^C',dim,1)\n",
      "Fb = Matrix(MatrixSymbol(r'\\bar{F}',dim,dim))\n",
      "\n",
      "pA = pA.subs({pA[1]:0, pA[2]:0})\n",
      "pB = pB.subs({pB[2]:0})#, pB[0]:0})\n",
      "pC = pC.subs({pC[0]:0, pC[1]:0})"
     ],
     "language": "python",
     "metadata": {},
     "outputs": [],
     "prompt_number": 141
    },
    {
     "cell_type": "code",
     "collapsed": false,
     "input": [
      "P = pA.col_insert(1, pB)\n",
      "if dim == 3:\n",
      "    P = P.col_insert(2,pC)\n",
      "\n",
      "P "
     ],
     "language": "python",
     "metadata": {},
     "outputs": [
      {
       "latex": [
        "$$\\left[\\begin{smallmatrix}p^{A}_{00} & p^{B}_{00} & 0\\\\0 & p^{B}_{10} & 0\\\\0 & 0 & p^{C}_{20}\\end{smallmatrix}\\right]$$"
       ],
       "output_type": "pyout",
       "prompt_number": 142,
       "text": [
        "\u23a1p^A_00  p^B_00    0   \u23a4\n",
        "\u23a2                      \u23a5\n",
        "\u23a2  0     p^B_10    0   \u23a5\n",
        "\u23a2                      \u23a5\n",
        "\u23a3  0       0     p^C_20\u23a6"
       ]
      }
     ],
     "prompt_number": 142
    },
    {
     "cell_type": "code",
     "collapsed": false,
     "input": [
      "Fb"
     ],
     "language": "python",
     "metadata": {},
     "outputs": [
      {
       "latex": [
        "$$\\left[\\begin{smallmatrix}\\bar{F}_{00} & \\bar{F}_{01} & \\bar{F}_{02}\\\\\\bar{F}_{10} & \\bar{F}_{11} & \\bar{F}_{12}\\\\\\bar{F}_{20} & \\bar{F}_{21} & \\bar{F}_{22}\\end{smallmatrix}\\right]$$"
       ],
       "output_type": "pyout",
       "prompt_number": 143,
       "text": [
        "\u23a1\\bar{F}\u2080\u2080  \\bar{F}\u2080\u2081  \\bar{F}\u2080\u2082\u23a4\n",
        "\u23a2                               \u23a5\n",
        "\u23a2\\bar{F}\u2081\u2080  \\bar{F}\u2081\u2081  \\bar{F}\u2081\u2082\u23a5\n",
        "\u23a2                               \u23a5\n",
        "\u23a3\\bar{F}\u2082\u2080  \\bar{F}\u2082\u2081  \\bar{F}\u2082\u2082\u23a6"
       ]
      }
     ],
     "prompt_number": 143
    },
    {
     "cell_type": "code",
     "collapsed": false,
     "input": [
      "if dim == 3:\n",
      "    V = pA[0]*pB[1]*pC[2]\n",
      "else:\n",
      "    V = pA[0]*pB[1]"
     ],
     "language": "python",
     "metadata": {},
     "outputs": [],
     "prompt_number": 144
    },
    {
     "cell_type": "code",
     "collapsed": false,
     "input": [
      "conmat((1/(2*V)*(Fb*P.T + P*Fb.T)).applyfunc(sp.simplify))"
     ],
     "language": "python",
     "metadata": {},
     "outputs": [
      {
       "latex": [
        "\\begin{pmatrix}\\frac{\\bar{F}_{00} p^{A}_{00} + \\bar{F}_{01} p^{B}_{00}}{p^{A}_{00} p^{B}_{10} p^{C}_{20}} & \\frac{\\bar{F}_{01} p^{B}_{10} + \\bar{F}_{10} p^{A}_{00} + \\bar{F}_{11} p^{B}_{00}}{2 p^{A}_{00} p^{B}_{10} p^{C}_{20}} & \\frac{\\bar{F}_{02} p^{C}_{20} + \\bar{F}_{20} p^{A}_{00} + \\bar{F}_{21} p^{B}_{00}}{2 p^{A}_{00} p^{B}_{10} p^{C}_{20}}\\\\\\frac{\\bar{F}_{01} p^{B}_{10} + \\bar{F}_{10} p^{A}_{00} + \\bar{F}_{11} p^{B}_{00}}{2 p^{A}_{00} p^{B}_{10} p^{C}_{20}} & \\frac{\\bar{F}_{11}}{p^{A}_{00} p^{C}_{20}} & \\frac{\\bar{F}_{12} p^{C}_{20} + \\bar{F}_{21} p^{B}_{10}}{2 p^{A}_{00} p^{B}_{10} p^{C}_{20}}\\\\\\frac{\\bar{F}_{02} p^{C}_{20} + \\bar{F}_{20} p^{A}_{00} + \\bar{F}_{21} p^{B}_{00}}{2 p^{A}_{00} p^{B}_{10} p^{C}_{20}} & \\frac{\\bar{F}_{12} p^{C}_{20} + \\bar{F}_{21} p^{B}_{10}}{2 p^{A}_{00} p^{B}_{10} p^{C}_{20}} & \\frac{\\bar{F}_{22}}{p^{A}_{00} p^{B}_{10}}\\end{pmatrix}"
       ],
       "output_type": "pyout",
       "prompt_number": 145,
       "text": [
        "<IPython.core.display.Latex object at 0x4d98190>"
       ]
      }
     ],
     "prompt_number": 145
    },
    {
     "cell_type": "code",
     "collapsed": false,
     "input": [
      "from IPython.core.display import display\n",
      "nA = (pB.cross(pC)).reshape(3,1)\n",
      "nB = (pC.cross(pA)).reshape(3,1)\n",
      "nC = (pA.cross(pB)).reshape(3,1)"
     ],
     "language": "python",
     "metadata": {},
     "outputs": [],
     "prompt_number": 149
    },
    {
     "cell_type": "code",
     "collapsed": false,
     "input": [
      "n = nA.col_insert(1,nB).col_insert(2,nC)\n",
      "n"
     ],
     "language": "python",
     "metadata": {},
     "outputs": [
      {
       "latex": [
        "$$\\left[\\begin{smallmatrix}p^{B}_{10} p^{C}_{20} & 0 & 0\\\\- p^{B}_{00} p^{C}_{20} & p^{A}_{00} p^{C}_{20} & 0\\\\0 & 0 & p^{A}_{00} p^{B}_{10}\\end{smallmatrix}\\right]$$"
       ],
       "output_type": "pyout",
       "prompt_number": 147,
       "text": [
        "\u23a1p^B_10\u22c5p^C_20         0              0      \u23a4\n",
        "\u23a2                                            \u23a5\n",
        "\u23a2-p^B_00\u22c5p^C_20  p^A_00\u22c5p^C_20        0      \u23a5\n",
        "\u23a2                                            \u23a5\n",
        "\u23a3      0               0        p^A_00\u22c5p^B_10\u23a6"
       ]
      }
     ],
     "prompt_number": 147
    },
    {
     "cell_type": "code",
     "collapsed": false,
     "input": [
      "conmat(Fb[:3,:3]*n[:3,:3].inv())"
     ],
     "language": "python",
     "metadata": {},
     "outputs": [
      {
       "latex": [
        "\\begin{pmatrix}\\frac{\\bar{F}_{00}}{p^{B}_{10} p^{C}_{20}} + \\frac{\\bar{F}_{01} p^{B}_{00}}{p^{A}_{00} p^{B}_{10} p^{C}_{20}} & \\frac{\\bar{F}_{01}}{p^{A}_{00} p^{C}_{20}} & \\frac{\\bar{F}_{02}}{p^{A}_{00} p^{B}_{10}}\\\\\\frac{\\bar{F}_{10}}{p^{B}_{10} p^{C}_{20}} + \\frac{\\bar{F}_{11} p^{B}_{00}}{p^{A}_{00} p^{B}_{10} p^{C}_{20}} & \\frac{\\bar{F}_{11}}{p^{A}_{00} p^{C}_{20}} & \\frac{\\bar{F}_{12}}{p^{A}_{00} p^{B}_{10}}\\\\\\frac{\\bar{F}_{20}}{p^{B}_{10} p^{C}_{20}} + \\frac{\\bar{F}_{21} p^{B}_{00}}{p^{A}_{00} p^{B}_{10} p^{C}_{20}} & \\frac{\\bar{F}_{21}}{p^{A}_{00} p^{C}_{20}} & \\frac{\\bar{F}_{22}}{p^{A}_{00} p^{B}_{10}}\\end{pmatrix}"
       ],
       "output_type": "pyout",
       "prompt_number": 148,
       "text": [
        "<IPython.core.display.Latex object at 0x4d92450>"
       ]
      }
     ],
     "prompt_number": 148
    },
    {
     "cell_type": "code",
     "collapsed": false,
     "input": [
      "%pylab inline"
     ],
     "language": "python",
     "metadata": {},
     "outputs": [
      {
       "output_type": "stream",
       "stream": "stdout",
       "text": [
        "\n",
        "Welcome to pylab, a matplotlib-based Python environment [backend: module://IPython.zmq.pylab.backend_inline].\n",
        "For more information, type 'help(pylab)'.\n"
       ]
      }
     ],
     "prompt_number": 1
    },
    {
     "cell_type": "code",
     "collapsed": false,
     "input": [
      "fig,ax = subplots(2,2);\n",
      "i=0\n",
      "for axn in ax.ravel():\n",
      "    axn.plot(np.random.rand(3)*5, np.random.rand(3))\n",
      "    axn.set_xlim(0,5)\n",
      "    if i<2:\n",
      "        axn.xaxis.set_visible(False)\n",
      "        i+=1\n",
      "fig.subplots_adjust(hspace=0.05)"
     ],
     "language": "python",
     "metadata": {},
     "outputs": [
      {
       "output_type": "display_data",
       "png": "[encoded data removed]"
      }
     ],
     "prompt_number": 50
    },
    {
     "cell_type": "heading",
     "level": 1,
     "metadata": {},
     "source": [
      "Sync notebook"
     ]
    },
    {
     "cell_type": "markdown",
     "metadata": {},
     "source": [
      "see https://github.com/ipython/ipython/issues/4286#issuecomment-26481240"
     ]
    },
    {
     "cell_type": "code",
     "collapsed": false,
     "input": [
      "%%html\n",
      "<script src=\"https://togetherjs.com/togetherjs.js\"></script>\n",
      "<button id=\"start-togetherjs\" type=\"button\"\n",
      " onclick=\"TogetherJS(this); return false\"\n",
      " data-end-togetherjs-html=\"End TogetherJS\">\n",
      "  Start TogetherJS\n",
      "</button>"
     ],
     "language": "python",
     "metadata": {},
     "outputs": [
      {
       "html": [
        "<script src=\"https://togetherjs.com/togetherjs.js\"></script>\n",
        "<button id=\"start-togetherjs\" type=\"button\"\n",
        " onclick=\"TogetherJS(this); return false\"\n",
        " data-end-togetherjs-html=\"End TogetherJS\">\n",
        "  Start TogetherJS\n",
        "</button>"
       ],
       "metadata": {},
       "output_type": "display_data",
       "text": [
        "<IPython.core.display.HTML at 0x26007d0>"
       ]
      }
     ],
     "prompt_number": 1
    },
    {
     "cell_type": "heading",
     "level": 1,
     "metadata": {},
     "source": [
      "get html"
     ]
    },
    {
     "cell_type": "code",
     "collapsed": false,
     "input": [
      "import numpy as np\n",
      "test= np.array([['Test', 'Ahsu','asdfee'],['asdf',1,2]])\n",
      "a=Pytable(test,header=True, first_col=True)"
     ],
     "language": "python",
     "metadata": {},
     "outputs": [],
     "prompt_number": 4
    },
    {
     "cell_type": "code",
     "collapsed": false,
     "input": [
      "def get_html_rep(obj):\n",
      "    return obj._repr_html_()"
     ],
     "language": "python",
     "metadata": {},
     "outputs": [],
     "prompt_number": 7
    },
    {
     "cell_type": "code",
     "collapsed": false,
     "input": [
      "from IPython.display import HTML\n",
      "html = get_html_rep(a)\n",
      "HTML(html)"
     ],
     "language": "python",
     "metadata": {},
     "outputs": [
      {
       "html": [
        "<table>\n",
        "<tr>\n",
        "<td><b>Test</b></td><td><b>Ahsu</b></td><td><b>asdfee</b></td></tr>\n",
        "<tr>\n",
        "<td><b>asdf</b></td><td>1</td><td>2</td></tr>\n",
        "</table>"
       ],
       "metadata": {},
       "output_type": "pyout",
       "prompt_number": 8,
       "text": [
        "<IPython.core.display.HTML at 0x31e5310>"
       ]
      }
     ],
     "prompt_number": 8
    },
    {
     "cell_type": "code",
     "collapsed": false,
     "input": [
      "html"
     ],
     "language": "python",
     "metadata": {},
     "outputs": [
      {
       "metadata": {},
       "output_type": "pyout",
       "prompt_number": 11,
       "text": [
        "'<table>\\n<tr>\\n<td><b>Test</b></td><td><b>Ahsu</b></td><td><b>asdfee</b></td></tr>\\n<tr>\\n<td><b>asdf</b></td><td>1</td><td>2</td></tr>\\n</table>'"
       ]
      }
     ],
     "prompt_number": 11
    },
    {
     "cell_type": "code",
     "collapsed": false,
     "input": [
      "a"
     ],
     "language": "python",
     "metadata": {},
     "outputs": [
      {
       "html": [
        "<table>\n",
        "<tr>\n",
        "<td><b>Test</b></td><td><b>Ahsu</b></td><td><b>asdfee</b></td></tr>\n",
        "<tr>\n",
        "<td><b>asdf</b></td><td>1</td><td>2</td></tr>\n",
        "</table>"
       ],
       "metadata": {},
       "output_type": "pyout",
       "prompt_number": 9,
       "text": [
        "<__main__.Pytable instance at 0x22e6d40>"
       ]
      }
     ],
     "prompt_number": 9
    },
    {
     "cell_type": "code",
     "collapsed": false,
     "input": [
      "display(a)"
     ],
     "language": "python",
     "metadata": {},
     "outputs": [
      {
       "html": [
        "<table>\n",
        "<tr>\n",
        "<td><b>Test</b></td><td><b>Ahsu</b></td><td><b>asdfee</b></td></tr>\n",
        "<tr>\n",
        "<td><b>asdf</b></td><td>1</td><td>2</td></tr>\n",
        "</table>"
       ],
       "metadata": {},
       "output_type": "display_data",
       "text": [
        "<__main__.Pytable instance at 0x22e6d40>"
       ]
      }
     ],
     "prompt_number": 10
    },
    {
     "cell_type": "code",
     "collapsed": false,
     "input": [],
     "language": "python",
     "metadata": {},
     "outputs": []
    }
   ],
   "metadata": {}
  }
 ]
}