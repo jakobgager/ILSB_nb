{
 "metadata": {
  "name": ""
 },
 "nbformat": 3,
 "nbformat_minor": 0,
 "worksheets": [
  {
   "cells": [
    {
     "cell_type": "heading",
     "level": 1,
     "metadata": {},
     "source": [
      "Test1 $\\alpha$"
     ]
    },
    {
     "cell_type": "code",
     "collapsed": false,
     "input": [
      "%load_ext nbtoc"
     ],
     "language": "python",
     "metadata": {},
     "outputs": [],
     "prompt_number": 1
    },
    {
     "cell_type": "code",
     "collapsed": false,
     "input": [
      "%nbtoc"
     ],
     "language": "python",
     "metadata": {},
     "outputs": [
      {
       "html": [
        "<!-- extracted from https://gist.github.com/magican/5574556 -->\n",
        "<div id=\"toc-wrapper\">\n",
        "    <div class=\"header\">Contents <a href=\"#\" class=\"hide-btn\">[hide]</a></div>\n",
        "    <div id=\"toc\"></div>\n",
        "</div>\n",
        " \n",
        "<style>\n",
        "  #toc {\n",
        "    overflow-y: scroll;\n",
        "    max-height: 300px;\n",
        "  }\n",
        "  #toc-wrapper {\n",
        "    position: fixed; top: 120px; max-width:430px; right: 20px;\n",
        "    border: thin solid rgba(0, 0, 0, 0.38); opacity: .8;\n",
        "    border-radius: 5px; background-color: #fff; padding:10px;\n",
        "    z-index: 100;\n",
        "  }\n",
        "  #toc-wrapper.closed {\n",
        "      min-width: 100px;\n",
        "      width: auto;\n",
        "      transition: width;\n",
        "  }\n",
        "  #toc-wrapper:hover{\n",
        "      opacity:1;\n",
        "  }\n",
        "  #toc-wrapper .header {\n",
        "      font-size:18px; font-weight: bold;\n",
        "  }\n",
        "  #toc-wrapper .hide-btn {\n",
        "      font-size: 14px;\n",
        "  }\n",
        " \n",
        "</style>\n",
        "\n",
        "<style>\n",
        "  ol.nested {\n",
        "    counter-reset: item;\n",
        "    list-style: none;\n",
        "  }\n",
        "  li.nested {\n",
        "        display: block;\n",
        "    }\n",
        "  li.nested:before {\n",
        "        counter-increment: item;\n",
        "        content: counters(item, \".\")\" \";\n",
        "    }\n",
        "</style>\n"
       ],
       "metadata": {},
       "output_type": "display_data"
      },
      {
       "javascript": [
        "// adapted from https://gist.github.com/magican/5574556\n",
        "\n",
        "function clone_anchor(element) {\n",
        "  // clone link\n",
        "  var h = element.find(\"div.text_cell_render\").children().first();\n",
        "  var a = h.find('a').clone();\n",
        "  var new_a = $(\"<a>\");\n",
        "  new_a.attr(\"href\", a.attr(\"href\"));\n",
        "  // get the text *excluding* the link text, whatever it may be\n",
        "  var hclone = h.clone();\n",
        "  hclone.find('a').remove();\n",
        "  hclone.find('script').remove();\n",
        "  new_a.text(hclone.text());\n",
        "  return new_a;\n",
        "}\n",
        "\n",
        "function ol_depth(element) {\n",
        "  // get depth of nested ol\n",
        "  var d = 0;\n",
        "  while (element.prop(\"tagName\").toLowerCase() == 'ol') {\n",
        "    d += 1;\n",
        "    element = element.parent();\n",
        "  }\n",
        "  return d;\n",
        "}\n",
        "\n",
        "function table_of_contents(threshold) {\n",
        "  if (threshold === undefined) {\n",
        "    threshold = 4;\n",
        "  }\n",
        "  var cells = IPython.notebook.get_cells();\n",
        "  \n",
        "  var ol = $(\"<ol/>\");\n",
        "  $(\"#toc\").empty().append(ol);\n",
        "  \n",
        "  for (var i=0; i < cells.length; i++) {\n",
        "    var cell = cells[i];\n",
        "    \n",
        "    if (cell.cell_type !== 'heading') continue;\n",
        "    \n",
        "    var level = cell.level;\n",
        "    if (level > threshold) continue;\n",
        "    \n",
        "    var depth = ol_depth(ol);\n",
        "\n",
        "    // walk down levels\n",
        "    for (; depth < level; depth++) {\n",
        "      var new_ol = $(\"<ol/>\");\n",
        "      ol.append(new_ol);\n",
        "      ol = new_ol;\n",
        "    }\n",
        "    // walk up levels\n",
        "    for (; depth > level; depth--) {\n",
        "      ol = ol.parent();\n",
        "    }\n",
        "    //\n",
        "    ol.append(\n",
        "      $(\"<li/>\").append(clone_anchor(cell.element))\n",
        "    );\n",
        "  }\n",
        "\n",
        "  $('#toc-wrapper .header').click(function(){\n",
        "    $('#toc').slideToggle();\n",
        "    $('#toc-wrapper').toggleClass('closed');\n",
        "    if ($('#toc-wrapper').hasClass('closed')){\n",
        "      $('#toc-wrapper .hide-btn').text('[show]');\n",
        "    } else {\n",
        "      $('#toc-wrapper .hide-btn').text('[hide]');\n",
        "    }\n",
        "    return false;\n",
        "  })\n",
        "\n",
        "  $(window).resize(function(){\n",
        "    $('#toc').css({maxHeight: $(window).height() - 200})\n",
        "  })\n",
        "\n",
        "  $(window).trigger('resize')\n",
        "}\n",
        "\n",
        "table_of_contents();\n",
        "\n",
        "\n"
       ],
       "metadata": {},
       "output_type": "display_data"
      }
     ],
     "prompt_number": 2
    },
    {
     "cell_type": "code",
     "collapsed": false,
     "input": [
      "import numpy as np\n",
      "import matplotlib.pyplot as plt\n",
      "%matplotlib inline"
     ],
     "language": "python",
     "metadata": {},
     "outputs": [],
     "prompt_number": 8
    },
    {
     "cell_type": "code",
     "collapsed": false,
     "input": [
      "import sympy as sp"
     ],
     "language": "python",
     "metadata": {},
     "outputs": [],
     "prompt_number": 5
    },
    {
     "cell_type": "code",
     "collapsed": false,
     "input": [
      "from sympy.interactive import printing\n",
      "printing.init_printing(use_latex=True)"
     ],
     "language": "python",
     "metadata": {},
     "outputs": [],
     "prompt_number": 6
    },
    {
     "cell_type": "code",
     "collapsed": false,
     "input": [
      "sp.var('u')"
     ],
     "language": "python",
     "metadata": {},
     "outputs": [
      {
       "metadata": {},
       "output_type": "pyout",
       "prompt_number": 2,
       "text": [
        "u"
       ]
      }
     ],
     "prompt_number": 2
    },
    {
     "cell_type": "code",
     "collapsed": false,
     "input": [
      "t = 5.0*(u/(1.2*u**1.8+1)**1.25)\n",
      "t"
     ],
     "language": "python",
     "metadata": {},
     "outputs": [
      {
       "latex": [
        "$$5.0 \\frac{u}{\\left(1.2 u^{1.8} + 1\\right)^{1.25}}$$"
       ],
       "metadata": {},
       "output_type": "pyout",
       "png": "[encoded data removed]",
       "prompt_number": 6,
       "text": [
        "                    -1.25\n",
        "      \u239b     1.8    \u239e     \n",
        "5.0\u22c5u\u22c5\u239d1.2\u22c5u    + 1\u23a0     "
       ]
      }
     ],
     "prompt_number": 6
    },
    {
     "cell_type": "code",
     "collapsed": false,
     "input": [
      "t.integrate(u)"
     ],
     "language": "python",
     "metadata": {},
     "outputs": [
      {
       "ename": "_CoeffExpValueError",
       "evalue": "expr not of form a*x**b: 1.10326265132084",
       "output_type": "pyerr",
       "traceback": [
        "\u001b[1;31m---------------------------------------------------------------------------\u001b[0m\n\u001b[1;31m_CoeffExpValueError\u001b[0m                       Traceback (most recent call last)",
        "\u001b[1;32m<ipython-input-7-15d143ef2cf9>\u001b[0m in \u001b[0;36m<module>\u001b[1;34m()\u001b[0m\n\u001b[1;32m----> 1\u001b[1;33m \u001b[0mt\u001b[0m\u001b[1;33m.\u001b[0m\u001b[0mintegrate\u001b[0m\u001b[1;33m(\u001b[0m\u001b[0mu\u001b[0m\u001b[1;33m)\u001b[0m\u001b[1;33m\u001b[0m\u001b[0m\n\u001b[0m",
        "\u001b[1;32m/usr/lib/python2.6/site-packages/sympy/core/expr.pyc\u001b[0m in \u001b[0;36mintegrate\u001b[1;34m(self, *args, **kwargs)\u001b[0m\n",
        "\u001b[1;32m/usr/lib/python2.6/site-packages/sympy/utilities/decorator.pyc\u001b[0m in \u001b[0;36mthreaded_func\u001b[1;34m(expr, *args, **kwargs)\u001b[0m\n",
        "\u001b[1;32m/usr/lib/python2.6/site-packages/sympy/integrals/integrals.pyc\u001b[0m in \u001b[0;36mintegrate\u001b[1;34m(*args, **kwargs)\u001b[0m\n",
        "\u001b[1;32m/usr/lib/python2.6/site-packages/sympy/integrals/integrals.pyc\u001b[0m in \u001b[0;36mdoit\u001b[1;34m(self, **hints)\u001b[0m\n",
        "\u001b[1;32m/usr/lib/python2.6/site-packages/sympy/integrals/integrals.pyc\u001b[0m in \u001b[0;36m_eval_integral\u001b[1;34m(self, f, x, meijerg)\u001b[0m\n",
        "\u001b[1;32m/usr/lib/python2.6/site-packages/sympy/integrals/meijerint.pyc\u001b[0m in \u001b[0;36mmeijerint_indefinite\u001b[1;34m(f, x)\u001b[0m\n",
        "\u001b[1;32m/usr/lib/python2.6/site-packages/sympy/integrals/meijerint.pyc\u001b[0m in \u001b[0;36m_meijerint_indefinite_1\u001b[1;34m(f, x)\u001b[0m\n",
        "\u001b[1;32m/usr/lib/python2.6/site-packages/sympy/integrals/meijerint.pyc\u001b[0m in \u001b[0;36m_rewrite1\u001b[1;34m(f, x, recursive)\u001b[0m\n",
        "\u001b[1;32m/usr/lib/python2.6/site-packages/sympy/core/cache.pyc\u001b[0m in \u001b[0;36mwrapper\u001b[1;34m(*args, **kw_args)\u001b[0m\n",
        "\u001b[1;32m/usr/lib/python2.6/site-packages/sympy/integrals/meijerint.pyc\u001b[0m in \u001b[0;36m_rewrite_single\u001b[1;34m(f, x, recursive)\u001b[0m\n",
        "\u001b[1;32m/usr/lib/python2.6/site-packages/sympy/integrals/meijerint.pyc\u001b[0m in \u001b[0;36m_get_coeff_exp\u001b[1;34m(expr, x)\u001b[0m\n",
        "\u001b[1;31m_CoeffExpValueError\u001b[0m: expr not of form a*x**b: 1.10326265132084"
       ]
      }
     ],
     "prompt_number": 7
    },
    {
     "cell_type": "code",
     "collapsed": false,
     "input": [
      "sp.integrate(t,(u,0,5))"
     ],
     "language": "python",
     "metadata": {},
     "outputs": [
      {
       "ename": "_CoeffExpValueError",
       "evalue": "expr not of form a*x**b: 1.10326265132084",
       "output_type": "pyerr",
       "traceback": [
        "\u001b[1;31m---------------------------------------------------------------------------\u001b[0m\n\u001b[1;31m_CoeffExpValueError\u001b[0m                       Traceback (most recent call last)",
        "\u001b[1;32m<ipython-input-10-df4dd9bea53c>\u001b[0m in \u001b[0;36m<module>\u001b[1;34m()\u001b[0m\n\u001b[1;32m----> 1\u001b[1;33m \u001b[0msp\u001b[0m\u001b[1;33m.\u001b[0m\u001b[0mintegrate\u001b[0m\u001b[1;33m(\u001b[0m\u001b[0mt\u001b[0m\u001b[1;33m,\u001b[0m\u001b[1;33m(\u001b[0m\u001b[0mu\u001b[0m\u001b[1;33m,\u001b[0m\u001b[1;36m0\u001b[0m\u001b[1;33m,\u001b[0m\u001b[1;36m5\u001b[0m\u001b[1;33m)\u001b[0m\u001b[1;33m)\u001b[0m\u001b[1;33m\u001b[0m\u001b[0m\n\u001b[0m",
        "\u001b[1;32m/usr/lib/python2.6/site-packages/sympy/utilities/decorator.pyc\u001b[0m in \u001b[0;36mthreaded_func\u001b[1;34m(expr, *args, **kwargs)\u001b[0m\n",
        "\u001b[1;32m/usr/lib/python2.6/site-packages/sympy/integrals/integrals.pyc\u001b[0m in \u001b[0;36mintegrate\u001b[1;34m(*args, **kwargs)\u001b[0m\n",
        "\u001b[1;32m/usr/lib/python2.6/site-packages/sympy/integrals/integrals.pyc\u001b[0m in \u001b[0;36mdoit\u001b[1;34m(self, **hints)\u001b[0m\n",
        "\u001b[1;32m/usr/lib/python2.6/site-packages/sympy/integrals/integrals.pyc\u001b[0m in \u001b[0;36m_eval_integral\u001b[1;34m(self, f, x, meijerg)\u001b[0m\n",
        "\u001b[1;32m/usr/lib/python2.6/site-packages/sympy/integrals/meijerint.pyc\u001b[0m in \u001b[0;36mmeijerint_indefinite\u001b[1;34m(f, x)\u001b[0m\n",
        "\u001b[1;32m/usr/lib/python2.6/site-packages/sympy/integrals/meijerint.pyc\u001b[0m in \u001b[0;36m_meijerint_indefinite_1\u001b[1;34m(f, x)\u001b[0m\n",
        "\u001b[1;32m/usr/lib/python2.6/site-packages/sympy/integrals/meijerint.pyc\u001b[0m in \u001b[0;36m_rewrite1\u001b[1;34m(f, x, recursive)\u001b[0m\n",
        "\u001b[1;32m/usr/lib/python2.6/site-packages/sympy/core/cache.pyc\u001b[0m in \u001b[0;36mwrapper\u001b[1;34m(*args, **kw_args)\u001b[0m\n",
        "\u001b[1;32m/usr/lib/python2.6/site-packages/sympy/integrals/meijerint.pyc\u001b[0m in \u001b[0;36m_rewrite_single\u001b[1;34m(f, x, recursive)\u001b[0m\n",
        "\u001b[1;32m/usr/lib/python2.6/site-packages/sympy/integrals/meijerint.pyc\u001b[0m in \u001b[0;36m_get_coeff_exp\u001b[1;34m(expr, x)\u001b[0m\n",
        "\u001b[1;31m_CoeffExpValueError\u001b[0m: expr not of form a*x**b: 1.10326265132084"
       ]
      }
     ],
     "prompt_number": 10
    },
    {
     "cell_type": "code",
     "collapsed": false,
     "input": [
      "from IPython.core.display import Latex\n",
      "out = \"\"\"$$\\\\text{When examining the moment we find:}$$\n",
      "$$\\\\text{For the range 0 to 12 the following equation holds}$$\n",
      "$$x \\\\left(- 60.0 x + 720.0\\\\right)$$ \n",
      "$$\\\\text{Local minima and maxima are to be found at [0, 6.00000000000000, 12]}$$ \n",
      "$ $\n",
      "$$\\\\text{When examining the moment we find:}$$\n",
      "$$\\\\text{For the range 12 to 12 the following equation holds}$$\n",
      "$$x \\\\left(- 60.0 x + 720.0\\\\right)$$ \n",
      "$$\\\\text{Local minima and maxima are to be found at [12, 12]}$$ \n",
      "$ $ \n",
      "$$\\\\text{When examining the shear we find:}$$\n",
      "$$\\\\text{For the range 0 to 12 the following equation holds}$$\n",
      "$$- 120 x + 720.0$$ \n",
      "$$\\\\text{Local minima and maxima are to be found at [0, 12]}$$ \n",
      "$ $ \n",
      "$$\\\\text{When examining the shear we find:}$$\n",
      "$$\\\\text{For the range 12 to 12 the following equation holds}$$\n",
      "$$- 120 x + 720.0$$ \n",
      "$$\\\\text{Local minima and maxima are to be found at [12, 12]}$$ $ $ \"\"\"\n",
      "\n",
      "Latex(out)\n"
     ],
     "language": "python",
     "metadata": {},
     "outputs": [
      {
       "latex": [
        "$$\\text{When examining the moment we find:}$$\n",
        "$$\\text{For the range 0 to 12 the following equation holds}$$\n",
        "$$x \\left(- 60.0 x + 720.0\\right)$$ \n",
        "$$\\text{Local minima and maxima are to be found at [0, 6.00000000000000, 12]}$$ \n",
        "$ $\n",
        "$$\\text{When examining the moment we find:}$$\n",
        "$$\\text{For the range 12 to 12 the following equation holds}$$\n",
        "$$x \\left(- 60.0 x + 720.0\\right)$$ \n",
        "$$\\text{Local minima and maxima are to be found at [12, 12]}$$ \n",
        "$ $ \n",
        "$$\\text{When examining the shear we find:}$$\n",
        "$$\\text{For the range 0 to 12 the following equation holds}$$\n",
        "$$- 120 x + 720.0$$ \n",
        "$$\\text{Local minima and maxima are to be found at [0, 12]}$$ \n",
        "$ $ \n",
        "$$\\text{When examining the shear we find:}$$\n",
        "$$\\text{For the range 12 to 12 the following equation holds}$$\n",
        "$$- 120 x + 720.0$$ \n",
        "$$\\text{Local minima and maxima are to be found at [12, 12]}$$ $ $ "
       ],
       "metadata": {},
       "output_type": "pyout",
       "prompt_number": 1,
       "text": [
        "<IPython.core.display.Latex at 0x32139d0>"
       ]
      }
     ],
     "prompt_number": 1
    },
    {
     "cell_type": "code",
     "collapsed": false,
     "input": [
      "out2 = \"\"\"When examining the moment we find:\n",
      "For the range 0 to 12 the following equation holds\n",
      "$$x \\\\left(- 60.0 x + 720.0\\\\right)$$ \n",
      "Local minima and maxima are to be found at [0, 6.00000000000000, 12]\n",
      "\n",
      "When examining the moment we find:\\\\\n",
      "For the range 12 to 12 the following equation holds \n",
      "$$x \\\\left(- 60.0 x + 720.0\\\\right)$$ \n",
      "Local minima and maxima are to be found at [12, 12]\n",
      "\n",
      "When examining the shear we find:\n",
      "For the range 0 to 12 the following equation holds\n",
      "$$- 120 x + 720.0$$ \n",
      "Local minima and maxima are to be found at [0, 12]\n",
      "\n",
      "When examining the shear we find:\n",
      "For the range 12 to 12 the following equation holds\n",
      "$$- 120 x + 720.0$$ \n",
      "Local minima and maxima are to be found at [12, 12] \"\"\"\n",
      "\n",
      "Latex(out2)"
     ],
     "language": "python",
     "metadata": {},
     "outputs": [
      {
       "latex": [
        "When examining the moment we find:\n",
        "For the range 0 to 12 the following equation holds\n",
        "$$x \\left(- 60.0 x + 720.0\\right)$$ \n",
        "Local minima and maxima are to be found at [0, 6.00000000000000, 12]\n",
        "\n",
        "When examining the moment we find:\\\n",
        "For the range 12 to 12 the following equation holds \n",
        "$$x \\left(- 60.0 x + 720.0\\right)$$ \n",
        "Local minima and maxima are to be found at [12, 12]\n",
        "\n",
        "\n",
        "When examining the shear we find:\n",
        "For the range 0 to 12 the following equation holds\n",
        "$$- 120 x + 720.0$$ \n",
        "Local minima and maxima are to be found at [0, 12]\n",
        "\n",
        "When examining the shear we find:\n",
        "For the range 12 to 12 the following equation holds\n",
        "$$- 120 x + 720.0$$ \n",
        "Local minima and maxima are to be found at [12, 12] "
       ],
       "metadata": {},
       "output_type": "pyout",
       "prompt_number": 9,
       "text": [
        "<IPython.core.display.Latex at 0x322d050>"
       ]
      }
     ],
     "prompt_number": 9
    },
    {
     "cell_type": "code",
     "collapsed": false,
     "input": [
      "%matplotlib inline"
     ],
     "language": "python",
     "metadata": {},
     "outputs": [],
     "prompt_number": 1
    },
    {
     "cell_type": "code",
     "collapsed": false,
     "input": [
      "import matplotlib\n",
      "import numpy as np\n",
      "import matplotlib.cm as cm\n",
      "import matplotlib.mlab as mlab\n",
      "import matplotlib.pyplot as plt\n",
      "\n",
      "matplotlib.rcParams['xtick.direction'] = 'out'\n",
      "matplotlib.rcParams['ytick.direction'] = 'out'\n",
      "\n",
      "delta = 0.025\n",
      "x = np.arange(-3.0, 3.0, delta)\n",
      "y = np.arange(-2.0, 2.0, delta)\n",
      "X, Y = np.meshgrid(x, y)\n",
      "Z1 = mlab.bivariate_normal(X, Y, 1.0, 1.0, 0.0, 0.0)\n",
      "Z2 = mlab.bivariate_normal(X, Y, 1.5, 0.5, 1, 1)\n",
      "# difference of Gaussians\n",
      "Z = 10.0 * (Z2 - Z1)\n",
      "\n",
      "# Create a simple contour plot with labels using default colors.  The\n",
      "# inline argument to clabel will control whether the labels are draw\n",
      "# over the line segments of the contour, removing the lines beneath\n",
      "# the label\n",
      "plt.figure()\n",
      "CS = plt.contour(X, Y, Z)\n",
      "plt.clabel(CS, inline=1, fontsize=10)\n",
      "plt.title('Simplest default with labels')"
     ],
     "language": "python",
     "metadata": {},
     "outputs": [
      {
       "metadata": {},
       "output_type": "pyout",
       "prompt_number": 2,
       "text": [
        "<matplotlib.text.Text at 0x3443e90>"
       ]
      },
      {
       "metadata": {},
       "output_type": "display_data",
       "png": "[encoded data removed]",
       "text": [
        "<matplotlib.figure.Figure at 0x3431450>"
       ]
      }
     ],
     "prompt_number": 2
    },
    {
     "cell_type": "code",
     "collapsed": false,
     "input": [
      "dat0= CS.allsegs[0][0]\n",
      "dat1= CS.allsegs[1][0]\n",
      "dat2= CS.allsegs[2][0]\n",
      "dat3= CS.allsegs[3][0]\n",
      "dat4= CS.allsegs[4][0]\n",
      "dat5= CS.allsegs[5][0]\n",
      "plt.plot(dat0[:,0],dat0[:,1])\n",
      "plt.plot(dat1[:,0],dat1[:,1])\n",
      "plt.plot(dat2[:,0],dat2[:,1])\n",
      "plt.plot(dat3[:,0],dat3[:,1])\n",
      "plt.plot(dat4[:,0],dat4[:,1])\n",
      "plt.plot(dat5[:,0],dat5[:,1])"
     ],
     "language": "python",
     "metadata": {},
     "outputs": [
      {
       "metadata": {},
       "output_type": "pyout",
       "prompt_number": 13,
       "text": [
        "[<matplotlib.lines.Line2D at 0x3be5150>]"
       ]
      },
      {
       "metadata": {},
       "output_type": "display_data",
       "png": "[encoded data removed]",
       "text": [
        "<matplotlib.figure.Figure at 0x39b8390>"
       ]
      }
     ],
     "prompt_number": 13
    },
    {
     "cell_type": "code",
     "collapsed": false,
     "input": [
      "col = CS.collections[0]"
     ],
     "language": "python",
     "metadata": {},
     "outputs": [],
     "prompt_number": 9
    },
    {
     "cell_type": "code",
     "collapsed": false,
     "input": [
      "col.get_paths()"
     ],
     "language": "python",
     "metadata": {},
     "outputs": [
      {
       "metadata": {},
       "output_type": "pyout",
       "prompt_number": 11,
       "text": [
        "[Path([[  7.97613450e-01  -1.59289457e-01]\n",
        " [  8.00000000e-01  -1.63973105e-01]\n",
        " [  8.05597145e-01  -1.75000000e-01]\n",
        " [  8.16015739e-01  -2.00000000e-01]\n",
        " [  8.24294219e-01  -2.25000000e-01]\n",
        " [  8.25000000e-01  -2.27851213e-01]\n",
        " [  8.30474453e-01  -2.50000000e-01]\n",
        " [  8.34696723e-01  -2.75000000e-01]\n",
        " [  8.37046486e-01  -3.00000000e-01]\n",
        " [  8.37597854e-01  -3.25000000e-01]\n",
        " [  8.36419148e-01  -3.50000000e-01]\n",
        " [  8.33572641e-01  -3.75000000e-01]\n",
        " [  8.29114388e-01  -4.00000000e-01]\n",
        " [  8.25000000e-01  -4.17143470e-01]\n",
        " [  8.23076509e-01  -4.25000000e-01]\n",
        " [  8.15467314e-01  -4.50000000e-01]\n",
        " [  8.06361540e-01  -4.75000000e-01]\n",
        " [  8.00000000e-01  -4.90118723e-01]\n",
        " [  7.95743591e-01  -5.00000000e-01]\n",
        " [  7.83597485e-01  -5.25000000e-01]\n",
        " [  7.75000000e-01  -5.40899251e-01]\n",
        " [  7.69947301e-01  -5.50000000e-01]\n",
        " [  7.54739926e-01  -5.75000000e-01]\n",
        " [  7.50000000e-01  -5.82193249e-01]\n",
        " [  7.37917056e-01  -6.00000000e-01]\n",
        " [  7.25000000e-01  -6.17672190e-01]\n",
        " [  7.19471110e-01  -6.25000000e-01]\n",
        " [  7.00000000e-01  -6.49165605e-01]\n",
        " [  6.99304274e-01  -6.50000000e-01]\n",
        " [  6.77242831e-01  -6.75000000e-01]\n",
        " [  6.75000000e-01  -6.77411301e-01]\n",
        " [  6.53187933e-01  -7.00000000e-01]\n",
        " [  6.50000000e-01  -7.03147844e-01]\n",
        " [  6.26963653e-01  -7.25000000e-01]\n",
        " [  6.25000000e-01  -7.26784676e-01]\n",
        " [  6.00000000e-01  -7.48575093e-01]\n",
        " [  5.98291862e-01  -7.50000000e-01]\n",
        " [  5.75000000e-01  -7.68711442e-01]\n",
        " [  5.66784914e-01  -7.75000000e-01]\n",
        " [  5.50000000e-01  -7.87421269e-01]\n",
        " [  5.32104080e-01  -8.00000000e-01]\n",
        " [  5.25000000e-01  -8.04844136e-01]\n",
        " [  5.00000000e-01  -8.21033438e-01]\n",
        " [  4.93534981e-01  -8.25000000e-01]\n",
        " [  4.75000000e-01  -8.36075608e-01]\n",
        " [  4.50212108e-01  -8.50000000e-01]\n",
        " [  4.50000000e-01  -8.50116388e-01]\n",
        " [  4.25000000e-01  -8.63093055e-01]\n",
        " [  4.00403255e-01  -8.75000000e-01]\n",
        " [  4.00000000e-01  -8.75191341e-01]\n",
        " [  3.75000000e-01  -8.86334929e-01]\n",
        " [  3.50000000e-01  -8.96658839e-01]\n",
        " [  3.41279892e-01  -9.00000000e-01]\n",
        " [  3.25000000e-01  -9.06138111e-01]\n",
        " [  3.00000000e-01  -9.14819395e-01]\n",
        " [  2.75000000e-01  -9.22744968e-01]\n",
        " [  2.67190482e-01  -9.25000000e-01]\n",
        " [  2.50000000e-01  -9.29902848e-01]\n",
        " [  2.25000000e-01  -9.36326704e-01]\n",
        " [  2.00000000e-01  -9.42041905e-01]\n",
        " [  1.75000000e-01  -9.47059653e-01]\n",
        " [  1.58046589e-01  -9.50000000e-01]\n",
        " [  1.50000000e-01  -9.51384294e-01]\n",
        " [  1.25000000e-01  -9.55020953e-01]\n",
        " [  1.00000000e-01  -9.57988329e-01]\n",
        " [  7.50000000e-02  -9.60292203e-01]\n",
        " [  5.00000000e-02  -9.61937083e-01]\n",
        " [  2.50000000e-02  -9.62926219e-01]\n",
        " [ -1.06581410e-14  -9.63261617e-01]\n",
        " [ -2.50000000e-02  -9.62944043e-01]\n",
        " [ -5.00000000e-02  -9.61973026e-01]\n",
        " [ -7.50000000e-02  -9.60346858e-01]\n",
        " [ -1.00000000e-01  -9.58062590e-01]\n",
        " [ -1.25000000e-01  -9.55116021e-01]\n",
        " [ -1.50000000e-01  -9.51501687e-01]\n",
        " [ -1.58776274e-01  -9.50000000e-01]\n",
        " [ -1.75000000e-01  -9.47202341e-01]\n",
        " [ -2.00000000e-01  -9.42212289e-01]\n",
        " [ -2.25000000e-01  -9.36527808e-01]\n",
        " [ -2.50000000e-01  -9.30138141e-01]\n",
        " [ -2.68106761e-01  -9.25000000e-01]\n",
        " [ -2.75000000e-01  -9.23020702e-01]\n",
        " [ -3.00000000e-01  -9.15141335e-01]\n",
        " [ -3.25000000e-01  -9.06512178e-01]\n",
        " [ -3.42372210e-01  -9.00000000e-01]\n",
        " [ -3.50000000e-01  -8.97096608e-01]\n",
        " [ -3.75000000e-01  -8.86845958e-01]\n",
        " [ -4.00000000e-01  -8.75785298e-01]\n",
        " [ -4.01666725e-01  -8.75000000e-01]\n",
        " [ -4.25000000e-01  -8.63797024e-01]\n",
        " [ -4.50000000e-01  -8.50939464e-01]\n",
        " [ -4.51727058e-01  -8.50000000e-01]\n",
        " [ -4.75000000e-01  -8.37059886e-01]\n",
        " [ -4.95397170e-01  -8.25000000e-01]\n",
        " [ -5.00000000e-01  -8.22211185e-01]\n",
        " [ -5.25000000e-01  -8.06246063e-01]\n",
        " [ -5.34282567e-01  -8.00000000e-01]\n",
        " [ -5.50000000e-01  -7.89126344e-01]\n",
        " [ -5.69402433e-01  -7.75000000e-01]\n",
        " [ -5.75000000e-01  -7.70797959e-01]\n",
        " [ -6.00000000e-01  -7.51128244e-01]\n",
        " [ -6.01374711e-01  -7.50000000e-01]\n",
        " [ -6.25000000e-01  -7.29935193e-01]\n",
        " [ -6.30569714e-01  -7.25000000e-01]\n",
        " [ -6.50000000e-01  -7.07126261e-01]\n",
        " [ -6.57446429e-01  -7.00000000e-01]\n",
        " [ -6.75000000e-01  -6.82499576e-01]\n",
        " [ -6.82250462e-01  -6.75000000e-01]\n",
        " [ -7.00000000e-01  -6.55801983e-01]\n",
        " [ -7.05184035e-01  -6.50000000e-01]\n",
        " [ -7.25000000e-01  -6.26713785e-01]\n",
        " [ -7.26413013e-01  -6.25000000e-01]\n",
        " [ -7.46014234e-01  -6.00000000e-01]\n",
        " [ -7.50000000e-01  -5.94620510e-01]\n",
        " [ -7.64130425e-01  -5.75000000e-01]\n",
        " [ -7.75000000e-01  -5.58922638e-01]\n",
        " [ -7.80877932e-01  -5.50000000e-01]\n",
        " [ -7.96286149e-01  -5.25000000e-01]\n",
        " [ -8.00000000e-01  -5.18527312e-01]\n",
        " [ -8.10391035e-01  -5.00000000e-01]\n",
        " [ -8.23293121e-01  -4.75000000e-01]\n",
        " [ -8.25000000e-01  -4.71397473e-01]\n",
        " [ -8.34941220e-01  -4.50000000e-01]\n",
        " [ -8.45429300e-01  -4.25000000e-01]\n",
        " [ -8.50000000e-01  -4.12816855e-01]\n",
        " [ -8.54730115e-01  -4.00000000e-01]\n",
        " [ -8.62845553e-01  -3.75000000e-01]\n",
        " [ -8.69799650e-01  -3.50000000e-01]\n",
        " [ -8.75000000e-01  -3.27490613e-01]\n",
        " [ -8.75568395e-01  -3.25000000e-01]\n",
        " [ -8.80101270e-01  -3.00000000e-01]\n",
        " [ -8.83402446e-01  -2.75000000e-01]\n",
        " [ -8.85432510e-01  -2.50000000e-01]\n",
        " [ -8.86144301e-01  -2.25000000e-01]\n",
        " [ -8.85482122e-01  -2.00000000e-01]\n",
        " [ -8.83380808e-01  -1.75000000e-01]\n",
        " [ -8.79764624e-01  -1.50000000e-01]\n",
        " [ -8.75000000e-01  -1.27166864e-01]\n",
        " [ -8.74542433e-01  -1.25000000e-01]\n",
        " [ -8.67565495e-01  -1.00000000e-01]\n",
        " [ -8.58752063e-01  -7.50000000e-02]\n",
        " [ -8.50000000e-01  -5.46808654e-02]\n",
        " [ -8.47946033e-01  -5.00000000e-02]\n",
        " [ -8.34900797e-01  -2.50000000e-02]\n",
        " [ -8.25000000e-01  -8.84011965e-03]\n",
        " [ -8.19450479e-01  -7.10542736e-15]\n",
        " [ -8.01291887e-01   2.50000000e-02]\n",
        " [ -8.00000000e-01   2.65617470e-02]\n",
        " [ -7.80003477e-01   5.00000000e-02]\n",
        " [ -7.75000000e-01   5.51814583e-02]\n",
        " [ -7.55166662e-01   7.50000000e-02]\n",
        " [ -7.50000000e-01   7.96037544e-02]\n",
        " [ -7.26152189e-01   1.00000000e-01]\n",
        " [ -7.25000000e-01   1.00885927e-01]\n",
        " [ -7.00000000e-01   1.19336610e-01]\n",
        " [ -6.91941616e-01   1.25000000e-01]\n",
        " [ -6.75000000e-01   1.35786839e-01]\n",
        " [ -6.51373780e-01   1.50000000e-01]\n",
        " [ -6.50000000e-01   1.50753752e-01]\n",
        " [ -6.25000000e-01   1.63812804e-01]\n",
        " [ -6.02082422e-01   1.75000000e-01]\n",
        " [ -6.00000000e-01   1.75933206e-01]\n",
        " [ -5.75000000e-01   1.86522283e-01]\n",
        " [ -5.50000000e-01   1.96335948e-01]\n",
        " [ -5.39984759e-01   2.00000000e-01]\n",
        " [ -5.25000000e-01   2.05065718e-01]\n",
        " [ -5.00000000e-01   2.12880152e-01]\n",
        " [ -4.75000000e-01   2.20018417e-01]\n",
        " [ -4.55844238e-01   2.25000000e-01]\n",
        " [ -4.50000000e-01   2.26413151e-01]\n",
        " [ -4.25000000e-01   2.31921856e-01]\n",
        " [ -4.00000000e-01   2.36837390e-01]\n",
        " [ -3.75000000e-01   2.41173866e-01]\n",
        " [ -3.50000000e-01   2.44945051e-01]\n",
        " [ -3.25000000e-01   2.48164387e-01]\n",
        " [ -3.07952215e-01   2.50000000e-01]\n",
        " [ -3.00000000e-01   2.50801874e-01]\n",
        " [ -2.75000000e-01   2.52846811e-01]\n",
        " [ -2.50000000e-01   2.54404878e-01]\n",
        " [ -2.25000000e-01   2.55487701e-01]\n",
        " [ -2.00000000e-01   2.56106681e-01]\n",
        " [ -1.75000000e-01   2.56273006e-01]\n",
        " [ -1.50000000e-01   2.55997667e-01]\n",
        " [ -1.25000000e-01   2.55291467e-01]\n",
        " [ -1.00000000e-01   2.54165040e-01]\n",
        " [ -7.50000000e-02   2.52628854e-01]\n",
        " [ -5.00000000e-02   2.50693229e-01]\n",
        " [ -4.25949503e-02   2.50000000e-01]\n",
        " [ -2.50000000e-02   2.48281953e-01]\n",
        " [ -1.06581410e-14   2.45435082e-01]\n",
        " [  2.50000000e-02   2.42199948e-01]\n",
        " [  5.00000000e-02   2.38586999e-01]\n",
        " [  7.50000000e-02   2.34606567e-01]\n",
        " [  1.00000000e-01   2.30268874e-01]\n",
        " [  1.20162265e-01   2.26490600e-01]], None)]"
       ]
      }
     ],
     "prompt_number": 11
    },
    {
     "cell_type": "code",
     "collapsed": false,
     "input": [
      "import numpy as np"
     ],
     "language": "python",
     "metadata": {},
     "outputs": [],
     "prompt_number": 1
    },
    {
     "cell_type": "code",
     "collapsed": false,
     "input": [
      "data = np.loadtxt('example1.csv',dtype=np.str,delimiter=',',skiprows=0)\n",
      "x=data[:,3]\n",
      "y=data[:,4]"
     ],
     "language": "python",
     "metadata": {},
     "outputs": [],
     "prompt_number": 2
    },
    {
     "cell_type": "code",
     "collapsed": false,
     "input": [
      "data"
     ],
     "language": "python",
     "metadata": {},
     "outputs": [
      {
       "metadata": {},
       "output_type": "pyout",
       "prompt_number": 3,
       "text": [
        "array([['1957', 'AUDREY', 'HU', ' 21.6N', ' 93.3W'],\n",
        "       ['1957', 'AUDREY', 'HU', '22.0N', '  93.4W'],\n",
        "       ['1957', 'AUDREY', 'HU', '22.6N', '  93.5W'],\n",
        "       ['1957', 'AUDREY', 'HU', '23.2N', '  93.6W']], \n",
        "      dtype='|S7')"
       ]
      }
     ],
     "prompt_number": 3
    },
    {
     "cell_type": "code",
     "collapsed": false,
     "input": [
      "x"
     ],
     "language": "python",
     "metadata": {},
     "outputs": [
      {
       "metadata": {},
       "output_type": "pyout",
       "prompt_number": 11,
       "text": [
        "array([' 21.6N', '22.0N', '22.6N', '23.2N'], \n",
        "      dtype='|S7')"
       ]
      }
     ],
     "prompt_number": 11
    },
    {
     "cell_type": "code",
     "collapsed": false,
     "input": [
      "y"
     ],
     "language": "python",
     "metadata": {},
     "outputs": [
      {
       "metadata": {},
       "output_type": "pyout",
       "prompt_number": 12,
       "text": [
        "array([' 93.3W', '  93.4W', '  93.5W', '  93.6W'], \n",
        "      dtype='|S7')"
       ]
      }
     ],
     "prompt_number": 12
    },
    {
     "cell_type": "code",
     "collapsed": false,
     "input": [
      "import csv\n",
      "f= open('example1.csv', 'rb')\n",
      "reader = csv.reader(f, delimiter=',')\n",
      "header = reader.next()\n",
      "zipped = zip(*reader)\n",
      "\n",
      "latitude = zipped[3]\n",
      "longitude = zipped[4]"
     ],
     "language": "python",
     "metadata": {},
     "outputs": [],
     "prompt_number": 8
    },
    {
     "cell_type": "code",
     "collapsed": false,
     "input": [
      "latitude\n",
      "longitude"
     ],
     "language": "python",
     "metadata": {},
     "outputs": [
      {
       "metadata": {},
       "output_type": "pyout",
       "prompt_number": 10,
       "text": [
        "('  93.4W', '  93.5W', '  93.6W')"
       ]
      }
     ],
     "prompt_number": 10
    },
    {
     "cell_type": "code",
     "collapsed": false,
     "input": [
      "%matplotlib inline\n",
      "import matplotlib.pyplot as plt\n",
      "\n",
      "cpu1_t = [0,1,1,3,3,4,5]\n",
      "cpu1_p = [1,1,0,0,1,1,0]\n",
      "cpu2_t = [0,1,1,3,3,4,5]\n",
      "cpu2_p = [0,0,1,1,0,0,1]\n",
      "\n",
      "fig = plt.figure()\n",
      "# plot 1\n",
      "ax1 = fig.add_subplot(211)\n",
      "ax1.fill_between(cpu1_t, cpu1_p,0, color='b', edgecolor='k')\n",
      "ax1.set_ylabel(r'$\\tau_1$', size=14, rotation=0)\n",
      "# plot 2\n",
      "ax2 = fig.add_subplot(212)\n",
      "ax2.fill_between(cpu2_t, cpu2_p,0, color='r', edgecolor='k')\n",
      "ax2.set_ylabel(r'$\\tau_2$', size=14, rotation=0)\n",
      "\n",
      "# customize axis\n",
      "for ax in [ax1, ax2]:\n",
      "    ax.set_ylim(0,2)\n",
      "    ax.spines['right'].set_visible(False)\n",
      "    ax.spines['top'].set_visible(False)\n",
      "    ax.yaxis.set_ticks_position('left')\n",
      "    ax.xaxis.set_ticks_position('bottom')"
     ],
     "language": "python",
     "metadata": {},
     "outputs": [
      {
       "metadata": {},
       "output_type": "display_data",
       "png": "[encoded data removed]",
       "text": [
        "<matplotlib.figure.Figure at 0x3bfaf90>"
       ]
      }
     ],
     "prompt_number": 17
    },
    {
     "cell_type": "code",
     "collapsed": false,
     "input": [
      "import subprocess\n",
      "\n",
      "def wc(filename):\n",
      "    return subprocess.call(['wc', '-l', filename])\n",
      "\n",
      "def native(filename):\n",
      "    c = 0\n",
      "    with open(filename) as file:\n",
      "        while True:\n",
      "            chunk = file.read(10 ** 7)\n",
      "            if chunk == \"\":\n",
      "                return c\n",
      "            c += chunk.count(\"\\n\")\n",
      "\n",
      "def iterate(filename):\n",
      "    with open(filename) as file:\n",
      "        for i, line in enumerate(file):\n",
      "            pass\n",
      "        return i + 1\n",
      "\n",
      "def lenm(filename):\n",
      "    with open(filename) as file:\n",
      "        return len(file.readlines())"
     ],
     "language": "python",
     "metadata": {},
     "outputs": [],
     "prompt_number": 7
    },
    {
     "cell_type": "code",
     "collapsed": false,
     "input": [
      "filen='temp_file'"
     ],
     "language": "python",
     "metadata": {},
     "outputs": [],
     "prompt_number": 3
    },
    {
     "cell_type": "code",
     "collapsed": false,
     "input": [
      "%timeit wc(filen)"
     ],
     "language": "python",
     "metadata": {},
     "outputs": [
      {
       "output_type": "stream",
       "stream": "stdout",
       "text": [
        "100 loops, best of 3: 16.5 ms per loop\n"
       ]
      }
     ],
     "prompt_number": 11
    },
    {
     "cell_type": "code",
     "collapsed": false,
     "input": [
      "%timeit native(filen)"
     ],
     "language": "python",
     "metadata": {},
     "outputs": [
      {
       "output_type": "stream",
       "stream": "stdout",
       "text": [
        "100 loops, best of 3: 12.9 ms per loop\n"
       ]
      }
     ],
     "prompt_number": 12
    },
    {
     "cell_type": "code",
     "collapsed": false,
     "input": [
      "%timeit iterate(filen)"
     ],
     "language": "python",
     "metadata": {},
     "outputs": [
      {
       "output_type": "stream",
       "stream": "stdout",
       "text": [
        "10 loops, best of 3: 81.3 ms per loop\n"
       ]
      }
     ],
     "prompt_number": 13
    },
    {
     "cell_type": "code",
     "collapsed": false,
     "input": [
      "%timeit lenm(filen)"
     ],
     "language": "python",
     "metadata": {},
     "outputs": [
      {
       "output_type": "stream",
       "stream": "stdout",
       "text": [
        "10 loops, best of 3: 72.1 ms per loop\n"
       ]
      }
     ],
     "prompt_number": 14
    },
    {
     "cell_type": "heading",
     "level": 1,
     "metadata": {},
     "source": [
      "Get IDs of list"
     ]
    },
    {
     "cell_type": "code",
     "collapsed": false,
     "input": [
      "a = '(1A0IA:0.42722,1AYLA:0.47152)'"
     ],
     "language": "python",
     "metadata": {},
     "outputs": [],
     "prompt_number": 4
    },
    {
     "cell_type": "code",
     "collapsed": false,
     "input": [
      "import re"
     ],
     "language": "python",
     "metadata": {},
     "outputs": [],
     "prompt_number": 2
    },
    {
     "cell_type": "code",
     "collapsed": false,
     "input": [
      "re.sub('(?P<id1>.{5}):[\\d\\.]+,(?P<id2>.{5}):[\\d\\.]+','(?P=id1),(?P=id2)', a)"
     ],
     "language": "python",
     "metadata": {},
     "outputs": [
      {
       "metadata": {},
       "output_type": "pyout",
       "prompt_number": 9,
       "text": [
        "'((?P=id1),(?P=id2))'"
       ]
      }
     ],
     "prompt_number": 9
    },
    {
     "cell_type": "code",
     "collapsed": false,
     "input": [
      "re.findall('(?P<id1>.{5}):[\\d\\.]+,(?P<id2>.{5}):[\\d\\.]+', a)"
     ],
     "language": "python",
     "metadata": {},
     "outputs": [
      {
       "metadata": {},
       "output_type": "pyout",
       "prompt_number": 10,
       "text": [
        "[('1A0IA', '1AYLA')]"
       ]
      }
     ],
     "prompt_number": 10
    },
    {
     "cell_type": "heading",
     "level": 1,
     "metadata": {},
     "source": [
      "subplots"
     ]
    },
    {
     "cell_type": "code",
     "collapsed": false,
     "input": [
      "%matplotlib inline\n",
      "import matplotlib.pyplot as plt\n",
      "\n",
      "fig, axes = plt.subplots(3,4, figsize=(8,6))\n",
      "\n",
      "plt.setp(axes, xticks=[], yticks=[])\n",
      "plt.subplots_adjust(left=None, bottom=None, right=None, top=None, wspace=.05, hspace=.05)"
     ],
     "language": "python",
     "metadata": {},
     "outputs": [
      {
       "metadata": {},
       "output_type": "display_data",
       "png": "[encoded data removed]",
       "text": [
        "<matplotlib.figure.Figure at 0x29e3910>"
       ]
      }
     ],
     "prompt_number": 2
    },
    {
     "cell_type": "code",
     "collapsed": false,
     "input": [
      "pat1=[[0,0,1,1],\n",
      "      [0,1,1,0],\n",
      "      [1,1,0,0],\n",
      "      [1,0,0,1]]"
     ],
     "language": "python",
     "metadata": {},
     "outputs": [],
     "prompt_number": 6
    },
    {
     "cell_type": "code",
     "collapsed": false,
     "input": [
      "pat1"
     ],
     "language": "python",
     "metadata": {},
     "outputs": [
      {
       "metadata": {},
       "output_type": "pyout",
       "prompt_number": 7,
       "text": [
        "[[0, 0, 1, 1], [0, 1, 1, 0], [1, 1, 0, 0], [1, 0, 0, 1]]"
       ]
      }
     ],
     "prompt_number": 7
    },
    {
     "cell_type": "code",
     "collapsed": false,
     "input": [
      "pat1.extend(pat1)"
     ],
     "language": "python",
     "metadata": {},
     "outputs": [],
     "prompt_number": 3
    },
    {
     "cell_type": "code",
     "collapsed": false,
     "input": [
      "pat1"
     ],
     "language": "python",
     "metadata": {},
     "outputs": [
      {
       "metadata": {},
       "output_type": "pyout",
       "prompt_number": 4,
       "text": [
        "[[0, 0, 1, 1],\n",
        " [0, 1, 1, 0],\n",
        " [1, 1, 0, 0],\n",
        " [1, 0, 0, 1],\n",
        " [0, 0, 1, 1],\n",
        " [0, 1, 1, 0],\n",
        " [1, 1, 0, 0],\n",
        " [1, 0, 0, 1]]"
       ]
      }
     ],
     "prompt_number": 4
    },
    {
     "cell_type": "code",
     "collapsed": false,
     "input": [
      "pat2=[l*2 for l in pat1]\n",
      "pat2"
     ],
     "language": "python",
     "metadata": {},
     "outputs": [
      {
       "metadata": {},
       "output_type": "pyout",
       "prompt_number": 24,
       "text": [
        "[[0, 0, 1, 1, 0, 0, 1, 1],\n",
        " [0, 1, 1, 0, 0, 1, 1, 0],\n",
        " [1, 1, 0, 0, 1, 1, 0, 0],\n",
        " [1, 0, 0, 1, 1, 0, 0, 1]]"
       ]
      }
     ],
     "prompt_number": 24
    },
    {
     "cell_type": "code",
     "collapsed": false,
     "input": [
      "import numpy as np\n",
      "pat2 = np.array(pat2)"
     ],
     "language": "python",
     "metadata": {},
     "outputs": [],
     "prompt_number": 25
    },
    {
     "cell_type": "code",
     "collapsed": false,
     "input": [
      "from IPython.display import display\n",
      "layer = 8\n",
      "pat2=np.array([l*(1+int(layer/4)) for l in pat1])\n",
      "mpat = []\n",
      "for i in range(layer):\n",
      "    display(pat2[:,i:i+4])\n",
      "    mpat.append(pat2[:,i:i+4].tolist())\n",
      "mpat"
     ],
     "language": "python",
     "metadata": {},
     "outputs": [
      {
       "metadata": {},
       "output_type": "display_data",
       "text": [
        "array([[0, 0, 1, 1],\n",
        "       [0, 1, 1, 0],\n",
        "       [1, 1, 0, 0],\n",
        "       [1, 0, 0, 1]])"
       ]
      },
      {
       "metadata": {},
       "output_type": "display_data",
       "text": [
        "array([[0, 1, 1, 0],\n",
        "       [1, 1, 0, 0],\n",
        "       [1, 0, 0, 1],\n",
        "       [0, 0, 1, 1]])"
       ]
      },
      {
       "metadata": {},
       "output_type": "display_data",
       "text": [
        "array([[1, 1, 0, 0],\n",
        "       [1, 0, 0, 1],\n",
        "       [0, 0, 1, 1],\n",
        "       [0, 1, 1, 0]])"
       ]
      },
      {
       "metadata": {},
       "output_type": "display_data",
       "text": [
        "array([[1, 0, 0, 1],\n",
        "       [0, 0, 1, 1],\n",
        "       [0, 1, 1, 0],\n",
        "       [1, 1, 0, 0]])"
       ]
      },
      {
       "metadata": {},
       "output_type": "display_data",
       "text": [
        "array([[0, 0, 1, 1],\n",
        "       [0, 1, 1, 0],\n",
        "       [1, 1, 0, 0],\n",
        "       [1, 0, 0, 1]])"
       ]
      },
      {
       "metadata": {},
       "output_type": "display_data",
       "text": [
        "array([[0, 1, 1, 0],\n",
        "       [1, 1, 0, 0],\n",
        "       [1, 0, 0, 1],\n",
        "       [0, 0, 1, 1]])"
       ]
      },
      {
       "metadata": {},
       "output_type": "display_data",
       "text": [
        "array([[1, 1, 0, 0],\n",
        "       [1, 0, 0, 1],\n",
        "       [0, 0, 1, 1],\n",
        "       [0, 1, 1, 0]])"
       ]
      },
      {
       "metadata": {},
       "output_type": "display_data",
       "text": [
        "array([[1, 0, 0, 1],\n",
        "       [0, 0, 1, 1],\n",
        "       [0, 1, 1, 0],\n",
        "       [1, 1, 0, 0]])"
       ]
      },
      {
       "metadata": {},
       "output_type": "pyout",
       "prompt_number": 40,
       "text": [
        "[[[0, 0, 1, 1], [0, 1, 1, 0], [1, 1, 0, 0], [1, 0, 0, 1]],\n",
        " [[0, 1, 1, 0], [1, 1, 0, 0], [1, 0, 0, 1], [0, 0, 1, 1]],\n",
        " [[1, 1, 0, 0], [1, 0, 0, 1], [0, 0, 1, 1], [0, 1, 1, 0]],\n",
        " [[1, 0, 0, 1], [0, 0, 1, 1], [0, 1, 1, 0], [1, 1, 0, 0]],\n",
        " [[0, 0, 1, 1], [0, 1, 1, 0], [1, 1, 0, 0], [1, 0, 0, 1]],\n",
        " [[0, 1, 1, 0], [1, 1, 0, 0], [1, 0, 0, 1], [0, 0, 1, 1]],\n",
        " [[1, 1, 0, 0], [1, 0, 0, 1], [0, 0, 1, 1], [0, 1, 1, 0]],\n",
        " [[1, 0, 0, 1], [0, 0, 1, 1], [0, 1, 1, 0], [1, 1, 0, 0]]]"
       ]
      }
     ],
     "prompt_number": 40
    },
    {
     "cell_type": "code",
     "collapsed": false,
     "input": [
      "8/4*4, 6%4"
     ],
     "language": "python",
     "metadata": {},
     "outputs": [
      {
       "metadata": {},
       "output_type": "pyout",
       "prompt_number": 33,
       "text": [
        "(8, 2)"
       ]
      }
     ],
     "prompt_number": 33
    },
    {
     "cell_type": "code",
     "collapsed": false,
     "input": [
      "[1,2]+[3,4]"
     ],
     "language": "python",
     "metadata": {},
     "outputs": [
      {
       "metadata": {},
       "output_type": "pyout",
       "prompt_number": 42,
       "text": [
        "[1, 2, 3, 4]"
       ]
      }
     ],
     "prompt_number": 42
    },
    {
     "cell_type": "code",
     "collapsed": false,
     "input": [
      "%pylab inline"
     ],
     "language": "python",
     "metadata": {},
     "outputs": [
      {
       "output_type": "stream",
       "stream": "stdout",
       "text": [
        "Populating the interactive namespace from numpy and matplotlib\n"
       ]
      }
     ],
     "prompt_number": 1
    },
    {
     "cell_type": "code",
     "collapsed": false,
     "input": [
      "import Image"
     ],
     "language": "python",
     "metadata": {},
     "outputs": [],
     "prompt_number": 2
    },
    {
     "cell_type": "code",
     "collapsed": false,
     "input": [
      "image=Image.open('../Bild1.png')\n",
      "im = image.load()"
     ],
     "language": "python",
     "metadata": {},
     "outputs": [],
     "prompt_number": 4
    },
    {
     "cell_type": "code",
     "collapsed": false,
     "input": [
      "type(im)"
     ],
     "language": "python",
     "metadata": {},
     "outputs": [
      {
       "metadata": {},
       "output_type": "pyout",
       "prompt_number": 10,
       "text": [
        "PixelAccess"
       ]
      }
     ],
     "prompt_number": 10
    },
    {
     "cell_type": "code",
     "collapsed": false,
     "input": [
      "im2=plt.imread('../Bild1.png')"
     ],
     "language": "python",
     "metadata": {},
     "outputs": [],
     "prompt_number": 12
    },
    {
     "cell_type": "code",
     "collapsed": false,
     "input": [
      "x=2\n",
      "y=3\n",
      "x_min = int(x - 100)\n",
      "x_max = int(x + 100)\n",
      "y_min = int(y - 100)\n",
      "y_max = int(y + 100)\n",
      "if x_min < 0:\n",
      "    x_min = 0\n",
      "    #continue\n",
      "if y_min < 0:\n",
      "    y_min = 0\n",
      "    #continue\n",
      "if x_max > 2160:\n",
      "    x_max = 2160\n",
      "    #continue\n",
      "if y_max > 2592:\n",
      "    y_max = 2592\n",
      "    #continue\n",
      "submatrix = im2[x_min:x_max, y_min:y_max]\n",
      "figure(1)\n",
      "imshow(submatrix)"
     ],
     "language": "python",
     "metadata": {},
     "outputs": [
      {
       "metadata": {},
       "output_type": "pyout",
       "prompt_number": 16,
       "text": [
        "<matplotlib.image.AxesImage at 0x25aee50>"
       ]
      },
      {
       "metadata": {},
       "output_type": "display_data",
       "png": "[encoded data removed]",
       "text": [
        "<matplotlib.figure.Figure at 0x25d0a90>"
       ]
      }
     ],
     "prompt_number": 16
    },
    {
     "cell_type": "code",
     "collapsed": false,
     "input": [
      "grid = np.ones((2,7))\n",
      "grid"
     ],
     "language": "python",
     "metadata": {},
     "outputs": [
      {
       "metadata": {},
       "output_type": "pyout",
       "prompt_number": 22,
       "text": [
        "array([[ 1.,  1.,  1.,  1.,  1.,  1.,  1.],\n",
        "       [ 1.,  1.,  1.,  1.,  1.,  1.,  1.]])"
       ]
      }
     ],
     "prompt_number": 22
    },
    {
     "cell_type": "code",
     "collapsed": false,
     "input": [
      "c = np.array( [9., 11.] )\n",
      "c"
     ],
     "language": "python",
     "metadata": {},
     "outputs": [
      {
       "metadata": {},
       "output_type": "pyout",
       "prompt_number": 30,
       "text": [
        "array([  9.,  11.])"
       ]
      }
     ],
     "prompt_number": 30
    },
    {
     "cell_type": "code",
     "collapsed": false,
     "input": [
      "np.multiply()"
     ],
     "language": "python",
     "metadata": {},
     "outputs": [
      {
       "ename": "ValueError",
       "evalue": "operands could not be broadcast together with shapes (2) (2,7) ",
       "output_type": "pyerr",
       "traceback": [
        "\u001b[1;31m---------------------------------------------------------------------------\u001b[0m\n\u001b[1;31mValueError\u001b[0m                                Traceback (most recent call last)",
        "\u001b[1;32m<ipython-input-32-f92070b743fe>\u001b[0m in \u001b[0;36m<module>\u001b[1;34m()\u001b[0m\n\u001b[1;32m----> 1\u001b[1;33m \u001b[0mnp\u001b[0m\u001b[1;33m.\u001b[0m\u001b[0mmultiply\u001b[0m\u001b[1;33m(\u001b[0m\u001b[0mc\u001b[0m\u001b[1;33m,\u001b[0m\u001b[0mgrid\u001b[0m\u001b[1;33m)\u001b[0m\u001b[1;33m\u001b[0m\u001b[0m\n\u001b[0m",
        "\u001b[1;31mValueError\u001b[0m: operands could not be broadcast together with shapes (2) (2,7) "
       ]
      }
     ],
     "prompt_number": 32
    },
    {
     "cell_type": "code",
     "collapsed": false,
     "input": [
      "np.array([np.ones(i) for i in [3,5]])"
     ],
     "language": "python",
     "metadata": {},
     "outputs": [
      {
       "metadata": {},
       "output_type": "pyout",
       "prompt_number": 34,
       "text": [
        "array([[ 1.  1.  1.], [ 1.  1.  1.  1.  1.]], dtype=object)"
       ]
      }
     ],
     "prompt_number": 34
    },
    {
     "cell_type": "code",
     "collapsed": false,
     "input": [
      "f,a = plt.subplots(1,1,figsize=(35,3))\n",
      "a.plot([1,2])"
     ],
     "language": "python",
     "metadata": {},
     "outputs": [
      {
       "metadata": {},
       "output_type": "pyout",
       "prompt_number": 7,
       "text": [
        "[<matplotlib.lines.Line2D at 0x4600290>]"
       ]
      },
      {
       "metadata": {},
       "output_type": "display_data",
       "png": "[encoded data removed]",
       "text": [
        "<matplotlib.figure.Figure at 0x4238110>"
       ]
      }
     ],
     "prompt_number": 7
    },
    {
     "cell_type": "heading",
     "level": 2,
     "metadata": {},
     "source": [
      "Offset tick labels"
     ]
    },
    {
     "cell_type": "code",
     "collapsed": false,
     "input": [
      "%matplotlib inline\n",
      "import matplotlib.pyplot as plt"
     ],
     "language": "python",
     "metadata": {},
     "outputs": [],
     "prompt_number": 1
    },
    {
     "cell_type": "code",
     "collapsed": false,
     "input": [
      "f,a = plt.subplots(1,1)\n",
      "a.plot([1,2])\n",
      "ticks = a.xaxis.get_ticklabels()\n",
      "for tick in ticks[::2]:\n",
      "    tpos = tick.get_position()\n",
      "    tick.set_position((tpos[0],tpos[1]+1.0))"
     ],
     "language": "python",
     "metadata": {},
     "outputs": [
      {
       "metadata": {},
       "output_type": "display_data",
       "png": "[encoded data removed]",
       "text": [
        "<matplotlib.figure.Figure at 0x46bd850>"
       ]
      }
     ],
     "prompt_number": 62
    },
    {
     "cell_type": "code",
     "collapsed": false,
     "input": [
      "tick.get_position??"
     ],
     "language": "python",
     "metadata": {},
     "outputs": [],
     "prompt_number": 59
    },
    {
     "cell_type": "code",
     "collapsed": false,
     "input": [
      "ticks[0].get_position"
     ],
     "language": "python",
     "metadata": {},
     "outputs": []
    },
    {
     "cell_type": "code",
     "collapsed": false,
     "input": [
      "ticks[0].get_position"
     ],
     "language": "python",
     "metadata": {},
     "outputs": []
    },
    {
     "cell_type": "heading",
     "level": 2,
     "metadata": {},
     "source": [
      "Log Ticker"
     ]
    },
    {
     "cell_type": "code",
     "collapsed": false,
     "input": [
      "import numpy as np\n",
      "plt.plot(np.logspace(1,10,10),np.logspace(1,5,10))\n",
      "ax = plt.gca()\n",
      "ax.get_xaxis().set_major_formatter(plt.LogFormatter(10,  labelOnlyBase=False))\n",
      "ax.get_yaxis().set_major_formatter(plt.LogFormatter(10,  labelOnlyBase=False))"
     ],
     "language": "python",
     "metadata": {},
     "outputs": [
      {
       "metadata": {},
       "output_type": "display_data",
       "png": "[encoded data removed]",
       "text": [
        "<matplotlib.figure.Figure at 0x3fa68d0>"
       ]
      }
     ],
     "prompt_number": 47
    },
    {
     "cell_type": "heading",
     "level": 2,
     "metadata": {},
     "source": [
      "VTK offset"
     ]
    },
    {
     "cell_type": "code",
     "collapsed": false,
     "input": [
      "def offsetVTK(infilename, outfilename, offset):\n",
      "    outfil = open(outfilename,'w')\n",
      "    with open(infilename,'r') as infil:\n",
      "        lin = 1\n",
      "        while lin:\n",
      "            lin = infil.readline()\n",
      "            if lin.lower().startswith('points'):\n",
      "                numpt = int(lin.split()[1])\n",
      "                outfil.write(lin)\n",
      "                for i in xrange(numpt):\n",
      "                    outfil.write('{0[0]} {0[1]} {0[2]}\\n'.format(\n",
      "                        np.array(infil.readline().split(),dtype=float)+offset))\n",
      "            else:\n",
      "                outfil.write(lin)\n",
      "    outfil.close()\n",
      "\n",
      "offsetVTK('ray.vtk','ray_off.vtk', np.array([100,0,0]))"
     ],
     "language": "python",
     "metadata": {},
     "outputs": [],
     "prompt_number": 16
    },
    {
     "cell_type": "code",
     "collapsed": false,
     "input": [
      "offsetVTK('ray.vtk','ray_off.vtk', np.array([100,0,0]))"
     ],
     "language": "python",
     "metadata": {},
     "outputs": [],
     "prompt_number": 17
    },
    {
     "cell_type": "heading",
     "level": 2,
     "metadata": {},
     "source": [
      "arc and arrow"
     ]
    },
    {
     "cell_type": "code",
     "collapsed": false,
     "input": [
      "%matplotlib inline"
     ],
     "language": "python",
     "metadata": {},
     "outputs": [],
     "prompt_number": 3
    },
    {
     "cell_type": "code",
     "collapsed": false,
     "input": [
      "import numpy as np\n",
      "import matplotlib.pyplot as plt\n",
      "from matplotlib.patches import Ellipse, Arc, Arrow\n",
      "from matplotlib import cm, colors, patches\n",
      "from math import pi\n",
      "\n",
      "fig,ax = plt.subplots(1,1)\n",
      "ellipse = Arc([2.5,2.5],2,2,0,0,340,color='green', linewidth='8')\n",
      "arrow = Arrow(3.5, 3.5, 0.2, 0.2, width=2)\n",
      "ax.annotate('',(3.5,2.5),xycoords='data',xytext=(0,0), \n",
      "            arrowprops=dict(arrowstyle=\"-|>\", linewidth=8))\n",
      "ax.add_patch(ellipse)\n",
      "ax.add_patch(arrow)\n",
      "ax.set_aspect('equal')\n",
      "ax.set_xlim(0,5)\n",
      "ax.set_ylim(0,5)"
     ],
     "language": "python",
     "metadata": {},
     "outputs": [
      {
       "metadata": {},
       "output_type": "pyout",
       "prompt_number": 67,
       "text": [
        "(0, 5)"
       ]
      },
      {
       "metadata": {},
       "output_type": "display_data",
       "png": "[encoded data removed]",
       "text": [
        "<matplotlib.figure.Figure at 0x517c110>"
       ]
      }
     ],
     "prompt_number": 67
    },
    {
     "cell_type": "code",
     "collapsed": false,
     "input": [
      "fig,ax = plt.subplots(1,1)\n",
      "ax.annotate('', xy=(0.5, 0.5),  \n",
      "                xytext=(0, -5), textcoords='offset points',\n",
      "                arrowprops=dict(arrowstyle=\"->\",\n",
      "                                connectionstyle=\"arc,angleA=-180,armA=-5,armB=180\"),\n",
      "                )\n",
      "ax.set_aspect('equal')"
     ],
     "language": "python",
     "metadata": {},
     "outputs": [
      {
       "metadata": {},
       "output_type": "display_data",
       "png": "[encoded data removed]",
       "text": [
        "<matplotlib.figure.Figure at 0x5b2bc90>"
       ]
      }
     ],
     "prompt_number": 57
    },
    {
     "cell_type": "heading",
     "level": 1,
     "metadata": {},
     "source": [
      "Pandas Latex"
     ]
    },
    {
     "cell_type": "code",
     "collapsed": false,
     "input": [
      "import sympy\n",
      "from pandas import DataFrame\n",
      "from sympy import *\n",
      "init_printing()\n",
      "a, b = symbols('a b')\n",
      "t = [a/b, b/a]\n",
      "t"
     ],
     "language": "python",
     "metadata": {},
     "outputs": [
      {
       "latex": [
        "$$\\begin{bmatrix}\\frac{a}{b}, & \\frac{b}{a}\\end{bmatrix}$$"
       ],
       "metadata": {},
       "output_type": "pyout",
       "png": "[encoded data removed]",
       "prompt_number": 3,
       "text": [
        "\u23a1a  b\u23a4\n",
        "\u23a2\u2500, \u2500\u23a5\n",
        "\u23a3b  a\u23a6"
       ]
      }
     ],
     "prompt_number": 3
    },
    {
     "cell_type": "code",
     "collapsed": false,
     "input": [
      "df = DataFrame(t, index=['Situation 1', 'Situation 2'], columns=['Answer'])\n",
      "df"
     ],
     "language": "python",
     "metadata": {},
     "outputs": [
      {
       "html": [
        "<div style=\"max-height:1000px;max-width:1500px;overflow:auto;\">\n",
        "<table border=\"1\" class=\"dataframe\">\n",
        "  <thead>\n",
        "    <tr style=\"text-align: right;\">\n",
        "      <th></th>\n",
        "      <th>Answer</th>\n",
        "    </tr>\n",
        "  </thead>\n",
        "  <tbody>\n",
        "    <tr>\n",
        "      <th>Situation 1</th>\n",
        "      <td> a/b</td>\n",
        "    </tr>\n",
        "    <tr>\n",
        "      <th>Situation 2</th>\n",
        "      <td> b/a</td>\n",
        "    </tr>\n",
        "  </tbody>\n",
        "</table>\n",
        "<p>2 rows \u00d7 1 columns</p>\n",
        "</div>"
       ],
       "metadata": {},
       "output_type": "pyout",
       "prompt_number": 4,
       "text": [
        "            Answer\n",
        "Situation 1    a/b\n",
        "Situation 2    b/a\n",
        "\n",
        "[2 rows x 1 columns]"
       ]
      }
     ],
     "prompt_number": 4
    },
    {
     "cell_type": "code",
     "collapsed": false,
     "input": [
      "from sympy import latex\n",
      "tl = map(lambda tc: '$'+latex(tc)+'$',t)\n",
      "df = DataFrame(tl, index=['Situation 1', 'Situation 2'], columns=['Answer'])\n",
      "df"
     ],
     "language": "python",
     "metadata": {},
     "outputs": [
      {
       "html": [
        "<div style=\"max-height:1000px;max-width:1500px;overflow:auto;\">\n",
        "<table border=\"1\" class=\"dataframe\">\n",
        "  <thead>\n",
        "    <tr style=\"text-align: right;\">\n",
        "      <th></th>\n",
        "      <th>Answer</th>\n",
        "    </tr>\n",
        "  </thead>\n",
        "  <tbody>\n",
        "    <tr>\n",
        "      <th>Situation 1</th>\n",
        "      <td> $\\frac{a}{b}$</td>\n",
        "    </tr>\n",
        "    <tr>\n",
        "      <th>Situation 2</th>\n",
        "      <td> $\\frac{b}{a}$</td>\n",
        "    </tr>\n",
        "  </tbody>\n",
        "</table>\n",
        "<p>2 rows \u00d7 1 columns</p>\n",
        "</div>"
       ],
       "metadata": {},
       "output_type": "pyout",
       "prompt_number": 17,
       "text": [
        "                    Answer\n",
        "Situation 1  $\\frac{a}{b}$\n",
        "Situation 2  $\\frac{b}{a}$\n",
        "\n",
        "[2 rows x 1 columns]"
       ]
      }
     ],
     "prompt_number": 17
    },
    {
     "cell_type": "code",
     "collapsed": false,
     "input": [
      "tl"
     ],
     "language": "python",
     "metadata": {},
     "outputs": [
      {
       "metadata": {},
       "output_type": "pyout",
       "prompt_number": 11,
       "text": [
        "['\\\\frac{a}{b}', '\\\\frac{b}{a}']"
       ]
      }
     ],
     "prompt_number": 11
    },
    {
     "cell_type": "code",
     "collapsed": false,
     "input": [],
     "language": "python",
     "metadata": {},
     "outputs": [
      {
       "metadata": {},
       "output_type": "pyout",
       "prompt_number": 12,
       "text": [
        "'a'"
       ]
      }
     ],
     "prompt_number": 12
    },
    {
     "cell_type": "code",
     "collapsed": false,
     "input": [],
     "language": "python",
     "metadata": {},
     "outputs": []
    }
   ],
   "metadata": {}
  }
 ]
}