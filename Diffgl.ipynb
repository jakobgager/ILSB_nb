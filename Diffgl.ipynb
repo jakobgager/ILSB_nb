{
 "metadata": {
  "name": "Diffgl"
 },
 "nbformat": 3,
 "nbformat_minor": 0,
 "worksheets": [
  {
   "cells": [
    {
     "cell_type": "code",
     "collapsed": false,
     "input": [
      "%pylab inline"
     ],
     "language": "python",
     "metadata": {},
     "outputs": [
      {
       "output_type": "stream",
       "stream": "stdout",
       "text": [
        "\n",
        "Welcome to pylab, a matplotlib-based Python environment [backend: module://IPython.zmq.pylab.backend_inline].\n",
        "For more information, type 'help(pylab)'.\n"
       ]
      }
     ],
     "prompt_number": 2
    },
    {
     "cell_type": "code",
     "collapsed": false,
     "input": [
      "inc = 0.03\n",
      "ti = arange(0, 1, inc)\n",
      "dt = [inc]*len(ti)"
     ],
     "language": "python",
     "metadata": {},
     "outputs": [],
     "prompt_number": 65
    },
    {
     "cell_type": "markdown",
     "metadata": {},
     "source": [
      "Diffgl: $$ \\dot{x} = 3\\cdot x$$\n",
      "\n",
      "analytisch:\n",
      "$$ x=e^{3t} + C$$\n",
      "\n",
      "numerisch:\n",
      "$$ x=\\frac{x_0}{1-3\\Delta t}$$"
     ]
    },
    {
     "cell_type": "heading",
     "level": 3,
     "metadata": {},
     "source": [
      "analytisch"
     ]
    },
    {
     "cell_type": "code",
     "collapsed": false,
     "input": [
      "xa = e**(3*ti)-1"
     ],
     "language": "python",
     "metadata": {},
     "outputs": [],
     "prompt_number": 66
    },
    {
     "cell_type": "heading",
     "level": 3,
     "metadata": {},
     "source": [
      "numerisch"
     ]
    },
    {
     "cell_type": "code",
     "collapsed": false,
     "input": [
      "xn = [1]\n",
      "t1=[0]\n",
      "for i in dt:\n",
      "    xn.append(xn[-1]/(1-3*i))\n",
      "    t1.append(t1[-1]+i)"
     ],
     "language": "python",
     "metadata": {},
     "outputs": [],
     "prompt_number": 67
    },
    {
     "cell_type": "code",
     "collapsed": false,
     "input": [
      "plot(ti, xa, '-rx')\n",
      "plot(t1, xn, 'b-o')"
     ],
     "language": "python",
     "metadata": {},
     "outputs": [
      {
       "output_type": "pyout",
       "prompt_number": 68,
       "text": [
        "[Line2D(_line1)]"
       ]
      },
      {
       "output_type": "display_data",
       "png": "[encoded data removed]"
      }
     ],
     "prompt_number": 68
    },
    {
     "cell_type": "code",
     "collapsed": false,
     "input": [
      "import sympy as sp\n",
      "%load_ext sympy.interactive.ipythonprinting"
     ],
     "language": "python",
     "metadata": {},
     "outputs": [],
     "prompt_number": 7
    },
    {
     "cell_type": "code",
     "collapsed": false,
     "input": [
      "sp.var(r'x x0 eta fnv t')"
     ],
     "language": "python",
     "metadata": {},
     "outputs": [
      {
       "latex": [
        "$$\\begin{pmatrix}x, & x_{0}, & \\eta, & fnv, & t\\end{pmatrix}$$"
       ],
       "output_type": "pyout",
       "prompt_number": 8,
       "text": [
        "(x, x\u2080, \u03b7, fnv, t)"
       ]
      }
     ],
     "prompt_number": 8
    },
    {
     "cell_type": "code",
     "collapsed": false,
     "input": [
      "f = sp.Function(r'\\xi^{(v)}')\n",
      "fnv = sp.Function(r'\\xi^{(nv)}')\n",
      "fnvc = sp.Symbol(r'\\xi^{(nv)}')"
     ],
     "language": "python",
     "metadata": {},
     "outputs": [],
     "prompt_number": 9
    },
    {
     "cell_type": "code",
     "collapsed": false,
     "input": [
      "sp.dsolve(sp.Derivative(f(x),x)-3*f(x), f(x))"
     ],
     "language": "python",
     "metadata": {},
     "outputs": [
      {
       "latex": [
        "$$\\operatorname{\\xi^{(v)}}{\\left (x \\right )} = C_{1} e^{3 x}$$"
       ],
       "output_type": "pyout",
       "png": "[encoded data removed]",
       "prompt_number": 10,
       "text": [
        "                   3\u22c5x\n",
        "\\xi^{(v)}(x) = C\u2081\u22c5\u212f   "
       ]
      }
     ],
     "prompt_number": 10
    },
    {
     "cell_type": "code",
     "collapsed": false,
     "input": [
      "xivt = sp.dsolve(sp.Derivative(f(t),t)-(1/eta)*(fnvc(t)-f(t)), f(t))\n",
      "xivt"
     ],
     "language": "python",
     "metadata": {},
     "outputs": [
      {
       "latex": [
        "$$\\operatorname{\\xi^{(v)}}{\\left (t \\right )} = \\left(C_{1} + \\int \\frac{\\operatorname{\\xi^{(nv)}}{\\left (t \\right )} e^{\\frac{t}{\\eta}}}{\\eta}\\, dt\\right) e^{- \\frac{t}{\\eta}}$$"
       ],
       "output_type": "pyout",
       "prompt_number": 37,
       "text": [
        "               \u239b     \u2320                    \u239e    \n",
        "               \u239c     \u23ae                t   \u239f    \n",
        "               \u239c     \u23ae                \u2500   \u239f  -t\n",
        "               \u239c     \u23ae                \u03b7   \u239f  \u2500\u2500\n",
        "               \u239c     \u23ae \\xi^{(nv)}(t)\u22c5\u212f    \u239f  \u03b7 \n",
        "\\xi^{(v)}(t) = \u239cC\u2081 + \u23ae \u2500\u2500\u2500\u2500\u2500\u2500\u2500\u2500\u2500\u2500\u2500\u2500\u2500\u2500\u2500\u2500 dt\u239f\u22c5\u212f  \n",
        "               \u239c     \u23ae        \u03b7           \u239f    \n",
        "               \u239d     \u2321                    \u23a0    "
       ]
      }
     ],
     "prompt_number": 37
    },
    {
     "cell_type": "code",
     "collapsed": false,
     "input": [
      "sp.dsolve(sp.Derivative(f(t),t)-(1/eta)*(fnvc-f(t)), f(t))"
     ],
     "language": "python",
     "metadata": {},
     "outputs": [
      {
       "latex": [
        "$$\\operatorname{\\xi^{(v)}}{\\left (t \\right )} = C_{1} e^{- \\frac{t}{\\eta}} + \\xi^{{(nv)}}$$"
       ],
       "output_type": "pyout",
       "png": "[encoded data removed]",
       "prompt_number": 36,
       "text": [
        "                   -t             \n",
        "                   \u2500\u2500             \n",
        "                   \u03b7              \n",
        "\\xi^{(v)}(t) = C\u2081\u22c5\u212f   + \\xi^{(nv)}"
       ]
      }
     ],
     "prompt_number": 36
    },
    {
     "cell_type": "code",
     "collapsed": false,
     "input": [
      "xivt.subs({t:0})"
     ],
     "language": "python",
     "metadata": {},
     "outputs": [
      {
       "latex": [
        "$$\\operatorname{\\xi^{(v)}}{\\left (0 \\right )} = C_{1} + \\int \\frac{\\operatorname{\\xi^{(nv)}}{\\left (0 \\right )}}{\\eta}\\, dt$$"
       ],
       "output_type": "pyout",
       "png": "[encoded data removed]",
       "prompt_number": 13,
       "text": [
        "                    \u2320                 \n",
        "                    \u23ae \\xi^{(nv)}(0)   \n",
        "\\xi^{(v)}(0) = C\u2081 + \u23ae \u2500\u2500\u2500\u2500\u2500\u2500\u2500\u2500\u2500\u2500\u2500\u2500\u2500 dt\n",
        "                    \u23ae       \u03b7         \n",
        "                    \u2321                 "
       ]
      }
     ],
     "prompt_number": 13
    },
    {
     "cell_type": "code",
     "collapsed": false,
     "input": [
      "xivt.subs({'C1':0})"
     ],
     "language": "python",
     "metadata": {},
     "outputs": [
      {
       "latex": [
        "$$\\operatorname{\\xi^{(v)}}{\\left (t \\right )} = e^{- \\frac{t}{\\eta}} \\int \\frac{\\operatorname{\\xi^{(nv)}}{\\left (t \\right )} e^{\\frac{t}{\\eta}}}{\\eta}\\, dt$$"
       ],
       "output_type": "pyout",
       "png": "[encoded data removed]",
       "prompt_number": 40,
       "text": [
        "                   \u2320                    \n",
        "                   \u23ae                t   \n",
        "                -t \u23ae                \u2500   \n",
        "                \u2500\u2500 \u23ae                \u03b7   \n",
        "                \u03b7  \u23ae \\xi^{(nv)}(t)\u22c5\u212f    \n",
        "\\xi^{(v)}(t) = \u212f  \u22c5\u23ae \u2500\u2500\u2500\u2500\u2500\u2500\u2500\u2500\u2500\u2500\u2500\u2500\u2500\u2500\u2500\u2500 dt\n",
        "                   \u23ae        \u03b7           \n",
        "                   \u2321                    "
       ]
      }
     ],
     "prompt_number": 40
    },
    {
     "cell_type": "code",
     "collapsed": false,
     "input": [
      "subdict = {eta:1E-4, 'C1':0}"
     ],
     "language": "python",
     "metadata": {},
     "outputs": [],
     "prompt_number": 28
    },
    {
     "cell_type": "code",
     "collapsed": false,
     "input": [
      "xinv = where(array(t1)<0.5, t1,0)\n",
      "xinv"
     ],
     "language": "python",
     "metadata": {},
     "outputs": [
      {
       "output_type": "pyout",
       "prompt_number": 29,
       "text": [
        "  [ 0.    0.03  0.06  0.09  0.12  0.15  0.18  0.21  0.24  0.27  0.3   0.33  \n",
        "  0.36  0.39  0.42  0.45  0.48  0.    0.    0.    0.    0.    0.    0.    0.\n",
        "         0.    0.    0.    0.    0.    0.    0.    0.    0.    0.  ]        "
       ]
      }
     ],
     "prompt_number": 29
    },
    {
     "cell_type": "markdown",
     "metadata": {},
     "source": [
      "possible $xi^{(nv)}$ trend "
     ]
    },
    {
     "cell_type": "code",
     "collapsed": false,
     "input": [
      "xinv = sp.Piecewise((0,t<0),(t,t<.5),(0.5,True))\n",
      "xinv"
     ],
     "language": "python",
     "metadata": {},
     "outputs": [
      {
       "latex": [
        "$$\\begin{cases} 0 & \\text{for}\\: t < 0 \\\\t & \\text{for}\\: t < 0.5 \\\\0.5 & \\text{otherwise} \\end{cases}$$"
       ],
       "output_type": "pyout",
       "prompt_number": 30,
       "text": [
        "\u23a7 0    for t < 0 \n",
        "\u23aa                \n",
        "\u23a8 t   for t < 0.5\n",
        "\u23aa                \n",
        "\u23a90.5   otherwise "
       ]
      }
     ],
     "prompt_number": 30
    },
    {
     "cell_type": "code",
     "collapsed": false,
     "input": [
      "xivt.args[1].subs(subdict).subs({fnvc:xinv})"
     ],
     "language": "python",
     "metadata": {},
     "outputs": [
      {
       "latex": [
        "$$e^{- 10000.0 t} \\int 10000.0 \\operatorname{\\xi^{(nv)}}{\\left (t \\right )} e^{10000.0 t}\\, dt$$"
       ],
       "output_type": "pyout",
       "png": "[encoded data removed]",
       "prompt_number": 41,
       "text": [
        "            \u2320                                    \n",
        " -10000.0\u22c5t \u23ae                        10000.0\u22c5t   \n",
        "\u212f          \u22c5\u23ae 10000.0\u22c5\\xi^{(nv)}(t)\u22c5\u212f          dt\n",
        "            \u2321                                    "
       ]
      }
     ],
     "prompt_number": 41
    },
    {
     "cell_type": "code",
     "collapsed": false,
     "input": [
      "temp = xivt.args[1].subs({'C1':0})"
     ],
     "language": "python",
     "metadata": {},
     "outputs": [],
     "prompt_number": 46
    },
    {
     "cell_type": "code",
     "collapsed": false,
     "input": [
      "temp.subs({fnvc(t):xinv})"
     ],
     "language": "python",
     "metadata": {},
     "outputs": [
      {
       "latex": [
        "$$e^{- \\frac{t}{\\eta}} \\int \\begin{cases} 0 & \\text{for}\\: t < 0 \\\\\\frac{t e^{\\frac{t}{\\eta}}}{\\eta} & \\text{for}\\: t < 0.5 \\\\0.5 \\frac{e^{\\frac{t}{\\eta}}}{\\eta} & \\text{otherwise} \\end{cases}\\, dt$$"
       ],
       "output_type": "pyout",
       "prompt_number": 62,
       "text": [
        " -t                          \n",
        " \u2500\u2500                          \n",
        " \u03b7  \u2320                        \n",
        "\u212f  \u22c5\u23ae \u23a7  0      for t < 0  dt\n",
        "    \u23ae \u23aa                      \n",
        "    \u23ae \u23aa    t                 \n",
        "    \u23ae \u23aa    \u2500                 \n",
        "    \u23ae \u23aa    \u03b7                 \n",
        "    \u23ae \u23aa t\u22c5\u212f                  \n",
        "    \u23ae \u23aa \u2500\u2500\u2500\u2500   for t < 0.5   \n",
        "    \u23ae \u23a8  \u03b7                   \n",
        "    \u23ae \u23aa                      \n",
        "    \u23ae \u23aa     t                \n",
        "    \u23ae \u23aa     \u2500                \n",
        "    \u23ae \u23aa     \u03b7                \n",
        "    \u23ae \u23aa0.5\u22c5\u212f                 \n",
        "    \u23ae \u23aa\u2500\u2500\u2500\u2500\u2500\u2500   otherwise    \n",
        "    \u23ae \u23a9  \u03b7                   \n",
        "    \u2321                        "
       ]
      }
     ],
     "prompt_number": 62
    },
    {
     "cell_type": "heading",
     "level": 3,
     "metadata": {},
     "source": [
      "Numerisch"
     ]
    },
    {
     "cell_type": "code",
     "collapsed": false,
     "input": [
      "xinvn = [xinv.subs({t:i}) for i in ti]"
     ],
     "language": "python",
     "metadata": {},
     "outputs": [],
     "prompt_number": 69
    },
    {
     "cell_type": "code",
     "collapsed": false,
     "input": [
      "xiv =[0]\n",
      "for idx,i in enumerate(t1):\n",
      "    xiv.append(xivt.args[1].subs(subdict).subs({fnv:xinv}))"
     ],
     "language": "python",
     "metadata": {},
     "outputs": [
      {
       "ename": "ValueError",
       "evalue": "sequence too large; must be smaller than 32",
       "output_type": "pyerr",
       "traceback": [
        "\u001b[1;31m---------------------------------------------------------------------------\u001b[0m\n\u001b[1;31mValueError\u001b[0m                                Traceback (most recent call last)",
        "\u001b[1;32m<ipython-input-107-46b97e957ae6>\u001b[0m in \u001b[0;36m<module>\u001b[1;34m()\u001b[0m\n\u001b[0;32m      1\u001b[0m \u001b[0mxiv\u001b[0m \u001b[1;33m=\u001b[0m\u001b[1;33m[\u001b[0m\u001b[1;36m0\u001b[0m\u001b[1;33m]\u001b[0m\u001b[1;33m\u001b[0m\u001b[0m\n\u001b[0;32m      2\u001b[0m \u001b[1;32mfor\u001b[0m \u001b[0midx\u001b[0m\u001b[1;33m,\u001b[0m\u001b[0mi\u001b[0m \u001b[1;32min\u001b[0m \u001b[0menumerate\u001b[0m\u001b[1;33m(\u001b[0m\u001b[0mt1\u001b[0m\u001b[1;33m)\u001b[0m\u001b[1;33m:\u001b[0m\u001b[1;33m\u001b[0m\u001b[0m\n\u001b[1;32m----> 3\u001b[1;33m     \u001b[0mxiv\u001b[0m\u001b[1;33m.\u001b[0m\u001b[0mappend\u001b[0m\u001b[1;33m(\u001b[0m\u001b[0mxivt\u001b[0m\u001b[1;33m.\u001b[0m\u001b[0margs\u001b[0m\u001b[1;33m[\u001b[0m\u001b[1;36m1\u001b[0m\u001b[1;33m]\u001b[0m\u001b[1;33m.\u001b[0m\u001b[0msubs\u001b[0m\u001b[1;33m(\u001b[0m\u001b[0msubdict\u001b[0m\u001b[1;33m)\u001b[0m\u001b[1;33m.\u001b[0m\u001b[0msubs\u001b[0m\u001b[1;33m(\u001b[0m\u001b[1;33m{\u001b[0m\u001b[0mfnv\u001b[0m\u001b[1;33m:\u001b[0m\u001b[0mxinv\u001b[0m\u001b[1;33m}\u001b[0m\u001b[1;33m)\u001b[0m\u001b[1;33m)\u001b[0m\u001b[1;33m\u001b[0m\u001b[0m\n\u001b[0m",
        "\u001b[1;32m/usr/lib/python2.6/site-packages/sympy/core/basic.pyc\u001b[0m in \u001b[0;36msubs\u001b[1;34m(self, *args, **kwargs)\u001b[0m\n",
        "\u001b[1;32m/usr/lib/python2.6/site-packages/sympy/core/sympify.pyc\u001b[0m in \u001b[0;36msympify\u001b[1;34m(a, locals, convert_xor, strict, rational)\u001b[0m\n",
        "\u001b[1;31mValueError\u001b[0m: sequence too large; must be smaller than 32"
       ]
      }
     ],
     "prompt_number": 107
    },
    {
     "cell_type": "code",
     "collapsed": false,
     "input": [
      "plot(ti, xinvn)"
     ],
     "language": "python",
     "metadata": {},
     "outputs": [
      {
       "output_type": "pyout",
       "prompt_number": 70,
       "text": [
        "[Line2D(_line0)]"
       ]
      },
      {
       "output_type": "display_data",
       "png": "[encoded data removed]"
      }
     ],
     "prompt_number": 70
    },
    {
     "cell_type": "code",
     "collapsed": false,
     "input": [],
     "language": "python",
     "metadata": {},
     "outputs": []
    }
   ],
   "metadata": {}
  }
 ]
}