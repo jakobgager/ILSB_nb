{
 "metadata": {
  "name": ""
 },
 "nbformat": 3,
 "nbformat_minor": 0,
 "worksheets": [
  {
   "cells": [
    {
     "cell_type": "markdown",
     "metadata": {},
     "source": [
      "<style>\n",
      "    .rendered_html h1 {\n",
      "        font-family: Arial;\n",
      "        color: #555;\n",
      "        padding: 10px;\n",
      "        padding-left: 20px;\n",
      "        border: 1px solid #AAA;\n",
      "        box-shadow: 0px 8px 10px -8px #999;\n",
      "        background: #EEE;\n",
      "        text-shadow: 0px 1px 1px white;\n",
      "    }\n",
      "    .rendered_html h2 {\n",
      "        border: 1px solid #BBB;\n",
      "        background: #F9F9F9;\n",
      "        padding:6px;\n",
      "        padding-left: 20px;\n",
      "        color: #4A4A4A;\n",
      "        box-shadow: 0px 8px 10px -10px #888;\n",
      "    }\n",
      "    .rendered_html h3 {\n",
      "        border-bottom: 1px solid #DDD;\n",
      "        border-top: 1px solid #DDD;\n",
      "        padding: 6px;\n",
      "        margin-top: 16px;\n",
      "        margin-bottom: 8px;\n",
      "        padding-left: 20px;\n",
      "        color: #4A4A4A;\n",
      "    }\n",
      "    .rendered_html h6 {\n",
      "        border-top: 1px solid #DDD;\n",
      "        color: #555;\n",
      "        text-align: center;\n",
      "        padding: 8px;\n",
      "    }\n",
      "    .rendered_html hr {\n",
      "        height: 0px;\n",
      "    }\n",
      "    .rendered_html p {\n",
      "        font-size: 16px;\n",
      "        font-family: \"Charis SIL\",serif;\n",
      "        color: #090909;\n",
      "        padding-left: 6px;\n",
      "        padding-right: 6px;\n",
      "        line-height: 145%;\n",
      "    }\n",
      "    .CodeMirror {\n",
      "\t    <!--font-family: \"Monospace\";-->\n",
      "        font-size: 14px;\n",
      "    }\n",
      "    div.text_cell {\n",
      "        width: 125ex !important; /* instead of 100%, */\n",
      "    }\n",
      "    div.code_cell {\n",
      "        width: 125ex; /* about 80 chars + buffer */\n",
      "\t}\n",
      "</style>\n",
      "\n",
      "\n",
      "# Poisson Number of a Braid"
     ]
    },
    {
     "cell_type": "markdown",
     "metadata": {},
     "source": [
      "The braid shows tetragonal symmetry. The results of SimBR28 and SimBR30 show that the Possion ratio with respect to\n",
      "an arbitrary in-plane direction lies in the range of (-0.2,1.5).\n",
      "\n",
      "The question arises if these Poisson ratios are feasible and thermodynamically allowed?\n",
      "\n",
      "Following [Ting2005] the Poisson ratio of anisotropic materials can be unbounded!"
     ]
    },
    {
     "cell_type": "markdown",
     "metadata": {},
     "source": [
      "**Elastic potential must be positive**\n",
      "\n",
      "$$\\phi = \\frac{1}{2}\\boldsymbol{\\sigma}\\cdot\\boldsymbol{\\varepsilon} \\ =\\ \\frac{1}{2}\\boldsymbol{\\sigma}\\cdot \\boldsymbol{\\mathcal{S}} \\cdot\\boldsymbol{\\sigma} \\ =\\  \\frac{1}{2}\\boldsymbol{\\varepsilon}\\cdot \\boldsymbol{\\mathcal{C}} \\cdot\\boldsymbol{\\varepsilon} \\quad > 0$$\n",
      "\n",
      "This can only be assured if the compliance $\\boldsymbol{\\mathcal{S}}$ and elasticity $\\boldsymbol{\\mathcal{C}}$ tensor, respectively, is **positive definite**.\n",
      "\n",
      "> take care of difference stiffness and elasticity! (stiffness: related to stress resultants or forces)"
     ]
    },
    {
     "cell_type": "code",
     "collapsed": false,
     "input": [
      "import numpy as np\n",
      "import sympy as sp\n",
      "from sympy.interactive.printing import init_printing\n",
      "init_printing(use_latex=True)\n",
      "\n",
      "from IPython.display import Math, display, HTML"
     ],
     "language": "python",
     "metadata": {},
     "outputs": [],
     "prompt_number": 1
    },
    {
     "cell_type": "heading",
     "level": 2,
     "metadata": {},
     "source": [
      "Required UC properties"
     ]
    },
    {
     "cell_type": "code",
     "collapsed": false,
     "input": [
      "# thickness\n",
      "h = 2.256\n",
      "# braid angle\n",
      "alpha = 25\n",
      "alpha_rad = alpha*np.pi/180"
     ],
     "language": "python",
     "metadata": {},
     "outputs": [],
     "prompt_number": 2
    },
    {
     "cell_type": "heading",
     "level": 2,
     "metadata": {},
     "source": [
      "Stiffness matrices"
     ]
    },
    {
     "cell_type": "markdown",
     "metadata": {},
     "source": [
      "The shell stiffness matrix is computed using FEM and applying the medtool scripts."
     ]
    },
    {
     "cell_type": "code",
     "collapsed": false,
     "input": [
      "Cm = sp.Matrix([[  1.51534000e+05,   3.48762000e+04,   2.61163000e+04,\n",
      "         -3.52013000e+01,   2.73427000e+00,   1.40345000e+00],\n",
      "       [  3.48758000e+04,   5.52628000e+04,   3.12507000e+04,\n",
      "          2.82895000e-01,  -2.15777000e+01,  -1.07835000e+01],\n",
      "       [  2.61156000e+04,   3.12504000e+04,   3.33559000e+04,\n",
      "          3.34456000e+00,  -9.22812000e+00,  -1.25895000e+01],\n",
      "       [ -3.51202000e+01,   1.88107000e-01,   3.16394000e+00,\n",
      "          6.39117000e+04,   1.36669000e+04,   1.01239000e+04],\n",
      "       [  2.93872000e+00,  -2.14035000e+01,  -9.17075000e+00,\n",
      "          1.36669000e+04,   2.39418000e+04,   1.36930000e+04],\n",
      "       [  1.61091000e+00,  -1.06837000e+01,  -1.25486000e+01,\n",
      "          1.01238000e+04,   1.36930000e+04,   1.45006000e+04]])"
     ],
     "language": "python",
     "metadata": {},
     "outputs": [],
     "prompt_number": 6
    },
    {
     "cell_type": "code",
     "collapsed": false,
     "input": [
      "Cm"
     ],
     "language": "python",
     "metadata": {},
     "outputs": [
      {
       "latex": [
        "$$\\left[\\begin{smallmatrix}{}151534.0 & 34876.2 & 26116.3 & -35.2013 & 2.73427 & 1.40345\\\\34875.8 & 55262.8 & 31250.7 & 0.282895 & -21.5777 & -10.7835\\\\26115.6 & 31250.4 & 33355.9 & 3.34456 & -9.22812 & -12.5895\\\\-35.1202 & 0.188107 & 3.16394 & 63911.7 & 13666.9 & 10123.9\\\\2.93872 & -21.4035 & -9.17075 & 13666.9 & 23941.8 & 13693.0\\\\1.61091 & -10.6837 & -12.5486 & 10123.8 & 13693.0 & 14500.6\\end{smallmatrix}\\right]$$"
       ],
       "metadata": {},
       "output_type": "pyout",
       "png": "[encoded data removed]",
       "prompt_number": 7,
       "text": [
        "\u23a1151534.0  34876.2   26116.3   -35.2013  2.73427   1.40345 \u23a4\n",
        "\u23a2                                                          \u23a5\n",
        "\u23a234875.8   55262.8   31250.7   0.282895  -21.5777  -10.7835\u23a5\n",
        "\u23a2                                                          \u23a5\n",
        "\u23a226115.6   31250.4   33355.9   3.34456   -9.22812  -12.5895\u23a5\n",
        "\u23a2                                                          \u23a5\n",
        "\u23a2-35.1202  0.188107  3.16394   63911.7   13666.9   10123.9 \u23a5\n",
        "\u23a2                                                          \u23a5\n",
        "\u23a22.93872   -21.4035  -9.17075  13666.9   23941.8   13693.0 \u23a5\n",
        "\u23a2                                                          \u23a5\n",
        "\u23a31.61091   -10.6837  -12.5486  10123.8   13693.0   14500.6 \u23a6"
       ]
      }
     ],
     "prompt_number": 7
    },
    {
     "cell_type": "code",
     "collapsed": false,
     "input": [
      "Sm = Cm.inv()\n",
      "Sm.evalf(3)"
     ],
     "language": "python",
     "metadata": {},
     "outputs": [
      {
       "latex": [
        "$$\\left[\\begin{smallmatrix}{}7.88 \\cdot 10^{-6} & -3.16 \\cdot 10^{-6} & -3.21 \\cdot 10^{-6} & 6.56 \\cdot 10^{-9} & -5.95 \\cdot 10^{-9} & -4.87 \\cdot 10^{-9}\\\\-3.16 \\cdot 10^{-6} & 3.97 \\cdot 10^{-5} & -3.48 \\cdot 10^{-5} & -3.76 \\cdot 10^{-9} & 5.13 \\cdot 10^{-8} & -4.62 \\cdot 10^{-8}\\\\-3.21 \\cdot 10^{-6} & -3.48 \\cdot 10^{-5} & 6.51 \\cdot 10^{-5} & -7.66 \\cdot 10^{-9} & -4.84 \\cdot 10^{-8} & 8.2 \\cdot 10^{-8}\\\\6.55 \\cdot 10^{-9} & -3.76 \\cdot 10^{-9} & -7.53 \\cdot 10^{-9} & 1.81 \\cdot 10^{-5} & -6.74 \\cdot 10^{-6} & -6.25 \\cdot 10^{-6}\\\\-5.92 \\cdot 10^{-9} & 5.11 \\cdot 10^{-8} & -4.83 \\cdot 10^{-8} & -6.74 \\cdot 10^{-6} & 9.33 \\cdot 10^{-5} & -8.34 \\cdot 10^{-5}\\\\-4.96 \\cdot 10^{-9} & -4.61 \\cdot 10^{-8} & 8.2 \\cdot 10^{-8} & -6.25 \\cdot 10^{-6} & -8.34 \\cdot 10^{-5} & 0.000152\\end{smallmatrix}\\right]$$"
       ],
       "metadata": {},
       "output_type": "pyout",
       "png": "[encoded data removed]",
       "prompt_number": 8,
       "text": [
        "\u23a17.88e-6   -3.16e-6  -3.21e-6  6.56e-9   -5.95e-9  -4.87e-9\u23a4\n",
        "\u23a2                                                          \u23a5\n",
        "\u23a2-3.16e-6  3.97e-5   -3.48e-5  -3.76e-9  5.13e-8   -4.62e-8\u23a5\n",
        "\u23a2                                                          \u23a5\n",
        "\u23a2-3.21e-6  -3.48e-5  6.51e-5   -7.66e-9  -4.84e-8   8.2e-8 \u23a5\n",
        "\u23a2                                                          \u23a5\n",
        "\u23a26.55e-9   -3.76e-9  -7.53e-9  1.81e-5   -6.74e-6  -6.25e-6\u23a5\n",
        "\u23a2                                                          \u23a5\n",
        "\u23a2-5.92e-9  5.11e-8   -4.83e-8  -6.74e-6  9.33e-5   -8.34e-5\u23a5\n",
        "\u23a2                                                          \u23a5\n",
        "\u23a3-4.96e-9  -4.61e-8   8.2e-8   -6.25e-6  -8.34e-5  0.000152\u23a6"
       ]
      }
     ],
     "prompt_number": 8
    },
    {
     "cell_type": "heading",
     "level": 2,
     "metadata": {},
     "source": [
      "Engineering Constants"
     ]
    },
    {
     "cell_type": "code",
     "collapsed": false,
     "input": [
      "def comp_Econst(Sm,h):\n",
      "    \"\"\"Compute elastic constants based on Compliance matrix\"\"\"\n",
      "    E1 = 1/(h*Sm[0,0])\n",
      "    E2 = 1/(h*Sm[1,1])\n",
      "    G12 = 1/(h*Sm[2,2])\n",
      "    nu12 = -Sm[1,0]/Sm[0,0]\n",
      "    nu21 = -Sm[0,1]/Sm[1,1]\n",
      "    return E1, E2, G12, nu12, nu21"
     ],
     "language": "python",
     "metadata": {},
     "outputs": [],
     "prompt_number": 9
    },
    {
     "cell_type": "code",
     "collapsed": false,
     "input": [
      "E1, E2, G12, nu12, nu21 = comp_Econst(Sm,h)"
     ],
     "language": "python",
     "metadata": {},
     "outputs": [],
     "prompt_number": 10
    },
    {
     "cell_type": "code",
     "collapsed": false,
     "input": [
      "def print_Econst(digit=4):\n",
      "    display(Math('E_1 = '+sp.latex(E1.evalf(digit))))\n",
      "    display(Math('E_2 = '+sp.latex(E2.evalf(digit))))\n",
      "    display(Math('G_{12} = '+sp.latex(G12.evalf(digit))))\n",
      "    display(Math(r'\\nu_{12} = '+sp.latex(nu12.evalf(digit))))\n",
      "    display(Math(r'\\nu_{21} = '+sp.latex(nu21.evalf(digit))))\n",
      "\n",
      "print_Econst()"
     ],
     "language": "python",
     "metadata": {},
     "outputs": [
      {
       "latex": [
        "$$E_1 = 5.626 \\cdot 10^{4}$$"
       ],
       "metadata": {},
       "output_type": "display_data",
       "text": [
        "<IPython.core.display.Math at 0x3495490>"
       ]
      },
      {
       "latex": [
        "$$E_2 = 1.115 \\cdot 10^{4}$$"
       ],
       "metadata": {},
       "output_type": "display_data",
       "text": [
        "<IPython.core.display.Math at 0x34953d0>"
       ]
      },
      {
       "latex": [
        "$$G_{12} = 6812.0$$"
       ],
       "metadata": {},
       "output_type": "display_data",
       "text": [
        "<IPython.core.display.Math at 0x21ec6d0>"
       ]
      },
      {
       "latex": [
        "$$\\nu_{12} = 0.4006$$"
       ],
       "metadata": {},
       "output_type": "display_data",
       "text": [
        "<IPython.core.display.Math at 0x33c06d0>"
       ]
      },
      {
       "latex": [
        "$$\\nu_{21} = 0.0794$$"
       ],
       "metadata": {},
       "output_type": "display_data",
       "text": [
        "<IPython.core.display.Math at 0x21ec6d0>"
       ]
      }
     ],
     "prompt_number": 11
    },
    {
     "cell_type": "heading",
     "level": 2,
     "metadata": {},
     "source": [
      "Engineering Constants in Braiding direction"
     ]
    },
    {
     "cell_type": "code",
     "collapsed": false,
     "input": [
      "# Rotate Tensor around 3\n",
      "def rotTens(M,angle):\n",
      "    \"\"\"based on composites script, however angle is negated to represent\n",
      "    rotation of coordinate system instead of structure.\"\"\"\n",
      "    angle = -1*angle\n",
      "    T=np.array([[np.cos(angle)**2,np.sin(angle)**2,2*np.sin(angle)*np.cos(angle)],\n",
      "                [np.sin(angle)**2, np.cos(angle)**2, -2*np.sin(angle)*np.cos(angle)],\n",
      "                [-np.sin(angle)*np.cos(angle),np.sin(angle)*np.cos(angle), np.cos(angle)**2-np.sin(angle)**2]])\n",
      "    return np.dot(T.transpose(),np.dot(M,T))"
     ],
     "language": "python",
     "metadata": {},
     "outputs": [],
     "prompt_number": 12
    },
    {
     "cell_type": "code",
     "collapsed": false,
     "input": [
      "Sm_rot = rotTens(np.array(Sm)[:3,:3], alpha_rad)"
     ],
     "language": "python",
     "metadata": {},
     "outputs": [],
     "prompt_number": 13
    },
    {
     "cell_type": "code",
     "collapsed": false,
     "input": [
      "E1, E2, G12, nu12, nu21 = comp_Econst(Sm_rot,h)"
     ],
     "language": "python",
     "metadata": {},
     "outputs": [],
     "prompt_number": 14
    },
    {
     "cell_type": "code",
     "collapsed": false,
     "input": [
      "print_Econst()"
     ],
     "language": "python",
     "metadata": {},
     "outputs": [
      {
       "latex": [
        "$$E_1 = 5.261 \\cdot 10^{4}$$"
       ],
       "metadata": {},
       "output_type": "display_data",
       "text": [
        "<IPython.core.display.Math at 0x348aa10>"
       ]
      },
      {
       "latex": [
        "$$E_2 = 7642.0$$"
       ],
       "metadata": {},
       "output_type": "display_data",
       "text": [
        "<IPython.core.display.Math at 0x21ec910>"
       ]
      },
      {
       "latex": [
        "$$G_{12} = 1.614 \\cdot 10^{4}$$"
       ],
       "metadata": {},
       "output_type": "display_data",
       "text": [
        "<IPython.core.display.Math at 0x20e9ad0>"
       ]
      },
      {
       "latex": [
        "$$\\nu_{12} = 1.49$$"
       ],
       "metadata": {},
       "output_type": "display_data",
       "text": [
        "<IPython.core.display.Math at 0x20e9ad0>"
       ]
      },
      {
       "latex": [
        "$$\\nu_{21} = 0.2165$$"
       ],
       "metadata": {},
       "output_type": "display_data",
       "text": [
        "<IPython.core.display.Math at 0x21ec910>"
       ]
      }
     ],
     "prompt_number": 15
    },
    {
     "cell_type": "markdown",
     "metadata": {},
     "source": [
      "Here $\\nu_{12}> 0.5$ "
     ]
    },
    {
     "cell_type": "heading",
     "level": 3,
     "metadata": {},
     "source": [
      "For other directions"
     ]
    },
    {
     "cell_type": "markdown",
     "metadata": {},
     "source": [
      "If the compliance matrix is rotated and the poision number is plotted with respect to the rotation angle\n",
      "the following figures are attained (for a 4 layer Twill 1 braid).\n",
      "\n",
      "<img src=\"/files/images/SimBR30_25_35_45_nu.png\" width=400/>\n",
      "<img src=\"/files/images/SimBR30_25_35_45_nu_detail.png\" width=400/>"
     ]
    },
    {
     "cell_type": "code",
     "collapsed": false,
     "input": [
      "display(HTML('<img src=\"/files/images/SimBR30_25_35_45_nu.png\" width=400/>'))\n",
      "display(HTML('<img src=\"/files/images/SimBR30_25_35_45_nu_detail.png\" width=400/>'))"
     ],
     "language": "python",
     "metadata": {},
     "outputs": [
      {
       "html": [
        "<img src=\"/files/images/SimBR30_25_35_45_nu.png\" width=400/>"
       ],
       "metadata": {},
       "output_type": "display_data",
       "text": [
        "<IPython.core.display.HTML object at 0x5276650>"
       ]
      },
      {
       "html": [
        "<img src=\"/files/images/SimBR30_25_35_45_nu_detail.png\" width=400/>"
       ],
       "metadata": {},
       "output_type": "display_data",
       "text": [
        "<IPython.core.display.HTML object at 0x5276850>"
       ]
      }
     ],
     "prompt_number": 13
    },
    {
     "cell_type": "heading",
     "level": 2,
     "metadata": {},
     "source": [
      "Feasible - Positive Definite?"
     ]
    },
    {
     "cell_type": "heading",
     "level": 4,
     "metadata": {},
     "source": [
      "Multiple Options"
     ]
    },
    {
     "cell_type": "markdown",
     "metadata": {},
     "source": [
      "* Is Cholesky real?"
     ]
    },
    {
     "cell_type": "code",
     "collapsed": false,
     "input": [
      "(0.5*(Sm+Sm.T)).cholesky().evalf(3)"
     ],
     "language": "python",
     "metadata": {},
     "outputs": [
      {
       "latex": [
        "$$\\left[\\begin{smallmatrix}0.00281 & 0 & 0 & 0 & 0 & 0\\\\-0.00112 & 0.0062 & 0 & 0 & 0 & 0\\\\-0.00114 & -0.00581 & 0.00548 & 0 & 0 & 0\\\\2.34 \\times 10^{-6} & -1.82 \\times 10^{-7} & -1.09 \\times 10^{-6} & 0.00425 & 0 & 0\\\\-2.11 \\times 10^{-6} & 7.87 \\times 10^{-6} & -9.2 \\times 10^{-7} & -0.00159 & 0.00953 & 0\\\\-1.75 \\times 10^{-6} & -7.75 \\times 10^{-6} & 6.38 \\times 10^{-6} & -0.00147 & -0.009 & 0.0083\\end{smallmatrix}\\right]$$"
       ],
       "metadata": {},
       "output_type": "pyout",
       "prompt_number": 14,
       "text": [
        "\u23a10.00281      0         0         0         0       0   \u23a4\n",
        "\u23a2                                                       \u23a5\n",
        "\u23a2-0.00112   0.0062      0         0         0       0   \u23a5\n",
        "\u23a2                                                       \u23a5\n",
        "\u23a2-0.00114  -0.00581  0.00548      0         0       0   \u23a5\n",
        "\u23a2                                                       \u23a5\n",
        "\u23a22.34e-6   -1.82e-7  -1.09e-6  0.00425      0       0   \u23a5\n",
        "\u23a2                                                       \u23a5\n",
        "\u23a2-2.11e-6  7.87e-6   -9.2e-7   -0.00159  0.00953    0   \u23a5\n",
        "\u23a2                                                       \u23a5\n",
        "\u23a3-1.75e-6  -7.75e-6  6.38e-6   -0.00147  -0.009   0.0083\u23a6"
       ]
      }
     ],
     "prompt_number": 14
    },
    {
     "cell_type": "markdown",
     "metadata": {},
     "source": [
      "* Are all Eigenvalues positive?"
     ]
    },
    {
     "cell_type": "code",
     "collapsed": false,
     "input": [
      "sp.Matrix(Sm.berkowitz_eigenvals().keys()).evalf(5)"
     ],
     "language": "python",
     "metadata": {},
     "outputs": [
      {
       "latex": [
        "$$\\left[\\begin{smallmatrix}0.00021118\\\\1.6936 \\times 10^{-5} - 1.4972 \\times 10^{-7} \\mathbf{\\imath}\\\\3.8365 \\times 10^{-5} + 1.1364 \\times 10^{-11} \\mathbf{\\imath}\\\\5.8263 \\times 10^{-6} + 1.6301 \\times 10^{-9} \\mathbf{\\imath}\\\\1.4009 \\times 10^{-5} - 1.2937 \\times 10^{-6} \\mathbf{\\imath}\\\\8.9418 \\times 10^{-5} + 1.44 \\times 10^{-14} \\mathbf{\\imath}\\end{smallmatrix}\\right]$$"
       ],
       "metadata": {},
       "output_type": "pyout",
       "prompt_number": 15,
       "text": [
        "\u23a1       0.00021118       \u23a4\n",
        "\u23a2                        \u23a5\n",
        "\u23a21.6936e-5 - 1.4972e-7\u22c5\u2148 \u23a5\n",
        "\u23a2                        \u23a5\n",
        "\u23a23.8365e-5 + 1.1364e-11\u22c5\u2148\u23a5\n",
        "\u23a2                        \u23a5\n",
        "\u23a25.8263e-6 + 1.6301e-9\u22c5\u2148 \u23a5\n",
        "\u23a2                        \u23a5\n",
        "\u23a21.4009e-5 - 1.2937e-6\u22c5\u2148 \u23a5\n",
        "\u23a2                        \u23a5\n",
        "\u23a3 8.9418e-5 + 1.44e-14\u22c5\u2148 \u23a6"
       ]
      }
     ],
     "prompt_number": 15
    },
    {
     "cell_type": "markdown",
     "metadata": {},
     "source": [
      "* Are all upper-left submatrices have positive determinants"
     ]
    },
    {
     "cell_type": "code",
     "collapsed": false,
     "input": [
      "for i in range(1,7):\n",
      "    print(Sm[:i,:i].det().evalf(5))"
     ],
     "language": "python",
     "metadata": {},
     "outputs": [
      {
       "output_type": "stream",
       "stream": "stdout",
       "text": [
        "7.8791e-6\n",
        "3.0322e-10\n",
        "9.0905e-15\n",
        "1.6435e-19\n",
        "1.4925e-23\n",
        "1.0293e-27\n"
       ]
      }
     ],
     "prompt_number": 16
    },
    {
     "cell_type": "heading",
     "level": 3,
     "metadata": {},
     "source": [
      "check for A-matrix only"
     ]
    },
    {
     "cell_type": "code",
     "collapsed": false,
     "input": [
      "Am = Sm[:3,:3]"
     ],
     "language": "python",
     "metadata": {},
     "outputs": [],
     "prompt_number": 17
    },
    {
     "cell_type": "code",
     "collapsed": false,
     "input": [
      "Am.eigenvals(rational=False)"
     ],
     "language": "python",
     "metadata": {},
     "outputs": [
      {
       "metadata": {},
       "output_type": "pyout",
       "prompt_number": 18,
       "text": [
        "{5.82509650492167e-6: 1, 1.7452524281738e-5: 1, 8.94185482002347e-5: 1}"
       ]
      }
     ],
     "prompt_number": 18
    },
    {
     "cell_type": "code",
     "collapsed": false,
     "input": [
      "0.5*(Am+Am.T).cholesky()"
     ],
     "language": "python",
     "metadata": {},
     "outputs": [
      {
       "latex": [
        "$$\\left[\\begin{smallmatrix}0.00198483574037521 & 0 & 0\\\\-0.000795045786290329 & 0.00438658116901325 & 0\\\\-0.000809160824426824 & -0.00410971046878383 & 0.00387167380412119\\end{smallmatrix}\\right]$$"
       ],
       "metadata": {},
       "output_type": "pyout",
       "prompt_number": 19,
       "text": [
        "\u23a1 0.00198483574037521            0                     0         \u23a4\n",
        "\u23a2                                                                \u23a5\n",
        "\u23a2-0.000795045786290329  0.00438658116901325            0         \u23a5\n",
        "\u23a2                                                                \u23a5\n",
        "\u23a3-0.000809160824426824  -0.00410971046878383  0.00387167380412119\u23a6"
       ]
      }
     ],
     "prompt_number": 19
    },
    {
     "cell_type": "code",
     "collapsed": false,
     "input": [
      "for i in range(1,4):\n",
      "    print(Am[:i,:i].det())"
     ],
     "language": "python",
     "metadata": {},
     "outputs": [
      {
       "output_type": "stream",
       "stream": "stdout",
       "text": [
        "7.87914583254162e-6\n",
        "3.03222535051262e-10\n",
        "9.09052551365741e-15\n"
       ]
      }
     ],
     "prompt_number": 20
    },
    {
     "cell_type": "heading",
     "level": 1,
     "metadata": {},
     "source": [
      "Check for isotropic symmetry"
     ]
    },
    {
     "cell_type": "heading",
     "level": 2,
     "metadata": {},
     "source": [
      "3D"
     ]
    },
    {
     "cell_type": "code",
     "collapsed": false,
     "input": [
      "from sympy import S, symbols\n",
      "E,nu = symbols(r'E,\\nu')"
     ],
     "language": "python",
     "metadata": {},
     "outputs": [],
     "prompt_number": 21
    },
    {
     "cell_type": "code",
     "collapsed": false,
     "input": [
      "# Compliance Matrix Si\n",
      "G = E/(2*(1+nu))\n",
      "Si = sp.Matrix([[1/E, -nu/E, -nu/E, 0, 0, 0],\n",
      "               [-nu/E, 1/E, -nu/E,  0, 0, 0],\n",
      "               [-nu/E, -nu/E, 1/E,  0, 0, 0],\n",
      "               [0,  0,  0, 1/G, 0 ,0],\n",
      "               [0,  0,  0, 0, 1/G ,0],\n",
      "               [0,  0,  0, 0, 0, 1/G]])\n",
      "Si"
     ],
     "language": "python",
     "metadata": {},
     "outputs": [
      {
       "latex": [
        "$$\\left[\\begin{smallmatrix}\\frac{1}{E} & - \\frac{\\nu}{E} & - \\frac{\\nu}{E} & 0 & 0 & 0\\\\- \\frac{\\nu}{E} & \\frac{1}{E} & - \\frac{\\nu}{E} & 0 & 0 & 0\\\\- \\frac{\\nu}{E} & - \\frac{\\nu}{E} & \\frac{1}{E} & 0 & 0 & 0\\\\0 & 0 & 0 & \\frac{2 \\nu + 2}{E} & 0 & 0\\\\0 & 0 & 0 & 0 & \\frac{2 \\nu + 2}{E} & 0\\\\0 & 0 & 0 & 0 & 0 & \\frac{2 \\nu + 2}{E}\\end{smallmatrix}\\right]$$"
       ],
       "metadata": {},
       "output_type": "pyout",
       "prompt_number": 22,
       "text": [
        "\u23a1 1    -\\nu  -\\nu                                 \u23a4\n",
        "\u23a2 \u2500    \u2500\u2500\u2500\u2500  \u2500\u2500\u2500\u2500      0          0          0    \u23a5\n",
        "\u23a2 E     E     E                                   \u23a5\n",
        "\u23a2                                                 \u23a5\n",
        "\u23a2-\\nu   1    -\\nu                                 \u23a5\n",
        "\u23a2\u2500\u2500\u2500\u2500   \u2500    \u2500\u2500\u2500\u2500      0          0          0    \u23a5\n",
        "\u23a2 E     E     E                                   \u23a5\n",
        "\u23a2                                                 \u23a5\n",
        "\u23a2-\\nu  -\\nu   1                                   \u23a5\n",
        "\u23a2\u2500\u2500\u2500\u2500  \u2500\u2500\u2500\u2500   \u2500        0          0          0    \u23a5\n",
        "\u23a2 E     E     E                                   \u23a5\n",
        "\u23a2                                                 \u23a5\n",
        "\u23a2                  2\u22c5\\nu + 2                      \u23a5\n",
        "\u23a2 0     0     0    \u2500\u2500\u2500\u2500\u2500\u2500\u2500\u2500\u2500      0          0    \u23a5\n",
        "\u23a2                      E                          \u23a5\n",
        "\u23a2                                                 \u23a5\n",
        "\u23a2                             2\u22c5\\nu + 2           \u23a5\n",
        "\u23a2 0     0     0        0      \u2500\u2500\u2500\u2500\u2500\u2500\u2500\u2500\u2500      0    \u23a5\n",
        "\u23a2                                 E               \u23a5\n",
        "\u23a2                                                 \u23a5\n",
        "\u23a2                                        2\u22c5\\nu + 2\u23a5\n",
        "\u23a2 0     0     0        0          0      \u2500\u2500\u2500\u2500\u2500\u2500\u2500\u2500\u2500\u23a5\n",
        "\u23a3                                            E    \u23a6"
       ]
      }
     ],
     "prompt_number": 22
    },
    {
     "cell_type": "code",
     "collapsed": false,
     "input": [
      "iso_Eigval = Si.eigenvals()\n",
      "display(iso_Eigval.keys())\n",
      "print 'multiple eigenvalues'\n",
      "display([iso_Eigval[i] for i in iso_Eigval.keys()])"
     ],
     "language": "python",
     "metadata": {},
     "outputs": [
      {
       "latex": [
        "$$\\begin{bmatrix}\\frac{2 \\nu + 2}{E}, & - \\frac{2 \\nu -1}{E}, & \\frac{\\nu + 1}{E}\\end{bmatrix}$$"
       ],
       "metadata": {},
       "output_type": "display_data",
       "text": [
        "\u23a12\u22c5\\nu + 2  -(2\u22c5\\nu - 1)  \\nu + 1\u23a4\n",
        "\u23a2\u2500\u2500\u2500\u2500\u2500\u2500\u2500\u2500\u2500, \u2500\u2500\u2500\u2500\u2500\u2500\u2500\u2500\u2500\u2500\u2500\u2500, \u2500\u2500\u2500\u2500\u2500\u2500\u2500\u23a5\n",
        "\u23a3    E           E           E   \u23a6"
       ]
      },
      {
       "output_type": "stream",
       "stream": "stdout",
       "text": [
        "multiple eigenvalues\n"
       ]
      },
      {
       "latex": [
        "$$\\begin{bmatrix}3, & 1, & 2\\end{bmatrix}$$"
       ],
       "metadata": {},
       "output_type": "display_data",
       "text": [
        "[3, 1, 2]"
       ]
      }
     ],
     "prompt_number": 47
    },
    {
     "cell_type": "code",
     "collapsed": false,
     "input": [
      "from sympy import solve as sysolve\n",
      "from IPython.core.display import Latex\n",
      "Latex('Poisson bounds:  '+ r'$ {0} < \\nu < {1}$'.format(\n",
      "sysolve(iso_Eigval[0],nu)[0],sysolve(iso_Eigval[1],nu)[0]))"
     ],
     "language": "python",
     "metadata": {},
     "outputs": [
      {
       "latex": [
        "Poisson bounds:  $ -1 < \\nu < 1/2$"
       ],
       "metadata": {},
       "output_type": "pyout",
       "prompt_number": 24,
       "text": [
        "<IPython.core.display.Latex object at 0x57fdd10>"
       ]
      }
     ],
     "prompt_number": 24
    },
    {
     "cell_type": "code",
     "collapsed": false,
     "input": [
      "# Elasticity Matrix Ci\n",
      "Ci = Si.inv()"
     ],
     "language": "python",
     "metadata": {},
     "outputs": [],
     "prompt_number": 25
    },
    {
     "cell_type": "heading",
     "level": 2,
     "metadata": {},
     "source": [
      "2D - plane stress"
     ]
    },
    {
     "cell_type": "code",
     "collapsed": false,
     "input": [
      "Si2D = Si[:4,:4].delRowCol(2,2)\n",
      "print 'Compliance Matrix (2D plane stress):'\n",
      "display(Si2D)\n",
      "print 'Elasticity Matrix (2D plane strain):'\n",
      "Ci2D = Si2D.inv()\n",
      "Ci2D.simplify()\n",
      "display(Ci2D)"
     ],
     "language": "python",
     "metadata": {},
     "outputs": [
      {
       "output_type": "stream",
       "stream": "stdout",
       "text": [
        "Compliance Matrix (2D plane stress):\n"
       ]
      },
      {
       "latex": [
        "$$\\left[\\begin{smallmatrix}\\frac{1}{E} & - \\frac{\\nu}{E} & 0\\\\- \\frac{\\nu}{E} & \\frac{1}{E} & 0\\\\0 & 0 & \\frac{2 \\nu + 2}{E}\\end{smallmatrix}\\right]$$"
       ],
       "metadata": {},
       "output_type": "display_data",
       "text": [
        "\u23a1 1    -\\nu           \u23a4\n",
        "\u23a2 \u2500    \u2500\u2500\u2500\u2500      0    \u23a5\n",
        "\u23a2 E     E             \u23a5\n",
        "\u23a2                     \u23a5\n",
        "\u23a2-\\nu   1             \u23a5\n",
        "\u23a2\u2500\u2500\u2500\u2500   \u2500        0    \u23a5\n",
        "\u23a2 E     E             \u23a5\n",
        "\u23a2                     \u23a5\n",
        "\u23a2            2\u22c5\\nu + 2\u23a5\n",
        "\u23a2 0     0    \u2500\u2500\u2500\u2500\u2500\u2500\u2500\u2500\u2500\u23a5\n",
        "\u23a3                E    \u23a6"
       ]
      },
      {
       "output_type": "stream",
       "stream": "stdout",
       "text": [
        "Elasticity Matrix (2D plane strain):\n"
       ]
      },
      {
       "latex": [
        "$$\\left[\\begin{smallmatrix}\\frac{E}{- \\nu^{2} + 1} & \\frac{E \\nu}{- \\nu^{2} + 1} & 0\\\\\\frac{E \\nu}{- \\nu^{2} + 1} & \\frac{E}{- \\nu^{2} + 1} & 0\\\\0 & 0 & \\frac{E}{2 \\nu + 2}\\end{smallmatrix}\\right]$$"
       ],
       "metadata": {},
       "output_type": "display_data",
       "text": [
        "\u23a1    E         E\u22c5\\nu                \u23a4\n",
        "\u23a2\u2500\u2500\u2500\u2500\u2500\u2500\u2500\u2500\u2500\u2500  \u2500\u2500\u2500\u2500\u2500\u2500\u2500\u2500\u2500\u2500       0     \u23a5\n",
        "\u23a2     2           2                 \u23a5\n",
        "\u23a2- \\nu  + 1  - \\nu  + 1             \u23a5\n",
        "\u23a2                                   \u23a5\n",
        "\u23a2  E\u22c5\\nu         E                  \u23a5\n",
        "\u23a2\u2500\u2500\u2500\u2500\u2500\u2500\u2500\u2500\u2500\u2500  \u2500\u2500\u2500\u2500\u2500\u2500\u2500\u2500\u2500\u2500       0     \u23a5\n",
        "\u23a2     2           2                 \u23a5\n",
        "\u23a2- \\nu  + 1  - \\nu  + 1             \u23a5\n",
        "\u23a2                                   \u23a5\n",
        "\u23a2                             E     \u23a5\n",
        "\u23a2    0           0       \u2500\u2500\u2500\u2500\u2500\u2500\u2500\u2500\u2500\u2500\u2500\u23a5\n",
        "\u23a3                        2\u22c5(\\nu + 1)\u23a6"
       ]
      }
     ],
     "prompt_number": 43
    },
    {
     "cell_type": "code",
     "collapsed": false,
     "input": [
      "pStress_Eigval = Si2D.eigenvals().keys()\n",
      "pStress_Eigval"
     ],
     "language": "python",
     "metadata": {},
     "outputs": [
      {
       "latex": [
        "$$\\begin{bmatrix}\\frac{2 \\nu + 2}{E}, & \\frac{\\nu + 1}{E}, & - \\frac{\\nu -1}{E}\\end{bmatrix}$$"
       ],
       "metadata": {},
       "output_type": "pyout",
       "prompt_number": 27,
       "text": [
        "\u23a12\u22c5\\nu + 2  \\nu + 1  -(\\nu - 1)\u23a4\n",
        "\u23a2\u2500\u2500\u2500\u2500\u2500\u2500\u2500\u2500\u2500, \u2500\u2500\u2500\u2500\u2500\u2500\u2500, \u2500\u2500\u2500\u2500\u2500\u2500\u2500\u2500\u2500\u2500\u23a5\n",
        "\u23a3    E         E         E     \u23a6"
       ]
      }
     ],
     "prompt_number": 27
    },
    {
     "cell_type": "code",
     "collapsed": false,
     "input": [
      "Latex('Poisson bounds:  '+ r'$ {0} < \\nu < {1}$'.format(\n",
      "sysolve(pStress_Eigval[0],nu)[0],sysolve(pStress_Eigval[2],nu)[0]))"
     ],
     "language": "python",
     "metadata": {},
     "outputs": [
      {
       "latex": [
        "Poisson bounds:  $ -1 < \\nu < 1$"
       ],
       "metadata": {},
       "output_type": "pyout",
       "prompt_number": 28,
       "text": [
        "<IPython.core.display.Latex object at 0x59e9ad0>"
       ]
      }
     ],
     "prompt_number": 28
    },
    {
     "cell_type": "code",
     "collapsed": false,
     "input": [
      "Si2D.cholesky()"
     ],
     "language": "python",
     "metadata": {},
     "outputs": [
      {
       "latex": [
        "$$\\left[\\begin{smallmatrix}\\sqrt{\\frac{1}{E}} & 0 & 0\\\\- \\frac{\\nu}{E \\sqrt{\\frac{1}{E}}} & \\sqrt{- \\frac{\\nu^{2}}{E} + \\frac{1}{E}} & 0\\\\0 & 0 & \\sqrt{\\frac{2 \\nu + 2}{E}}\\end{smallmatrix}\\right]$$"
       ],
       "metadata": {},
       "output_type": "pyout",
       "prompt_number": 29,
       "text": [
        "\u23a1     ___                                     \u23a4\n",
        "\u23a2    \u2571 1                                      \u23a5\n",
        "\u23a2   \u2571  \u2500            0                 0       \u23a5\n",
        "\u23a2 \u2572\u2571   E                                      \u23a5\n",
        "\u23a2                                             \u23a5\n",
        "\u23a2                ____________                 \u23a5\n",
        "\u23a2               \u2571      2                      \u23a5\n",
        "\u23a2   -\\nu       \u2571    \\nu    1                  \u23a5\n",
        "\u23a2\u2500\u2500\u2500\u2500\u2500\u2500\u2500\u2500\u2500    \u2571   - \u2500\u2500\u2500\u2500 + \u2500          0       \u23a5\n",
        "\u23a2      ___  \u2572\u2571       E     E                  \u23a5\n",
        "\u23a2     \u2571 1                                     \u23a5\n",
        "\u23a2E\u22c5  \u2571  \u2500                                     \u23a5\n",
        "\u23a2  \u2572\u2571   E                                     \u23a5\n",
        "\u23a2                                             \u23a5\n",
        "\u23a2                                  ___________\u23a5\n",
        "\u23a2                                 \u2571 2\u22c5\\nu + 2 \u23a5\n",
        "\u23a2    0              0            \u2571  \u2500\u2500\u2500\u2500\u2500\u2500\u2500\u2500\u2500 \u23a5\n",
        "\u23a3                              \u2572\u2571       E     \u23a6"
       ]
      }
     ],
     "prompt_number": 29
    },
    {
     "cell_type": "heading",
     "level": 3,
     "metadata": {},
     "source": [
      "2D - plane strain"
     ]
    },
    {
     "cell_type": "code",
     "collapsed": false,
     "input": [
      "Ci2Deps = Ci[:4,:4].delRowCol(2,2)\n",
      "Si2Deps = Ci2Deps.inv()\n",
      "Si2Deps.simplify()\n",
      "print 'Compliance Matrix (2D plane strain):'\n",
      "display(Si2Deps)\n",
      "#Si2Deps = 0.5*(Si2Deps+Si2Deps.T)\n",
      "#Si2Deps\n",
      "Ci2Deps.simplify()\n",
      "print 'Elasticity Matrix (2D plane strain):'\n",
      "display(Ci2Deps)"
     ],
     "language": "python",
     "metadata": {},
     "outputs": [
      {
       "output_type": "stream",
       "stream": "stdout",
       "text": [
        "Compliance Matrix (2D plane strain):\n"
       ]
      },
      {
       "latex": [
        "$$\\left[\\begin{smallmatrix}\\frac{- \\nu^{2} + 1}{E} & \\frac{\\nu \\left(- \\nu -1\\right)}{E} & 0\\\\\\frac{\\nu \\left(- \\nu -1\\right)}{E} & \\frac{- \\nu^{2} + 1}{E} & 0\\\\0 & 0 & 2 \\frac{\\nu + 1}{E}\\end{smallmatrix}\\right]$$"
       ],
       "metadata": {},
       "output_type": "display_data",
       "text": [
        "\u23a1       2                                   \u23a4\n",
        "\u23a2  - \\nu  + 1    \\nu\u22c5(-\\nu - 1)             \u23a5\n",
        "\u23a2  \u2500\u2500\u2500\u2500\u2500\u2500\u2500\u2500\u2500\u2500    \u2500\u2500\u2500\u2500\u2500\u2500\u2500\u2500\u2500\u2500\u2500\u2500\u2500\u2500       0     \u23a5\n",
        "\u23a2      E               E                    \u23a5\n",
        "\u23a2                                           \u23a5\n",
        "\u23a2                       2                   \u23a5\n",
        "\u23a2\\nu\u22c5(-\\nu - 1)    - \\nu  + 1               \u23a5\n",
        "\u23a2\u2500\u2500\u2500\u2500\u2500\u2500\u2500\u2500\u2500\u2500\u2500\u2500\u2500\u2500    \u2500\u2500\u2500\u2500\u2500\u2500\u2500\u2500\u2500\u2500         0     \u23a5\n",
        "\u23a2      E               E                    \u23a5\n",
        "\u23a2                                           \u23a5\n",
        "\u23a2                                2\u22c5(\\nu + 1)\u23a5\n",
        "\u23a2      0               0         \u2500\u2500\u2500\u2500\u2500\u2500\u2500\u2500\u2500\u2500\u2500\u23a5\n",
        "\u23a3                                     E     \u23a6"
       ]
      },
      {
       "output_type": "stream",
       "stream": "stdout",
       "text": [
        "Elasticity Matrix (2D plane strain):\n"
       ]
      },
      {
       "latex": [
        "$$\\left[\\begin{smallmatrix}\\frac{E \\left(\\nu -1\\right)}{2 \\nu^{2} + \\nu -1} & \\frac{E \\nu}{- 2 \\nu^{2} - \\nu + 1} & 0\\\\\\frac{E \\nu}{- 2 \\nu^{2} - \\nu + 1} & \\frac{E \\left(\\nu -1\\right)}{2 \\nu^{2} + \\nu -1} & 0\\\\0 & 0 & \\frac{E}{2 \\nu + 2}\\end{smallmatrix}\\right]$$"
       ],
       "metadata": {},
       "output_type": "display_data",
       "text": [
        "\u23a1   E\u22c5(\\nu - 1)            E\u22c5\\nu                    \u23a4\n",
        "\u23a2 \u2500\u2500\u2500\u2500\u2500\u2500\u2500\u2500\u2500\u2500\u2500\u2500\u2500\u2500\u2500\u2500   \u2500\u2500\u2500\u2500\u2500\u2500\u2500\u2500\u2500\u2500\u2500\u2500\u2500\u2500\u2500\u2500\u2500\u2500       0     \u23a5\n",
        "\u23a2      2                    2                       \u23a5\n",
        "\u23a2 2\u22c5\\nu  + \\nu - 1   - 2\u22c5\\nu  - \\nu + 1             \u23a5\n",
        "\u23a2                                                   \u23a5\n",
        "\u23a2      E\u22c5\\nu            E\u22c5(\\nu - 1)                 \u23a5\n",
        "\u23a2\u2500\u2500\u2500\u2500\u2500\u2500\u2500\u2500\u2500\u2500\u2500\u2500\u2500\u2500\u2500\u2500\u2500\u2500   \u2500\u2500\u2500\u2500\u2500\u2500\u2500\u2500\u2500\u2500\u2500\u2500\u2500\u2500\u2500\u2500        0     \u23a5\n",
        "\u23a2       2                  2                        \u23a5\n",
        "\u23a2- 2\u22c5\\nu  - \\nu + 1   2\u22c5\\nu  + \\nu - 1              \u23a5\n",
        "\u23a2                                                   \u23a5\n",
        "\u23a2                                             E     \u23a5\n",
        "\u23a2        0                   0           \u2500\u2500\u2500\u2500\u2500\u2500\u2500\u2500\u2500\u2500\u2500\u23a5\n",
        "\u23a3                                        2\u22c5(\\nu + 1)\u23a6"
       ]
      }
     ],
     "prompt_number": 41
    },
    {
     "cell_type": "code",
     "collapsed": false,
     "input": [
      "pStrain_Eigval = Si2Deps.eigenvals().keys()\n",
      "pStrain_Eigval"
     ],
     "language": "python",
     "metadata": {},
     "outputs": [
      {
       "latex": [
        "$$\\begin{bmatrix}- \\frac{2 \\nu^{2} + \\nu -1}{E}, & \\frac{2 \\nu + 2}{E}, & \\frac{\\nu + 1}{E}\\end{bmatrix}$$"
       ],
       "metadata": {},
       "output_type": "pyout",
       "prompt_number": 37,
       "text": [
        "\u23a1 \u239b     2          \u239e                    \u23a4\n",
        "\u23a2-\u239d2\u22c5\\nu  + \\nu - 1\u23a0  2\u22c5\\nu + 2  \\nu + 1\u23a5\n",
        "\u23a2\u2500\u2500\u2500\u2500\u2500\u2500\u2500\u2500\u2500\u2500\u2500\u2500\u2500\u2500\u2500\u2500\u2500\u2500\u2500, \u2500\u2500\u2500\u2500\u2500\u2500\u2500\u2500\u2500, \u2500\u2500\u2500\u2500\u2500\u2500\u2500\u23a5\n",
        "\u23a3         E               E         E   \u23a6"
       ]
      }
     ],
     "prompt_number": 37
    },
    {
     "cell_type": "code",
     "collapsed": false,
     "input": [
      "Latex('Poisson bounds:  '+ r'$ {0} < \\nu < {1}$'.format(\n",
      "sysolve(pStrain_Eigval[0],nu)[0],sysolve(pStrain_Eigval[0],nu)[1]))"
     ],
     "language": "python",
     "metadata": {},
     "outputs": [
      {
       "latex": [
        "Poisson bounds:  $ -1 < \\nu < 1/2$"
       ],
       "metadata": {},
       "output_type": "pyout",
       "prompt_number": 48,
       "text": [
        "<IPython.core.display.Latex object at 0x5bb9f50>"
       ]
      }
     ],
     "prompt_number": 48
    },
    {
     "cell_type": "heading",
     "level": 1,
     "metadata": {},
     "source": [
      "Numerical values"
     ]
    },
    {
     "cell_type": "heading",
     "level": 2,
     "metadata": {},
     "source": [
      "3D isotropic"
     ]
    },
    {
     "cell_type": "code",
     "collapsed": false,
     "input": [
      "Si = Si.subs({E:10000, nu:0.6})\n",
      "Ci = Si.inv()\n",
      "Ci = 0.5*(Ci+Ci.T)\n",
      "Ci"
     ],
     "language": "python",
     "metadata": {},
     "outputs": []
    },
    {
     "cell_type": "code",
     "collapsed": false,
     "input": [
      "Si.cholesky().evalf(3)"
     ],
     "language": "python",
     "metadata": {},
     "outputs": []
    },
    {
     "cell_type": "code",
     "collapsed": false,
     "input": [
      "Si.eigenvals().keys()"
     ],
     "language": "python",
     "metadata": {},
     "outputs": []
    },
    {
     "cell_type": "heading",
     "level": 2,
     "metadata": {},
     "source": [
      "2D plane stress"
     ]
    },
    {
     "cell_type": "code",
     "collapsed": false,
     "input": [
      "Si2Dstr = Si[:4,:4].delRowCol(2,2)\n",
      "Si2Dstr.cholesky().evalf(3)"
     ],
     "language": "python",
     "metadata": {},
     "outputs": []
    },
    {
     "cell_type": "code",
     "collapsed": false,
     "input": [
      "Si2Dstr.eigenvals().keys()"
     ],
     "language": "python",
     "metadata": {},
     "outputs": []
    },
    {
     "cell_type": "heading",
     "level": 2,
     "metadata": {},
     "source": [
      "2D plane strain"
     ]
    },
    {
     "cell_type": "code",
     "collapsed": false,
     "input": [
      "Ci2Deps = Ci[:4,:4].delRowCol(2,2)\n",
      "Si2Deps = Ci2Deps.inv()\n",
      "Si2Deps = 0.5*(Si2Deps+Si2Deps.T)\n",
      "Si2Deps.cholesky().evalf(3)"
     ],
     "language": "python",
     "metadata": {},
     "outputs": []
    },
    {
     "cell_type": "code",
     "collapsed": false,
     "input": [
      "Si2Deps.eigenvals().keys()"
     ],
     "language": "python",
     "metadata": {},
     "outputs": []
    },
    {
     "cell_type": "heading",
     "level": 1,
     "metadata": {},
     "source": [
      "Literature review"
     ]
    },
    {
     "cell_type": "heading",
     "level": 2,
     "metadata": {},
     "source": [
      "Introduction"
     ]
    },
    {
     "cell_type": "markdown",
     "metadata": {},
     "source": [
      "taken from: [*Xinchun2007*]\n",
      "\n",
      "> Poisson\u2019s ratio $\\nu$, is defined as the negative \n",
      "lateral strain of a stretched or compressed body divided by its longitudinal strain; it is dimensionless. \n",
      "Most materials stretched with longitudinal force elongate longitudinally but also contract laterally, hence \n",
      "have a positive Poisson\u2019s ratio. For most solids Poisson\u2019s ratio ranges between 0.25 and 0.33; the range \n",
      "for stability of isotropic solids is from \u20131 to 0.5;  within that range all moduli are positive. Recently \n",
      "Lakes and co-workers have conceptualized, fabricated and studied negative Poisson\u2019s ratio foams [6, 7] \n",
      "with $\\nu$ as small as \u20130.8. These materials become fatter in cross section when they are stretched and they \n",
      "are stable. Wojciechowski [8\u201310] analyzed several micro-structures predicted to exhibit negative Poisson\u2019s ratio. *Milton* [11] showed that negative Poisson\u2019s ratio can be achieved in hierarchical laminates, \n",
      "and that one can approach the isotropic lower limit \u20131 by proper choice of constituent moduli.  \n",
      ">...  \n",
      "> It is not necessary that the material exhibit a positive definite strain energy to be stable. The elastic object under partial **constraint** may have \n",
      "a negative bulk modulus K and yet be stable.\n",
      "\n",
      "----\n",
      "\n",
      "Simple examples of **auxetic** materials can be found in *Xu1999*\n",
      "\n",
      "----\n",
      "\n",
      "[*Lim2007*]\n",
      "\n",
      ">>  simple example of a 3-ply laminate \n",
      "consisting of isotropic plies whereby the sign of its effective Poisson\u2019s ratio changes when the loading \n",
      "mode changes between pure axial loading and pure bending. \n",
      ">> ... For combined loading, such as stretch-bending, the PNP laminate\n",
      "exhibits lateral expansion (due to negative Poisson\u2019s ratio) and anti-clastic shape (due to positive Poisson\u2019s\n",
      "ratio) whilst the NPN laminate gives lateral shrinkage (due to positive Poisson\u2019s ratio) and synclastic\n",
      "shape (due to negative Poisson\u2019s ratio).\n",
      "\n",
      "Face layers and core layers (both isotropic!) exhibit same elastic modulus, but opposite sign possion ratios. (artificial materials??)\n",
      "\n",
      "----\n",
      "\n",
      "[*Harkati2007*]\n",
      "\n",
      ">> It is possible to design laminates that are auxetic  in the *through-thickness direction* $(\\nu_{13}, \\nu_{23})$ \n",
      "if an anisotropic \n",
      "prepreg material is used. Thus, glass/epoxy laminates are always positive, but both Kevlar and carbon \n",
      "can be used to produce auxetic laminates. The anisotropy is key.\n",
      "\n",
      "----\n",
      "\n",
      "[*Peel2007*]\n",
      "\n",
      ">> Although the maximum Poisson's ratio for isotropic elastomers is 0.5, it is easily shown that inplane Poisson's ratios twice unity can be obtained with a graphite/epoxy angle-ply laminate at 25\u00b0.\n",
      "\n",
      "Computes poisson ratio using CLT and similar approaches, shows very high positve and negative valued poisson ratios.\n",
      "Cites Experiments with poisson ratio of up to 14."
     ]
    },
    {
     "cell_type": "heading",
     "level": 2,
     "metadata": {},
     "source": [
      "Bounds of anisotropic materials"
     ]
    },
    {
     "cell_type": "markdown",
     "metadata": {},
     "source": [
      "*Ting* [Ting2005] showes that Poisson'ratio can have **no** bounds for anisotropic materials. The respective compliance matrices remain\n",
      "**positive definite**."
     ]
    },
    {
     "cell_type": "heading",
     "level": 3,
     "metadata": {},
     "source": [
      "To test if positive definite:"
     ]
    },
    {
     "cell_type": "markdown",
     "metadata": {},
     "source": [
      "* positive eigenvalues\n",
      "* all upper-left submatrices have positive determinants\n",
      "* Cholesky decomposition of the matrix is possible (and resulting matrix remains real)"
     ]
    },
    {
     "cell_type": "code",
     "collapsed": false,
     "input": [
      "from IPython.core.display import Image"
     ],
     "language": "python",
     "metadata": {},
     "outputs": []
    },
    {
     "cell_type": "markdown",
     "metadata": {},
     "source": [
      "As stated by *Lim2007* the negative Poisson ratios lead to synclastic bending, positive Poisson ratios result in anticlastic bending\n",
      "\n",
      "<table>\n",
      "    <tr><td><center>Anticlastic bending</center></td><td><center>Synclastic bending</center></td></tr>\n",
      "    <tr><td><center>$\\nu_{\\xi\\eta}>0$</center></td><td><center>$\\nu_{\\xi\\eta}< 0$</center></td></tr>\n",
      "    <tr><td><img src='/files/images/anticlastic_2.png' width=400px></td>\n",
      "        <td><img src='/files/images/synclastic_2.png' width=400px></td>\n",
      "    </tr>\n",
      "</table>"
     ]
    },
    {
     "cell_type": "heading",
     "level": 2,
     "metadata": {},
     "source": [
      "XKCD style \n",
      "plot of the poisson ratio of the 4 Layer out-of-phase (left) and single layer (right) +-25deg braid"
     ]
    },
    {
     "cell_type": "markdown",
     "metadata": {},
     "source": [
      "<img src='/files/images/SimBR30_2545_nu_xkcd.png' width=400px>\n",
      "<img src='/files/images/SimBR28_2545_nu_xkcd.png' width=400px>"
     ]
    },
    {
     "cell_type": "heading",
     "level": 2,
     "metadata": {},
     "source": [
      "Sketch of the 25deg braid (Twill1)"
     ]
    },
    {
     "cell_type": "markdown",
     "metadata": {},
     "source": [
      "<img src=\"/files/images/Twill1_25.png\" width=400>"
     ]
    },
    {
     "cell_type": "heading",
     "level": 2,
     "metadata": {},
     "source": [
      "From Abaqus Manual (22.2.1)"
     ]
    },
    {
     "cell_type": "heading",
     "level": 4,
     "metadata": {},
     "source": [
      "Stability of a linear elastic material"
     ]
    },
    {
     "cell_type": "markdown",
     "metadata": {},
     "source": [
      "Linear elastic materials must satisfy the conditions of material or Drucker stability (see the discussion on material stability in \u201cHyperelastic behavior of rubberlike materials,\u201d Section 22.5.1). Stability requires that the tensor $\\boldsymbol{\\mathcal{C}}$ be positive definite, which leads to certain restrictions on the values of the elastic constants. The stress-strain relations for several different classes of material symmetries are given below. The appropriate restrictions on the elastic constants stemming from the stability criterion are also given.\n",
      "\n",
      "Defining orthotropic elasticity in plane stress\n",
      "$$E_1,E_2,G_{12},G_{13},G_{23} > 0$$\n",
      "$$|\\nu_{12}| < \\sqrt{E_1/E_2}$$\n",
      "\n",
      "Following Ting2005 it should be enought to ensure\n",
      "$\\Delta_2 > 0$,choose an arbitrary $\\nu_{12}$, with\n",
      "$$s_{22} = \\nu_{12}^2 s_{11} + \\Delta_2/s_{11},$$\n",
      "$$s_{12} = -\\nu_{12} s_{11}, $$\n",
      "$$s_{11} > 0$$"
     ]
    },
    {
     "cell_type": "code",
     "collapsed": false,
     "input": [
      "# chosen values\n",
      "de2 = 0.5\n",
      "nu12 = -18\n",
      "s11 = 150000\n",
      "# shear modulus\n",
      "s33 = 1./6000"
     ],
     "language": "python",
     "metadata": {},
     "outputs": [],
     "prompt_number": 16
    },
    {
     "cell_type": "code",
     "collapsed": false,
     "input": [
      "s22 = nu12**2*s11 + de2/s11\n",
      "s12 = -nu12*s11"
     ],
     "language": "python",
     "metadata": {},
     "outputs": [],
     "prompt_number": 17
    },
    {
     "cell_type": "code",
     "collapsed": false,
     "input": [
      "Sm = sp.Matrix([[s11,s12,0],\n",
      "                [s12,s22,0],\n",
      "                [0, 0, s33]])\n",
      "Sm"
     ],
     "language": "python",
     "metadata": {},
     "outputs": [
      {
       "latex": [
        "$$\\left[\\begin{smallmatrix}{}150000 & 2700000 & 0\\\\2700000 & 48600000.0000033 & 0\\\\0 & 0 & 0.000166666666666667\\end{smallmatrix}\\right]$$"
       ],
       "metadata": {},
       "output_type": "pyout",
       "png": "[encoded data removed]",
       "prompt_number": 18,
       "text": [
        "\u23a1150000       2700000                0          \u23a4\n",
        "\u23a2                                               \u23a5\n",
        "\u23a22700000  48600000.0000033           0          \u23a5\n",
        "\u23a2                                               \u23a5\n",
        "\u23a3   0            0          0.000166666666666667\u23a6"
       ]
      }
     ],
     "prompt_number": 18
    },
    {
     "cell_type": "code",
     "collapsed": false,
     "input": [
      "eigs = Sm.eigenvals().keys()\n",
      "[i.evalf(3) for i in eigs]"
     ],
     "language": "python",
     "metadata": {},
     "outputs": [
      {
       "latex": [
        "$$\\begin{bmatrix}0.000167, & 4.88 \\cdot 10^{7}, & 1.02 \\cdot 10^{-8}\\end{bmatrix}$$"
       ],
       "metadata": {},
       "output_type": "pyout",
       "png": "[encoded data removed]",
       "prompt_number": 19,
       "text": [
        "[0.000167, 4.88e+7, 1.02e-8]"
       ]
      }
     ],
     "prompt_number": 19
    },
    {
     "cell_type": "code",
     "collapsed": false,
     "input": [
      "E1, E2, G12, nu12, nu21 = comp_Econst(Sm,h)\n",
      "print_Econst()"
     ],
     "language": "python",
     "metadata": {},
     "outputs": [
      {
       "latex": [
        "$$E_1 = 2.955 \\cdot 10^{-6}$$"
       ],
       "metadata": {},
       "output_type": "display_data",
       "text": [
        "<IPython.core.display.Math at 0x348ac50>"
       ]
      },
      {
       "latex": [
        "$$E_2 = 9.121 \\cdot 10^{-9}$$"
       ],
       "metadata": {},
       "output_type": "display_data",
       "text": [
        "<IPython.core.display.Math at 0x348ac50>"
       ]
      },
      {
       "latex": [
        "$$G_{12} = 2660.0$$"
       ],
       "metadata": {},
       "output_type": "display_data",
       "text": [
        "<IPython.core.display.Math at 0x21ec890>"
       ]
      },
      {
       "latex": [
        "$$\\nu_{12} = -18.0$$"
       ],
       "metadata": {},
       "output_type": "display_data",
       "text": [
        "<IPython.core.display.Math at 0x348a0d0>"
       ]
      },
      {
       "latex": [
        "$$\\nu_{21} = -0.05556$$"
       ],
       "metadata": {},
       "output_type": "display_data",
       "text": [
        "<IPython.core.display.Math at 0x348a0d0>"
       ]
      }
     ],
     "prompt_number": 20
    },
    {
     "cell_type": "code",
     "collapsed": false,
     "input": [
      "(E1/E2)**0.5"
     ],
     "language": "python",
     "metadata": {},
     "outputs": [
      {
       "latex": [
        "$$18.0000000000006$$"
       ],
       "metadata": {},
       "output_type": "pyout",
       "png": "[encoded data removed]",
       "prompt_number": 21,
       "text": [
        "18.0000000000006"
       ]
      }
     ],
     "prompt_number": 21
    },
    {
     "cell_type": "code",
     "collapsed": false,
     "input": [
      "abs(nu12) < (E1/E2)**0.5"
     ],
     "language": "python",
     "metadata": {},
     "outputs": [
      {
       "metadata": {},
       "output_type": "pyout",
       "prompt_number": 22,
       "text": [
        "True"
       ]
      }
     ],
     "prompt_number": 22
    },
    {
     "cell_type": "code",
     "collapsed": false,
     "input": [],
     "language": "python",
     "metadata": {},
     "outputs": []
    }
   ],
   "metadata": {}
  }
 ]
}