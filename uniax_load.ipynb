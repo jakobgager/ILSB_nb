{
 "metadata": {
  "name": "uniax_load"
 },
 "nbformat": 3,
 "nbformat_minor": 0,
 "worksheets": [
  {
   "cells": [
    {
     "cell_type": "code",
     "collapsed": false,
     "input": [
      "import numpy as np\n",
      "%pylab gtk\n",
      "#%reload_ext sympy.interactive.ipythonprinting"
     ],
     "language": "python",
     "metadata": {},
     "outputs": [
      {
       "output_type": "stream",
       "stream": "stdout",
       "text": [
        "\n",
        "Welcome to pylab, a matplotlib-based Python environment [backend: GTKAgg].\n",
        "For more information, type 'help(pylab)'.\n"
       ]
      }
     ],
     "prompt_number": 1
    },
    {
     "cell_type": "markdown",
     "metadata": {},
     "source": [
      "## Utility methods"
     ]
    },
    {
     "cell_type": "code",
     "collapsed": false,
     "input": [
      "import matplotlib.pyplot as plt\n",
      "def plot_stress(sig_c_xy, sig_max, alpha):\n",
      "    alpha = np.deg2rad(alpha)\n",
      "    fig = plt.figure(1,(6,6))\n",
      "    ax = fig.add_subplot(111,frameon=False, xticks=[], yticks=[])\n",
      "    # plot UC\n",
      "    for l1,l2 in zip([[0,1],[1,1],[1,0],[0,0]],[[0,0],[0,1],[1,1],[1,0]]):\n",
      "        ax.plot(l1,l2,'k')\n",
      "    # plot uniaxial direction\n",
      "    ax.annotate('',[1.2*np.cos(alpha)+0.5,1.2*np.sin(alpha)+0.5],[0.5,0.5], arrowprops=dict(arrowstyle='simple',mutation_scale=30, fc='0.8'))\n",
      "    # plot global stresses (normalized)\n",
      "    arrowprops=dict(arrowstyle='->', mutation_scale=20, fc='gray', shrinkA=0, shrinkB=0)\n",
      "    dist = 0.2\n",
      "    dist2= 0.1\n",
      "    for i in range(2):\n",
      "        for j in range(2):\n",
      "            length = sig_c_xy[i,j]/sig_max\n",
      "            if j==0:\n",
      "                if i==0:\n",
      "                    ax.annotate('',[1+dist+length, 0.5],[1.+dist,0.5],arrowprops=arrowprops)\n",
      "                    ax.annotate('',[-dist-length, 0.5],[-dist,0.5],arrowprops=arrowprops)\n",
      "                else:\n",
      "                    ax.annotate('',[0.5+length/2, 1+dist2],[0.5-length/2,1+dist2],arrowprops=arrowprops)\n",
      "                    ax.annotate('',[0.5-length/2, -dist2],[0.5+length/2,-dist2],arrowprops=arrowprops)\n",
      "            else:\n",
      "                if i==0:\n",
      "                    ax.annotate('',[1.+dist2,0.5+length/2],[1.+dist2,0.5-length/2],arrowprops=arrowprops)\n",
      "                    ax.annotate('',[-dist2,0.5-length/2],[-dist2,0.5+length/2],arrowprops=arrowprops)\n",
      "                else:\n",
      "                    ax.annotate('',[0.5,1.+dist+length],[0.5,1.+dist],arrowprops=arrowprops)\n",
      "                    ax.annotate('',[0.5,-dist-length],[0.5,-dist],arrowprops=arrowprops)\n",
      "\n",
      "    ax.set_xlim(-1.5,2.5)\n",
      "    ax.set_aspect('equal','datalim')\n",
      "    ax.set_xticks([])\n",
      "    ax.set_yticks([])\n",
      "    #plt.show()\n",
      "    return fig"
     ],
     "language": "python",
     "metadata": {},
     "outputs": [],
     "prompt_number": 2
    },
    {
     "cell_type": "code",
     "collapsed": false,
     "input": [
      "def comp_sig(alpha, sig_max):\n",
      "    \"\"\"Computes global Cauchy stress tensor based on uniaxial\n",
      "    stress state with sig_max at angle alpha (in degrees).\"\"\"\n",
      "    alpha = np.deg2rad(alpha)\n",
      "    # define local Cauchy stress tensor\n",
      "    sig_c_12 = np.array([[sig_max, 0],\n",
      "                         [0,       0]])\n",
      "    # rotation tensor\n",
      "    rot_mat = np.array([[np.cos(alpha),np.sin(alpha)],\n",
      "                        [-np.sin(alpha),np.cos(alpha)]])\n",
      "    # transform to global coordinates (back rotate of base  r^T S r)\n",
      "    sig_c_xy = np.dot(np.dot(rot_mat.T,sig_c_12),rot_mat)\n",
      "    return sig_c_xy"
     ],
     "language": "python",
     "metadata": {},
     "outputs": [],
     "prompt_number": 3
    },
    {
     "cell_type": "markdown",
     "metadata": {},
     "source": [
      "## Uniaxial stress state with angle $\\alpha\\ $ and amplitude  $\\sigma_{\\mathrm{max}}$"
     ]
    },
    {
     "cell_type": "code",
     "collapsed": false,
     "input": [
      "alpha = np.deg2rad(30)\n",
      "sig_max = 45"
     ],
     "language": "python",
     "metadata": {},
     "outputs": [],
     "prompt_number": 4
    },
    {
     "cell_type": "markdown",
     "metadata": {},
     "source": [
      "Local uniaxial stress state"
     ]
    },
    {
     "cell_type": "code",
     "collapsed": false,
     "input": [
      "sig_c_12 = np.array([[sig_max, 0],\n",
      "                     [0,       0]])"
     ],
     "language": "python",
     "metadata": {},
     "outputs": [],
     "prompt_number": 5
    },
    {
     "cell_type": "markdown",
     "metadata": {},
     "source": [
      "Define transformation matrix (rotation of base vectors)"
     ]
    },
    {
     "cell_type": "code",
     "collapsed": false,
     "input": [
      "rot_mat = np.array([[np.cos(alpha),np.sin(alpha)],\n",
      "                    [-np.sin(alpha),np.cos(alpha)]])"
     ],
     "language": "python",
     "metadata": {},
     "outputs": [],
     "prompt_number": 6
    },
    {
     "cell_type": "markdown",
     "metadata": {},
     "source": [
      "Local $\\rightarrow$ global"
     ]
    },
    {
     "cell_type": "code",
     "collapsed": false,
     "input": [
      "sig_c_xy = np.dot(np.dot(rot_mat.T,sig_c_12),rot_mat)\n",
      "sig_c_xy"
     ],
     "language": "python",
     "metadata": {},
     "outputs": [
      {
       "output_type": "pyout",
       "prompt_number": 7,
       "text": [
        "array([[ 33.75      ,  19.48557159],\n",
        "       [ 19.48557159,  11.25      ]])"
       ]
      }
     ],
     "prompt_number": 7
    },
    {
     "cell_type": "markdown",
     "metadata": {},
     "source": [
      "Combine above to general method: **comp_sig**"
     ]
    },
    {
     "cell_type": "heading",
     "level": 2,
     "metadata": {},
     "source": [
      "Application of the methods"
     ]
    },
    {
     "cell_type": "code",
     "collapsed": false,
     "input": [
      "alpha = 45\n",
      "sig_max = 200"
     ],
     "language": "python",
     "metadata": {},
     "outputs": [],
     "prompt_number": 14
    },
    {
     "cell_type": "code",
     "collapsed": false,
     "input": [
      "sig_c_xy = comp_sig(alpha, sig_max)\n",
      "sig_c_xy"
     ],
     "language": "python",
     "metadata": {},
     "outputs": [
      {
       "output_type": "pyout",
       "prompt_number": 15,
       "text": [
        "array([[ 100.,  100.],\n",
        "       [ 100.,  100.]])"
       ]
      }
     ],
     "prompt_number": 15
    },
    {
     "cell_type": "code",
     "collapsed": false,
     "input": [
      "plot_stress(sig_c_xy, sig_max, alpha)"
     ],
     "language": "python",
     "metadata": {},
     "outputs": [
      {
       "output_type": "pyout",
       "png": "[encoded data removed]",
       "prompt_number": 16,
       "text": [
        "<matplotlib.figure.Figure at 0x3e2edd0>"
       ]
      }
     ],
     "prompt_number": 16
    },
    {
     "cell_type": "markdown",
     "metadata": {},
     "source": [
      "$\\renewcommand{test}[1]{\\varepsilon_{\\mathrm{#1}}}$\n",
      "\n",
      "$\\test{asdf}$\n"
     ]
    },
    {
     "cell_type": "code",
     "collapsed": false,
     "input": [
      "-1/2.*np.sin(-np.pi/4)"
     ],
     "language": "python",
     "metadata": {},
     "outputs": [
      {
       "output_type": "pyout",
       "prompt_number": 19,
       "text": [
        "0.35355339059327373"
       ]
      }
     ],
     "prompt_number": 19
    },
    {
     "cell_type": "code",
     "collapsed": false,
     "input": [],
     "language": "python",
     "metadata": {},
     "outputs": []
    }
   ],
   "metadata": {}
  }
 ]
}