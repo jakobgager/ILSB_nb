{
 "metadata": {
  "name": ""
 },
 "nbformat": 3,
 "nbformat_minor": 0,
 "worksheets": [
  {
   "cells": [
    {
     "cell_type": "code",
     "collapsed": false,
     "input": [
      "import vtk\n",
      "from sys import path\n",
      "path.append('/usr2/gager/Simulations/Misc/SimMI26/python')\n",
      "from DPM_simple import *"
     ],
     "language": "python",
     "metadata": {},
     "outputs": [],
     "prompt_number": 286
    },
    {
     "cell_type": "code",
     "collapsed": false,
     "input": [
      "filename='/usr2/gager/Diplomas/Schwab/weave/vtk/DPE_radstrain_stress_e5.vtk'\n",
      "filename='/studstor/e0825772/balken_30deg_500/EDMCdata.vtk'\n",
      "filename='EDMCdata.vtk'\n",
      "#filename2 = '/usr2/gager/Simulations/Misc/SimMI26/python/ray.vtk'\n",
      "filename2 = 'ray.vtk'"
     ],
     "language": "python",
     "metadata": {},
     "outputs": [],
     "prompt_number": 287
    },
    {
     "cell_type": "code",
     "collapsed": false,
     "input": [
      "def readVTK(filename, points=None, cells=None, celltype='POLYGONS'):\n",
      "    print filename\n",
      "    if points == None:\n",
      "        points = []\n",
      "    if cells == None:\n",
      "        cells = []\n",
      "    with open(filename,'r') as fil:\n",
      "        fil.readline()\n",
      "        dataline=fil.readline()\n",
      "        \n",
      "    with open(filename,'r') as fil:\n",
      "        lin = 1\n",
      "        while lin:\n",
      "            lin = fil.readline()\n",
      "            if lin.startswith('POINTS'):\n",
      "                numpt = int(lin.split()[1])\n",
      "                for i in range(numpt):\n",
      "                    points.append(np.array(fil.readline().split(),dtype=float).round(4))\n",
      "            if lin.startswith(celltype):\n",
      "                numcells = int(lin.split()[1])\n",
      "                for i in range(numcells):\n",
      "                    cells.append(np.array(fil.readline().split()[1:],dtype=int))\n",
      "                    \n",
      "    # process dataline\n",
      "    try:\n",
      "        sets = int(dataline.split()[2])\n",
      "        sym = int(dataline.split()[4])\n",
      "    except:\n",
      "        sets = sym = 0\n",
      "        \n",
      "    \n",
      "    return points, cells, sets, sym"
     ],
     "language": "python",
     "metadata": {},
     "outputs": [],
     "prompt_number": 288
    },
    {
     "cell_type": "code",
     "collapsed": false,
     "input": [
      "def writefile2(R, T, I, r, filename, hit = False):\n",
      "    with open(filename,'w') as fil:\n",
      "        if hit:\n",
      "            numcell = (3,9)\n",
      "            data = 5\n",
      "        else:\n",
      "            numcell = (2,6)\n",
      "            data = 4\n",
      "        #header#\n",
      "        fil.write('# vtk DataFile Version 2.0\\n')\n",
      "        fil.write('{0:04d} {1:04d} {2:02d} {3:01d}\\n'.format(data, numcell[0], 1, 1))\n",
      "        fil.write('ASCII\\nDATASET UNSTRUCTURED_GRID\\n')\n",
      "        fil.write('POINTS {0:04d} float\\n'.format(data))\n",
      "        #triangle points\n",
      "        for p in T:\n",
      "            fil.write('{0[0]} {0[1]} {0[2]}\\n'.format(p))\n",
      "        fil.write('{0[0]} {0[1]} {0[2]}\\n'.format(np.zeros(3)))\n",
      "        if hit: fil.write('{0[0]} {0[1]} {0[2]}\\n'.format(R))\n",
      "        # cells\n",
      "        fil.write('\\nCELLS {0[0]} {0[1]}\\n'.format(numcell))\n",
      "        fil.write('3 0 1 2\\n')\n",
      "        fil.write('1 3\\n')\n",
      "        if hit: fil.write('2 3 4\\n')\n",
      "        fil.write('\\nCELL_TYPES {0}\\n'.format(numcell[0]))\n",
      "        fil.write('5\\n')\n",
      "        fil.write('1\\n')\n",
      "        if hit: fil.write('3\\n')\n",
      "        # data\n",
      "        fil.write('\\nPOINT_DATA {0}\\n'.format(data))\n",
      "        fil.write('VECTORS load float\\n')\n",
      "        fil.write('0 0 0\\n')\n",
      "        fil.write('0 0 0\\n')\n",
      "        fil.write('0 0 0\\n')\n",
      "        fil.write('{0[0]} {0[1]} {0[2]}\\n'.format(R))\n",
      "        if hit: fil.write('0 0 0\\n')\n",
      "        fil.write('SCALARS loadfac float 1\\n')\n",
      "        fil.write('LOOKUP_TABLE default\\n')\n",
      "        fil.write('0\\n')\n",
      "        fil.write('0\\n')\n",
      "        fil.write('0\\n')\n",
      "        fil.write('{0}\\n'.format(r))\n",
      "        if hit: fil.write('0\\n')"
     ],
     "language": "python",
     "metadata": {},
     "outputs": [],
     "prompt_number": 289
    },
    {
     "cell_type": "heading",
     "level": 2,
     "metadata": {},
     "source": [
      "Track intersection"
     ]
    },
    {
     "cell_type": "code",
     "collapsed": false,
     "input": [
      "def intersect3D_RayTriangle2(R, T):\n",
      "    \"\"\" R ... Ray (dx, dy, dz)\n",
      "        T ... Triangle (P1, P2, P3)\n",
      "    \"\"\"\n",
      "    # get triangle edge vector\n",
      "    u = T[1] - T[0]\n",
      "    v = T[2] - T[0]\n",
      "    # normal\n",
      "    n = np.cross(u,v)\n",
      "    \n",
      "    #degenarate triangle?\n",
      "    if len(n) == 0: return -1\n",
      "\n",
      "    w0 = -T[0]\n",
      "    a = -np.dot(n,w0)\n",
      "    b = np.dot(n,R)\n",
      "    if abs(b) < 0.0001:\n",
      "        if a == 0: return 2\n",
      "        else: return 3\n",
      "\n",
      "    # get intersect point of ray with triangle plane\n",
      "    r = float(a) / b\n",
      "    if r < 0.0:                   # ray goes away from triangle\n",
      "        return 4                  # => no intersect\n",
      "    # for a segment, also test if (r > 1.0) => no intersect\n",
      "\n",
      "    I = r * R;           # intersect point of ray and plane\n",
      "\n",
      "    # is I inside T?\n",
      "    uu = np.dot(u,u)\n",
      "    uv = np.dot(u,v)\n",
      "    vv = np.dot(v,v)\n",
      "    w = I - T[0]\n",
      "    wu = np.dot(w,u)\n",
      "    wv = np.dot(w,v)\n",
      "    D = uv * uv - uu * vv\n",
      "\n",
      "    # get and test parametric coords\n",
      "    s = (uv * wv - vv * wu) / D\n",
      "    if s < 0.0 or s > 1.0 :        # I is outside T\n",
      "        return 5\n",
      "    t = (uv * wu - uu * wv) / D\n",
      "    if t < 0.0 or (s + t) > 1.0:   # I is outside T\n",
      "        return 6\n",
      "\n",
      "    return I, r;"
     ],
     "language": "python",
     "metadata": {},
     "outputs": [],
     "prompt_number": 290
    },
    {
     "cell_type": "code",
     "collapsed": false,
     "input": [
      "# ray\n",
      "#R = np.array([5,1.,0.5])\n",
      "\n",
      "P = np.array([7.391036260090293,3.0614674589207169,0.])\n",
      "P = np.array([-17.25,-2.67, -0.26])\n",
      "\n",
      "points, cells, sets, sym = readVTK(filename)\n",
      "print 'sym=',sym\n",
      "\n",
      "if (sym == 1):\n",
      "  if (P[1] > P[0]):\n",
      "      R[0] = P[1]\n",
      "      R[1] = P[0]\n",
      "  else:\n",
      "      R[0] = P[0]\n",
      "      R[1] = P[1]\n",
      "  R[2] = abs(P[2])\n",
      "elif (sym == 2):\n",
      "  R[0] = P[0]\n",
      "  R[1] = P[1]\n",
      "  R[2] = abs(P[2])\n",
      "else: #(sym_idx == 0) ... whole space\n",
      "  R[0] = P[0]\n",
      "  R[1] = P[1]\n",
      "  R[2] = P[2]\n",
      "\n",
      "print len(points), len(cells)\n",
      "outlist=[]\n",
      "hit = False\n",
      "for idx,cell in enumerate(cells):\n",
      "    #print 'Processing Cell: {0}'.format(idx)\n",
      "    T = np.array([points[cell[0]],points[cell[1]],points[cell[2]]])\n",
      "    out = intersect3D_RayTriangle2(R, T)\n",
      "    if type(out) == int:\n",
      "        #hit = False\n",
      "        pass\n",
      "        #outlist.append([idx,out])\n",
      "        #I = 'N'\n",
      "        #r = 'N'\n",
      "        #pass\n",
      "    else:\n",
      "        I,r = out\n",
      "        hit = True\n",
      "        Thit = T\n",
      "        #break\n",
      "\n",
      "print 'Ray:', R\n",
      "print 'Triangle:', Thit\n",
      "#out = intersect3D_RayTriangle(R, T)\n",
      "print I, r\n",
      "#print sorted(outlist,key=lambda x: x[1])\n",
      "#print len(outlist)\n",
      "writefile2(R, Thit, I, r, filename2, hit)"
     ],
     "language": "python",
     "metadata": {},
     "outputs": [
      {
       "output_type": "stream",
       "stream": "stdout",
       "text": [
        "EDMCdata.vtk\n",
        "sym= 2\n",
        "306 544\n",
        "Ray: [-17.25  -2.67   0.26]\n",
        "Triangle: [[ -3.59210000e+01   4.15000000e-02   2.21920000e+00]\n",
        " [ -8.22660000e+01  -1.62500000e+01   5.16390000e+00]\n",
        " [ -8.63620000e+01  -1.70420000e+01   0.00000000e+00]]\n",
        "[-66.30423265 -10.2627421    0.99936814] 3.84372363161\n"
       ]
      }
     ],
     "prompt_number": 291
    },
    {
     "cell_type": "heading",
     "level": 2,
     "metadata": {},
     "source": [
      "Visualize data"
     ]
    },
    {
     "cell_type": "heading",
     "level": 4,
     "metadata": {},
     "source": [
      "Read DPEs"
     ]
    },
    {
     "cell_type": "code",
     "collapsed": false,
     "input": [
      "Reader = vtk.vtkDataSetReader()\n",
      "Reader.SetFileName(filename)\n",
      "Reader.Update()\n",
      "Data = Reader.GetOutput()\n",
      "scalar_range = Data.GetScalarRange()\n",
      "mapper = vtk.vtkPolyDataMapper()\n",
      "mapper.SetInput(Data)\n",
      "mapper.SetScalarRange(scalar_range)\n",
      "\n",
      "actor = vtk.vtkActor()\n",
      "actor.SetMapper(mapper)\n",
      "obj = actor.GetProperty()\n",
      "obj.EdgeVisibilityOn()\n",
      "obj.SetEdgeColor(0,0,0)"
     ],
     "language": "python",
     "metadata": {},
     "outputs": [],
     "prompt_number": 292
    },
    {
     "cell_type": "heading",
     "level": 4,
     "metadata": {},
     "source": [
      "Read python solution"
     ]
    },
    {
     "cell_type": "code",
     "collapsed": false,
     "input": [
      "lut = vtk.vtkLookupTable()\n",
      "lut.SetNumberOfTableValues(1)\n",
      "lut.SetTableRange(0.0, 1.0)\n",
      "lut.Build()\n",
      "lut.SetTableValue(0, (1, 0.6, 0, 1))\n",
      "#lut.SetTableValue(1, (0, 1, 0, 1))"
     ],
     "language": "python",
     "metadata": {},
     "outputs": [],
     "prompt_number": 293
    },
    {
     "cell_type": "code",
     "collapsed": false,
     "input": [
      "Reader2 = vtk.vtkUnstructuredGridReader()\n",
      "Reader2.SetFileName(filename2)\n",
      "Reader2.Update()\n",
      "Data2 = Reader2.GetOutput()\n",
      "scalar_range2 = Data2.GetScalarRange()\n",
      "\n",
      "mapper2 = vtk.vtkDataSetMapper()\n",
      "mapper2.SetInput(Data2)\n",
      "mapper2.SetScalarRange(scalar_range2)\n",
      "mapper2.SetLookupTable(lut)\n",
      " \n",
      "# Create the Actor\n",
      "actor2 = vtk.vtkActor()\n",
      "actor2.SetMapper(mapper2)\n",
      "\n",
      "obj = actor2.GetProperty()\n",
      "obj.EdgeVisibilityOn()\n",
      "obj.SetEdgeColor(1,0.6,0)\n",
      "obj.SetLineWidth(1.5)"
     ],
     "language": "python",
     "metadata": {},
     "outputs": [],
     "prompt_number": 294
    },
    {
     "cell_type": "heading",
     "level": 3,
     "metadata": {},
     "source": [
      "Create Axes"
     ]
    },
    {
     "cell_type": "code",
     "collapsed": false,
     "input": [
      "axes = vtk.vtkAxesActor()\n",
      "axes.SetOrigin(0.,0.,0.)\n",
      "axes.SetTotalLength(100.,100.,100.)\n",
      "axes.AxisLabelsOff()\n",
      "axes.SetShaftTypeToCylinder()\n",
      "axes.SetCylinderRadius(0.02)\n",
      "axes.SetConeRadius(0.3)\n",
      "#axes.SetXAxisLabelText('Sxx')\n",
      "#axes.SetYAxisLabelText('Syy')\n",
      "#axes.SetZAxisLabelText('Sxy')"
     ],
     "language": "python",
     "metadata": {},
     "outputs": [],
     "prompt_number": 295
    },
    {
     "cell_type": "heading",
     "level": 3,
     "metadata": {},
     "source": [
      "Create Plane"
     ]
    },
    {
     "cell_type": "code",
     "collapsed": false,
     "input": [
      "source = vtk.vtkPlaneSource()\n",
      "source.SetCenter(0,0,0)\n",
      "source.SetNormal(0,0,1)\n",
      "source.Update()\n",
      "# mapper\n",
      "pl_mapper = vtk.vtkPolyDataMapper()\n",
      "pl_mapper.SetInput(source.GetOutput())\n",
      "# actor\n",
      "pl_actor1 = vtk.vtkActor()\n",
      "pl_actor1.SetMapper(pl_mapper)\n",
      "pl_actor1.SetScale(900,900,900)\n",
      "pl_actor1.SetPosition(46,100,-0.1)\n",
      "obj1 = pl_actor1.GetProperty()\n",
      "obj1.SetColor(1,1,1)\n",
      "obj1.LightingOff()\n",
      "obj1.SetOpacity(0.4)"
     ],
     "language": "python",
     "metadata": {},
     "outputs": [],
     "prompt_number": 296
    },
    {
     "cell_type": "code",
     "collapsed": false,
     "input": [
      "mesh = source.GetOutput()\n",
      " \n",
      "# Read the image data from a file\n",
      "reader = vtk.vtkPNGReader()\n",
      "#reader.SetFileName('/usr2/gager/Simulations/Braiding/SimBR11/V5/SimBR11_5_col_newtrans.png')\n",
      "reader.SetFileName('grid.png') \n",
      "# Create texture object\n",
      "texture = vtk.vtkTexture()\n",
      "texture.SetInput(reader.GetOutput())\n",
      " \n",
      "# Map texture coordinates\n",
      "tmap = vtk.vtkTextureMapToPlane()\n",
      "tmap.SetInput(mesh)\n",
      "#tmap.PreventSeamOn()\n",
      " \n",
      "# Create mapper and set the mapped texture as input\n",
      "tmapper = vtk.vtkPolyDataMapper()\n",
      "tmapper.SetInput(tmap.GetOutput())\n",
      "pl_actor = vtk.vtkActor()\n",
      "pl_actor.SetMapper(tmapper)\n",
      "pl_actor.SetScale(900,900,900)\n",
      "pl_actor.SetPosition(46,100,0)\n",
      "pl_actor.SetTexture(texture)\n",
      "obj = pl_actor.GetProperty()\n",
      "obj.LightingOff()\n",
      "#obj.SetOpacity(0.4)"
     ],
     "language": "python",
     "metadata": {},
     "outputs": [],
     "prompt_number": 297
    },
    {
     "cell_type": "heading",
     "level": 3,
     "metadata": {},
     "source": [
      "Add HUD text"
     ]
    },
    {
     "cell_type": "code",
     "collapsed": false,
     "input": [
      "# create a text actor\n",
      "txt = vtk.vtkTextActor()\n",
      "txt.SetInput(\"DPE-Envelope\")\n",
      "txtprop=txt.GetTextProperty()\n",
      "txtprop.SetFontFamilyToArial()\n",
      "txtprop.SetFontSize(18)\n",
      "txtprop.SetColor(1,1,1)\n",
      "txt.SetDisplayPosition(10,5)"
     ],
     "language": "python",
     "metadata": {},
     "outputs": [],
     "prompt_number": 298
    },
    {
     "cell_type": "heading",
     "level": 3,
     "metadata": {},
     "source": [
      "Axis Labels"
     ]
    },
    {
     "cell_type": "markdown",
     "metadata": {},
     "source": [
      "The default axis labels cannot be customized very well, i.e. they are always white, proportional size and in the foreground. To circumvent these problems, the axis lables are created using 3d text objects which are created to follow the camera."
     ]
    },
    {
     "cell_type": "code",
     "collapsed": false,
     "input": [
      "scale = 12\n",
      "color = (0,0,0)\n",
      "\n",
      "atext_x = vtk.vtkVectorText()  \n",
      "atext_x.SetText(\"Sxx\")  \n",
      "textMapper_x = vtk.vtkPolyDataMapper()  \n",
      "textMapper_x.SetInput(atext_x.GetOutput())  \n",
      "textActor_x = vtk.vtkFollower()  \n",
      "textActor_x.SetMapper(textMapper_x)  \n",
      "textActor_x.SetScale(scale, scale, scale)  \n",
      "textActor_x.AddPosition(100, 10, 20) \n",
      "textActor_x.GetProperty().SetColor(*color)"
     ],
     "language": "python",
     "metadata": {},
     "outputs": [],
     "prompt_number": 299
    },
    {
     "cell_type": "code",
     "collapsed": false,
     "input": [
      "atext_y = vtk.vtkVectorText()  \n",
      "atext_y.SetText(\"Syy\")\n",
      "textMapper_y = vtk.vtkPolyDataMapper()  \n",
      "textMapper_y.SetInput(atext_y.GetOutput())  \n",
      "textActor_y = vtk.vtkFollower()  \n",
      "textActor_y.SetMapper(textMapper_y)  \n",
      "textActor_y.SetScale(scale, scale, scale)  \n",
      "textActor_y.AddPosition(10, 100, 20) \n",
      "textActor_y.GetProperty().SetColor(*color)"
     ],
     "language": "python",
     "metadata": {},
     "outputs": [],
     "prompt_number": 300
    },
    {
     "cell_type": "code",
     "collapsed": false,
     "input": [
      "atext_z = vtk.vtkVectorText()  \n",
      "atext_z.SetText(\"Sxy\")  \n",
      "textMapper_z = vtk.vtkPolyDataMapper()  \n",
      "textMapper_z.SetInput(atext_z.GetOutput())  \n",
      "textActor_z = vtk.vtkFollower()  \n",
      "textActor_z.SetMapper(textMapper_z)  \n",
      "textActor_z.SetScale(scale, scale, scale)  \n",
      "textActor_z.AddPosition(10, 10, 100) \n",
      "textActor_z.GetProperty().SetColor(*color)"
     ],
     "language": "python",
     "metadata": {},
     "outputs": [],
     "prompt_number": 301
    },
    {
     "cell_type": "heading",
     "level": 3,
     "metadata": {},
     "source": [
      "Set-up Scene"
     ]
    },
    {
     "cell_type": "code",
     "collapsed": false,
     "input": [
      "# Visualize\n",
      "renderer = vtk.vtkRenderer()\n",
      "renderWindow = vtk.vtkRenderWindow()\n",
      "renderWindow.SetSize(1000,1000)\n",
      "renderWindow.AddRenderer(renderer)\n",
      "# create a renderwindowinteractor\n",
      "renderWindowInteractor = vtk.vtkRenderWindowInteractor()\n",
      "renderWindowInteractor.SetRenderWindow(renderWindow)\n",
      " \n",
      "style = vtk.vtkInteractorStyleTrackballCamera()\n",
      "renderWindowInteractor.SetInteractorStyle(style)\n",
      "\n",
      "renderer.SetBackground2(1,1,1)\n",
      "renderer.LightFollowCameraOn()\n",
      "renderer.SetBackground(0.6,0.6,0.6)\n",
      "renderer.GradientBackgroundOn()\n",
      "#renderer.SetBackground(1,1,1)"
     ],
     "language": "python",
     "metadata": {},
     "outputs": [],
     "prompt_number": 302
    },
    {
     "cell_type": "heading",
     "level": 4,
     "metadata": {},
     "source": [
      "Add actors"
     ]
    },
    {
     "cell_type": "code",
     "collapsed": false,
     "input": [
      "renderer.AddActor(actor)\n",
      "renderer.AddActor(actor2)\n",
      "renderer.AddActor(pl_actor)\n",
      "renderer.AddActor(pl_actor1)\n",
      "renderer.AddActor(axes)\n",
      "renderer.AddActor(txt)\n",
      "renderer.AddActor(textActor_x)\n",
      "renderer.AddActor(textActor_y)\n",
      "renderer.AddActor(textActor_z)\n",
      "\n",
      "renderer.ResetCameraClippingRange()  \n",
      "textActor_x.SetCamera(renderer.GetActiveCamera())\n",
      "textActor_y.SetCamera(renderer.GetActiveCamera())\n",
      "textActor_z.SetCamera(renderer.GetActiveCamera())"
     ],
     "language": "python",
     "metadata": {},
     "outputs": [],
     "prompt_number": 303
    },
    {
     "cell_type": "heading",
     "level": 3,
     "metadata": {},
     "source": [
      "Start"
     ]
    },
    {
     "cell_type": "code",
     "collapsed": false,
     "input": [
      "renderWindow.Render()\n",
      "renderWindowInteractor.Start()"
     ],
     "language": "python",
     "metadata": {},
     "outputs": [],
     "prompt_number": 304
    },
    {
     "cell_type": "markdown",
     "metadata": {},
     "source": [
      "Intersection e.g. http://www.vtk.org/Wiki/VTK/Examples/Python/GeometricObjects/Display/PolygonIntersection"
     ]
    },
    {
     "cell_type": "code",
     "collapsed": false,
     "input": [
      "renderWindow = None\n",
      "renderWindowInteractor = None\n",
      "renderer = None"
     ],
     "language": "python",
     "metadata": {},
     "outputs": [],
     "prompt_number": 305
    },
    {
     "cell_type": "code",
     "collapsed": false,
     "input": [],
     "language": "python",
     "metadata": {},
     "outputs": [],
     "prompt_number": 305
    }
   ],
   "metadata": {}
  }
 ]
}