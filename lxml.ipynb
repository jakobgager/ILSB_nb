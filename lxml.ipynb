{
 "metadata": {
  "name": ""
 },
 "nbformat": 3,
 "nbformat_minor": 0,
 "worksheets": [
  {
   "cells": [
    {
     "cell_type": "heading",
     "level": 1,
     "metadata": {},
     "source": [
      "Current citation2latex"
     ]
    },
    {
     "cell_type": "markdown",
     "metadata": {},
     "source": [
      "The current (master) implementation of citation2latex uses the lxml package. This unfortunately escapes some characters like & (> &amp;)"
     ]
    },
    {
     "cell_type": "code",
     "collapsed": false,
     "input": [
      "from lxml import html\n",
      "s = \"\\\\begin{eqnarray}\\n1 &=&2 \\\\\\\\\\n2 &=& 4\\n\\\\end{eqnarray}\"\n",
      "t1 = html.fragment_fromstring(s, create_parent='div')\n",
      "html.tostring(t1, method='html')"
     ],
     "language": "python",
     "metadata": {},
     "outputs": [
      {
       "metadata": {},
       "output_type": "pyout",
       "prompt_number": 2,
       "text": [
        "'<div>\\\\begin{eqnarray}\\n1 &amp;=&amp;2 \\\\\\\\\\n2 &amp;=&amp; 4\\n\\\\end{eqnarray}</div>'"
       ]
      }
     ],
     "prompt_number": 2
    },
    {
     "cell_type": "markdown",
     "metadata": {},
     "source": [
      "Possible solution: use the sax package to unescape again:"
     ]
    },
    {
     "cell_type": "code",
     "collapsed": false,
     "input": [
      "from xml.sax.saxutils import unescape\n",
      "unescape(html.tostring(t1))"
     ],
     "language": "python",
     "metadata": {},
     "outputs": [
      {
       "metadata": {},
       "output_type": "pyout",
       "prompt_number": 3,
       "text": [
        "'<div>\\\\begin{eqnarray}\\n1 &=&2 \\\\\\\\\\n2 &=& 4\\n\\\\end{eqnarray}</div>'"
       ]
      }
     ],
     "prompt_number": 3
    },
    {
     "cell_type": "markdown",
     "metadata": {},
     "source": [
      "**However** there is a problem with <!"
     ]
    },
    {
     "cell_type": "code",
     "collapsed": false,
     "input": [
      "s1 = \"1<2 is true\"\n",
      "html.tostring(html.fragment_fromstring(s1, create_parent='div'), method='html')"
     ],
     "language": "python",
     "metadata": {},
     "outputs": [
      {
       "metadata": {},
       "output_type": "pyout",
       "prompt_number": 5,
       "text": [
        "'<div>1</div>'"
       ]
      }
     ],
     "prompt_number": 5
    },
    {
     "cell_type": "markdown",
     "metadata": {},
     "source": [
      "The string gets cropped!! "
     ]
    },
    {
     "cell_type": "heading",
     "level": 1,
     "metadata": {},
     "source": [
      "New citation2latex"
     ]
    },
    {
     "cell_type": "markdown",
     "metadata": {},
     "source": [
      "Using a simple regex and forcing the html tag to be `<cite data-cite=\"granger\">(Granger, 2013)</cite>`"
     ]
    },
    {
     "cell_type": "code",
     "collapsed": false,
     "input": [
      "import re\n",
      "s2 = \"Before <cite data-cite='granger'>(Granger, 2013)</cite> between <cite data-cite='ich'>(Ich, 2012)</cite> behind\"\n",
      "re.sub(\"<cite data-cite='(?P<label>[^']*).*?/cite>\",'\\\\cite{\\g<label>}',s2)"
     ],
     "language": "python",
     "metadata": {},
     "outputs": [
      {
       "metadata": {},
       "output_type": "pyout",
       "prompt_number": 67,
       "text": [
        "'Before \\\\cite{granger} between \\\\cite{ich} behind'"
       ]
      }
     ],
     "prompt_number": 67
    },
    {
     "cell_type": "markdown",
     "metadata": {},
     "source": [
      "the following works with python >=2.7"
     ]
    },
    {
     "cell_type": "code",
     "collapsed": false,
     "input": [
      "s2 = \"Before <CITE data-cite='granger'>(Granger, 2013)</cite> between <cite data-cite='ich'>\\n(Ich, 2012)</cite> behind\"\n",
      "re.sub(\"<cite data-cite='(?P<label>[^']*).*?/cite>\",'\\\\cite{\\g<label>}',s2, flags=re.S|re.I)"
     ],
     "language": "python",
     "metadata": {},
     "outputs": []
    },
    {
     "cell_type": "code",
     "collapsed": false,
     "input": [
      "s2 = u\"asdf \\\\< < adf> asdf & \\\\begin{eqn} \u03b1\"\n",
      "re.sub(\"<cite data-cite='(?P<label>[^']*).*?/cite>\",'\\\\cite{\\g<label>}',s2, re.S|re.I)"
     ],
     "language": "python",
     "metadata": {},
     "outputs": []
    },
    {
     "cell_type": "markdown",
     "metadata": {},
     "source": [
      "Drop the cite keyword requirement"
     ]
    },
    {
     "cell_type": "code",
     "collapsed": false,
     "input": [
      "def cit2lat(s):\n",
      "    return re.sub(\"<(?P<tag>[a-z]+) .*?data-cite=['\\\"]{0,1}(?P<label>[^['\\\" >]*).*?/(?P=tag)>\",\n",
      "                  '\\\\cite{\\g<label>}',s)"
     ],
     "language": "python",
     "metadata": {},
     "outputs": [],
     "prompt_number": 111
    },
    {
     "cell_type": "code",
     "collapsed": false,
     "input": [
      "s2 = u\"Before <strong data-cite='granger'>(Granger, 2013)</strong> between <cite data-cite='ich'>(Ich, 2012)</cite> behind\"\n",
      "cit2lat(s2)"
     ],
     "language": "python",
     "metadata": {},
     "outputs": [
      {
       "metadata": {},
       "output_type": "pyout",
       "prompt_number": 112,
       "text": [
        "u'Before \\\\cite{granger} between \\\\cite{ich} behind'"
       ]
      }
     ],
     "prompt_number": 112
    },
    {
     "cell_type": "code",
     "collapsed": false,
     "input": [
      "s3 = \"<asdf data-cite=' asdf /asdf>\"\n",
      "cit2lat(s3)"
     ],
     "language": "python",
     "metadata": {},
     "outputs": [
      {
       "metadata": {},
       "output_type": "pyout",
       "prompt_number": 97,
       "text": [
        "'\\\\cite{}'"
       ]
      }
     ],
     "prompt_number": 97
    },
    {
     "cell_type": "code",
     "collapsed": false,
     "input": [
      "s3 = \"In <asdf widht=22 data-cite=mayer22 height='22'> Name11</asdf> Out\"\n",
      "cit2lat(s3)"
     ],
     "language": "python",
     "metadata": {},
     "outputs": [
      {
       "metadata": {},
       "output_type": "pyout",
       "prompt_number": 106,
       "text": [
        "\"In <asdf widht=22 data-cite=mayer22 height='22'> Name11</asdf> Out\""
       ]
      }
     ],
     "prompt_number": 106
    },
    {
     "cell_type": "code",
     "collapsed": false,
     "input": [
      "s2 = \"Before <cite data-cite=\\\"granger\\\">(Granger, 2013)</cite> between <cite data-cite='ich'>(Ich, 2012)</cite> behind\"\n",
      "cit2lat(s2)"
     ],
     "language": "python",
     "metadata": {},
     "outputs": [
      {
       "metadata": {},
       "output_type": "pyout",
       "prompt_number": 101,
       "text": [
        "'Before \\\\cite{granger} between \\\\cite{ich} behind'"
       ]
      }
     ],
     "prompt_number": 101
    },
    {
     "cell_type": "code",
     "collapsed": false,
     "input": [],
     "language": "python",
     "metadata": {},
     "outputs": [],
     "prompt_number": 81
    },
    {
     "cell_type": "code",
     "collapsed": false,
     "input": [],
     "language": "python",
     "metadata": {},
     "outputs": []
    }
   ],
   "metadata": {}
  }
 ]
}