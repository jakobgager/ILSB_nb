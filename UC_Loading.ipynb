{
 "metadata": {
  "name": "UC_Loading"
 },
 "nbformat": 3,
 "nbformat_minor": 0,
 "worksheets": [
  {
   "cells": [
    {
     "cell_type": "heading",
     "level": 1,
     "metadata": {},
     "source": [
      "<style>\n",
      "    .rendered_html h1 {\n",
      "        font-family: Arial;\n",
      "        color: #555;\n",
      "        padding: 10px;\n",
      "        padding-left: 20px;\n",
      "        border: 1px solid #AAA;\n",
      "        box-shadow: 0px 8px 10px -8px #999;\n",
      "        background: #EEE;\n",
      "        text-shadow: 0px 1px 1px white;\n",
      "    }\n",
      "    .rendered_html h2 {\n",
      "        border: 1px solid #BBB;\n",
      "        background: #F9F9F9;\n",
      "        padding:6px;\n",
      "        padding-left: 20px;\n",
      "        color: #4A4A4A;\n",
      "        box-shadow: 0px 8px 10px -10px #888;\n",
      "    }\n",
      "    .rendered_html h3 {\n",
      "        border-bottom: 1px solid #DDD;\n",
      "        border-top: 1px solid #DDD;\n",
      "        padding: 6px;\n",
      "        margin-top: 16px;\n",
      "        margin-bottom: 8px;\n",
      "        padding-left: 20px;\n",
      "        color: #4A4A4A;\n",
      "    }\n",
      "    .rendered_html h6 {\n",
      "        border-top: 1px solid #DDD;\n",
      "        color: #555;\n",
      "        text-align: center;\n",
      "        padding: 8px;\n",
      "    }\n",
      "    .rendered_html hr {\n",
      "        height: 0px;\n",
      "    }\n",
      "    .rendered_html p {\n",
      "        font-size: 16px;\n",
      "        font-family: \"Charis SIL\",serif;\n",
      "        color: #090909;\n",
      "        padding-left: 6px;\n",
      "        padding-right: 6px;\n",
      "        line-height: 145%;\n",
      "    }\n",
      "    .CodeMirror {\n",
      "\t    <!--font-family: \"Monospace\";-->\n",
      "        font-size: 14px;\n",
      "    }\n",
      "    div.text_cell {\n",
      "        width: 125ex !important; /* instead of 100%, */\n",
      "    }\n",
      "    div.code_cell {\n",
      "        width: 125ex; /* about 80 chars + buffer */\n",
      "\t}\n",
      "</style>\n",
      "\n",
      "Notebook to compute UC loadings"
     ]
    },
    {
     "cell_type": "code",
     "collapsed": false,
     "input": [
      "#%load_ext sympyprinting\n",
      "%load_ext sympy.interactive.ipythonprinting\n",
      "from sympy import symbols, Symbol, Matrix, latex, S\n",
      "\n",
      "u1,u2 = symbols('U1 U2')\n",
      "v1,v2 = symbols('V1 V2')\n",
      "u1ap, u1a, u2ap, u2a, u3ap, u3a = symbols('u_1^{A+} u_1^{A} u_2^{A+} u_2^{A} u_3^{A+} u_3^{A}')\n",
      "u10p, u10, u20p, u20, u30p, u30 = symbols('u_1^{0+} u_1^{0} u_2^{0+} u_2^{0} u_3^{0+} u_3^{0}')\n",
      "u1bp, u1b, u2bp, u2b, u3bp, u3b = symbols('u_1^{B+} u_1^{B} u_2^{B+} u_2^{B} u_3^{B+} u_3^{B}')\n",
      "e11,e12,e21,e22 = symbols(r'\\varepsilon_{11} \\varepsilon_{12} \\varepsilon_{21} \\varepsilon_{22}')\n",
      "pa1,pa2,pb1,pb2 = symbols('p_1^A p_2^A p_1^B p_2^B')\n",
      "l1s, l2s, d2, l3s = symbols(\"{l_1}', {l_2}', d2 {l_3}'\")\n",
      "h, l1, l2 = symbols('h l1 l2')\n",
      "x1, x2, x3 = symbols('x1 x2 x3')\n",
      "x1s, x2s, x3s = symbols('x1s x2s x3s')"
     ],
     "language": "python",
     "metadata": {},
     "outputs": [],
     "prompt_number": 65
    },
    {
     "cell_type": "code",
     "collapsed": false,
     "input": [
      "Um = Matrix([[u1, v1],[u2, v2]])\n",
      "Um"
     ],
     "language": "python",
     "metadata": {},
     "outputs": [
      {
       "latex": [
        "$$\\left[\\begin{smallmatrix}U_{1} & V_{1}\\\\U_{2} & V_{2}\\end{smallmatrix}\\right]$$"
       ],
       "output_type": "pyout",
       "prompt_number": 66,
       "text": [
        "\u23a1U\u2081  V\u2081\u23a4\n",
        "\u23a2      \u23a5\n",
        "\u23a3U\u2082  V\u2082\u23a6"
       ]
      }
     ],
     "prompt_number": 66
    },
    {
     "cell_type": "code",
     "collapsed": false,
     "input": [
      "epsm = Matrix([[e11, e12],[e21, e22]])\n",
      "epsm"
     ],
     "language": "python",
     "metadata": {},
     "outputs": [
      {
       "latex": [
        "$$\\left[\\begin{smallmatrix}\\varepsilon_{{11}} & \\varepsilon_{{12}}\\\\\\varepsilon_{{21}} & \\varepsilon_{{22}}\\end{smallmatrix}\\right]$$"
       ],
       "output_type": "pyout",
       "prompt_number": 67,
       "text": [
        "\u23a1\\varepsilon_{11}  \\varepsilon_{12}\u23a4\n",
        "\u23a2                                  \u23a5\n",
        "\u23a3\\varepsilon_{21}  \\varepsilon_{22}\u23a6"
       ]
      }
     ],
     "prompt_number": 67
    },
    {
     "cell_type": "code",
     "collapsed": false,
     "input": [
      "pm = Matrix([[pa1, pb1],[pa2, pb2]])\n",
      "pm"
     ],
     "language": "python",
     "metadata": {},
     "outputs": [
      {
       "latex": [
        "$$\\left[\\begin{smallmatrix}p^{A}_{1} & p^{B}_{1}\\\\p^{A}_{2} & p^{B}_{2}\\end{smallmatrix}\\right]$$"
       ],
       "output_type": "pyout",
       "prompt_number": 68,
       "text": [
        "\u23a1p_1^A  p_1^B\u23a4\n",
        "\u23a2            \u23a5\n",
        "\u23a3p_2^A  p_2^B\u23a6"
       ]
      }
     ],
     "prompt_number": 68
    },
    {
     "cell_type": "markdown",
     "metadata": {},
     "source": [
      "$\\bf{U} = \\underline{\\varepsilon}\\cdot\\bf{P}$"
     ]
    },
    {
     "cell_type": "code",
     "collapsed": false,
     "input": [
      "u = epsm*pm\n",
      "u"
     ],
     "language": "python",
     "metadata": {},
     "outputs": [
      {
       "latex": [
        "$$\\left[\\begin{smallmatrix}\\varepsilon_{{11}} p^{A}_{1} + \\varepsilon_{{12}} p^{A}_{2} & \\varepsilon_{{11}} p^{B}_{1} + \\varepsilon_{{12}} p^{B}_{2}\\\\\\varepsilon_{{21}} p^{A}_{1} + \\varepsilon_{{22}} p^{A}_{2} & \\varepsilon_{{21}} p^{B}_{1} + \\varepsilon_{{22}} p^{B}_{2}\\end{smallmatrix}\\right]$$"
       ],
       "output_type": "pyout",
       "prompt_number": 69,
       "text": [
        "\u23a1\\varepsilon_{11}\u22c5p_1^A + \\varepsilon_{12}\u22c5p_2^A  \\varepsilon_{11}\u22c5p_1^B + \\va\n",
        "\u23a2                                                                             \n",
        "\u23a3\\varepsilon_{21}\u22c5p_1^A + \\varepsilon_{22}\u22c5p_2^A  \\varepsilon_{21}\u22c5p_1^B + \\va\n",
        "\n",
        "repsilon_{12}\u22c5p_2^B\u23a4\n",
        "                   \u23a5\n",
        "repsilon_{22}\u22c5p_2^B\u23a6"
       ]
      }
     ],
     "prompt_number": 69
    },
    {
     "cell_type": "code",
     "collapsed": false,
     "input": [
      "from IPython.core.display import Math, display\n",
      "Math('$$'+latex(Um)+'='+latex(u)+'$$')"
     ],
     "language": "python",
     "metadata": {},
     "outputs": [
      {
       "latex": [
        "$$\\left[\\begin{smallmatrix}U_{1} & V_{1}\\\\U_{2} & V_{2}\\end{smallmatrix}\\right]=\\left[\\begin{smallmatrix}\\varepsilon_{{11}} p^{A}_{1} + \\varepsilon_{{12}} p^{A}_{2} & \\varepsilon_{{11}} p^{B}_{1} + \\varepsilon_{{12}} p^{B}_{2}\\\\\\varepsilon_{{21}} p^{A}_{1} + \\varepsilon_{{22}} p^{A}_{2} & \\varepsilon_{{21}} p^{B}_{1} + \\varepsilon_{{22}} p^{B}_{2}\\end{smallmatrix}\\right]$$"
       ],
       "output_type": "pyout",
       "prompt_number": 70,
       "text": [
        "<IPython.core.display.Math object at 0x4bbbe10>"
       ]
      }
     ],
     "prompt_number": 70
    },
    {
     "cell_type": "code",
     "collapsed": false,
     "input": [
      "def conmat(mat):\n",
      "    \"\"\"convert sympy latex representation of matrix to be printed with IPython Math\"\"\"\n",
      "    return r'\\begin{p'+latex(mat)[18:][:-19]+'pmatrix}'"
     ],
     "language": "python",
     "metadata": {},
     "outputs": [],
     "prompt_number": 71
    },
    {
     "cell_type": "heading",
     "level": 2,
     "metadata": {},
     "source": [
      "Master Node Forces obtained from homogen. stresses"
     ]
    },
    {
     "cell_type": "code",
     "collapsed": false,
     "input": [
      "N11,N22,N12 = symbols('N11 N22 N12')\n",
      "nm = Matrix([[N11, N12],[N12,N22]])\n",
      "nm"
     ],
     "language": "python",
     "metadata": {},
     "outputs": [
      {
       "latex": [
        "$$\\left[\\begin{smallmatrix}N_{11} & N_{12}\\\\N_{12} & N_{22}\\end{smallmatrix}\\right]$$"
       ],
       "output_type": "pyout",
       "prompt_number": 72,
       "text": [
        "\u23a1N\u2081\u2081  N\u2081\u2082\u23a4\n",
        "\u23a2        \u23a5\n",
        "\u23a3N\u2081\u2082  N\u2082\u2082\u23a6"
       ]
      }
     ],
     "prompt_number": 72
    },
    {
     "cell_type": "code",
     "collapsed": false,
     "input": [
      "from sympy import simplify\n",
      "#l1s*l2s*nm*(pm.transpose().inv())\n",
      "tempm = pm.transpose().inv()\n",
      "for idx,i in enumerate(tempm):\n",
      "    tempm[idx]=simplify(i)\n",
      "\n",
      "\n",
      "master_f = (l1*l2*nm*tempm).subs({pa1:l1, pa2:0, pb1:d2, pb2:l2})\n",
      "master_f"
     ],
     "language": "python",
     "metadata": {},
     "outputs": [
      {
       "latex": [
        "$$\\left[\\begin{smallmatrix}N_{11} l_{2} - N_{12} d_{2} & N_{12} l_{1}\\\\N_{12} l_{2} - N_{22} d_{2} & N_{22} l_{1}\\end{smallmatrix}\\right]$$"
       ],
       "output_type": "pyout",
       "prompt_number": 73,
       "text": [
        "\u23a1N\u2081\u2081\u22c5l\u2082 - N\u2081\u2082\u22c5d\u2082  N\u2081\u2082\u22c5l\u2081\u23a4\n",
        "\u23a2                       \u23a5\n",
        "\u23a3N\u2081\u2082\u22c5l\u2082 - N\u2082\u2082\u22c5d\u2082  N\u2082\u2082\u22c5l\u2081\u23a6"
       ]
      }
     ],
     "prompt_number": 73
    },
    {
     "cell_type": "markdown",
     "metadata": {},
     "source": [
      "this result is to compare with\n",
      "\n",
      "$\\begin{pmatrix}\n",
      "\\bar{F}_1^A & \\bar{F}_1^B \\\\\\\\\n",
      "\\bar{F}_2^A & \\bar{F}_2^B\n",
      "\\end{pmatrix}$"
     ]
    },
    {
     "cell_type": "markdown",
     "metadata": {},
     "source": [
      "# Loadcases\n",
      "### $\\varepsilon_{11}\\neq0$"
     ]
    },
    {
     "cell_type": "code",
     "collapsed": false,
     "input": [
      "# use dimensions instead of periodicity vectors\n",
      "u = u.subs({pa1:l1, pa2:0, pb1:d2, pb2:l2})"
     ],
     "language": "python",
     "metadata": {},
     "outputs": [],
     "prompt_number": 74
    },
    {
     "cell_type": "code",
     "collapsed": false,
     "input": [
      "Math('$$'+conmat(Um)+'='+conmat(u.subs({e12:0, e21:0, e22:0}))+'$$')"
     ],
     "language": "python",
     "metadata": {},
     "outputs": [
      {
       "latex": [
        "$$\\begin{pmatrix}U_{1} & V_{1}\\\\U_{2} & V_{2}\\end{pmatrix}=\\begin{pmatrix}\\varepsilon_{{11}} l_{1} & \\varepsilon_{{11}} d_{2}\\\\0 & 0\\end{pmatrix}$$"
       ],
       "output_type": "pyout",
       "prompt_number": 75,
       "text": [
        "<IPython.core.display.Math object at 0x4bae990>"
       ]
      }
     ],
     "prompt_number": 75
    },
    {
     "cell_type": "markdown",
     "metadata": {},
     "source": [
      "----\n",
      "### $\\varepsilon_{22}\\neq0$"
     ]
    },
    {
     "cell_type": "code",
     "collapsed": false,
     "input": [
      "Math(conmat(Um)+'='+conmat(u.subs({e12:0, e21:0, e11:0})))"
     ],
     "language": "python",
     "metadata": {},
     "outputs": [
      {
       "latex": [
        "$$\\begin{pmatrix}U_{1} & V_{1}\\\\U_{2} & V_{2}\\end{pmatrix}=\\begin{pmatrix}0 & 0\\\\0 & \\varepsilon_{{22}} l_{2}\\end{pmatrix}$$"
       ],
       "output_type": "pyout",
       "prompt_number": 76,
       "text": [
        "<IPython.core.display.Math object at 0x4bae2d0>"
       ]
      }
     ],
     "prompt_number": 76
    },
    {
     "cell_type": "markdown",
     "metadata": {},
     "source": [
      "----\n",
      "### $\\varepsilon_{12}\\neq0$"
     ]
    },
    {
     "cell_type": "code",
     "collapsed": false,
     "input": [
      "Math(conmat(Um)+'='+conmat(u.subs({e11:0, e21:0, e22:0})))"
     ],
     "language": "python",
     "metadata": {},
     "outputs": [
      {
       "latex": [
        "$$\\begin{pmatrix}U_{1} & V_{1}\\\\U_{2} & V_{2}\\end{pmatrix}=\\begin{pmatrix}0 & \\varepsilon_{{12}} l_{2}\\\\0 & 0\\end{pmatrix}$$"
       ],
       "output_type": "pyout",
       "prompt_number": 77,
       "text": [
        "<IPython.core.display.Math object at 0x4392b10>"
       ]
      }
     ],
     "prompt_number": 77
    },
    {
     "cell_type": "markdown",
     "metadata": {},
     "source": [
      "----\n",
      "### $\\varepsilon_{21}\\neq0$"
     ]
    },
    {
     "cell_type": "code",
     "collapsed": false,
     "input": [
      "Math(conmat(Um)+'='+conmat(u.subs({e11:0, e12:0, e22:0})))"
     ],
     "language": "python",
     "metadata": {},
     "outputs": [
      {
       "latex": [
        "$$\\begin{pmatrix}U_{1} & V_{1}\\\\U_{2} & V_{2}\\end{pmatrix}=\\begin{pmatrix}0 & 0\\\\\\varepsilon_{{21}} l_{1} & \\varepsilon_{{21}} d_{2}\\end{pmatrix}$$"
       ],
       "output_type": "pyout",
       "prompt_number": 78,
       "text": [
        "<IPython.core.display.Math object at 0x450f950>"
       ]
      }
     ],
     "prompt_number": 78
    },
    {
     "cell_type": "markdown",
     "metadata": {},
     "source": [
      "----\n",
      "### $\\varepsilon_{12} \\wedge \\varepsilon_{21}\\neq0$"
     ]
    },
    {
     "cell_type": "code",
     "collapsed": false,
     "input": [
      "Math(conmat(Um)+'='+conmat(u.subs({e11:0, e22:0})))"
     ],
     "language": "python",
     "metadata": {},
     "outputs": [
      {
       "latex": [
        "$$\\begin{pmatrix}U_{1} & V_{1}\\\\U_{2} & V_{2}\\end{pmatrix}=\\begin{pmatrix}0 & \\varepsilon_{{12}} l_{2}\\\\\\varepsilon_{{21}} l_{1} & \\varepsilon_{{21}} d_{2}\\end{pmatrix}$$"
       ],
       "output_type": "pyout",
       "prompt_number": 79,
       "text": [
        "<IPython.core.display.Math object at 0x4bae950>"
       ]
      }
     ],
     "prompt_number": 79
    },
    {
     "cell_type": "markdown",
     "metadata": {},
     "source": [
      "# Bending Loadcases"
     ]
    },
    {
     "cell_type": "code",
     "collapsed": false,
     "input": [
      "R1,R2, T = symbols('R1 R2 T')\n",
      "S1,S2 = symbols('S1 S2')\n",
      "c11,c12,c21,c22 = symbols(r'\\chi_{11} \\chi_{12} \\chi_{21} \\chi_{22}')"
     ],
     "language": "python",
     "metadata": {},
     "outputs": [],
     "prompt_number": 80
    },
    {
     "cell_type": "code",
     "collapsed": false,
     "input": [
      "Rm = Matrix([[-R2, -S2],[R1, S1]])\n",
      "Rm"
     ],
     "language": "python",
     "metadata": {},
     "outputs": [
      {
       "latex": [
        "$$\\left[\\begin{smallmatrix}- R_{2} & - S_{2}\\\\R_{1} & S_{1}\\end{smallmatrix}\\right]$$"
       ],
       "output_type": "pyout",
       "prompt_number": 81,
       "text": [
        "\u23a1-R\u2082  -S\u2082\u23a4\n",
        "\u23a2        \u23a5\n",
        "\u23a3R\u2081   S\u2081 \u23a6"
       ]
      }
     ],
     "prompt_number": 81
    },
    {
     "cell_type": "code",
     "collapsed": false,
     "input": [
      "Chim = Matrix([[c11, c12],[c21, c22]])\n",
      "Chim"
     ],
     "language": "python",
     "metadata": {},
     "outputs": [
      {
       "latex": [
        "$$\\left[\\begin{smallmatrix}\\chi_{{11}} & \\chi_{{12}}\\\\\\chi_{{21}} & \\chi_{{22}}\\end{smallmatrix}\\right]$$"
       ],
       "output_type": "pyout",
       "prompt_number": 82,
       "text": [
        "\u23a1\\chi_{11}  \\chi_{12}\u23a4\n",
        "\u23a2                    \u23a5\n",
        "\u23a3\\chi_{21}  \\chi_{22}\u23a6"
       ]
      }
     ],
     "prompt_number": 82
    },
    {
     "cell_type": "code",
     "collapsed": false,
     "input": [
      "c = Chim*pm\n",
      "c"
     ],
     "language": "python",
     "metadata": {},
     "outputs": [
      {
       "latex": [
        "$$\\left[\\begin{smallmatrix}\\chi_{{11}} p^{A}_{1} + \\chi_{{12}} p^{A}_{2} & \\chi_{{11}} p^{B}_{1} + \\chi_{{12}} p^{B}_{2}\\\\\\chi_{{21}} p^{A}_{1} + \\chi_{{22}} p^{A}_{2} & \\chi_{{21}} p^{B}_{1} + \\chi_{{22}} p^{B}_{2}\\end{smallmatrix}\\right]$$"
       ],
       "output_type": "pyout",
       "prompt_number": 83,
       "text": [
        "\u23a1\\chi_{11}\u22c5p_1^A + \\chi_{12}\u22c5p_2^A  \\chi_{11}\u22c5p_1^B + \\chi_{12}\u22c5p_2^B\u23a4\n",
        "\u23a2                                                                    \u23a5\n",
        "\u23a3\\chi_{21}\u22c5p_1^A + \\chi_{22}\u22c5p_2^A  \\chi_{21}\u22c5p_1^B + \\chi_{22}\u22c5p_2^B\u23a6"
       ]
      }
     ],
     "prompt_number": 83
    },
    {
     "cell_type": "code",
     "collapsed": false,
     "input": [
      "# use dimensions instead of periodicity vectors\n",
      "c = c.subs({pa1:l1, pa2:0, pb1:d2, pb2:l2})"
     ],
     "language": "python",
     "metadata": {},
     "outputs": [],
     "prompt_number": 84
    },
    {
     "cell_type": "code",
     "collapsed": false,
     "input": [
      "#based on Anthoine\n",
      "xm = Matrix([x1s,x2s])\n",
      "ui_A = (epsm*xm - Chim*xm*x3s).subs({c21:c12})\n",
      "display(ui_A)\n",
      "u3_A = simplify((S(1)/2*(Chim*xm).T*xm).subs({c21:c12})[0])\n",
      "display(u3_A)"
     ],
     "language": "python",
     "metadata": {},
     "outputs": [
      {
       "latex": [
        "$$\\left[\\begin{smallmatrix}\\varepsilon_{{11}} x1s + \\varepsilon_{{12}} x2s - x3s \\left(\\chi_{{11}} x1s + \\chi_{{12}} x2s\\right)\\\\\\varepsilon_{{21}} x1s + \\varepsilon_{{22}} x2s - x3s \\left(\\chi_{{12}} x1s + \\chi_{{22}} x2s\\right)\\end{smallmatrix}\\right]$$"
       ],
       "output_type": "display_data",
       "text": [
        "\u23a1\\varepsilon_{11}\u22c5x1s + \\varepsilon_{12}\u22c5x2s - x3s\u22c5(\\chi_{11}\u22c5x1s + \\chi_{12}\u22c5\n",
        "\u23a2                                                                             \n",
        "\u23a3\\varepsilon_{21}\u22c5x1s + \\varepsilon_{22}\u22c5x2s - x3s\u22c5(\\chi_{12}\u22c5x1s + \\chi_{22}\u22c5\n",
        "\n",
        "x2s)\u23a4\n",
        "    \u23a5\n",
        "x2s)\u23a6"
       ]
      },
      {
       "latex": [
        "$$\\frac{1}{2} \\chi_{{11}} x1s^{2} + \\chi_{{12}} x1s x2s + \\frac{1}{2} \\chi_{{22}} x2s^{2}$$"
       ],
       "output_type": "display_data",
       "png": "[encoded data removed]",
       "text": [
        "             2                                    2\n",
        "\\chi_{11}\u22c5x1s                        \\chi_{22}\u22c5x2s \n",
        "\u2500\u2500\u2500\u2500\u2500\u2500\u2500\u2500\u2500\u2500\u2500\u2500\u2500\u2500 + \\chi_{12}\u22c5x1s\u22c5x2s + \u2500\u2500\u2500\u2500\u2500\u2500\u2500\u2500\u2500\u2500\u2500\u2500\u2500\u2500\n",
        "      2                                    2       "
       ]
      }
     ],
     "prompt_number": 85
    },
    {
     "cell_type": "markdown",
     "metadata": {},
     "source": [
      "Transformed to base coordinates"
     ]
    },
    {
     "cell_type": "code",
     "collapsed": false,
     "input": [
      "ui_A = ui_A.subs({x1s:x1-l1/2-d2/2, x2s:x2-l2/2, x3s:x3-h/2})\n",
      "display(ui_A)\n",
      "u3_A = u3_A.subs({x1s:x1-l1/2-d2/2, x2s:x2-l2/2, x3s:x3-h/2})\n",
      "display(u3_A)"
     ],
     "language": "python",
     "metadata": {},
     "outputs": [
      {
       "latex": [
        "$$\\left[\\begin{smallmatrix}\\varepsilon_{{11}} \\left(- \\frac{1}{2} d_{2} - \\frac{1}{2} l_{1} + x_{1}\\right) + \\varepsilon_{{12}} \\left(- \\frac{1}{2} l_{2} + x_{2}\\right) - \\left(- \\frac{1}{2} h + x_{3}\\right) \\left(\\chi_{{11}} \\left(- \\frac{1}{2} d_{2} - \\frac{1}{2} l_{1} + x_{1}\\right) + \\chi_{{12}} \\left(- \\frac{1}{2} l_{2} + x_{2}\\right)\\right)\\\\\\varepsilon_{{21}} \\left(- \\frac{1}{2} d_{2} - \\frac{1}{2} l_{1} + x_{1}\\right) + \\varepsilon_{{22}} \\left(- \\frac{1}{2} l_{2} + x_{2}\\right) - \\left(- \\frac{1}{2} h + x_{3}\\right) \\left(\\chi_{{12}} \\left(- \\frac{1}{2} d_{2} - \\frac{1}{2} l_{1} + x_{1}\\right) + \\chi_{{22}} \\left(- \\frac{1}{2} l_{2} + x_{2}\\right)\\right)\\end{smallmatrix}\\right]$$"
       ],
       "output_type": "display_data",
       "text": [
        "\u23a1                 \u239b  d\u2082   l\u2081     \u239e                    \u239b  l\u2082     \u239e   \u239b  h     \u239e\n",
        "\u23a2\\varepsilon_{11}\u22c5\u239c- \u2500\u2500 - \u2500\u2500 + x\u2081\u239f + \\varepsilon_{12}\u22c5\u239c- \u2500\u2500 + x\u2082\u239f - \u239c- \u2500 + x\u2083\u239f\n",
        "\u23a2                 \u239d  2    2      \u23a0                    \u239d  2      \u23a0   \u239d  2     \u23a0\n",
        "\u23a2                                                                             \n",
        "\u23a2                 \u239b  d\u2082   l\u2081     \u239e                    \u239b  l\u2082     \u239e   \u239b  h     \u239e\n",
        "\u23a2\\varepsilon_{21}\u22c5\u239c- \u2500\u2500 - \u2500\u2500 + x\u2081\u239f + \\varepsilon_{22}\u22c5\u239c- \u2500\u2500 + x\u2082\u239f - \u239c- \u2500 + x\u2083\u239f\n",
        "\u23a3                 \u239d  2    2      \u23a0                    \u239d  2      \u23a0   \u239d  2     \u23a0\n",
        "\n",
        " \u239b          \u239b  d\u2082   l\u2081     \u239e             \u239b  l\u2082     \u239e\u239e\u23a4\n",
        "\u22c5\u239c\\chi_{11}\u22c5\u239c- \u2500\u2500 - \u2500\u2500 + x\u2081\u239f + \\chi_{12}\u22c5\u239c- \u2500\u2500 + x\u2082\u239f\u239f\u23a5\n",
        " \u239d          \u239d  2    2      \u23a0             \u239d  2      \u23a0\u23a0\u23a5\n",
        "                                                     \u23a5\n",
        " \u239b          \u239b  d\u2082   l\u2081     \u239e             \u239b  l\u2082     \u239e\u239e\u23a5\n",
        "\u22c5\u239c\\chi_{12}\u22c5\u239c- \u2500\u2500 - \u2500\u2500 + x\u2081\u239f + \\chi_{22}\u22c5\u239c- \u2500\u2500 + x\u2082\u239f\u239f\u23a5\n",
        " \u239d          \u239d  2    2      \u23a0             \u239d  2      \u23a0\u23a0\u23a6"
       ]
      },
      {
       "latex": [
        "$$\\frac{1}{2} \\chi_{{11}} \\left(- \\frac{1}{2} d_{2} - \\frac{1}{2} l_{1} + x_{1}\\right)^{2} + \\chi_{{12}} \\left(- \\frac{1}{2} l_{2} + x_{2}\\right) \\left(- \\frac{1}{2} d_{2} - \\frac{1}{2} l_{1} + x_{1}\\right) + \\frac{1}{2} \\chi_{{22}} \\left(- \\frac{1}{2} l_{2} + x_{2}\\right)^{2}$$"
       ],
       "output_type": "display_data",
       "png": "[encoded data removed]",
       "text": [
        "                          2                                                   \n",
        "          \u239b  d\u2082   l\u2081     \u239e                                                    \n",
        "\\chi_{11}\u22c5\u239c- \u2500\u2500 - \u2500\u2500 + x\u2081\u239f                                             \\chi_{2\n",
        "          \u239d  2    2      \u23a0              \u239b  l\u2082     \u239e \u239b  d\u2082   l\u2081     \u239e          \n",
        "\u2500\u2500\u2500\u2500\u2500\u2500\u2500\u2500\u2500\u2500\u2500\u2500\u2500\u2500\u2500\u2500\u2500\u2500\u2500\u2500\u2500\u2500\u2500\u2500\u2500\u2500\u2500 + \\chi_{12}\u22c5\u239c- \u2500\u2500 + x\u2082\u239f\u22c5\u239c- \u2500\u2500 - \u2500\u2500 + x\u2081\u239f + \u2500\u2500\u2500\u2500\u2500\u2500\u2500\n",
        "             2                          \u239d  2      \u23a0 \u239d  2    2      \u23a0          \n",
        "\n",
        "              2\n",
        "   \u239b  l\u2082     \u239e \n",
        "2}\u22c5\u239c- \u2500\u2500 + x\u2082\u239f \n",
        "   \u239d  2      \u23a0 \n",
        "\u2500\u2500\u2500\u2500\u2500\u2500\u2500\u2500\u2500\u2500\u2500\u2500\u2500\u2500\u2500\n",
        "   2           "
       ]
      }
     ],
     "prompt_number": 86
    },
    {
     "cell_type": "markdown",
     "metadata": {},
     "source": [
      "## Loadcases\n",
      "$\\chi_{11}\\neq 0$"
     ]
    },
    {
     "cell_type": "code",
     "collapsed": false,
     "input": [
      "%pylab gtk\n",
      "from PIL import Image\n",
      "datafile = ('/usr2/gager/Simulations/Misc/SimMI21/images/chi11_2.png')\n",
      "twist = Image.open(datafile)\n",
      "dpi = rcParams['figure.dpi']*2\n",
      "figsize = twist.size[0]/dpi, twist.size[1]/dpi\n",
      "\n",
      "figure(figsize=figsize)\n",
      "ax = axes([0,0,1,1], frameon=False)\n",
      "ax.set_axis_off()\n",
      "imshow(twist);\n",
      "ax.invert_yaxis()"
     ],
     "language": "python",
     "metadata": {},
     "outputs": [
      {
       "output_type": "stream",
       "stream": "stdout",
       "text": [
        "\n",
        "Welcome to pylab, a matplotlib-based Python environment [backend: GTKAgg].\n",
        "For more information, type 'help(pylab)'.\n"
       ]
      }
     ],
     "prompt_number": 87
    },
    {
     "cell_type": "code",
     "collapsed": false,
     "input": [
      "Math(conmat(Rm)+'='+conmat(c.subs({c12:0, c21:0, c22:0})))"
     ],
     "language": "python",
     "metadata": {},
     "outputs": [
      {
       "latex": [
        "$$\\begin{pmatrix}- R_{2} & - S_{2}\\\\R_{1} & S_{1}\\end{pmatrix}=\\begin{pmatrix}\\chi_{{11}} l_{1} & \\chi_{{11}} d_{2}\\\\0 & 0\\end{pmatrix}$$"
       ],
       "output_type": "pyout",
       "prompt_number": 88,
       "text": [
        "<IPython.core.display.Math object at 0x440bd50>"
       ]
      }
     ],
     "prompt_number": 88
    },
    {
     "cell_type": "markdown",
     "metadata": {},
     "source": [
      "$\\rightarrow$ same equation as before! Just replace $\\varepsilon$ with $\\chi$"
     ]
    },
    {
     "cell_type": "code",
     "collapsed": false,
     "input": [
      "Rsubsdict = {R1: -1/(h)*((u2ap-u2a)-(u20p-u20)),\n",
      "             R2:  1/(h)*((u1ap-u1a)-(u10p-u10)),  \n",
      "             S1: -1/(h)*((u2bp-u2b)-(u20p-u20)),  \n",
      "             S2:  1/(h)*((u1bp-u1b)-(u10p-u10)),\n",
      "             T:   -1/(h*l1)*((u2ap-u2a)-(u20p-u20))}"
     ],
     "language": "python",
     "metadata": {},
     "outputs": [],
     "prompt_number": 89
    },
    {
     "cell_type": "code",
     "collapsed": false,
     "input": [
      "# old set\n",
      "Nobend_B = {u10p:0, u10:0, u20p:0, u20:0, u2ap:-u2a, u2bp:-u2b, u1ap:-u1a, u1bp:-u1b}\n",
      "Nobend_T = {u10p:0, u10:0, u20p:0, u20:0, u2a:-u2ap, u2b:-u2bp, u1a:-u1ap, u1b:-u1bp}"
     ],
     "language": "python",
     "metadata": {},
     "outputs": [],
     "prompt_number": 90
    },
    {
     "cell_type": "code",
     "collapsed": false,
     "input": [
      "Math('$$'+conmat(c.subs({c12:0, c21:0, c22:0})*h/2)+'='+conmat(Rm.subs(Rsubsdict).subs(Nobend_B)*h/2)+'='+ \n",
      "conmat(Rm.subs(Rsubsdict).subs(Nobend_T)*h/2)+'$$')"
     ],
     "language": "python",
     "metadata": {},
     "outputs": [
      {
       "latex": [
        "$$\\begin{pmatrix}\\frac{1}{2} \\chi_{{11}} h l_{1} & \\frac{1}{2} \\chi_{{11}} d_{2} h\\\\0 & 0\\end{pmatrix}=\\begin{pmatrix}u^{{A}}_{1} & u^{{B}}_{1}\\\\u^{{A}}_{2} & u^{{B}}_{2}\\end{pmatrix}=\\begin{pmatrix}- u^{{A+}}_{1} & - u^{{B+}}_{1}\\\\- u^{{A+}}_{2} & - u^{{B+}}_{2}\\end{pmatrix}$$"
       ],
       "output_type": "pyout",
       "prompt_number": 91,
       "text": [
        "<IPython.core.display.Math object at 0x56fa910>"
       ]
      }
     ],
     "prompt_number": 91
    },
    {
     "cell_type": "markdown",
     "metadata": {},
     "source": [
      "using Daxner notation"
     ]
    },
    {
     "cell_type": "code",
     "collapsed": false,
     "input": [
      "u1ap_d, u1a_d, u2ap_d, u2a_d, u3ap_d, u3a_d = symbols('u_1^{\\mathrm{SET}} u_1^{\\mathrm{SEB}} u_2^{\\mathrm{SET}} u_2^{\\mathrm{SEB}} u_3^{\\mathrm{SET}} u_3^{\\mathrm{SEB}}')\n",
      "u10p_d, u10_d, u20p_d, u20_d, u30p_d, u30_d = symbols('u_1^{\\mathrm{SWT}} u_1^{\\mathrm{SWB}} u_2^{\\mathrm{SWT}} u_2^{\\mathrm{SWB}} u_3^{\\mathrm{SWT}} u_3^{\\mathrm{SWB}}')\n",
      "u1bp_d, u1b_d, u2bp_d, u2b_d, u3bp_d, u3b_d = symbols('u_1^{\\mathrm{NWT}} u_1^{\\mathrm{NWB}} u_2^{\\mathrm{NWT}} u_2^{\\mathrm{NWB}} u_3^{\\mathrm{NWT}} u_3^{\\mathrm{NWB}}')\n",
      "\n",
      "ndax = (u1ap_d, u1a_d, u2ap_d, u2a_d, u3ap_d, u3a_d, u10p_d, u10_d, u20p_d, u20_d, u30p_d, u30_d, u1bp_d, u1b_d, u2bp_d, u2b_d, u3bp_d, u3b_d)\n",
      "npa = (u1ap, u1a, u2ap, u2a, u3ap, u3a, u10p, u10, u20p, u20, u30p, u30, u1bp, u1b, u2bp, u2b, u3bp, u3b)\n",
      "#converter dictionary\n",
      "pa2dx = dict(zip(npa, ndax))"
     ],
     "language": "python",
     "metadata": {},
     "outputs": [],
     "prompt_number": 92
    },
    {
     "cell_type": "code",
     "collapsed": false,
     "input": [
      "Math(conmat(c.subs({c12:0, c21:0, c22:0})*h/2)+'='+conmat(Rm.subs(Rsubsdict).subs(Nobend_B).subs(pa2dx)*h/2)+'='+ \n",
      "conmat(Rm.subs(Rsubsdict).subs(Nobend_T).subs(pa2dx)*h/2))"
     ],
     "language": "python",
     "metadata": {},
     "outputs": [
      {
       "latex": [
        "$$\\begin{pmatrix}\\frac{1}{2} \\chi_{{11}} h l_{1} & \\frac{1}{2} \\chi_{{11}} d_{2} h\\\\0 & 0\\end{pmatrix}=\\begin{pmatrix}u^{{\\mathrm{SEB}}}_{1} & u^{{\\mathrm{NWB}}}_{1}\\\\u^{{\\mathrm{SEB}}}_{2} & u^{{\\mathrm{NWB}}}_{2}\\end{pmatrix}=\\begin{pmatrix}- u^{{\\mathrm{SET}}}_{1} & - u^{{\\mathrm{NWT}}}_{1}\\\\- u^{{\\mathrm{SET}}}_{2} & - u^{{\\mathrm{NWT}}}_{2}\\end{pmatrix}$$"
       ],
       "output_type": "pyout",
       "prompt_number": 93,
       "text": [
        "<IPython.core.display.Math object at 0x56fa5d0>"
       ]
      }
     ],
     "prompt_number": 93
    },
    {
     "cell_type": "markdown",
     "metadata": {},
     "source": [
      "Compare with Anthoine"
     ]
    },
    {
     "cell_type": "code",
     "collapsed": false,
     "input": [
      "# Masternodes:\n",
      "MNodes = [[r'u^{\\mathrm{SWB}}',{x1:0 ,x2:0 ,x3:0}],\n",
      "          [r'u^{\\mathrm{SWT}}',{x1:0 ,x2:0 ,x3:h}],\n",
      "          [r'u^{\\mathrm{SEB}}',{x1:l1,x2:0 ,x3:0}],\n",
      "          [r'u^{\\mathrm{SET}}',{x1:l1,x2:0 ,x3:h}],\n",
      "          [r'u^{\\mathrm{NWB}}',{x1:d2,x2:l2,x3:0}],\n",
      "          [r'u^{\\mathrm{NWT}}',{x1:d2,x2:l2,x3:h}]]\n",
      "load = {e11:0, e12:0, e21:0, e22:0, c12:0, c22:0}"
     ],
     "language": "python",
     "metadata": {},
     "outputs": [],
     "prompt_number": 94
    },
    {
     "cell_type": "code",
     "collapsed": false,
     "input": [
      "ui_A.subs({e11:0, e12:0, e21:0, e22:0, c12:0, c22:0, x1:l1, x2:0, x3:h})\n",
      "ui_A"
     ],
     "language": "python",
     "metadata": {},
     "outputs": [
      {
       "latex": [
        "$$\\left[\\begin{smallmatrix}\\varepsilon_{{11}} \\left(- \\frac{1}{2} d_{2} - \\frac{1}{2} l_{1} + x_{1}\\right) + \\varepsilon_{{12}} \\left(- \\frac{1}{2} l_{2} + x_{2}\\right) - \\left(- \\frac{1}{2} h + x_{3}\\right) \\left(\\chi_{{11}} \\left(- \\frac{1}{2} d_{2} - \\frac{1}{2} l_{1} + x_{1}\\right) + \\chi_{{12}} \\left(- \\frac{1}{2} l_{2} + x_{2}\\right)\\right)\\\\\\varepsilon_{{21}} \\left(- \\frac{1}{2} d_{2} - \\frac{1}{2} l_{1} + x_{1}\\right) + \\varepsilon_{{22}} \\left(- \\frac{1}{2} l_{2} + x_{2}\\right) - \\left(- \\frac{1}{2} h + x_{3}\\right) \\left(\\chi_{{12}} \\left(- \\frac{1}{2} d_{2} - \\frac{1}{2} l_{1} + x_{1}\\right) + \\chi_{{22}} \\left(- \\frac{1}{2} l_{2} + x_{2}\\right)\\right)\\end{smallmatrix}\\right]$$"
       ],
       "output_type": "pyout",
       "prompt_number": 95,
       "text": [
        "\u23a1                 \u239b  d\u2082   l\u2081     \u239e                    \u239b  l\u2082     \u239e   \u239b  h     \u239e\n",
        "\u23a2\\varepsilon_{11}\u22c5\u239c- \u2500\u2500 - \u2500\u2500 + x\u2081\u239f + \\varepsilon_{12}\u22c5\u239c- \u2500\u2500 + x\u2082\u239f - \u239c- \u2500 + x\u2083\u239f\n",
        "\u23a2                 \u239d  2    2      \u23a0                    \u239d  2      \u23a0   \u239d  2     \u23a0\n",
        "\u23a2                                                                             \n",
        "\u23a2                 \u239b  d\u2082   l\u2081     \u239e                    \u239b  l\u2082     \u239e   \u239b  h     \u239e\n",
        "\u23a2\\varepsilon_{21}\u22c5\u239c- \u2500\u2500 - \u2500\u2500 + x\u2081\u239f + \\varepsilon_{22}\u22c5\u239c- \u2500\u2500 + x\u2082\u239f - \u239c- \u2500 + x\u2083\u239f\n",
        "\u23a3                 \u239d  2    2      \u23a0                    \u239d  2      \u23a0   \u239d  2     \u23a0\n",
        "\n",
        " \u239b          \u239b  d\u2082   l\u2081     \u239e             \u239b  l\u2082     \u239e\u239e\u23a4\n",
        "\u22c5\u239c\\chi_{11}\u22c5\u239c- \u2500\u2500 - \u2500\u2500 + x\u2081\u239f + \\chi_{12}\u22c5\u239c- \u2500\u2500 + x\u2082\u239f\u239f\u23a5\n",
        " \u239d          \u239d  2    2      \u23a0             \u239d  2      \u23a0\u23a0\u23a5\n",
        "                                                     \u23a5\n",
        " \u239b          \u239b  d\u2082   l\u2081     \u239e             \u239b  l\u2082     \u239e\u239e\u23a5\n",
        "\u22c5\u239c\\chi_{12}\u22c5\u239c- \u2500\u2500 - \u2500\u2500 + x\u2081\u239f + \\chi_{22}\u22c5\u239c- \u2500\u2500 + x\u2082\u239f\u239f\u23a5\n",
        " \u239d          \u239d  2    2      \u23a0             \u239d  2      \u23a0\u23a0\u23a6"
       ]
      }
     ],
     "prompt_number": 95
    },
    {
     "cell_type": "code",
     "collapsed": false,
     "input": [
      "u3_A.subs({c12:0, c22:0, x1:l1})"
     ],
     "language": "python",
     "metadata": {},
     "outputs": [
      {
       "latex": [
        "$$\\frac{1}{2} \\chi_{{11}} \\left(- \\frac{1}{2} d_{2} + \\frac{1}{2} l_{1}\\right)^{2}$$"
       ],
       "output_type": "pyout",
       "png": "[encoded data removed]",
       "prompt_number": 96,
       "text": [
        "                     2\n",
        "          \u239b  d\u2082   l\u2081\u239e \n",
        "\\chi_{11}\u22c5\u239c- \u2500\u2500 + \u2500\u2500\u239f \n",
        "          \u239d  2    2 \u23a0 \n",
        "\u2500\u2500\u2500\u2500\u2500\u2500\u2500\u2500\u2500\u2500\u2500\u2500\u2500\u2500\u2500\u2500\u2500\u2500\u2500\u2500\u2500\u2500\n",
        "          2           "
       ]
      }
     ],
     "prompt_number": 96
    },
    {
     "cell_type": "code",
     "collapsed": false,
     "input": [
      "for node in MNodes:\n",
      "    display(Math(node[0]+'='+conmat(Matrix([ui_A[0],ui_A[1],u3_A]).subs(node[1]).subs(load))))"
     ],
     "language": "python",
     "metadata": {},
     "outputs": [
      {
       "latex": [
        "$$u^{\\mathrm{SWB}}=\\begin{pmatrix}\\frac{1}{2} \\chi_{{11}} h \\left(- \\frac{1}{2} d_{2} - \\frac{1}{2} l_{1}\\right)\\\\0\\\\\\frac{1}{2} \\chi_{{11}} \\left(- \\frac{1}{2} d_{2} - \\frac{1}{2} l_{1}\\right)^{2}\\end{pmatrix}$$"
       ],
       "output_type": "display_data",
       "text": [
        "<IPython.core.display.Math object at 0x46ff4d0>"
       ]
      },
      {
       "latex": [
        "$$u^{\\mathrm{SWT}}=\\begin{pmatrix}- \\frac{1}{2} \\chi_{{11}} h \\left(- \\frac{1}{2} d_{2} - \\frac{1}{2} l_{1}\\right)\\\\0\\\\\\frac{1}{2} \\chi_{{11}} \\left(- \\frac{1}{2} d_{2} - \\frac{1}{2} l_{1}\\right)^{2}\\end{pmatrix}$$"
       ],
       "output_type": "display_data",
       "text": [
        "<IPython.core.display.Math object at 0x46ff4d0>"
       ]
      },
      {
       "latex": [
        "$$u^{\\mathrm{SEB}}=\\begin{pmatrix}\\frac{1}{2} \\chi_{{11}} h \\left(- \\frac{1}{2} d_{2} + \\frac{1}{2} l_{1}\\right)\\\\0\\\\\\frac{1}{2} \\chi_{{11}} \\left(- \\frac{1}{2} d_{2} + \\frac{1}{2} l_{1}\\right)^{2}\\end{pmatrix}$$"
       ],
       "output_type": "display_data",
       "text": [
        "<IPython.core.display.Math object at 0x46ff4d0>"
       ]
      },
      {
       "latex": [
        "$$u^{\\mathrm{SET}}=\\begin{pmatrix}- \\frac{1}{2} \\chi_{{11}} h \\left(- \\frac{1}{2} d_{2} + \\frac{1}{2} l_{1}\\right)\\\\0\\\\\\frac{1}{2} \\chi_{{11}} \\left(- \\frac{1}{2} d_{2} + \\frac{1}{2} l_{1}\\right)^{2}\\end{pmatrix}$$"
       ],
       "output_type": "display_data",
       "text": [
        "<IPython.core.display.Math object at 0x46ff4d0>"
       ]
      },
      {
       "latex": [
        "$$u^{\\mathrm{NWB}}=\\begin{pmatrix}\\frac{1}{2} \\chi_{{11}} h \\left(\\frac{1}{2} d_{2} - \\frac{1}{2} l_{1}\\right)\\\\0\\\\\\frac{1}{2} \\chi_{{11}} \\left(\\frac{1}{2} d_{2} - \\frac{1}{2} l_{1}\\right)^{2}\\end{pmatrix}$$"
       ],
       "output_type": "display_data",
       "text": [
        "<IPython.core.display.Math object at 0x46ff4d0>"
       ]
      },
      {
       "latex": [
        "$$u^{\\mathrm{NWT}}=\\begin{pmatrix}- \\frac{1}{2} \\chi_{{11}} h \\left(\\frac{1}{2} d_{2} - \\frac{1}{2} l_{1}\\right)\\\\0\\\\\\frac{1}{2} \\chi_{{11}} \\left(\\frac{1}{2} d_{2} - \\frac{1}{2} l_{1}\\right)^{2}\\end{pmatrix}$$"
       ],
       "output_type": "display_data",
       "text": [
        "<IPython.core.display.Math object at 0x46ff4d0>"
       ]
      }
     ],
     "prompt_number": 97
    },
    {
     "cell_type": "markdown",
     "metadata": {},
     "source": [
      "$\\chi_{22}\\neq 0$"
     ]
    },
    {
     "cell_type": "code",
     "collapsed": false,
     "input": [
      "datafile = ('/usr2/gager/Simulations/Misc/SimMI21/images/chi22_2.png')\n",
      "twist = Image.open(datafile)\n",
      "dpi = rcParams['figure.dpi']*2\n",
      "figsize = twist.size[0]/dpi, twist.size[1]/dpi\n",
      "\n",
      "figure(figsize=figsize)\n",
      "ax = axes([0,0,1,1], frameon=False)\n",
      "ax.set_axis_off()\n",
      "imshow(twist);\n",
      "ax.invert_yaxis()"
     ],
     "language": "python",
     "metadata": {},
     "outputs": [],
     "prompt_number": 98
    },
    {
     "cell_type": "code",
     "collapsed": false,
     "input": [
      "Math(conmat(c.subs({c12:0, c21:0, c11:0})*h/2)+'='+conmat(Rm.subs(Rsubsdict).subs(Nobend_B).subs(pa2dx)*h/2)+'='+ \n",
      "conmat(Rm.subs(Rsubsdict).subs(Nobend_T).subs(pa2dx)*h/2))"
     ],
     "language": "python",
     "metadata": {},
     "outputs": [
      {
       "latex": [
        "$$\\begin{pmatrix}0 & 0\\\\0 & \\frac{1}{2} \\chi_{{22}} h l_{2}\\end{pmatrix}=\\begin{pmatrix}u^{{\\mathrm{SEB}}}_{1} & u^{{\\mathrm{NWB}}}_{1}\\\\u^{{\\mathrm{SEB}}}_{2} & u^{{\\mathrm{NWB}}}_{2}\\end{pmatrix}=\\begin{pmatrix}- u^{{\\mathrm{SET}}}_{1} & - u^{{\\mathrm{NWT}}}_{1}\\\\- u^{{\\mathrm{SET}}}_{2} & - u^{{\\mathrm{NWT}}}_{2}\\end{pmatrix}$$"
       ],
       "output_type": "pyout",
       "prompt_number": 99,
       "text": [
        "<IPython.core.display.Math object at 0x5617bd0>"
       ]
      }
     ],
     "prompt_number": 99
    },
    {
     "cell_type": "code",
     "collapsed": false,
     "input": [
      "load = {e11:0, e12:0, e21:0, e22:0, c12:0, c11:0}\n",
      "for node in MNodes:\n",
      "    display(Math(node[0]+'='+conmat(Matrix([ui_A[0],ui_A[1],u3_A]).subs(node[1]).subs(load))))"
     ],
     "language": "python",
     "metadata": {},
     "outputs": [
      {
       "latex": [
        "$$u^{\\mathrm{SWB}}=\\begin{pmatrix}0\\\\- \\frac{1}{4} \\chi_{{22}} h l_{2}\\\\\\frac{1}{8} \\chi_{{22}} l_{2}^{2}\\end{pmatrix}$$"
       ],
       "output_type": "display_data",
       "text": [
        "<IPython.core.display.Math object at 0x5617f90>"
       ]
      },
      {
       "latex": [
        "$$u^{\\mathrm{SWT}}=\\begin{pmatrix}0\\\\\\frac{1}{4} \\chi_{{22}} h l_{2}\\\\\\frac{1}{8} \\chi_{{22}} l_{2}^{2}\\end{pmatrix}$$"
       ],
       "output_type": "display_data",
       "text": [
        "<IPython.core.display.Math object at 0x5617f90>"
       ]
      },
      {
       "latex": [
        "$$u^{\\mathrm{SEB}}=\\begin{pmatrix}0\\\\- \\frac{1}{4} \\chi_{{22}} h l_{2}\\\\\\frac{1}{8} \\chi_{{22}} l_{2}^{2}\\end{pmatrix}$$"
       ],
       "output_type": "display_data",
       "text": [
        "<IPython.core.display.Math object at 0x5617f90>"
       ]
      },
      {
       "latex": [
        "$$u^{\\mathrm{SET}}=\\begin{pmatrix}0\\\\\\frac{1}{4} \\chi_{{22}} h l_{2}\\\\\\frac{1}{8} \\chi_{{22}} l_{2}^{2}\\end{pmatrix}$$"
       ],
       "output_type": "display_data",
       "text": [
        "<IPython.core.display.Math object at 0x5617f90>"
       ]
      },
      {
       "latex": [
        "$$u^{\\mathrm{NWB}}=\\begin{pmatrix}0\\\\\\frac{1}{4} \\chi_{{22}} h l_{2}\\\\\\frac{1}{8} \\chi_{{22}} l_{2}^{2}\\end{pmatrix}$$"
       ],
       "output_type": "display_data",
       "text": [
        "<IPython.core.display.Math object at 0x5617f90>"
       ]
      },
      {
       "latex": [
        "$$u^{\\mathrm{NWT}}=\\begin{pmatrix}0\\\\- \\frac{1}{4} \\chi_{{22}} h l_{2}\\\\\\frac{1}{8} \\chi_{{22}} l_{2}^{2}\\end{pmatrix}$$"
       ],
       "output_type": "display_data",
       "text": [
        "<IPython.core.display.Math object at 0x5617f90>"
       ]
      }
     ],
     "prompt_number": 100
    },
    {
     "cell_type": "markdown",
     "metadata": {},
     "source": [
      "$\\chi_{12}=\\chi_{21}\\neq 0$"
     ]
    },
    {
     "cell_type": "code",
     "collapsed": false,
     "input": [
      "datafile = ('/usr2/gager/Simulations/Misc/SimMI21/images/chi12_2.png')\n",
      "twist = Image.open(datafile)\n",
      "dpi = rcParams['figure.dpi']*2\n",
      "figsize = twist.size[0]/dpi, twist.size[1]/dpi\n",
      "\n",
      "figure(figsize=figsize)\n",
      "ax = axes([0,0,1,1], frameon=False)\n",
      "ax.set_axis_off()\n",
      "imshow(twist);\n",
      "ax.invert_yaxis()"
     ],
     "language": "python",
     "metadata": {},
     "outputs": [],
     "prompt_number": 101
    },
    {
     "cell_type": "code",
     "collapsed": false,
     "input": [
      "Math(conmat(c.subs({c21:c12, c22:0, c11:0})*h/2)+'='+conmat(Rm.subs(Rsubsdict).subs(Nobend_B).subs(pa2dx)*h/2)+'='+ \n",
      "conmat(Rm.subs(Rsubsdict).subs(Nobend_T).subs(pa2dx)*h/2))"
     ],
     "language": "python",
     "metadata": {},
     "outputs": [
      {
       "latex": [
        "$$\\begin{pmatrix}0 & \\frac{1}{2} \\chi_{{12}} h l_{2}\\\\\\frac{1}{2} \\chi_{{12}} h l_{1} & \\frac{1}{2} \\chi_{{12}} d_{2} h\\end{pmatrix}=\\begin{pmatrix}u^{{\\mathrm{SEB}}}_{1} & u^{{\\mathrm{NWB}}}_{1}\\\\u^{{\\mathrm{SEB}}}_{2} & u^{{\\mathrm{NWB}}}_{2}\\end{pmatrix}=\\begin{pmatrix}- u^{{\\mathrm{SET}}}_{1} & - u^{{\\mathrm{NWT}}}_{1}\\\\- u^{{\\mathrm{SET}}}_{2} & - u^{{\\mathrm{NWT}}}_{2}\\end{pmatrix}$$"
       ],
       "output_type": "pyout",
       "prompt_number": 102,
       "text": [
        "<IPython.core.display.Math object at 0x6610390>"
       ]
      }
     ],
     "prompt_number": 102
    },
    {
     "cell_type": "code",
     "collapsed": false,
     "input": [
      "load = {e11:0, e12:0, e21:0, e22:0, c22:0, c11:0}\n",
      "for node in MNodes:\n",
      "    display(Math(node[0]+'='+conmat(Matrix([ui_A[0],ui_A[1],u3_A]).subs(node[1]).subs(load))))"
     ],
     "language": "python",
     "metadata": {},
     "outputs": [
      {
       "latex": [
        "$$u^{\\mathrm{SWB}}=\\begin{pmatrix}- \\frac{1}{4} \\chi_{{12}} h l_{2}\\\\\\frac{1}{2} \\chi_{{12}} h \\left(- \\frac{1}{2} d_{2} - \\frac{1}{2} l_{1}\\right)\\\\- \\frac{1}{2} \\chi_{{12}} l_{2} \\left(- \\frac{1}{2} d_{2} - \\frac{1}{2} l_{1}\\right)\\end{pmatrix}$$"
       ],
       "output_type": "display_data",
       "text": [
        "<IPython.core.display.Math object at 0x549e510>"
       ]
      },
      {
       "latex": [
        "$$u^{\\mathrm{SWT}}=\\begin{pmatrix}\\frac{1}{4} \\chi_{{12}} h l_{2}\\\\- \\frac{1}{2} \\chi_{{12}} h \\left(- \\frac{1}{2} d_{2} - \\frac{1}{2} l_{1}\\right)\\\\- \\frac{1}{2} \\chi_{{12}} l_{2} \\left(- \\frac{1}{2} d_{2} - \\frac{1}{2} l_{1}\\right)\\end{pmatrix}$$"
       ],
       "output_type": "display_data",
       "text": [
        "<IPython.core.display.Math object at 0x4bc0ad0>"
       ]
      },
      {
       "latex": [
        "$$u^{\\mathrm{SEB}}=\\begin{pmatrix}- \\frac{1}{4} \\chi_{{12}} h l_{2}\\\\\\frac{1}{2} \\chi_{{12}} h \\left(- \\frac{1}{2} d_{2} + \\frac{1}{2} l_{1}\\right)\\\\- \\frac{1}{2} \\chi_{{12}} l_{2} \\left(- \\frac{1}{2} d_{2} + \\frac{1}{2} l_{1}\\right)\\end{pmatrix}$$"
       ],
       "output_type": "display_data",
       "text": [
        "<IPython.core.display.Math object at 0x4bc0ad0>"
       ]
      },
      {
       "latex": [
        "$$u^{\\mathrm{SET}}=\\begin{pmatrix}\\frac{1}{4} \\chi_{{12}} h l_{2}\\\\- \\frac{1}{2} \\chi_{{12}} h \\left(- \\frac{1}{2} d_{2} + \\frac{1}{2} l_{1}\\right)\\\\- \\frac{1}{2} \\chi_{{12}} l_{2} \\left(- \\frac{1}{2} d_{2} + \\frac{1}{2} l_{1}\\right)\\end{pmatrix}$$"
       ],
       "output_type": "display_data",
       "text": [
        "<IPython.core.display.Math object at 0x4bc0ad0>"
       ]
      },
      {
       "latex": [
        "$$u^{\\mathrm{NWB}}=\\begin{pmatrix}\\frac{1}{4} \\chi_{{12}} h l_{2}\\\\\\frac{1}{2} \\chi_{{12}} h \\left(\\frac{1}{2} d_{2} - \\frac{1}{2} l_{1}\\right)\\\\\\frac{1}{2} \\chi_{{12}} l_{2} \\left(\\frac{1}{2} d_{2} - \\frac{1}{2} l_{1}\\right)\\end{pmatrix}$$"
       ],
       "output_type": "display_data",
       "text": [
        "<IPython.core.display.Math object at 0x4bc0ad0>"
       ]
      },
      {
       "latex": [
        "$$u^{\\mathrm{NWT}}=\\begin{pmatrix}- \\frac{1}{4} \\chi_{{12}} h l_{2}\\\\- \\frac{1}{2} \\chi_{{12}} h \\left(\\frac{1}{2} d_{2} - \\frac{1}{2} l_{1}\\right)\\\\\\frac{1}{2} \\chi_{{12}} l_{2} \\left(\\frac{1}{2} d_{2} - \\frac{1}{2} l_{1}\\right)\\end{pmatrix}$$"
       ],
       "output_type": "display_data",
       "text": [
        "<IPython.core.display.Math object at 0x4bc0ad0>"
       ]
      }
     ],
     "prompt_number": 103
    },
    {
     "cell_type": "heading",
     "level": 2,
     "metadata": {},
     "source": [
      "Setup Unit Cell (PCCL Geo)"
     ]
    },
    {
     "cell_type": "code",
     "collapsed": false,
     "input": [
      "import numpy as np\n",
      "# side lengths\n",
      "l1_n=14.27\n",
      "l2_n=14.27\n",
      "l3_n=0.564\n",
      "\n",
      "# shear angle\n",
      "gamma = 30*np.pi/180\n",
      "\n",
      "#layer\n",
      "layer = 1\n",
      "\n",
      "l1s_n = l1_n/np.cos(gamma/2.)\n",
      "l2s_n = l2_n/np.cos(gamma/2.)*np.cos(gamma)\n",
      "d2_n = l2_n/np.cos(gamma/2.)*np.sin(gamma)\n",
      "h_n = layer*l3_n\n",
      "\n",
      "# shear matrix\n",
      "a = np.tan(gamma/2.)\n",
      "smat = np.matrix([[1,a],[a,1]])\n",
      "\n",
      "# rotation matrix\n",
      "rotm = lambda g: np.matrix([[cos(g), -sin(g)],[sin(g), cos(g)]])\n",
      "\n",
      "pa=[l1s_n,0]\n",
      "pb=[d2_n, l2s_n]\n",
      "\n",
      "print 'l1s: ',l1s_n\n",
      "print 'l2s: ',l2s_n\n",
      "print 'd2: ',d2_n\n",
      "print 'h: ', h_n\n",
      "\n",
      "zero = np.zeros(2)\n",
      "\n",
      "pax,pay = zip(zero,pa)\n",
      "pbx,pby = zip(zero,pb)\n",
      "\n",
      "#from matplotlib.pyplot  import plot\n",
      "#plot(pax,pay,'r',lw=2)\n",
      "#plot(pbx,pby,'b',lw=2)\n",
      "#ylim(0,1);"
     ],
     "language": "python",
     "metadata": {},
     "outputs": [
      {
       "output_type": "stream",
       "stream": "stdout",
       "text": [
        "l1s:  14.7733910945\n",
        "l2s:  12.7941319878\n",
        "d2:  7.38669554723\n",
        "h:  0.564\n"
       ]
      }
     ],
     "prompt_number": 104
    },
    {
     "cell_type": "code",
     "collapsed": false,
     "input": [
      "u.subs({e11:0.1,e12:0, e21:0, e22:0, l1:l1s_n, d2:d2_n})"
     ],
     "language": "python",
     "metadata": {},
     "outputs": [
      {
       "latex": [
        "$$\\left[\\begin{smallmatrix}1.47733910944519 & 0.738669554722594\\\\0 & 0\\end{smallmatrix}\\right]$$"
       ],
       "output_type": "pyout",
       "prompt_number": 105,
       "text": [
        "\u23a11.47733910944519  0.738669554722594\u23a4\n",
        "\u23a2                                   \u23a5\n",
        "\u23a3       0                  0        \u23a6"
       ]
      }
     ],
     "prompt_number": 105
    },
    {
     "cell_type": "code",
     "collapsed": false,
     "input": [
      "Xm = np.matrix([[l1s_n, d2_n],[0,l2s_n]])\n",
      "xm = np.matrix([[l1s_n*1.1, d2_n*1.1],[0,l2s_n]])"
     ],
     "language": "python",
     "metadata": {},
     "outputs": [],
     "prompt_number": 106
    },
    {
     "cell_type": "code",
     "collapsed": false,
     "input": [
      "F = xm*Xm.I\n",
      "F"
     ],
     "language": "python",
     "metadata": {},
     "outputs": [
      {
       "output_type": "pyout",
       "prompt_number": 107,
       "text": [
        " [[ 1.1  0. ]\n",
        " [ 0.   1. ]]"
       ]
      }
     ],
     "prompt_number": 107
    },
    {
     "cell_type": "code",
     "collapsed": false,
     "input": [
      "0.5*(F.T*F-np.eye(2))"
     ],
     "language": "python",
     "metadata": {},
     "outputs": [
      {
       "output_type": "pyout",
       "prompt_number": 108,
       "text": [
        " [[ 0.105  0.   ]\n",
        " [ 0.     0.   ]]"
       ]
      }
     ],
     "prompt_number": 108
    },
    {
     "cell_type": "code",
     "collapsed": false,
     "input": [
      "G = F - np.eye(2)\n",
      "G"
     ],
     "language": "python",
     "metadata": {},
     "outputs": [
      {
       "output_type": "pyout",
       "prompt_number": 109,
       "text": [
        " [[ 0.1  0. ]\n",
        " [ 0.   0. ]]"
       ]
      }
     ],
     "prompt_number": 109
    },
    {
     "cell_type": "code",
     "collapsed": false,
     "input": [
      "0.5*(G+G.T)"
     ],
     "language": "python",
     "metadata": {},
     "outputs": [
      {
       "output_type": "pyout",
       "prompt_number": 110,
       "text": [
        " [[ 0.1  0. ]\n",
        " [ 0.   0. ]]"
       ]
      }
     ],
     "prompt_number": 110
    },
    {
     "cell_type": "code",
     "collapsed": false,
     "input": [],
     "language": "python",
     "metadata": {},
     "outputs": [],
     "prompt_number": 110
    },
    {
     "cell_type": "heading",
     "level": 1,
     "metadata": {},
     "source": [
      "neg. Poisson test (SimBR30) loading 45deg with respect to the braiding direction"
     ]
    },
    {
     "cell_type": "code",
     "collapsed": false,
     "input": [
      "sig11,sig22,sig12 = symbols('\\sigma_11 \\sigma_22 \\sigma_12')\n",
      "\n",
      "stress_val = np.array([[ 45.,25.98076211],\n",
      "                     [ 25.98076211,15. ]])\n",
      "stress_val = np.array([[  23.39555569,   64.27876097],\n",
      "                   [  64.27876097,  176.60444431]])\n",
      "\n",
      "#loading of +-30deg in +30 direction to check warping\n",
      "stress_val = array([[  50.        ,   86.60254038],\n",
      "       [  86.60254038,  150.        ]])\n",
      "\n",
      "stresses = {sig11:stress_val[0,0],sig12:stress_val[0,1],sig22:stress_val[1,1]}\n",
      "geo = {l1:l1s_n,l2:l2s_n,d2:d2_n,h:h_n}"
     ],
     "language": "python",
     "metadata": {},
     "outputs": [],
     "prompt_number": 111
    },
    {
     "cell_type": "code",
     "collapsed": false,
     "input": [
      "print 'F1A=F1A+ (SEB,SET):'\n",
      "f1a=(master_f[0,0]/2).subs({N11:sig11*h,N12:sig12*h}).subs(stresses).subs(geo)\n",
      "f1a"
     ],
     "language": "python",
     "metadata": {},
     "outputs": [
      {
       "output_type": "stream",
       "stream": "stdout",
       "text": [
        "F1A=F1A+ (SEB,SET):\n"
       ]
      },
      {
       "latex": [
        "$$-3.24146753882815 \\times 10^{-9}$$"
       ],
       "output_type": "pyout",
       "png": "[encoded data removed]",
       "prompt_number": 112,
       "text": [
        "-3.24146753882815e-9"
       ]
      }
     ],
     "prompt_number": 112
    },
    {
     "cell_type": "code",
     "collapsed": false,
     "input": [
      "print 'F1B=F1B+ (NWB, NWT):'\n",
      "f1b=(master_f[0,1]/2).subs({N11:sig11*h,N12:sig12*h}).subs(stresses).subs(geo)\n",
      "f1b"
     ],
     "language": "python",
     "metadata": {},
     "outputs": [
      {
       "output_type": "stream",
       "stream": "stdout",
       "text": [
        "F1B=F1B+ (NWB, NWT):\n"
       ]
      },
      {
       "latex": [
        "$$360.794522063518$$"
       ],
       "output_type": "pyout",
       "png": "[encoded data removed]",
       "prompt_number": 113,
       "text": [
        "360.794522063518"
       ]
      }
     ],
     "prompt_number": 113
    },
    {
     "cell_type": "code",
     "collapsed": false,
     "input": [
      "print 'F2A=F2A+:'\n",
      "f2a=(master_f[1,0]/2).subs({N11:sig11*h,N12:sig12*h,N22:sig22*h}).subs(stresses).subs(geo)\n",
      "f2a"
     ],
     "language": "python",
     "metadata": {},
     "outputs": [
      {
       "output_type": "stream",
       "stream": "stdout",
       "text": [
        "F2A=F2A+:\n"
       ]
      },
      {
       "latex": [
        "$$5.61448132430087 \\times 10^{-9}$$"
       ],
       "output_type": "pyout",
       "png": "[encoded data removed]",
       "prompt_number": 114,
       "text": [
        "5.61448132430087e-9"
       ]
      }
     ],
     "prompt_number": 114
    },
    {
     "cell_type": "code",
     "collapsed": false,
     "input": [
      "print 'F2B=F2B+:'\n",
      "f2b=(master_f[1,1]/2).subs({N22:sig22*h,N12:sig12*h}).subs(stresses).subs(geo)\n",
      "f2b"
     ],
     "language": "python",
     "metadata": {},
     "outputs": [
      {
       "output_type": "stream",
       "stream": "stdout",
       "text": [
        "F2B=F2B+:\n"
       ]
      },
      {
       "latex": [
        "$$624.914443295315$$"
       ],
       "output_type": "pyout",
       "png": "[encoded data removed]",
       "prompt_number": 115,
       "text": [
        "624.914443295315"
       ]
      }
     ],
     "prompt_number": 115
    },
    {
     "cell_type": "heading",
     "level": 3,
     "metadata": {},
     "source": [
      "Reaction forces"
     ]
    },
    {
     "cell_type": "code",
     "collapsed": false,
     "input": [
      "print 'RX (SWT1): '\n",
      "rx = -(f1a+f1b)\n",
      "rx"
     ],
     "language": "python",
     "metadata": {},
     "outputs": [
      {
       "output_type": "stream",
       "stream": "stdout",
       "text": [
        "RX (SWT1): \n"
       ]
      },
      {
       "latex": [
        "$$-360.794522060277$$"
       ],
       "output_type": "pyout",
       "png": "[encoded data removed]",
       "prompt_number": 116,
       "text": [
        "-360.794522060277"
       ]
      }
     ],
     "prompt_number": 116
    },
    {
     "cell_type": "code",
     "collapsed": false,
     "input": [
      "print 'RY (SWT2): '\n",
      "ry = -(f2a+f2b)\n",
      "ry"
     ],
     "language": "python",
     "metadata": {},
     "outputs": [
      {
       "output_type": "stream",
       "stream": "stdout",
       "text": [
        "RY (SWT2): \n"
       ]
      },
      {
       "latex": [
        "$$-624.914443300929$$"
       ],
       "output_type": "pyout",
       "png": "[encoded data removed]",
       "prompt_number": 117,
       "text": [
        "-624.914443300929"
       ]
      }
     ],
     "prompt_number": 117
    },
    {
     "cell_type": "code",
     "collapsed": false,
     "input": [],
     "language": "python",
     "metadata": {},
     "outputs": [],
     "prompt_number": 117
    }
   ],
   "metadata": {}
  }
 ]
}