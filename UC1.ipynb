{
 "metadata": {
  "name": "UC1"
 },
 "nbformat": 3,
 "nbformat_minor": 0,
 "worksheets": [
  {
   "cells": [
    {
     "cell_type": "markdown",
     "metadata": {},
     "source": [
      "<style>\n",
      "    .rendered_html h1 {\n",
      "        font-family: Arial;\n",
      "        color: #555;\n",
      "        padding: 10px;\n",
      "        padding-left: 20px;\n",
      "        border: 1px solid #AAA;\n",
      "        box-shadow: 0px 8px 10px -8px #999;\n",
      "        background: #EEE;\n",
      "        text-shadow: 0px 1px 1px white;\n",
      "    }\n",
      "    .rendered_html h2 {\n",
      "        border: 1px solid #BBB;\n",
      "        background: #F9F9F9;\n",
      "        padding:6px;\n",
      "        padding-left: 20px;\n",
      "        color: #4A4A4A;\n",
      "        box-shadow: 0px 8px 10px -10px #888;\n",
      "    }\n",
      "    .rendered_html h3 {\n",
      "        border-bottom: 1px solid #DDD;\n",
      "        border-top: 1px solid #DDD;\n",
      "        padding: 6px;\n",
      "        margin-top: 16px;\n",
      "        margin-bottom: 8px;\n",
      "        padding-left: 20px;\n",
      "        color: #4A4A4A;\n",
      "    }\n",
      "    .rendered_html h6 {\n",
      "        border-top: 1px solid #DDD;\n",
      "        color: #555;\n",
      "        text-align: center;\n",
      "        padding: 8px;\n",
      "    }\n",
      "    .rendered_html hr {\n",
      "        height: 0px;\n",
      "    }\n",
      "    .rendered_html p {\n",
      "        font-size: 16px;\n",
      "        font-family: \"Charis SIL\",serif;\n",
      "        color: #090909;\n",
      "        padding-left: 6px;\n",
      "        padding-right: 6px;\n",
      "        line-height: 145%;\n",
      "    }\n",
      "    .CodeMirror {\n",
      "\t    /*font-family: \"Monospace\";*/\n",
      "        font-size: 14px;\n",
      "    }\n",
      "    div.text_cell {\n",
      "        width: 125ex !important; /* instead of 100%, */\n",
      "    }\n",
      "    div.code_cell {\n",
      "        width: 125ex; /* about 80 chars + buffer */\n",
      "\t}\n",
      "</style>\n",
      "\n",
      "<script type=\"text/javascript\">\n",
      "    show=true;\n",
      "    function toggle(){\n",
      "        if (show){\n",
      "            $('div.input').hide();\n",
      "        }else{\n",
      "            $('div.input').show();\n",
      "        }\n",
      "        show = !show\n",
      "    }\n",
      "</script>\n",
      "<a href=\"javascript:toggle()\" target=\"_self\">toggle input</a>\n",
      "\n",
      "# Plane Periodic Boundary Conditions\n",
      "for continuum and structural elements"
     ]
    },
    {
     "cell_type": "code",
     "collapsed": false,
     "input": [
      "#%load_ext sympyprinting\n",
      "%load_ext sympy.interactive.ipythonprinting\n",
      "from sympy import symbols, Symbol, Matrix, latex, collect, expand, S\n",
      "from sympy import solve as sysolve\n",
      "from IPython.core.display import Math\n",
      "u1,u2 = symbols('U1 U2')\n",
      "v1,v2 = symbols('V1 V2')\n",
      "u1ap, u1a, u2ap, u2a, u3ap, u3a = symbols('u_1^{A+} u_1^{A} u_2^{A+} u_2^{A} u_3^{A+} u_3^{A}')\n",
      "u10p, u10, u20p, u20, u30p, u30 = symbols('u_1^{0+} u_1^{0} u_2^{0+} u_2^{0} u_3^{0+} u_3^{0}')\n",
      "u1bp, u1b, u2bp, u2b, u3bp, u3b = symbols('u_1^{B+} u_1^{B} u_2^{B+} u_2^{B} u_3^{B+} u_3^{B}')\n",
      "e11,e12,e21,e22 = symbols(r'\\varepsilon_{11} \\varepsilon_{12} \\varepsilon_{21} \\varepsilon_{22}')\n",
      "pa1,pa2,pb1,pb2 = symbols('p_1^A p_2^A p_1^B p_2^B')\n",
      "l1s, l2s, d2, l3s = symbols(\"{l_1}', {l_2}', d2 {l_3}'\")\n",
      "h, l1, l2 = symbols('h l1 l2')\n",
      "x1, x2, x3 = symbols('x1 x2 x3')"
     ],
     "language": "python",
     "metadata": {},
     "outputs": [],
     "prompt_number": 1
    },
    {
     "cell_type": "code",
     "collapsed": false,
     "input": [
      "def conmat(mat):\n",
      "    \"\"\"convert sympy latex representation of matrix to be printed with IPython Math\"\"\"\n",
      "    return r'\\begin{p'+latex(mat)[18:][:-19]+'pmatrix}'"
     ],
     "language": "python",
     "metadata": {},
     "outputs": [],
     "prompt_number": 2
    },
    {
     "cell_type": "code",
     "collapsed": false,
     "input": [
      "R1,R2, T = symbols('R1 R2 T')\n",
      "S1,S2 = symbols('S1 S2')\n",
      "c11,c12,c21,c22 = symbols(r'\\chi_{11} \\chi_{12} \\chi_{21} \\chi_{22}')"
     ],
     "language": "python",
     "metadata": {},
     "outputs": [],
     "prompt_number": 3
    },
    {
     "cell_type": "code",
     "collapsed": false,
     "input": [
      "Rsubsdict = {R1: -1/(h)*((u2ap-u2a)-(u20p-u20)),\n",
      "             R2:  1/(h)*((u1ap-u1a)-(u10p-u10)),  \n",
      "             S1: -1/(h)*((u2bp-u2b)-(u20p-u20)),  \n",
      "             S2:  1/(h)*((u1bp-u1b)-(u10p-u10)),\n",
      "             T:  -1/(h*l1)*((u2ap-u2a)-(u20p-u20))}"
     ],
     "language": "python",
     "metadata": {},
     "outputs": [],
     "prompt_number": 4
    },
    {
     "cell_type": "markdown",
     "metadata": {},
     "source": [
      "To use Daxner notation"
     ]
    },
    {
     "cell_type": "code",
     "collapsed": false,
     "input": [
      "u1ap_d, u1a_d, u2ap_d, u2a_d, u3ap_d, u3a_d = symbols('u_1^{\\mathrm{SET}} u_1^{\\mathrm{SEB}} u_2^{\\mathrm{SET}} u_2^{\\mathrm{SEB}} u_3^{\\mathrm{SET}} u_3^{\\mathrm{SEB}}')\n",
      "u10p_d, u10_d, u20p_d, u20_d, u30p_d, u30_d = symbols('u_1^{\\mathrm{SWT}} u_1^{\\mathrm{SWB}} u_2^{\\mathrm{SWT}} u_2^{\\mathrm{SWB}} u_3^{\\mathrm{SWT}} u_3^{\\mathrm{SWB}}')\n",
      "u1bp_d, u1b_d, u2bp_d, u2b_d, u3bp_d, u3b_d = symbols('u_1^{\\mathrm{NWT}} u_1^{\\mathrm{NWB}} u_2^{\\mathrm{NWT}} u_2^{\\mathrm{NWB}} u_3^{\\mathrm{NWT}} u_3^{\\mathrm{NWB}}')\n",
      "\n",
      "ndax = (u1ap_d, u1a_d, u2ap_d, u2a_d, u3ap_d, u3a_d, u10p_d, u10_d, u20p_d, u20_d, u30p_d, u30_d, u1bp_d, u1b_d, u2bp_d, u2b_d, u3bp_d, u3b_d)\n",
      "npa = (u1ap, u1a, u2ap, u2a, u3ap, u3a, u10p, u10, u20p, u20, u30p, u30, u1bp, u1b, u2bp, u2b, u3bp, u3b)\n",
      "#converter dictionary\n",
      "pa2dx = dict(zip(npa, ndax))\n",
      "\n",
      "#collect list used to format output\n",
      "collist = npa"
     ],
     "language": "python",
     "metadata": {},
     "outputs": [],
     "prompt_number": 5
    },
    {
     "cell_type": "markdown",
     "metadata": {},
     "source": [
      "# Derive periodic boundary conditions equations\n",
      "\n",
      "based on report Pahr (Eq.151) "
     ]
    },
    {
     "cell_type": "markdown",
     "metadata": {},
     "source": [
      "## Auxilliary equations\n",
      "### Thickness equations (Eq.159)"
     ]
    },
    {
     "cell_type": "code",
     "collapsed": false,
     "input": [
      "Math(latex(u3ap.subs(pa2dx))+\"=\"+latex(sysolve(1/h*((u3ap-u3a)-(u30p-u30)),u3ap)[0].subs(pa2dx)))"
     ],
     "language": "python",
     "metadata": {},
     "outputs": [
      {
       "latex": [
        "$$u^{{\\mathrm{SET}}}_{3}=u^{{\\mathrm{SEB}}}_{3} - u^{{\\mathrm{SWB}}}_{3} + u^{{\\mathrm{SWT}}}_{3}$$"
       ],
       "output_type": "pyout",
       "prompt_number": 6,
       "text": [
        "<IPython.core.display.Math object at 0x3dfe510>"
       ]
      }
     ],
     "prompt_number": 6
    },
    {
     "cell_type": "code",
     "collapsed": false,
     "input": [
      "Math(latex(u3bp.subs(pa2dx))+\"=\"+latex(sysolve(1/h*((u3bp-u3b)-(u30p-u30)),u3bp)[0].subs(pa2dx)))"
     ],
     "language": "python",
     "metadata": {},
     "outputs": [
      {
       "latex": [
        "$$u^{{\\mathrm{NWT}}}_{3}=u^{{\\mathrm{NWB}}}_{3} - u^{{\\mathrm{SWB}}}_{3} + u^{{\\mathrm{SWT}}}_{3}$$"
       ],
       "output_type": "pyout",
       "prompt_number": 7,
       "text": [
        "<IPython.core.display.Math object at 0x3ef1550>"
       ]
      }
     ],
     "prompt_number": 7
    },
    {
     "cell_type": "markdown",
     "metadata": {},
     "source": [
      "### Twist Equation (Eq.147)"
     ]
    },
    {
     "cell_type": "code",
     "collapsed": false,
     "input": [
      "Math(latex(u2ap.subs(pa2dx))+'='+latex(collect(expand(sysolve((R1/l1+S2/l2-R2*d2/(l1*l2)).subs(Rsubsdict),u2ap)[0]),collist).subs(pa2dx)))"
     ],
     "language": "python",
     "metadata": {},
     "outputs": [
      {
       "latex": [
        "$$u^{{\\mathrm{SET}}}_{2}=\\frac{d_{2} u^{{\\mathrm{SEB}}}_{1}}{l_{2}} - \\frac{d_{2} u^{{\\mathrm{SET}}}_{1}}{l_{2}} - \\frac{l_{1} u^{{\\mathrm{NWB}}}_{1}}{l_{2}} + \\frac{l_{1} u^{{\\mathrm{NWT}}}_{1}}{l_{2}} + u^{{\\mathrm{SWB}}}_{1} \\left(- \\frac{d_{2}}{l_{2}} + \\frac{l_{1}}{l_{2}}\\right) + u^{{\\mathrm{SWT}}}_{1} \\left(\\frac{d_{2}}{l_{2}} - \\frac{l_{1}}{l_{2}}\\right) + u^{{\\mathrm{SEB}}}_{2} - u^{{\\mathrm{SWB}}}_{2} + u^{{\\mathrm{SWT}}}_{2}$$"
       ],
       "output_type": "pyout",
       "prompt_number": 8,
       "text": [
        "<IPython.core.display.Math object at 0x2186b50>"
       ]
      }
     ],
     "prompt_number": 8
    },
    {
     "cell_type": "code",
     "collapsed": false,
     "input": [
      "Math(latex(u2ap.subs(pa2dx))+'='+latex(collect(expand(sysolve((R1/l1+S2/l2-R2*d2/(l1*l2)).subs(Rsubsdict),u1bp)[0]),collist).subs(pa2dx)))"
     ],
     "language": "python",
     "metadata": {},
     "outputs": [
      {
       "latex": [
        "$$u^{{\\mathrm{SET}}}_{2}=- \\frac{d_{2} u^{{\\mathrm{SEB}}}_{1}}{l_{1}} + \\frac{d_{2} u^{{\\mathrm{SET}}}_{1}}{l_{1}} + u^{{\\mathrm{NWB}}}_{1} + u^{{\\mathrm{SWB}}}_{1} \\left(\\frac{d_{2}}{l_{1}} -1\\right) + u^{{\\mathrm{SWT}}}_{1} \\left(- \\frac{d_{2}}{l_{1}} + 1\\right) - \\frac{l_{2} u^{{\\mathrm{SEB}}}_{2}}{l_{1}} + \\frac{l_{2} u^{{\\mathrm{SET}}}_{2}}{l_{1}} + \\frac{l_{2} u^{{\\mathrm{SWB}}}_{2}}{l_{1}} - \\frac{l_{2} u^{{\\mathrm{SWT}}}_{2}}{l_{1}}$$"
       ],
       "output_type": "pyout",
       "prompt_number": 9,
       "text": [
        "<IPython.core.display.Math object at 0x40252d0>"
       ]
      }
     ],
     "prompt_number": 9
    },
    {
     "cell_type": "markdown",
     "metadata": {},
     "source": [
      "## Main equations"
     ]
    },
    {
     "cell_type": "code",
     "collapsed": false,
     "input": [
      "from sympy import expand, collect, S\n",
      "x1, x2, x3 = symbols('x1 x2 x3')\n",
      "#collect list\n",
      "collist = npa"
     ],
     "language": "python",
     "metadata": {},
     "outputs": [],
     "prompt_number": 10
    },
    {
     "cell_type": "code",
     "collapsed": false,
     "input": [
      "u_hor = Matrix([u1a - u10, u2a - u20, u3a - u30]) + Matrix([1/h*((u1ap-u1a)-(u10p-u10))*(x3),\n",
      "                                                            1/h*((u2ap-u2a)-(u20p-u20))*(x3),\n",
      "                                                           -1/h*((u2ap-u2a)-(u20p-u20) + ((u1ap-u1a)-(u10p-u10))*d2/l2)*x2])"
     ],
     "language": "python",
     "metadata": {},
     "outputs": [],
     "prompt_number": 11
    },
    {
     "cell_type": "code",
     "collapsed": false,
     "input": [
      "Math(r'\\vec{u}(l_1+\\frac{d_2 x_2}{l_2},x_2,x_3)-\\vec{u}(\\frac{d_2 x_2}{l_2},x_2,x_3) = \\\\' + conmat(Matrix([collect(expand(u_hor[i]),collist) for i in range(3)])))"
     ],
     "language": "python",
     "metadata": {},
     "outputs": [
      {
       "latex": [
        "$$\\vec{u}(l_1+\\frac{d_2 x_2}{l_2},x_2,x_3)-\\vec{u}(\\frac{d_2 x_2}{l_2},x_2,x_3) = \\\\\\begin{pmatrix}u^{{0}}_{1} \\left(-1 + \\frac{x_{3}}{h}\\right) + u^{{A}}_{1} \\left(1 - \\frac{x_{3}}{h}\\right) - \\frac{u^{{0+}}_{1} x_{3}}{h} + \\frac{u^{{A+}}_{1} x_{3}}{h}\\\\u^{{0}}_{2} \\left(-1 + \\frac{x_{3}}{h}\\right) + u^{{A}}_{2} \\left(1 - \\frac{x_{3}}{h}\\right) - \\frac{u^{{0+}}_{2} x_{3}}{h} + \\frac{u^{{A+}}_{2} x_{3}}{h}\\\\\\frac{d_{2} u^{{0+}}_{1} x_{2}}{h l_{2}} - \\frac{d_{2} u^{{0}}_{1} x_{2}}{h l_{2}} - \\frac{d_{2} u^{{A+}}_{1} x_{2}}{h l_{2}} + \\frac{d_{2} u^{{A}}_{1} x_{2}}{h l_{2}} - u^{{0}}_{3} + u^{{A}}_{3} + \\frac{u^{{0+}}_{2} x_{2}}{h} - \\frac{u^{{0}}_{2} x_{2}}{h} - \\frac{u^{{A+}}_{2} x_{2}}{h} + \\frac{u^{{A}}_{2} x_{2}}{h}\\end{pmatrix}$$"
       ],
       "output_type": "pyout",
       "prompt_number": 12,
       "text": [
        "<IPython.core.display.Math object at 0x3f32810>"
       ]
      }
     ],
     "prompt_number": 12
    },
    {
     "cell_type": "code",
     "collapsed": false,
     "input": [
      "u_ver = Matrix([u1b - u10, u2b - u20, u3b - u30]) + Matrix([1/h*((u1bp-u1b)-(u10p-u10))*(x3),\n",
      "                                                            1/h*((u2bp-u2b)-(u20p-u20))*(x3),\n",
      "                                                           -1/h*((u1bp-u1b)-(u10p-u10))*(x1)])"
     ],
     "language": "python",
     "metadata": {},
     "outputs": [],
     "prompt_number": 13
    },
    {
     "cell_type": "code",
     "collapsed": false,
     "input": [
      "Math(r'\\vec{u}(x_1+d_2,l_2,x_3)-\\vec{u}(x_1,0,x_3) = \\\\' + conmat(Matrix([collect(expand(u_ver[i]),collist) for i in range(3)])))"
     ],
     "language": "python",
     "metadata": {},
     "outputs": [
      {
       "latex": [
        "$$\\vec{u}(x_1+d_2,l_2,x_3)-\\vec{u}(x_1,0,x_3) = \\\\\\begin{pmatrix}u^{{0}}_{1} \\left(-1 + \\frac{x_{3}}{h}\\right) + u^{{B}}_{1} \\left(1 - \\frac{x_{3}}{h}\\right) - \\frac{u^{{0+}}_{1} x_{3}}{h} + \\frac{u^{{B+}}_{1} x_{3}}{h}\\\\u^{{0}}_{2} \\left(-1 + \\frac{x_{3}}{h}\\right) + u^{{B}}_{2} \\left(1 - \\frac{x_{3}}{h}\\right) - \\frac{u^{{0+}}_{2} x_{3}}{h} + \\frac{u^{{B+}}_{2} x_{3}}{h}\\\\- u^{{0}}_{3} + u^{{B}}_{3} + \\frac{u^{{0+}}_{1} x_{1}}{h} - \\frac{u^{{0}}_{1} x_{1}}{h} - \\frac{u^{{B+}}_{1} x_{1}}{h} + \\frac{u^{{B}}_{1} x_{1}}{h}\\end{pmatrix}$$"
       ],
       "output_type": "pyout",
       "prompt_number": 14,
       "text": [
        "<IPython.core.display.Math object at 0x3ef1ed0>"
       ]
      }
     ],
     "prompt_number": 14
    },
    {
     "cell_type": "markdown",
     "metadata": {},
     "source": [
      "# Surfaces (Daxner Notation)\n",
      "### E $\\rightarrow$ W"
     ]
    },
    {
     "cell_type": "code",
     "collapsed": false,
     "input": [
      "Math(r'\\vec{u}(l_1+\\frac{d_2 x_2}{l_2},x_2,x_3)-\\vec{u}(\\frac{d_2 x_2}{l_2},x_2,x_3) = \\\\' + \n",
      "  conmat(Matrix([collect(expand(u_hor[i]),collist) for i in range(3)]).subs(pa2dx)))"
     ],
     "language": "python",
     "metadata": {},
     "outputs": [
      {
       "latex": [
        "$$\\vec{u}(l_1+\\frac{d_2 x_2}{l_2},x_2,x_3)-\\vec{u}(\\frac{d_2 x_2}{l_2},x_2,x_3) = \\\\\\begin{pmatrix}u^{{\\mathrm{SEB}}}_{1} \\left(1 - \\frac{x_{3}}{h}\\right) + u^{{\\mathrm{SWB}}}_{1} \\left(-1 + \\frac{x_{3}}{h}\\right) + \\frac{u^{{\\mathrm{SET}}}_{1} x_{3}}{h} - \\frac{u^{{\\mathrm{SWT}}}_{1} x_{3}}{h}\\\\u^{{\\mathrm{SEB}}}_{2} \\left(1 - \\frac{x_{3}}{h}\\right) + u^{{\\mathrm{SWB}}}_{2} \\left(-1 + \\frac{x_{3}}{h}\\right) + \\frac{u^{{\\mathrm{SET}}}_{2} x_{3}}{h} - \\frac{u^{{\\mathrm{SWT}}}_{2} x_{3}}{h}\\\\\\frac{d_{2} u^{{\\mathrm{SEB}}}_{1} x_{2}}{h l_{2}} - \\frac{d_{2} u^{{\\mathrm{SET}}}_{1} x_{2}}{h l_{2}} - \\frac{d_{2} u^{{\\mathrm{SWB}}}_{1} x_{2}}{h l_{2}} + \\frac{d_{2} u^{{\\mathrm{SWT}}}_{1} x_{2}}{h l_{2}} + u^{{\\mathrm{SEB}}}_{3} - u^{{\\mathrm{SWB}}}_{3} + \\frac{u^{{\\mathrm{SEB}}}_{2} x_{2}}{h} - \\frac{u^{{\\mathrm{SET}}}_{2} x_{2}}{h} - \\frac{u^{{\\mathrm{SWB}}}_{2} x_{2}}{h} + \\frac{u^{{\\mathrm{SWT}}}_{2} x_{2}}{h}\\end{pmatrix}$$"
       ],
       "output_type": "pyout",
       "prompt_number": 15,
       "text": [
        "<IPython.core.display.Math object at 0x4020290>"
       ]
      }
     ],
     "prompt_number": 15
    },
    {
     "cell_type": "markdown",
     "metadata": {},
     "source": [
      "### N $\\rightarrow$ S"
     ]
    },
    {
     "cell_type": "code",
     "collapsed": false,
     "input": [
      "Math(r'\\vec{u}(x_1+d_2,l_2,x_3)-\\vec{u}(x_1,0,x_3) = \\\\' + conmat(Matrix([collect(expand(u_ver[i]),collist) for i in range(3)]).subs(pa2dx)))"
     ],
     "language": "python",
     "metadata": {},
     "outputs": [
      {
       "latex": [
        "$$\\vec{u}(x_1+d_2,l_2,x_3)-\\vec{u}(x_1,0,x_3) = \\\\\\begin{pmatrix}u^{{\\mathrm{NWB}}}_{1} \\left(1 - \\frac{x_{3}}{h}\\right) + u^{{\\mathrm{SWB}}}_{1} \\left(-1 + \\frac{x_{3}}{h}\\right) + \\frac{u^{{\\mathrm{NWT}}}_{1} x_{3}}{h} - \\frac{u^{{\\mathrm{SWT}}}_{1} x_{3}}{h}\\\\u^{{\\mathrm{NWB}}}_{2} \\left(1 - \\frac{x_{3}}{h}\\right) + u^{{\\mathrm{SWB}}}_{2} \\left(-1 + \\frac{x_{3}}{h}\\right) + \\frac{u^{{\\mathrm{NWT}}}_{2} x_{3}}{h} - \\frac{u^{{\\mathrm{SWT}}}_{2} x_{3}}{h}\\\\u^{{\\mathrm{NWB}}}_{3} - u^{{\\mathrm{SWB}}}_{3} + \\frac{u^{{\\mathrm{NWB}}}_{1} x_{1}}{h} - \\frac{u^{{\\mathrm{NWT}}}_{1} x_{1}}{h} - \\frac{u^{{\\mathrm{SWB}}}_{1} x_{1}}{h} + \\frac{u^{{\\mathrm{SWT}}}_{1} x_{1}}{h}\\end{pmatrix}$$"
       ],
       "output_type": "pyout",
       "prompt_number": 16,
       "text": [
        "<IPython.core.display.Math object at 0x3ef1fd0>"
       ]
      }
     ],
     "prompt_number": 16
    },
    {
     "cell_type": "markdown",
     "metadata": {},
     "source": [
      "# Edges\n",
      "### NT $\\rightarrow$ ST"
     ]
    },
    {
     "cell_type": "code",
     "collapsed": false,
     "input": [
      "Math(r'\\vec{u}(x_1+d_2,l_2,h)-\\vec{u}(x_1,0,h) = \\\\' + conmat(Matrix([collect(expand(u_ver[i]),collist) for i in range(3)]).subs(pa2dx).subs({x3:h})))"
     ],
     "language": "python",
     "metadata": {},
     "outputs": [
      {
       "latex": [
        "$$\\vec{u}(x_1+d_2,l_2,h)-\\vec{u}(x_1,0,h) = \\\\\\begin{pmatrix}u^{{\\mathrm{NWT}}}_{1} - u^{{\\mathrm{SWT}}}_{1}\\\\u^{{\\mathrm{NWT}}}_{2} - u^{{\\mathrm{SWT}}}_{2}\\\\u^{{\\mathrm{NWB}}}_{3} - u^{{\\mathrm{SWB}}}_{3} + \\frac{u^{{\\mathrm{NWB}}}_{1} x_{1}}{h} - \\frac{u^{{\\mathrm{NWT}}}_{1} x_{1}}{h} - \\frac{u^{{\\mathrm{SWB}}}_{1} x_{1}}{h} + \\frac{u^{{\\mathrm{SWT}}}_{1} x_{1}}{h}\\end{pmatrix}$$"
       ],
       "output_type": "pyout",
       "prompt_number": 17,
       "text": [
        "<IPython.core.display.Math object at 0x4025090>"
       ]
      }
     ],
     "prompt_number": 17
    },
    {
     "cell_type": "markdown",
     "metadata": {},
     "source": [
      "### NB $\\rightarrow$ SB"
     ]
    },
    {
     "cell_type": "code",
     "collapsed": false,
     "input": [
      "Math(r'\\vec{u}(x_1+d_2,l_2,0)-\\vec{u}(x_1,0,0) = \\\\' + conmat(Matrix([collect(expand(u_ver[i]),collist) for i in range(3)]).subs(pa2dx).subs({x3:0})))"
     ],
     "language": "python",
     "metadata": {},
     "outputs": [
      {
       "latex": [
        "$$\\vec{u}(x_1+d_2,l_2,0)-\\vec{u}(x_1,0,0) = \\\\\\begin{pmatrix}u^{{\\mathrm{NWB}}}_{1} - u^{{\\mathrm{SWB}}}_{1}\\\\u^{{\\mathrm{NWB}}}_{2} - u^{{\\mathrm{SWB}}}_{2}\\\\u^{{\\mathrm{NWB}}}_{3} - u^{{\\mathrm{SWB}}}_{3} + \\frac{u^{{\\mathrm{NWB}}}_{1} x_{1}}{h} - \\frac{u^{{\\mathrm{NWT}}}_{1} x_{1}}{h} - \\frac{u^{{\\mathrm{SWB}}}_{1} x_{1}}{h} + \\frac{u^{{\\mathrm{SWT}}}_{1} x_{1}}{h}\\end{pmatrix}$$"
       ],
       "output_type": "pyout",
       "prompt_number": 18,
       "text": [
        "<IPython.core.display.Math object at 0x4020f90>"
       ]
      }
     ],
     "prompt_number": 18
    },
    {
     "cell_type": "markdown",
     "metadata": {},
     "source": [
      "### NW $\\rightarrow$ SW"
     ]
    },
    {
     "cell_type": "code",
     "collapsed": false,
     "input": [
      "Math(r'\\vec{u}(d_2,l_2,x_3)-\\vec{u}(0,0,x_3) = \\\\' + conmat(Matrix([collect(expand(u_ver[i]),collist) for i in range(3)]).subs(pa2dx).subs({x1:0})))"
     ],
     "language": "python",
     "metadata": {},
     "outputs": [
      {
       "latex": [
        "$$\\vec{u}(d_2,l_2,x_3)-\\vec{u}(0,0,x_3) = \\\\\\begin{pmatrix}u^{{\\mathrm{NWB}}}_{1} \\left(1 - \\frac{x_{3}}{h}\\right) + u^{{\\mathrm{SWB}}}_{1} \\left(-1 + \\frac{x_{3}}{h}\\right) + \\frac{u^{{\\mathrm{NWT}}}_{1} x_{3}}{h} - \\frac{u^{{\\mathrm{SWT}}}_{1} x_{3}}{h}\\\\u^{{\\mathrm{NWB}}}_{2} \\left(1 - \\frac{x_{3}}{h}\\right) + u^{{\\mathrm{SWB}}}_{2} \\left(-1 + \\frac{x_{3}}{h}\\right) + \\frac{u^{{\\mathrm{NWT}}}_{2} x_{3}}{h} - \\frac{u^{{\\mathrm{SWT}}}_{2} x_{3}}{h}\\\\u^{{\\mathrm{NWB}}}_{3} - u^{{\\mathrm{SWB}}}_{3}\\end{pmatrix}$$"
       ],
       "output_type": "pyout",
       "prompt_number": 19,
       "text": [
        "<IPython.core.display.Math object at 0x3f2c5d0>"
       ]
      }
     ],
     "prompt_number": 19
    },
    {
     "cell_type": "markdown",
     "metadata": {},
     "source": [
      "### NE $\\rightarrow$ SE $\\rightarrow$ SW"
     ]
    },
    {
     "cell_type": "code",
     "collapsed": false,
     "input": [
      "u_tot = u_ver.subs({x1:l1}) + u_hor.subs({x2:0})\n",
      "Math(r'\\vec{u}(l_1+d_2,l_2,x_3)-\\vec{u}(0,0,x_3) = \\\\' + conmat(Matrix([collect(expand(u_tot[i]),collist) for i in range(3)]).subs(pa2dx)))"
     ],
     "language": "python",
     "metadata": {},
     "outputs": [
      {
       "latex": [
        "$$\\vec{u}(l_1+d_2,l_2,x_3)-\\vec{u}(0,0,x_3) = \\\\\\begin{pmatrix}u^{{\\mathrm{NWB}}}_{1} \\left(1 - \\frac{x_{3}}{h}\\right) + u^{{\\mathrm{SEB}}}_{1} \\left(1 - \\frac{x_{3}}{h}\\right) + u^{{\\mathrm{SWB}}}_{1} \\left(-2 + 2 \\frac{x_{3}}{h}\\right) + \\frac{u^{{\\mathrm{NWT}}}_{1} x_{3}}{h} + \\frac{u^{{\\mathrm{SET}}}_{1} x_{3}}{h} - 2 \\frac{u^{{\\mathrm{SWT}}}_{1} x_{3}}{h}\\\\u^{{\\mathrm{NWB}}}_{2} \\left(1 - \\frac{x_{3}}{h}\\right) + u^{{\\mathrm{SEB}}}_{2} \\left(1 - \\frac{x_{3}}{h}\\right) + u^{{\\mathrm{SWB}}}_{2} \\left(-2 + 2 \\frac{x_{3}}{h}\\right) + \\frac{u^{{\\mathrm{NWT}}}_{2} x_{3}}{h} + \\frac{u^{{\\mathrm{SET}}}_{2} x_{3}}{h} - 2 \\frac{u^{{\\mathrm{SWT}}}_{2} x_{3}}{h}\\\\u^{{\\mathrm{NWB}}}_{3} + u^{{\\mathrm{SEB}}}_{3} - 2 u^{{\\mathrm{SWB}}}_{3} + \\frac{l_{1} u^{{\\mathrm{NWB}}}_{1}}{h} - \\frac{l_{1} u^{{\\mathrm{NWT}}}_{1}}{h} - \\frac{l_{1} u^{{\\mathrm{SWB}}}_{1}}{h} + \\frac{l_{1} u^{{\\mathrm{SWT}}}_{1}}{h}\\end{pmatrix}$$"
       ],
       "output_type": "pyout",
       "prompt_number": 20,
       "text": [
        "<IPython.core.display.Math object at 0x3dfe810>"
       ]
      }
     ],
     "prompt_number": 20
    },
    {
     "cell_type": "markdown",
     "metadata": {},
     "source": [
      "### SE $\\rightarrow$ SW"
     ]
    },
    {
     "cell_type": "code",
     "collapsed": false,
     "input": [
      "Math(r'\\vec{u}(l_1,0,x_3)-\\vec{u}(0,0,x_3) = \\\\' + conmat(Matrix([collect(expand(u_hor[i]),collist) for i in range(3)]).subs(pa2dx).subs({x2:0})))"
     ],
     "language": "python",
     "metadata": {},
     "outputs": [
      {
       "latex": [
        "$$\\vec{u}(l_1,0,x_3)-\\vec{u}(0,0,x_3) = \\\\\\begin{pmatrix}u^{{\\mathrm{SEB}}}_{1} \\left(1 - \\frac{x_{3}}{h}\\right) + u^{{\\mathrm{SWB}}}_{1} \\left(-1 + \\frac{x_{3}}{h}\\right) + \\frac{u^{{\\mathrm{SET}}}_{1} x_{3}}{h} - \\frac{u^{{\\mathrm{SWT}}}_{1} x_{3}}{h}\\\\u^{{\\mathrm{SEB}}}_{2} \\left(1 - \\frac{x_{3}}{h}\\right) + u^{{\\mathrm{SWB}}}_{2} \\left(-1 + \\frac{x_{3}}{h}\\right) + \\frac{u^{{\\mathrm{SET}}}_{2} x_{3}}{h} - \\frac{u^{{\\mathrm{SWT}}}_{2} x_{3}}{h}\\\\u^{{\\mathrm{SEB}}}_{3} - u^{{\\mathrm{SWB}}}_{3}\\end{pmatrix}$$"
       ],
       "output_type": "pyout",
       "prompt_number": 21,
       "text": [
        "<IPython.core.display.Math object at 0x218f2d0>"
       ]
      }
     ],
     "prompt_number": 21
    },
    {
     "cell_type": "markdown",
     "metadata": {},
     "source": [
      "### ET $\\rightarrow$ WT"
     ]
    },
    {
     "cell_type": "code",
     "collapsed": false,
     "input": [
      "Math(r'\\vec{u}(l_1+\\frac{d_2 x_2}{l_2},x_2,h)-\\vec{u}(\\frac{d_2 x_2}{l_2},x_2,h) = \\\\' + \n",
      "     conmat(Matrix([collect(expand(u_hor[i]),collist) for i in range(3)]).subs(pa2dx).subs({x3:h})))"
     ],
     "language": "python",
     "metadata": {},
     "outputs": [
      {
       "latex": [
        "$$\\vec{u}(l_1+\\frac{d_2 x_2}{l_2},x_2,h)-\\vec{u}(\\frac{d_2 x_2}{l_2},x_2,h) = \\\\\\begin{pmatrix}u^{{\\mathrm{SET}}}_{1} - u^{{\\mathrm{SWT}}}_{1}\\\\u^{{\\mathrm{SET}}}_{2} - u^{{\\mathrm{SWT}}}_{2}\\\\\\frac{d_{2} u^{{\\mathrm{SEB}}}_{1} x_{2}}{h l_{2}} - \\frac{d_{2} u^{{\\mathrm{SET}}}_{1} x_{2}}{h l_{2}} - \\frac{d_{2} u^{{\\mathrm{SWB}}}_{1} x_{2}}{h l_{2}} + \\frac{d_{2} u^{{\\mathrm{SWT}}}_{1} x_{2}}{h l_{2}} + u^{{\\mathrm{SEB}}}_{3} - u^{{\\mathrm{SWB}}}_{3} + \\frac{u^{{\\mathrm{SEB}}}_{2} x_{2}}{h} - \\frac{u^{{\\mathrm{SET}}}_{2} x_{2}}{h} - \\frac{u^{{\\mathrm{SWB}}}_{2} x_{2}}{h} + \\frac{u^{{\\mathrm{SWT}}}_{2} x_{2}}{h}\\end{pmatrix}$$"
       ],
       "output_type": "pyout",
       "prompt_number": 22,
       "text": [
        "<IPython.core.display.Math object at 0x3ee3290>"
       ]
      }
     ],
     "prompt_number": 22
    },
    {
     "cell_type": "markdown",
     "metadata": {},
     "source": [
      "### EB $\\rightarrow$ WB"
     ]
    },
    {
     "cell_type": "code",
     "collapsed": false,
     "input": [
      "Math(r'\\vec{u}(l_1+\\frac{d_2 x_2}{l_2},x_2,0)-\\vec{u}(\\frac{d_2 x_2}{l_2},x_2,0) = \\\\' + \n",
      "     conmat(Matrix([collect(expand(u_hor[i]),collist) for i in range(3)]).subs(pa2dx).subs({x3:0})))"
     ],
     "language": "python",
     "metadata": {},
     "outputs": [
      {
       "latex": [
        "$$\\vec{u}(l_1+\\frac{d_2 x_2}{l_2},x_2,0)-\\vec{u}(\\frac{d_2 x_2}{l_2},x_2,0) = \\\\\\begin{pmatrix}u^{{\\mathrm{SEB}}}_{1} - u^{{\\mathrm{SWB}}}_{1}\\\\u^{{\\mathrm{SEB}}}_{2} - u^{{\\mathrm{SWB}}}_{2}\\\\\\frac{d_{2} u^{{\\mathrm{SEB}}}_{1} x_{2}}{h l_{2}} - \\frac{d_{2} u^{{\\mathrm{SET}}}_{1} x_{2}}{h l_{2}} - \\frac{d_{2} u^{{\\mathrm{SWB}}}_{1} x_{2}}{h l_{2}} + \\frac{d_{2} u^{{\\mathrm{SWT}}}_{1} x_{2}}{h l_{2}} + u^{{\\mathrm{SEB}}}_{3} - u^{{\\mathrm{SWB}}}_{3} + \\frac{u^{{\\mathrm{SEB}}}_{2} x_{2}}{h} - \\frac{u^{{\\mathrm{SET}}}_{2} x_{2}}{h} - \\frac{u^{{\\mathrm{SWB}}}_{2} x_{2}}{h} + \\frac{u^{{\\mathrm{SWT}}}_{2} x_{2}}{h}\\end{pmatrix}$$"
       ],
       "output_type": "pyout",
       "prompt_number": 23,
       "text": [
        "<IPython.core.display.Math object at 0x218f390>"
       ]
      }
     ],
     "prompt_number": 23
    },
    {
     "cell_type": "markdown",
     "metadata": {},
     "source": [
      "# Corners\n",
      "### NET $\\rightarrow$ SET $\\rightarrow$ SWT"
     ]
    },
    {
     "cell_type": "code",
     "collapsed": false,
     "input": [
      "u_tot = u_ver.subs({x1:l1, x3:h}) + u_hor.subs({x2:0, x3:h})\n",
      "Math(r'\\vec{u}(l_1+d_2,l_2,h)-\\vec{u}(0,0,h) = \\\\' + conmat(Matrix([collect(expand(u_tot[i]),collist) for i in range(3)]).subs(pa2dx)))"
     ],
     "language": "python",
     "metadata": {},
     "outputs": [
      {
       "latex": [
        "$$\\vec{u}(l_1+d_2,l_2,h)-\\vec{u}(0,0,h) = \\\\\\begin{pmatrix}u^{{\\mathrm{NWT}}}_{1} + u^{{\\mathrm{SET}}}_{1} - 2 u^{{\\mathrm{SWT}}}_{1}\\\\u^{{\\mathrm{NWT}}}_{2} + u^{{\\mathrm{SET}}}_{2} - 2 u^{{\\mathrm{SWT}}}_{2}\\\\u^{{\\mathrm{NWB}}}_{3} + u^{{\\mathrm{SEB}}}_{3} - 2 u^{{\\mathrm{SWB}}}_{3} + \\frac{l_{1} u^{{\\mathrm{NWB}}}_{1}}{h} - \\frac{l_{1} u^{{\\mathrm{NWT}}}_{1}}{h} - \\frac{l_{1} u^{{\\mathrm{SWB}}}_{1}}{h} + \\frac{l_{1} u^{{\\mathrm{SWT}}}_{1}}{h}\\end{pmatrix}$$"
       ],
       "output_type": "pyout",
       "prompt_number": 24,
       "text": [
        "<IPython.core.display.Math object at 0x3f32410>"
       ]
      }
     ],
     "prompt_number": 24
    },
    {
     "cell_type": "markdown",
     "metadata": {},
     "source": [
      "for only x periodic:"
     ]
    },
    {
     "cell_type": "code",
     "collapsed": false,
     "input": [
      "Math(r'\\vec{u}(l_1+d_2,l_2,h)-\\vec{u}(0,l_2,h) = \\\\' + conmat(Matrix([collect(expand(u_hor[i].subs({x2:0, x3:h})),collist) for i in range(3)]).subs(pa2dx)))"
     ],
     "language": "python",
     "metadata": {},
     "outputs": [
      {
       "latex": [
        "$$\\vec{u}(l_1+d_2,l_2,h)-\\vec{u}(0,l_2,h) = \\\\\\begin{pmatrix}u^{{\\mathrm{SET}}}_{1} - u^{{\\mathrm{SWT}}}_{1}\\\\u^{{\\mathrm{SET}}}_{2} - u^{{\\mathrm{SWT}}}_{2}\\\\u^{{\\mathrm{SEB}}}_{3} - u^{{\\mathrm{SWB}}}_{3}\\end{pmatrix}$$"
       ],
       "output_type": "pyout",
       "prompt_number": 55,
       "text": [
        "<IPython.core.display.Math object at 0x4be1090>"
       ]
      }
     ],
     "prompt_number": 55
    },
    {
     "cell_type": "markdown",
     "metadata": {},
     "source": [
      "### NEB $\\rightarrow$ SEB $\\rightarrow$ SWB"
     ]
    },
    {
     "cell_type": "code",
     "collapsed": false,
     "input": [
      "u_tot = u_ver.subs({x1:l1, x3:0}) + u_hor.subs({x2:0, x3:0})\n",
      "Math(r'\\vec{u}(l_1+d_2,l_2,0)-\\vec{u}(0,0,0) = \\\\' + conmat(Matrix([collect(expand(u_tot[i]),collist) for i in range(3)]).subs(pa2dx)))"
     ],
     "language": "python",
     "metadata": {},
     "outputs": [
      {
       "latex": [
        "$$\\vec{u}(l_1+d_2,l_2,0)-\\vec{u}(0,0,0) = \\\\\\begin{pmatrix}u^{{\\mathrm{NWB}}}_{1} + u^{{\\mathrm{SEB}}}_{1} - 2 u^{{\\mathrm{SWB}}}_{1}\\\\u^{{\\mathrm{NWB}}}_{2} + u^{{\\mathrm{SEB}}}_{2} - 2 u^{{\\mathrm{SWB}}}_{2}\\\\u^{{\\mathrm{NWB}}}_{3} + u^{{\\mathrm{SEB}}}_{3} - 2 u^{{\\mathrm{SWB}}}_{3} + \\frac{l_{1} u^{{\\mathrm{NWB}}}_{1}}{h} - \\frac{l_{1} u^{{\\mathrm{NWT}}}_{1}}{h} - \\frac{l_{1} u^{{\\mathrm{SWB}}}_{1}}{h} + \\frac{l_{1} u^{{\\mathrm{SWT}}}_{1}}{h}\\end{pmatrix}$$"
       ],
       "output_type": "pyout",
       "prompt_number": 25,
       "text": [
        "<IPython.core.display.Math object at 0x3ecfe90>"
       ]
      }
     ],
     "prompt_number": 25
    },
    {
     "cell_type": "markdown",
     "metadata": {},
     "source": [
      "for x periodicity only:"
     ]
    },
    {
     "cell_type": "code",
     "collapsed": false,
     "input": [
      "Math(r'\\vec{u}(l_1+d_2,l_2,0)-\\vec{u}(0,l_2,0) = \\\\' + conmat(Matrix([collect(expand(u_hor[i].subs({x2:0, x3:0})),collist) for i in range(3)]).subs(pa2dx)))"
     ],
     "language": "python",
     "metadata": {},
     "outputs": [
      {
       "latex": [
        "$$\\vec{u}(l_1+d_2,l_2,0)-\\vec{u}(0,l_2,0) = \\\\\\begin{pmatrix}u^{{\\mathrm{SEB}}}_{1} - u^{{\\mathrm{SWB}}}_{1}\\\\u^{{\\mathrm{SEB}}}_{2} - u^{{\\mathrm{SWB}}}_{2}\\\\u^{{\\mathrm{SEB}}}_{3} - u^{{\\mathrm{SWB}}}_{3}\\end{pmatrix}$$"
       ],
       "output_type": "pyout",
       "prompt_number": 56,
       "text": [
        "<IPython.core.display.Math object at 0x45f2710>"
       ]
      }
     ],
     "prompt_number": 56
    },
    {
     "cell_type": "markdown",
     "metadata": {},
     "source": [
      "## $u_3\\ $ displacement of SEB and NWB - Verification equations\n",
      "### SEB $\\rightarrow$ SWB"
     ]
    },
    {
     "cell_type": "code",
     "collapsed": false,
     "input": [
      "Math(r'\\vec{u}(l_1,0,0)-\\vec{u}(0,0,0) = \\\\' + conmat(Matrix([collect(expand(u_hor[i]),collist) for i in range(3)]).subs(pa2dx).subs({x3:0, x2:0})))"
     ],
     "language": "python",
     "metadata": {},
     "outputs": [
      {
       "latex": [
        "$$\\vec{u}(l_1,0,0)-\\vec{u}(0,0,0) = \\\\\\begin{pmatrix}u^{{\\mathrm{SEB}}}_{1} - u^{{\\mathrm{SWB}}}_{1}\\\\u^{{\\mathrm{SEB}}}_{2} - u^{{\\mathrm{SWB}}}_{2}\\\\u^{{\\mathrm{SEB}}}_{3} - u^{{\\mathrm{SWB}}}_{3}\\end{pmatrix}$$"
       ],
       "output_type": "pyout",
       "prompt_number": 26,
       "text": [
        "<IPython.core.display.Math object at 0x4020050>"
       ]
      }
     ],
     "prompt_number": 26
    },
    {
     "cell_type": "markdown",
     "metadata": {},
     "source": [
      "### NWB $\\rightarrow\\ $ SWB"
     ]
    },
    {
     "cell_type": "code",
     "collapsed": false,
     "input": [
      "Math(r'\\vec{u}(d_2,l_2,0)-\\vec{u}(0,0,0) = \\\\' + conmat(Matrix([collect(expand(u_ver[i]),collist) for i in range(3)]).subs(pa2dx).subs({x3:0, x1:0})))"
     ],
     "language": "python",
     "metadata": {},
     "outputs": [
      {
       "latex": [
        "$$\\vec{u}(d_2,l_2,0)-\\vec{u}(0,0,0) = \\\\\\begin{pmatrix}u^{{\\mathrm{NWB}}}_{1} - u^{{\\mathrm{SWB}}}_{1}\\\\u^{{\\mathrm{NWB}}}_{2} - u^{{\\mathrm{SWB}}}_{2}\\\\u^{{\\mathrm{NWB}}}_{3} - u^{{\\mathrm{SWB}}}_{3}\\end{pmatrix}$$"
       ],
       "output_type": "pyout",
       "prompt_number": 27,
       "text": [
        "<IPython.core.display.Math object at 0x218f6d0>"
       ]
      }
     ],
     "prompt_number": 27
    },
    {
     "cell_type": "markdown",
     "metadata": {},
     "source": [
      "### NWT $\\rightarrow \\quad$ SWT\n",
      "For $u_3$ same equation as NWB $\\rightarrow$ SWB, therefore it is already captured by the constant thickness constraints!"
     ]
    },
    {
     "cell_type": "code",
     "collapsed": false,
     "input": [
      "Math(r'\\vec{u}(d_2,l_2,h)-\\vec{u}(0,0,h) = \\\\' + conmat(Matrix([collect(expand(u_ver[i]),collist) for i in range(3)]).subs(pa2dx).subs({x3:h, x1:0})))"
     ],
     "language": "python",
     "metadata": {},
     "outputs": [
      {
       "latex": [
        "$$\\vec{u}(d_2,l_2,h)-\\vec{u}(0,0,h) = \\\\\\begin{pmatrix}u^{{\\mathrm{NWT}}}_{1} - u^{{\\mathrm{SWT}}}_{1}\\\\u^{{\\mathrm{NWT}}}_{2} - u^{{\\mathrm{SWT}}}_{2}\\\\u^{{\\mathrm{NWB}}}_{3} - u^{{\\mathrm{SWB}}}_{3}\\end{pmatrix}$$"
       ],
       "output_type": "pyout",
       "prompt_number": 28,
       "text": [
        "<IPython.core.display.Math object at 0x3f2c510>"
       ]
      }
     ],
     "prompt_number": 28
    },
    {
     "cell_type": "markdown",
     "metadata": {},
     "source": [
      "# Optional $U_3 \\ \\mathrm{and}\\  V_3 := 0$\n",
      "**not used**\n",
      "\n",
      "From Eq.(161) follows $U_3$ and $V_3$ to be"
     ]
    },
    {
     "cell_type": "code",
     "collapsed": false,
     "input": [
      "U3 = (u3a-u30)-1/h*(((u2ap-u2a)-(u20p-u20)) + ((u1ap-u1a)-(u10p-u10))*d2/l2)*l2/2\n",
      "V3 = (u3b-u30)-1/h*((u1bp-u1b)-(u10p-u10))*l1/2"
     ],
     "language": "python",
     "metadata": {},
     "outputs": [],
     "prompt_number": 29
    },
    {
     "cell_type": "markdown",
     "metadata": {},
     "source": [
      "with $U_3$ and $V_3$ equal 0 follows for"
     ]
    },
    {
     "cell_type": "code",
     "collapsed": false,
     "input": [
      "Math(r'\\vec{u}(l_1,0,0)-\\vec{u}(0,0,0) =' + latex(u3a)+'-'+latex(u30)+ r'= \\\\' + latex(expand((-1*(U3-(u3a-u30))).subs(pa2dx))))"
     ],
     "language": "python",
     "metadata": {},
     "outputs": [
      {
       "latex": [
        "$$\\vec{u}(l_1,0,0)-\\vec{u}(0,0,0) =u^{{A}}_{3}-u^{{0}}_{3}= \\\\- \\frac{d_{2} u^{{\\mathrm{SEB}}}_{1}}{2 h} + \\frac{d_{2} u^{{\\mathrm{SET}}}_{1}}{2 h} + \\frac{d_{2} u^{{\\mathrm{SWB}}}_{1}}{2 h} - \\frac{d_{2} u^{{\\mathrm{SWT}}}_{1}}{2 h} - \\frac{l_{2} u^{{\\mathrm{SEB}}}_{2}}{2 h} + \\frac{l_{2} u^{{\\mathrm{SET}}}_{2}}{2 h} + \\frac{l_{2} u^{{\\mathrm{SWB}}}_{2}}{2 h} - \\frac{l_{2} u^{{\\mathrm{SWT}}}_{2}}{2 h}$$"
       ],
       "output_type": "pyout",
       "prompt_number": 30,
       "text": [
        "<IPython.core.display.Math object at 0x3dfe790>"
       ]
      }
     ],
     "prompt_number": 30
    },
    {
     "cell_type": "code",
     "collapsed": false,
     "input": [
      "Math(r'\\vec{u}(d_2,l_2,0)-\\vec{u}(0,0,0) =' + latex(u3b)+'-'+latex(u30)+ r'= \\\\' + latex(expand((-1*(V3-(u3b-u30))).subs(pa2dx))))"
     ],
     "language": "python",
     "metadata": {},
     "outputs": [
      {
       "latex": [
        "$$\\vec{u}(d_2,l_2,0)-\\vec{u}(0,0,0) =u^{{B}}_{3}-u^{{0}}_{3}= \\\\- \\frac{l_{1} u^{{\\mathrm{NWB}}}_{1}}{2 h} + \\frac{l_{1} u^{{\\mathrm{NWT}}}_{1}}{2 h} + \\frac{l_{1} u^{{\\mathrm{SWB}}}_{1}}{2 h} - \\frac{l_{1} u^{{\\mathrm{SWT}}}_{1}}{2 h}$$"
       ],
       "output_type": "pyout",
       "prompt_number": 31,
       "text": [
        "<IPython.core.display.Math object at 0x2186c10>"
       ]
      }
     ],
     "prompt_number": 31
    },
    {
     "cell_type": "markdown",
     "metadata": {},
     "source": [
      "using Eq.(141) the 3 direction of the horizontal couplings is"
     ]
    },
    {
     "cell_type": "code",
     "collapsed": false,
     "input": [
      "hor_3 = (T*l1-R2*d2/l2)*(x2-l2/2)\n",
      "hor_3"
     ],
     "language": "python",
     "metadata": {},
     "outputs": [
      {
       "latex": [
        "$$\\left(- \\frac{1}{2} l_{2} + x_{2}\\right) \\left(- \\frac{R_{2} d_{2}}{l_{2}} + T l_{1}\\right)$$"
       ],
       "output_type": "pyout",
       "png": "[encoded data removed]",
       "prompt_number": 32,
       "text": [
        "\u239b  l\u2082     \u239e \u239b  R\u2082\u22c5d\u2082       \u239e\n",
        "\u239c- \u2500\u2500 + x\u2082\u239f\u22c5\u239c- \u2500\u2500\u2500\u2500\u2500 + T\u22c5l\u2081\u239f\n",
        "\u239d  2      \u23a0 \u239d    l\u2082        \u23a0"
       ]
      }
     ],
     "prompt_number": 32
    },
    {
     "cell_type": "markdown",
     "metadata": {},
     "source": [
      "using the definitions defined in Eq.(159) and restricting the result to the S surface ($x_2=0$ )"
     ]
    },
    {
     "cell_type": "code",
     "collapsed": false,
     "input": [
      "expand(hor_3.subs(Rsubsdict)).subs({x2:0}).subs(pa2dx)"
     ],
     "language": "python",
     "metadata": {},
     "outputs": [
      {
       "latex": [
        "$$- \\frac{d_{2} u^{{\\mathrm{SEB}}}_{1}}{2 h} + \\frac{d_{2} u^{{\\mathrm{SET}}}_{1}}{2 h} + \\frac{d_{2} u^{{\\mathrm{SWB}}}_{1}}{2 h} - \\frac{d_{2} u^{{\\mathrm{SWT}}}_{1}}{2 h} - \\frac{l_{2} u^{{\\mathrm{SEB}}}_{2}}{2 h} + \\frac{l_{2} u^{{\\mathrm{SET}}}_{2}}{2 h} + \\frac{l_{2} u^{{\\mathrm{SWB}}}_{2}}{2 h} - \\frac{l_{2} u^{{\\mathrm{SWT}}}_{2}}{2 h}$$"
       ],
       "output_type": "pyout",
       "png": "[encoded data removed]",
       "prompt_number": 33,
       "text": [
        "  d\u2082\u22c5u_1^{\\mathrm{SEB}}   d\u2082\u22c5u_1^{\\mathrm{SET}}   d\u2082\u22c5u_1^{\\mathrm{SWB}}   d\u2082\u22c5u\n",
        "- \u2500\u2500\u2500\u2500\u2500\u2500\u2500\u2500\u2500\u2500\u2500\u2500\u2500\u2500\u2500\u2500\u2500\u2500\u2500\u2500\u2500 + \u2500\u2500\u2500\u2500\u2500\u2500\u2500\u2500\u2500\u2500\u2500\u2500\u2500\u2500\u2500\u2500\u2500\u2500\u2500\u2500\u2500 + \u2500\u2500\u2500\u2500\u2500\u2500\u2500\u2500\u2500\u2500\u2500\u2500\u2500\u2500\u2500\u2500\u2500\u2500\u2500\u2500\u2500 - \u2500\u2500\u2500\u2500\n",
        "           2\u22c5h                     2\u22c5h                     2\u22c5h                \n",
        "\n",
        "_1^{\\mathrm{SWT}}   l\u2082\u22c5u_2^{\\mathrm{SEB}}   l\u2082\u22c5u_2^{\\mathrm{SET}}   l\u2082\u22c5u_2^{\\m\n",
        "\u2500\u2500\u2500\u2500\u2500\u2500\u2500\u2500\u2500\u2500\u2500\u2500\u2500\u2500\u2500\u2500\u2500 - \u2500\u2500\u2500\u2500\u2500\u2500\u2500\u2500\u2500\u2500\u2500\u2500\u2500\u2500\u2500\u2500\u2500\u2500\u2500\u2500\u2500 + \u2500\u2500\u2500\u2500\u2500\u2500\u2500\u2500\u2500\u2500\u2500\u2500\u2500\u2500\u2500\u2500\u2500\u2500\u2500\u2500\u2500 + \u2500\u2500\u2500\u2500\u2500\u2500\u2500\u2500\u2500\u2500\n",
        "     2\u22c5h                     2\u22c5h                     2\u22c5h                     2\n",
        "\n",
        "athrm{SWB}}   l\u2082\u22c5u_2^{\\mathrm{SWT}}\n",
        "\u2500\u2500\u2500\u2500\u2500\u2500\u2500\u2500\u2500\u2500\u2500 - \u2500\u2500\u2500\u2500\u2500\u2500\u2500\u2500\u2500\u2500\u2500\u2500\u2500\u2500\u2500\u2500\u2500\u2500\u2500\u2500\u2500\n",
        "\u22c5h                     2\u22c5h         "
       ]
      }
     ],
     "prompt_number": 33
    },
    {
     "cell_type": "markdown",
     "metadata": {},
     "source": [
      "For comparison with Eq.(151)"
     ]
    },
    {
     "cell_type": "code",
     "collapsed": false,
     "input": [
      "collect(expand(hor_3.subs(Rsubsdict)),collist).subs({d2:0,x2:0})"
     ],
     "language": "python",
     "metadata": {},
     "outputs": [
      {
       "latex": [
        "$$- \\frac{l_{2} u^{{0+}}_{2}}{2 h} + \\frac{l_{2} u^{{0}}_{2}}{2 h} + \\frac{l_{2} u^{{A+}}_{2}}{2 h} - \\frac{l_{2} u^{{A}}_{2}}{2 h}$$"
       ],
       "output_type": "pyout",
       "png": "[encoded data removed]",
       "prompt_number": 34,
       "text": [
        "  l\u2082\u22c5u_2^{0+}   l\u2082\u22c5u_2^{0}   l\u2082\u22c5u_2^{A+}   l\u2082\u22c5u_2^{A}\n",
        "- \u2500\u2500\u2500\u2500\u2500\u2500\u2500\u2500\u2500\u2500\u2500 + \u2500\u2500\u2500\u2500\u2500\u2500\u2500\u2500\u2500\u2500 + \u2500\u2500\u2500\u2500\u2500\u2500\u2500\u2500\u2500\u2500\u2500 - \u2500\u2500\u2500\u2500\u2500\u2500\u2500\u2500\u2500\u2500\n",
        "      2\u22c5h          2\u22c5h           2\u22c5h          2\u22c5h    "
       ]
      }
     ],
     "prompt_number": 34
    },
    {
     "cell_type": "markdown",
     "metadata": {},
     "source": [
      "The 3 direction of the vertical vertical couplings is"
     ]
    },
    {
     "cell_type": "code",
     "collapsed": false,
     "input": [
      "ver_3 = (T*l2-R2*d2/l1)*(x1-l1/2)\n",
      "ver_3 = ver_3.subs({-T*l2+R2*d2/l1:S2})\n",
      "ver_3"
     ],
     "language": "python",
     "metadata": {},
     "outputs": [
      {
       "latex": [
        "$$- S_{2} \\left(- \\frac{1}{2} l_{1} + x_{1}\\right)$$"
       ],
       "output_type": "pyout",
       "png": "[encoded data removed]",
       "prompt_number": 35,
       "text": [
        "    \u239b  l\u2081     \u239e\n",
        "-S\u2082\u22c5\u239c- \u2500\u2500 + x\u2081\u239f\n",
        "    \u239d  2      \u23a0"
       ]
      }
     ],
     "prompt_number": 35
    },
    {
     "cell_type": "markdown",
     "metadata": {},
     "source": [
      "using the definitions defined in Eq.(159) and restricting the result to the W surface ($x_1=0$ )"
     ]
    },
    {
     "cell_type": "code",
     "collapsed": false,
     "input": [
      "collect(expand(ver_3.subs(Rsubsdict)).subs({x1:0}),collist).subs(pa2dx)"
     ],
     "language": "python",
     "metadata": {},
     "outputs": [
      {
       "latex": [
        "$$- \\frac{l_{1} u^{{\\mathrm{NWB}}}_{1}}{2 h} + \\frac{l_{1} u^{{\\mathrm{NWT}}}_{1}}{2 h} + \\frac{l_{1} u^{{\\mathrm{SWB}}}_{1}}{2 h} - \\frac{l_{1} u^{{\\mathrm{SWT}}}_{1}}{2 h}$$"
       ],
       "output_type": "pyout",
       "png": "[encoded data removed]",
       "prompt_number": 36,
       "text": [
        "  l\u2081\u22c5u_1^{\\mathrm{NWB}}   l\u2081\u22c5u_1^{\\mathrm{NWT}}   l\u2081\u22c5u_1^{\\mathrm{SWB}}   l\u2081\u22c5u\n",
        "- \u2500\u2500\u2500\u2500\u2500\u2500\u2500\u2500\u2500\u2500\u2500\u2500\u2500\u2500\u2500\u2500\u2500\u2500\u2500\u2500\u2500 + \u2500\u2500\u2500\u2500\u2500\u2500\u2500\u2500\u2500\u2500\u2500\u2500\u2500\u2500\u2500\u2500\u2500\u2500\u2500\u2500\u2500 + \u2500\u2500\u2500\u2500\u2500\u2500\u2500\u2500\u2500\u2500\u2500\u2500\u2500\u2500\u2500\u2500\u2500\u2500\u2500\u2500\u2500 - \u2500\u2500\u2500\u2500\n",
        "           2\u22c5h                     2\u22c5h                     2\u22c5h                \n",
        "\n",
        "_1^{\\mathrm{SWT}}\n",
        "\u2500\u2500\u2500\u2500\u2500\u2500\u2500\u2500\u2500\u2500\u2500\u2500\u2500\u2500\u2500\u2500\u2500\n",
        "     2\u22c5h         "
       ]
      }
     ],
     "prompt_number": 36
    },
    {
     "cell_type": "markdown",
     "metadata": {},
     "source": [
      "For comparison"
     ]
    },
    {
     "cell_type": "code",
     "collapsed": false,
     "input": [
      "collect(expand(ver_3.subs(Rsubsdict)).subs({x1:0, d2:0}),collist).subs(pa2dx)"
     ],
     "language": "python",
     "metadata": {},
     "outputs": [
      {
       "latex": [
        "$$- \\frac{l_{1} u^{{\\mathrm{NWB}}}_{1}}{2 h} + \\frac{l_{1} u^{{\\mathrm{NWT}}}_{1}}{2 h} + \\frac{l_{1} u^{{\\mathrm{SWB}}}_{1}}{2 h} - \\frac{l_{1} u^{{\\mathrm{SWT}}}_{1}}{2 h}$$"
       ],
       "output_type": "pyout",
       "png": "[encoded data removed]",
       "prompt_number": 37,
       "text": [
        "  l\u2081\u22c5u_1^{\\mathrm{NWB}}   l\u2081\u22c5u_1^{\\mathrm{NWT}}   l\u2081\u22c5u_1^{\\mathrm{SWB}}   l\u2081\u22c5u\n",
        "- \u2500\u2500\u2500\u2500\u2500\u2500\u2500\u2500\u2500\u2500\u2500\u2500\u2500\u2500\u2500\u2500\u2500\u2500\u2500\u2500\u2500 + \u2500\u2500\u2500\u2500\u2500\u2500\u2500\u2500\u2500\u2500\u2500\u2500\u2500\u2500\u2500\u2500\u2500\u2500\u2500\u2500\u2500 + \u2500\u2500\u2500\u2500\u2500\u2500\u2500\u2500\u2500\u2500\u2500\u2500\u2500\u2500\u2500\u2500\u2500\u2500\u2500\u2500\u2500 - \u2500\u2500\u2500\u2500\n",
        "           2\u22c5h                     2\u22c5h                     2\u22c5h                \n",
        "\n",
        "_1^{\\mathrm{SWT}}\n",
        "\u2500\u2500\u2500\u2500\u2500\u2500\u2500\u2500\u2500\u2500\u2500\u2500\u2500\u2500\u2500\u2500\u2500\n",
        "     2\u22c5h         "
       ]
      }
     ],
     "prompt_number": 37
    },
    {
     "cell_type": "markdown",
     "metadata": {},
     "source": [
      "# Rotational degrees of freedom"
     ]
    },
    {
     "cell_type": "code",
     "collapsed": false,
     "input": [
      "p1, p2, p1p, p2p = symbols(r'\\varphi_1 \\varphi_2 \\varphi_1^p \\varphi_2^p')"
     ],
     "language": "python",
     "metadata": {},
     "outputs": [],
     "prompt_number": 38
    },
    {
     "cell_type": "code",
     "collapsed": false,
     "input": [
      "# vector of phis\n",
      "pv = Matrix([p1,p2])\n",
      "# chi tilde\n",
      "chimt = Matrix([[c21,c22],[-c11,-c12]])\n",
      "# location vector\n",
      "xv = Matrix([x1,x2])\n",
      "# vector of periodic phis\n",
      "pvp = Matrix([p1p,p2p])"
     ],
     "language": "python",
     "metadata": {},
     "outputs": [],
     "prompt_number": 39
    },
    {
     "cell_type": "markdown",
     "metadata": {},
     "source": [
      "For every point $P$ $(x_1,x_2)\\ $  the rotation angles $\\varphi_1$ and $\\varphi_2$ can be expressed as $\\hat\\varphi=\\tilde\\chi\\cdot\\vec x+\\hat\\varphi^p$"
     ]
    },
    {
     "cell_type": "code",
     "collapsed": false,
     "input": [
      "Math(conmat(pv)+'='+conmat(chimt)+conmat(xv)+'+'+conmat(pvp))"
     ],
     "language": "python",
     "metadata": {},
     "outputs": [
      {
       "latex": [
        "$$\\begin{pmatrix}\\varphi_{1}\\\\\\varphi_{2}\\end{pmatrix}=\\begin{pmatrix}\\chi_{{21}} & \\chi_{{22}}\\\\- \\chi_{{11}} & - \\chi_{{12}}\\end{pmatrix}\\begin{pmatrix}x_{1}\\\\x_{2}\\end{pmatrix}+\\begin{pmatrix}\\varphi^{p}_{1}\\\\\\varphi^{p}_{2}\\end{pmatrix}$$"
       ],
       "output_type": "pyout",
       "prompt_number": 40,
       "text": [
        "<IPython.core.display.Math object at 0x3f2cc10>"
       ]
      }
     ],
     "prompt_number": 40
    },
    {
     "cell_type": "markdown",
     "metadata": {},
     "source": [
      "For two corresponding points $D-D'\\ $, with $\\vec x^{D'}=\\vec x^D+\\vec t\\;$ the nodal rotation angles can be related using\n",
      "$$\\hat\\varphi^D=\\hat\\varphi(\\vec x^D)=\\tilde\\chi\\cdot\\vec x^D+\\hat\\varphi^p(\\vec x^D)$$\n",
      "$$\\hat\\varphi^{D'}=\\hat\\varphi(\\vec x^D+\\vec t)=\\tilde\\chi\\cdot(\\vec x^D+\\vec t)+\\hat\\varphi^p(\\vec x^D+\\vec t)$$\n",
      "with\n",
      "$$\\hat\\varphi^p(\\vec x^D)=\\hat\\varphi^p(\\vec x^D+\\vec t)$$\n",
      "as\n",
      "$$\\hat\\varphi(\\vec x^D+\\vec t)-\\hat\\varphi(\\vec x^D) = \\tilde\\chi\\cdot\\vec t$$"
     ]
    },
    {
     "cell_type": "markdown",
     "metadata": {},
     "source": [
      "### Definition for 1 direction"
     ]
    },
    {
     "cell_type": "code",
     "collapsed": false,
     "input": [
      "pm = Matrix([[pa1, pb1],[pa2, pb2]])\n",
      "pm"
     ],
     "language": "python",
     "metadata": {},
     "outputs": [
      {
       "latex": [
        "$$\\left[\\begin{smallmatrix}p^{A}_{1} & p^{B}_{1}\\\\p^{A}_{2} & p^{B}_{2}\\end{smallmatrix}\\right]$$"
       ],
       "output_type": "pyout",
       "prompt_number": 41,
       "text": [
        "\u23a1p_1^A  p_1^B\u23a4\n",
        "\u23a2            \u23a5\n",
        "\u23a3p_2^A  p_2^B\u23a6"
       ]
      }
     ],
     "prompt_number": 41
    },
    {
     "cell_type": "code",
     "collapsed": false,
     "input": [
      "d_phi = chimt*pm\n",
      "# use dimensions instead of periodicity vectors\n",
      "d_phi = d_phi.subs({pa1:l1, pa2:0, pb1:d2, pb2:l2})\n",
      "d_phi"
     ],
     "language": "python",
     "metadata": {},
     "outputs": [
      {
       "latex": [
        "$$\\left[\\begin{smallmatrix}\\chi_{{21}} l_{1} & \\chi_{{21}} d_{2} + \\chi_{{22}} l_{2}\\\\- \\chi_{{11}} l_{1} & - \\chi_{{11}} d_{2} - \\chi_{{12}} l_{2}\\end{smallmatrix}\\right]$$"
       ],
       "output_type": "pyout",
       "prompt_number": 42,
       "text": [
        "\u23a1\\chi_{21}\u22c5l\u2081   \\chi_{21}\u22c5d\u2082 + \\chi_{22}\u22c5l\u2082 \u23a4\n",
        "\u23a2                                           \u23a5\n",
        "\u23a3-\\chi_{11}\u22c5l\u2081  -\\chi_{11}\u22c5d\u2082 - \\chi_{12}\u22c5l\u2082\u23a6"
       ]
      }
     ],
     "prompt_number": 42
    },
    {
     "cell_type": "markdown",
     "metadata": {},
     "source": [
      "Substitude the curvatures with the respective rotation tensors following"
     ]
    },
    {
     "cell_type": "code",
     "collapsed": false,
     "input": [
      "Rm = Matrix([[-R2, -S2],[R1, S1]])\n",
      "Rm"
     ],
     "language": "python",
     "metadata": {},
     "outputs": [
      {
       "latex": [
        "$$\\left[\\begin{smallmatrix}- R_{2} & - S_{2}\\\\R_{1} & S_{1}\\end{smallmatrix}\\right]$$"
       ],
       "output_type": "pyout",
       "prompt_number": 43,
       "text": [
        "\u23a1-R\u2082  -S\u2082\u23a4\n",
        "\u23a2        \u23a5\n",
        "\u23a3R\u2081   S\u2081 \u23a6"
       ]
      }
     ],
     "prompt_number": 43
    },
    {
     "cell_type": "code",
     "collapsed": false,
     "input": [
      "Chim = Matrix([[c11, c12],[c21, c22]])\n",
      "c = Chim*pm\n",
      "# use dimensions instead of periodicity vectors\n",
      "c = c.subs({pa1:l1, pa2:0, pb1:d2, pb2:l2})\n",
      "c"
     ],
     "language": "python",
     "metadata": {},
     "outputs": [
      {
       "latex": [
        "$$\\left[\\begin{smallmatrix}\\chi_{{11}} l_{1} & \\chi_{{11}} d_{2} + \\chi_{{12}} l_{2}\\\\\\chi_{{21}} l_{1} & \\chi_{{21}} d_{2} + \\chi_{{22}} l_{2}\\end{smallmatrix}\\right]$$"
       ],
       "output_type": "pyout",
       "prompt_number": 44,
       "text": [
        "\u23a1\\chi_{11}\u22c5l\u2081  \\chi_{11}\u22c5d\u2082 + \\chi_{12}\u22c5l\u2082\u23a4\n",
        "\u23a2                                         \u23a5\n",
        "\u23a3\\chi_{21}\u22c5l\u2081  \\chi_{21}\u22c5d\u2082 + \\chi_{22}\u22c5l\u2082\u23a6"
       ]
      }
     ],
     "prompt_number": 44
    },
    {
     "cell_type": "code",
     "collapsed": false,
     "input": [
      "Math(conmat(Rm)+'='+conmat(c))"
     ],
     "language": "python",
     "metadata": {},
     "outputs": [
      {
       "latex": [
        "$$\\begin{pmatrix}- R_{2} & - S_{2}\\\\R_{1} & S_{1}\\end{pmatrix}=\\begin{pmatrix}\\chi_{{11}} l_{1} & \\chi_{{11}} d_{2} + \\chi_{{12}} l_{2}\\\\\\chi_{{21}} l_{1} & \\chi_{{21}} d_{2} + \\chi_{{22}} l_{2}\\end{pmatrix}$$"
       ],
       "output_type": "pyout",
       "prompt_number": 45,
       "text": [
        "<IPython.core.display.Math object at 0x3195510>"
       ]
      }
     ],
     "prompt_number": 45
    },
    {
     "cell_type": "code",
     "collapsed": false,
     "input": [
      "from sympy import solve as sysolve\n",
      "ch_rot = sysolve(c-Rm,[c11,c12,c21,c22])\n",
      "Matrix([[i,ch_rot[i]] for i in ch_rot])"
     ],
     "language": "python",
     "metadata": {},
     "outputs": [
      {
       "latex": [
        "$$\\left[\\begin{smallmatrix}\\chi_{{22}} & \\frac{- R_{1} d_{2} + S_{1} l_{1}}{l_{1} l_{2}}\\\\\\chi_{{11}} & - \\frac{R_{2}}{l_{1}}\\\\\\chi_{{12}} & \\frac{\\frac{R_{2} d_{2}}{l_{1}} - S_{2}}{l_{2}}\\\\\\chi_{{21}} & \\frac{R_{1}}{l_{1}}\\end{smallmatrix}\\right]$$"
       ],
       "output_type": "pyout",
       "prompt_number": 46,
       "text": [
        "\u23a1           -R\u2081\u22c5d\u2082 + S\u2081\u22c5l\u2081\u23a4\n",
        "\u23a2\\chi_{22}  \u2500\u2500\u2500\u2500\u2500\u2500\u2500\u2500\u2500\u2500\u2500\u2500\u2500\u2500\u23a5\n",
        "\u23a2               l\u2081\u22c5l\u2082     \u23a5\n",
        "\u23a2                         \u23a5\n",
        "\u23a2                -R\u2082      \u23a5\n",
        "\u23a2\\chi_{11}       \u2500\u2500\u2500      \u23a5\n",
        "\u23a2                 l\u2081      \u23a5\n",
        "\u23a2                         \u23a5\n",
        "\u23a2             R\u2082\u22c5d\u2082       \u23a5\n",
        "\u23a2             \u2500\u2500\u2500\u2500\u2500 - S\u2082  \u23a5\n",
        "\u23a2               l\u2081        \u23a5\n",
        "\u23a2\\chi_{12}    \u2500\u2500\u2500\u2500\u2500\u2500\u2500\u2500\u2500\u2500  \u23a5\n",
        "\u23a2                 l\u2082      \u23a5\n",
        "\u23a2                         \u23a5\n",
        "\u23a2                 R\u2081      \u23a5\n",
        "\u23a2\\chi_{21}        \u2500\u2500      \u23a5\n",
        "\u23a3                 l\u2081      \u23a6"
       ]
      }
     ],
     "prompt_number": 46
    },
    {
     "cell_type": "code",
     "collapsed": false,
     "input": [
      "d_phi = d_phi.subs(ch_rot)\n",
      "d_phi.simplify()\n",
      "Math(conmat(d_phi))"
     ],
     "language": "python",
     "metadata": {},
     "outputs": [
      {
       "latex": [
        "$$\\begin{pmatrix}R_{1} & S_{1}\\\\R_{2} & S_{2}\\end{pmatrix}$$"
       ],
       "output_type": "pyout",
       "prompt_number": 47,
       "text": [
        "<IPython.core.display.Math object at 0x5033810>"
       ]
      }
     ],
     "prompt_number": 47
    },
    {
     "cell_type": "markdown",
     "metadata": {},
     "source": [
      "using the already defined relation between the master node displacements and the rotation vectors the \n",
      "boundary conditions linking corresponding nodel rotations can be defined as"
     ]
    },
    {
     "cell_type": "code",
     "collapsed": false,
     "input": [
      "dp_hor = d_phi[:,0].subs(Rsubsdict).subs(pa2dx)\n",
      "dp_ver = d_phi[:,1].subs(Rsubsdict).subs(pa2dx)"
     ],
     "language": "python",
     "metadata": {},
     "outputs": [],
     "prompt_number": 48
    },
    {
     "cell_type": "code",
     "collapsed": false,
     "input": [
      "Math(r'\\hat{\\varphi}(l_1+\\frac{d_2 x_2}{l_2},x_2,x_3)-\\hat{\\varphi}(\\frac{d_2 x_2}{l_2},x_2,x_3)='+conmat(dp_hor.expand()))"
     ],
     "language": "python",
     "metadata": {},
     "outputs": [
      {
       "latex": [
        "$$\\hat{\\varphi}(l_1+\\frac{d_2 x_2}{l_2},x_2,x_3)-\\hat{\\varphi}(\\frac{d_2 x_2}{l_2},x_2,x_3)=\\begin{pmatrix}\\frac{u^{{\\mathrm{SEB}}}_{2}}{h} - \\frac{u^{{\\mathrm{SET}}}_{2}}{h} - \\frac{u^{{\\mathrm{SWB}}}_{2}}{h} + \\frac{u^{{\\mathrm{SWT}}}_{2}}{h}\\\\- \\frac{u^{{\\mathrm{SEB}}}_{1}}{h} + \\frac{u^{{\\mathrm{SET}}}_{1}}{h} + \\frac{u^{{\\mathrm{SWB}}}_{1}}{h} - \\frac{u^{{\\mathrm{SWT}}}_{1}}{h}\\end{pmatrix}$$"
       ],
       "output_type": "pyout",
       "prompt_number": 49,
       "text": [
        "<IPython.core.display.Math object at 0x51702d0>"
       ]
      }
     ],
     "prompt_number": 49
    },
    {
     "cell_type": "code",
     "collapsed": false,
     "input": [
      "Math(r'\\hat{\\varphi}(x_1+d_2,l_2,x_3)-\\hat{\\varphi}(x_1,0,x_3)='+conmat(dp_ver.expand()))"
     ],
     "language": "python",
     "metadata": {},
     "outputs": [
      {
       "latex": [
        "$$\\hat{\\varphi}(x_1+d_2,l_2,x_3)-\\hat{\\varphi}(x_1,0,x_3)=\\begin{pmatrix}\\frac{u^{{\\mathrm{NWB}}}_{2}}{h} - \\frac{u^{{\\mathrm{NWT}}}_{2}}{h} - \\frac{u^{{\\mathrm{SWB}}}_{2}}{h} + \\frac{u^{{\\mathrm{SWT}}}_{2}}{h}\\\\- \\frac{u^{{\\mathrm{NWB}}}_{1}}{h} + \\frac{u^{{\\mathrm{NWT}}}_{1}}{h} + \\frac{u^{{\\mathrm{SWB}}}_{1}}{h} - \\frac{u^{{\\mathrm{SWT}}}_{1}}{h}\\end{pmatrix}$$"
       ],
       "output_type": "pyout",
       "prompt_number": 50,
       "text": [
        "<IPython.core.display.Math object at 0x5170650>"
       ]
      }
     ],
     "prompt_number": 50
    },
    {
     "cell_type": "markdown",
     "metadata": {},
     "source": [
      "The individual equation are independent of the location variables $x_1,x_2,x_3$. "
     ]
    },
    {
     "cell_type": "code",
     "collapsed": false,
     "input": [
      "dp_tot = dp_ver + dp_hor\n",
      "Math(r'\\hat{\\varphi}(l_1+d_2,l_2,x_3)-\\hat{\\varphi}(0,0,x_3)='+conmat(dp_tot.expand()))"
     ],
     "language": "python",
     "metadata": {},
     "outputs": [
      {
       "latex": [
        "$$\\hat{\\varphi}(l_1+d_2,l_2,x_3)-\\hat{\\varphi}(0,0,x_3)=\\begin{pmatrix}\\frac{u^{{\\mathrm{NWB}}}_{2}}{h} - \\frac{u^{{\\mathrm{NWT}}}_{2}}{h} + \\frac{u^{{\\mathrm{SEB}}}_{2}}{h} - \\frac{u^{{\\mathrm{SET}}}_{2}}{h} - 2 \\frac{u^{{\\mathrm{SWB}}}_{2}}{h} + 2 \\frac{u^{{\\mathrm{SWT}}}_{2}}{h}\\\\- \\frac{u^{{\\mathrm{NWB}}}_{1}}{h} + \\frac{u^{{\\mathrm{NWT}}}_{1}}{h} - \\frac{u^{{\\mathrm{SEB}}}_{1}}{h} + \\frac{u^{{\\mathrm{SET}}}_{1}}{h} + 2 \\frac{u^{{\\mathrm{SWB}}}_{1}}{h} - 2 \\frac{u^{{\\mathrm{SWT}}}_{1}}{h}\\end{pmatrix}$$"
       ],
       "output_type": "pyout",
       "prompt_number": 51,
       "text": [
        "<IPython.core.display.Math object at 0x4f3c090>"
       ]
      }
     ],
     "prompt_number": 51
    },
    {
     "cell_type": "markdown",
     "metadata": {},
     "source": [
      "## Setup Unit Cell"
     ]
    },
    {
     "cell_type": "code",
     "collapsed": false,
     "input": [
      "# side lengths\n",
      "l1_n=1\n",
      "l2_n=1\n",
      "# shear angle\n",
      "gamma = 30*pi/180\n",
      "\n",
      "l1s_n = l1_n/cos(gamma/2.)\n",
      "l2s_n = l2_n/cos(gamma/2.)*cos(gamma)\n",
      "d2_n = l2_n/cos(gamma/2.)*sin(gamma)\n",
      "\n",
      "# shear matrix\n",
      "a = tan(gamma/2.)\n",
      "smat = Matrix([[1,a],[a,1]])\n",
      "\n",
      "# rotation matrix\n",
      "rotm = lambda g: Matrix([[cos(g), -sin(g)],[sin(g), cos(g)]])\n",
      "\n",
      "pa=[l1s_n,0]\n",
      "pb=[d2_n, l2s_n]\n",
      "\n",
      "print 'l1s: ',l1s_n\n",
      "print 'l2s: ',l2s_n\n",
      "print 'd2: ',d2_n\n",
      "\n",
      "zero = zeros(2)\n",
      "\n",
      "pax,pay = zip(zero,pa)\n",
      "pbx,pby = zip(zero,pb)\n",
      "\n",
      "plot(pax,pay,'r',lw=2)\n",
      "plot(pbx,pby,'b',lw=2)\n",
      "ylim(0,1);"
     ],
     "language": "python",
     "metadata": {},
     "outputs": [
      {
       "ename": "NameError",
       "evalue": "name 'pi' is not defined",
       "output_type": "pyerr",
       "traceback": [
        "\u001b[1;31m---------------------------------------------------------------------------\u001b[0m\n\u001b[1;31mNameError\u001b[0m                                 Traceback (most recent call last)",
        "\u001b[1;32m<ipython-input-52-00e76a240dde>\u001b[0m in \u001b[0;36m<module>\u001b[1;34m()\u001b[0m\n\u001b[0;32m      3\u001b[0m \u001b[0ml2_n\u001b[0m\u001b[1;33m=\u001b[0m\u001b[1;36m1\u001b[0m\u001b[1;33m\u001b[0m\u001b[0m\n\u001b[0;32m      4\u001b[0m \u001b[1;31m# shear angle\u001b[0m\u001b[1;33m\u001b[0m\u001b[1;33m\u001b[0m\u001b[0m\n\u001b[1;32m----> 5\u001b[1;33m \u001b[0mgamma\u001b[0m \u001b[1;33m=\u001b[0m \u001b[1;36m30\u001b[0m\u001b[1;33m*\u001b[0m\u001b[0mpi\u001b[0m\u001b[1;33m/\u001b[0m\u001b[1;36m180\u001b[0m\u001b[1;33m\u001b[0m\u001b[0m\n\u001b[0m\u001b[0;32m      6\u001b[0m \u001b[1;33m\u001b[0m\u001b[0m\n\u001b[0;32m      7\u001b[0m \u001b[0ml1s_n\u001b[0m \u001b[1;33m=\u001b[0m \u001b[0ml1_n\u001b[0m\u001b[1;33m/\u001b[0m\u001b[0mcos\u001b[0m\u001b[1;33m(\u001b[0m\u001b[0mgamma\u001b[0m\u001b[1;33m/\u001b[0m\u001b[1;36m2.\u001b[0m\u001b[1;33m)\u001b[0m\u001b[1;33m\u001b[0m\u001b[0m\n",
        "\u001b[1;31mNameError\u001b[0m: name 'pi' is not defined"
       ]
      }
     ],
     "prompt_number": 52
    }
   ],
   "metadata": {}
  }
 ]
}