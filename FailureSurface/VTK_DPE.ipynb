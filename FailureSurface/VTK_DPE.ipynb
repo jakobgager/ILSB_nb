{
 "metadata": {
  "name": "VTK_DPE"
 },
 "nbformat": 3,
 "nbformat_minor": 0,
 "worksheets": [
  {
   "cells": [
    {
     "cell_type": "code",
     "collapsed": false,
     "input": [
      "import vtk\n",
      "import numpy as np"
     ],
     "language": "python",
     "metadata": {},
     "outputs": [],
     "prompt_number": 61
    },
    {
     "cell_type": "code",
     "collapsed": false,
     "input": [
      "filename='/usr2/gager/Diplomas/Schwab/vtk/DPE_radstress_stress_e5.vtk'\n",
      "R = np.array([-15.073881, 174.57872, -1.4734085])\n"
     ],
     "language": "python",
     "metadata": {},
     "outputs": [],
     "prompt_number": 62
    },
    {
     "cell_type": "heading",
     "level": 4,
     "metadata": {},
     "source": [
      "Clean Ray"
     ]
    },
    {
     "cell_type": "code",
     "collapsed": false,
     "input": [
      "if R[1]>R[0]:\n",
      "    temp = R[0]\n",
      "    R[0] = R[1]\n",
      "    R[1] = temp\n",
      "R[2] = abs(R[2])"
     ],
     "language": "python",
     "metadata": {},
     "outputs": [],
     "prompt_number": 63
    },
    {
     "cell_type": "markdown",
     "metadata": {},
     "source": [
      "based on: (%loadpy '/usr2/gager/Simulations/Misc/SimMI26/python/DPM_simple.py')"
     ]
    },
    {
     "cell_type": "code",
     "collapsed": false,
     "input": [
      "def intersect3D_RayTriangle(R, T):\n",
      "    \"\"\" R ... Ray (dx, dy, dz)\n",
      "        T ... Triangle (P1, P2, P3)\n",
      "    \"\"\"\n",
      "    # get triangle edge vector\n",
      "    u = T[1] - T[0]\n",
      "    v = T[2] - T[0]\n",
      "    # normal\n",
      "    n = np.cross(u,v)\n",
      "    \n",
      "    #degenarate triangle?\n",
      "    if len(n) == 0: return -1\n",
      "\n",
      "    w0 = -T[0]\n",
      "    a = -np.dot(n,w0)\n",
      "    b = np.dot(n,R)\n",
      "    if abs(b) < 0.0001:\n",
      "        if a == 0: return 2\n",
      "        else: return 0\n",
      "\n",
      "    # get intersect point of ray with triangle plane\n",
      "    r = float(a) / b\n",
      "    if r < 0.0:                   # ray goes away from triangle\n",
      "        return 0                  # => no intersect\n",
      "    # for a segment, also test if (r > 1.0) => no intersect\n",
      "\n",
      "    I = r * R;           # intersect point of ray and plane\n",
      "\n",
      "    # is I inside T?\n",
      "    uu = np.dot(u,u)\n",
      "    uv = np.dot(u,v)\n",
      "    vv = np.dot(v,v)\n",
      "    w = I - T[0]\n",
      "    wu = np.dot(w,u)\n",
      "    wv = np.dot(w,v)\n",
      "    D = uv * uv - uu * vv\n",
      "\n",
      "    # get and test parametric coords\n",
      "    s = (uv * wv - vv * wu) / D\n",
      "    if s < 0.0 or s > 1.0 :        # I is outside T\n",
      "        return 0\n",
      "    t = (uv * wu - uu * wv) / D\n",
      "    if t < 0.0 or (s + t) > 1.0:   # I is outside T\n",
      "        return 0\n",
      "\n",
      "    return I, r;\n",
      "\n",
      "def writefile(R, T, I, r, filename, hit = False):\n",
      "    with open(filename,'w') as fil:\n",
      "        if hit:\n",
      "            numcell = (3,9)\n",
      "            data = 5\n",
      "        else:\n",
      "            numcell = (2,6)\n",
      "            data = 4\n",
      "        #header#\n",
      "        fil.write('# vtk DataFile Version 2.0\\n')\n",
      "        fil.write('{0:04d} {1:04d} {2:02d} {3:01d}\\n'.format(data, numcell[0], 1, 1))\n",
      "        fil.write('ASCII\\nDATASET UNSTRUCTURED_GRID\\n')\n",
      "        fil.write('POINTS {0:04d} float\\n'.format(data))\n",
      "        #triangle points\n",
      "        for p in T:\n",
      "            fil.write('{0[0]} {0[1]} {0[2]}\\n'.format(p))\n",
      "        fil.write('{0[0]} {0[1]} {0[2]}\\n'.format(np.zeros(3)))\n",
      "        if hit: fil.write('{0[0]} {0[1]} {0[2]}\\n'.format(I))\n",
      "        # cells\n",
      "        fil.write('\\nCELLS {0[0]} {0[1]}\\n'.format(numcell))\n",
      "        fil.write('3 0 1 2\\n')\n",
      "        fil.write('1 3\\n')\n",
      "        if hit: fil.write('2 3 4\\n')\n",
      "        fil.write('\\nCELL_TYPES {0}\\n'.format(numcell[0]))\n",
      "        fil.write('5\\n')\n",
      "        fil.write('1\\n')\n",
      "        if hit: fil.write('3\\n')\n",
      "        # data\n",
      "        fil.write('\\nPOINT_DATA {0}\\n'.format(data))\n",
      "        fil.write('VECTORS load float\\n')\n",
      "        fil.write('0 0 0\\n')\n",
      "        fil.write('0 0 0\\n')\n",
      "        fil.write('0 0 0\\n')\n",
      "        fil.write('{0[0]} {0[1]} {0[2]}\\n'.format(R))\n",
      "        if hit: fil.write('0 0 0\\n')\n",
      "        fil.write('SCALARS loadfac float 1\\n')\n",
      "        fil.write('LOOKUP_TABLE default\\n')\n",
      "        fil.write('0\\n')\n",
      "        fil.write('0\\n')\n",
      "        fil.write('0\\n')\n",
      "        fil.write('{0}\\n'.format(r))\n",
      "        if hit: fil.write('0\\n')\n",
      "\n",
      "def readVTK(filename):\n",
      "    points = []\n",
      "    cells = []\n",
      "    with open(filename,'r') as fil:\n",
      "        fil.readline()\n",
      "        dataline=fil.readline()\n",
      "        \n",
      "    with open(filename,'r') as fil:\n",
      "        lin = 1\n",
      "        while lin:\n",
      "            lin = fil.readline()\n",
      "            if lin.startswith('POINTS'):\n",
      "                numpt = int(lin.split()[1])\n",
      "                for i in range(numpt):\n",
      "                    points.append(np.array(fil.readline().split(),dtype=float))\n",
      "            if lin.startswith('POLYGONS'):\n",
      "                numcells = int(lin.split()[1])\n",
      "                for i in range(numcells):\n",
      "                    cells.append(np.array(fil.readline().split()[1:],dtype=int))\n",
      "                    \n",
      "    # process dataline\n",
      "    sets = int(dataline.split()[2])\n",
      "    \n",
      "    return points, cells, sets"
     ],
     "language": "python",
     "metadata": {},
     "outputs": [],
     "prompt_number": 64
    },
    {
     "cell_type": "heading",
     "level": 2,
     "metadata": {},
     "source": [
      "Read data"
     ]
    },
    {
     "cell_type": "heading",
     "level": 4,
     "metadata": {},
     "source": [
      "Read DPEs"
     ]
    },
    {
     "cell_type": "code",
     "collapsed": false,
     "input": [
      "Reader = vtk.vtkDataSetReader()\n",
      "Reader.SetFileName(filename)\n",
      "Reader.Update()\n",
      "Data = Reader.GetOutput()\n",
      "scalar_range = Data.GetScalarRange()\n",
      "mapper = vtk.vtkPolyDataMapper()\n",
      "mapper.SetInput(Data)\n",
      "mapper.SetScalarRange(scalar_range)\n",
      "\n",
      "actor = vtk.vtkActor()\n",
      "actor.SetMapper(mapper)\n",
      "obj = actor.GetProperty()\n",
      "obj.EdgeVisibilityOn()\n",
      "obj.SetEdgeColor(0,0,0)"
     ],
     "language": "python",
     "metadata": {},
     "outputs": [],
     "prompt_number": 65
    },
    {
     "cell_type": "heading",
     "level": 4,
     "metadata": {},
     "source": [
      "Read python solution"
     ]
    },
    {
     "cell_type": "raw",
     "metadata": {},
     "source": [
      "lut = vtk.vtkLookupTable()\n",
      "lut.SetNumberOfTableValues(1)\n",
      "lut.SetTableRange(0.0, 1.0)\n",
      "lut.Build()\n",
      "lut.SetTableValue(0, (1, 0.6, 0, 1))\n",
      "#lut.SetTableValue(1, (0, 1, 0, 1))"
     ]
    },
    {
     "cell_type": "code",
     "collapsed": false,
     "input": [
      "points, cells, sets = readVTK(filename)\n",
      "\n",
      "lp = len(points)\n",
      "lc = len(cells)\n",
      "\n",
      "Thitlist = []\n",
      "Irlist = []\n",
      "\n",
      "hit = False\n",
      "for i in range(sets):\n",
      "    for idx,cell in enumerate(cells[i*lc/2:lc/2*(1+i)]):\n",
      "    #print 'Processing Cell: {0}'.format(idx)\n",
      "        T = np.array([points[cell[0]],points[cell[1]],points[cell[2]]])\n",
      "        out = intersect3D_RayTriangle(R, T)\n",
      "        if type(out) == int:\n",
      "            pass\n",
      "        else:\n",
      "            Irlist.append(out)\n",
      "            hit = True\n",
      "            Thitlist.append(T)\n",
      "\n",
      "print 'Ray:', R\n",
      "print 'Triangle:', Thitlist\n",
      "#out = intersect3D_RayTriangle(R, T)\n",
      "print Irlist"
     ],
     "language": "python",
     "metadata": {},
     "outputs": [
      {
       "output_type": "stream",
       "stream": "stdout",
       "text": [
        "Ray: [ 174.57872    -15.073881     1.4734085]\n",
        "Triangle: [array([[ 129.11 ,  -19.837,   28.053],\n",
        "       [ 130.88 ,  -25.895,    0.   ],\n",
        "       [ 133.33 ,    0.   ,    0.   ]]), array([[  82.485,  -12.703,   17.964],\n",
        "       [  83.664,  -16.583,    0.   ],\n",
        "       [ 115.3  ,    0.   ,    0.   ]])]\n",
        "[(array([ 132.15720677,  -11.41102425,    1.11537965]), 0.75700639100034461), (array([ 98.6520898 ,  -8.51804769,   0.83260335]), 0.56508656840728344)]\n"
       ]
      }
     ],
     "prompt_number": 66
    },
    {
     "cell_type": "markdown",
     "metadata": {},
     "source": [
      "Generate hit triangle and arrow"
     ]
    },
    {
     "cell_type": "code",
     "collapsed": false,
     "input": [
      "triangles = []\n",
      "trianglePolyData = []\n",
      "trimapper = []\n",
      "triactor = []\n",
      "plist = []\n",
      "tlist = []\n",
      "for i in range(sets):\n",
      "    # create points\n",
      "    plist.append(vtk.vtkPoints())\n",
      "    for p in Thitlist[i]:\n",
      "        print p\n",
      "        plist[i].InsertNextPoint(*p)\n",
      " \n",
      "    tlist.append(vtk.vtkTriangle())\n",
      "    tlist[i].GetPointIds().SetId(0,0)\n",
      "    tlist[i].GetPointIds().SetId(1,1)\n",
      "    tlist[i].GetPointIds().SetId(2,2)\n",
      "    triangles.append(vtk.vtkCellArray())\n",
      "    triangles[i].InsertNextCell(tlist[i])\n",
      "    \n",
      "    # polydata object\n",
      "    trianglePolyData.append(vtk.vtkPolyData())\n",
      "    trianglePolyData[i].SetPoints( plist[i] )\n",
      "    trianglePolyData[i].SetPolys( triangles[i] )\n",
      " \n",
      "    # mapper\n",
      "    trimapper.append(vtk.vtkPolyDataMapper())\n",
      "    trimapper[i].SetInput(trianglePolyData[i])\n",
      "\n",
      "    # Create the Actor\n",
      "    triactor.append(vtk.vtkActor())\n",
      "    triactor[i].SetMapper(trimapper[i])\n",
      "\n",
      "    obj = triactor[i].GetProperty()\n",
      "    obj.EdgeVisibilityOn()\n",
      "    obj.SetColor(1,0.6,0)\n",
      "    obj.SetEdgeColor(1,0.6,0)\n",
      "    obj.SetLineWidth(1.5)"
     ],
     "language": "python",
     "metadata": {},
     "outputs": [
      {
       "output_type": "stream",
       "stream": "stdout",
       "text": [
        "[ 129.11   -19.837   28.053]\n",
        "[ 130.88   -25.895    0.   ]\n",
        "[ 133.33    0.      0.  ]\n",
        "[ 82.485 -12.703  17.964]\n",
        "[ 83.664 -16.583   0.   ]\n",
        "[ 115.3    0.     0. ]\n"
       ]
      }
     ],
     "prompt_number": 67
    },
    {
     "cell_type": "raw",
     "metadata": {},
     "source": [
      "Reader2 = vtk.vtkUnstructuredGridReader()\n",
      "Reader2.SetFileName(filename2)\n",
      "Reader2.Update()\n",
      "Data2 = Reader2.GetOutput()\n",
      "scalar_range2 = Data2.GetScalarRange()\n",
      "\n",
      "mapper2 = vtk.vtkDataSetMapper()\n",
      "mapper2.SetInput(Data2)\n",
      "mapper2.SetScalarRange(scalar_range2)\n",
      "mapper2.SetLookupTable(lut)\n",
      " \n"
     ]
    },
    {
     "cell_type": "heading",
     "level": 3,
     "metadata": {},
     "source": [
      "Create Axes"
     ]
    },
    {
     "cell_type": "code",
     "collapsed": false,
     "input": [
      "axes = vtk.vtkAxesActor()\n",
      "axes.SetOrigin(0.,0.,0.)\n",
      "axes.SetTotalLength(100.,100.,100.)\n",
      "axes.AxisLabelsOff()\n",
      "axes.SetShaftTypeToCylinder()\n",
      "axes.SetCylinderRadius(0.02)\n",
      "axes.SetConeRadius(0.3)\n",
      "#axes.SetXAxisLabelText('Sxx')\n",
      "#axes.SetYAxisLabelText('Syy')\n",
      "#axes.SetZAxisLabelText('Sxy')"
     ],
     "language": "python",
     "metadata": {},
     "outputs": [],
     "prompt_number": 68
    },
    {
     "cell_type": "heading",
     "level": 3,
     "metadata": {},
     "source": [
      "Create Ray"
     ]
    },
    {
     "cell_type": "code",
     "collapsed": false,
     "input": [
      "import random\n",
      "#Create an arrow.\n",
      "arrowSource = vtk.vtkArrowSource()\n",
      "arrowSource.SetShaftResolution(50)\n",
      "arrowSource.SetTipResolution(50)\n",
      "startPoint = [0,0,0]\n",
      "endPoint = R\n",
      "\n",
      " \n",
      "# Compute a basis\n",
      "normalizedX = [0 for i in range(3)]\n",
      "normalizedY = [0 for i in range(3)]\n",
      "normalizedZ = [0 for i in range(3)]\n",
      " \n",
      "# The X axis is a vector from start to end\n",
      "math = vtk.vtkMath()\n",
      "math.Subtract(endPoint, startPoint, normalizedX)\n",
      "length = math.Norm(normalizedX)\n",
      "math.Normalize(normalizedX)\n",
      " \n",
      "# The Z axis is an arbitrary vector cross X\n",
      "arbitrary = [0 for i in range(3)]\n",
      "arbitrary[0] = random.uniform(-10,10)\n",
      "arbitrary[1] = random.uniform(-10,10)\n",
      "arbitrary[2] = random.uniform(-10,10)\n",
      "math.Cross(normalizedX, arbitrary, normalizedZ)\n",
      "math.Normalize(normalizedZ)\n",
      " \n",
      "# The Y axis is Z cross X\n",
      "math.Cross(normalizedZ, normalizedX, normalizedY)\n",
      "matrix = vtk.vtkMatrix4x4()\n",
      " \n",
      "# Create the direction cosine matrix\n",
      "matrix.Identity()\n",
      "for i in range(3):\n",
      "  matrix.SetElement(i, 0, normalizedX[i])\n",
      "  matrix.SetElement(i, 1, normalizedY[i])\n",
      "  matrix.SetElement(i, 2, normalizedZ[i])\n",
      " \n",
      "# Apply the transforms\n",
      "transform = vtk.vtkTransform()\n",
      "transform.Translate(startPoint)\n",
      "transform.Concatenate(matrix)\n",
      "transform.Scale(length, length, length)\n",
      " \n",
      "# Transform the polydata\n",
      "transformPD = vtk.vtkTransformPolyDataFilter()\n",
      "transformPD.SetTransform(transform)\n",
      "transformPD.SetInputConnection(arrowSource.GetOutputPort())\n",
      " \n",
      "#Create a mapper and actor for the arrow\n",
      "armapper = vtk.vtkPolyDataMapper()\n",
      "aractor = vtk.vtkActor()\n",
      "\n",
      "armapper.SetInputConnection(transformPD.GetOutputPort())\n",
      " \n",
      "aractor.SetMapper(armapper)\n",
      "aobj = aractor.GetProperty()\n",
      "aobj.SetColor(1,0.6,0)\n",
      "arrowSource.SetTipLength(0.2*100./length)\n",
      "arrowSource.SetTipRadius(0.065*100/length)\n",
      "arrowSource.SetShaftRadius(0.02*100/length)\n",
      "arrowSource.Update()"
     ],
     "language": "python",
     "metadata": {},
     "outputs": [],
     "prompt_number": 69
    },
    {
     "cell_type": "heading",
     "level": 4,
     "metadata": {},
     "source": [
      "Create Line"
     ]
    },
    {
     "cell_type": "code",
     "collapsed": false,
     "input": [
      "if Irlist[0][1] > Irlist[1][1]:\n",
      "    maxP = Irlist[0][0] * 1.3\n",
      "else: maxP = Irlist[1][0] * 1.3\n",
      "\n",
      "line = vtk.vtkLineSource()\n",
      "line.SetPoint1(0,0,0)\n",
      "line.SetPoint2(*maxP)\n",
      " \n",
      "# mapper\n",
      "lmapper = vtk.vtkPolyDataMapper()\n",
      "lmapper.SetInput(line.GetOutput())\n",
      " \n",
      "# actor\n",
      "lactor = vtk.vtkActor()\n",
      "lactor.SetMapper(lmapper)\n",
      " \n",
      "# color actor\n",
      "lactor.GetProperty().SetColor(0,0,0)\n",
      "lactor.GetProperty().SetLineStipplePattern(0xf0f0)\n",
      "lactor.GetProperty().SetLineStippleRepeatFactor(1)\n",
      "lactor.GetProperty().SetPointSize(1)\n",
      "lactor.GetProperty().SetLineWidth(2.)\n",
      "#lactor.GetProperty().SetColor(1,0.6,0)"
     ],
     "language": "python",
     "metadata": {},
     "outputs": [],
     "prompt_number": 70
    },
    {
     "cell_type": "heading",
     "level": 3,
     "metadata": {},
     "source": [
      "Create Plane"
     ]
    },
    {
     "cell_type": "code",
     "collapsed": false,
     "input": [
      "source = vtk.vtkPlaneSource()\n",
      "source.SetCenter(0,0,0)\n",
      "source.SetNormal(0,0,1)\n",
      "source.Update()\n",
      "# mapper\n",
      "pl_mapper = vtk.vtkPolyDataMapper()\n",
      "pl_mapper.SetInput(source.GetOutput())\n",
      "# actor\n",
      "pl_actor1 = vtk.vtkActor()\n",
      "pl_actor1.SetMapper(pl_mapper)\n",
      "pl_actor1.SetScale(900,900,900)\n",
      "pl_actor1.SetPosition(46,100,-0.1)\n",
      "obj1 = pl_actor1.GetProperty()\n",
      "obj1.SetColor(1,1,1)\n",
      "obj1.LightingOff()\n",
      "obj1.SetOpacity(0.3)"
     ],
     "language": "python",
     "metadata": {},
     "outputs": [],
     "prompt_number": 71
    },
    {
     "cell_type": "code",
     "collapsed": false,
     "input": [
      "mesh = source.GetOutput()\n",
      " \n",
      "# Read the image data from a file\n",
      "reader = vtk.vtkPNGReader()\n",
      "#reader.SetFileName('/usr2/gager/Simulations/Braiding/SimBR11/V5/SimBR11_5_col_newtrans.png')\n",
      "reader.SetFileName('/usr2/gager/Simulations/Misc/SimMI27/VTK/grid.png')\n",
      " \n",
      "# Create texture object\n",
      "texture = vtk.vtkTexture()\n",
      "texture.SetInput(reader.GetOutput())\n",
      " \n",
      "# Map texture coordinates\n",
      "tmap = vtk.vtkTextureMapToPlane()\n",
      "tmap.SetInput(mesh)\n",
      "#tmap.PreventSeamOn()\n",
      " \n",
      "# Create mapper and set the mapped texture as input\n",
      "tmapper = vtk.vtkPolyDataMapper()\n",
      "tmapper.SetInput(tmap.GetOutput())\n",
      "pl_actor = vtk.vtkActor()\n",
      "pl_actor.SetMapper(tmapper)\n",
      "pl_actor.SetScale(900,900,900)\n",
      "pl_actor.SetPosition(46,100,0)\n",
      "pl_actor.SetTexture(texture)\n",
      "obj = pl_actor.GetProperty()\n",
      "obj.LightingOff()\n",
      "#obj.SetOpacity(0.4)"
     ],
     "language": "python",
     "metadata": {},
     "outputs": [],
     "prompt_number": 72
    },
    {
     "cell_type": "heading",
     "level": 3,
     "metadata": {},
     "source": [
      "Add HUD text"
     ]
    },
    {
     "cell_type": "code",
     "collapsed": false,
     "input": [
      "# create a text actor\n",
      "txt = vtk.vtkTextActor()\n",
      "txt.SetInput(\"DPE-Envelope\")\n",
      "txtprop=txt.GetTextProperty()\n",
      "txtprop.SetFontFamilyToArial()\n",
      "txtprop.SetFontSize(18)\n",
      "txtprop.SetColor(1,1,1)\n",
      "txt.SetDisplayPosition(10,5)"
     ],
     "language": "python",
     "metadata": {},
     "outputs": [],
     "prompt_number": 73
    },
    {
     "cell_type": "heading",
     "level": 3,
     "metadata": {},
     "source": [
      "Axis Labels"
     ]
    },
    {
     "cell_type": "markdown",
     "metadata": {},
     "source": [
      "The default axis labels cannot be customized very well, i.e. they are always white, proportional size and in the foreground. To circumvent these problems, the axis lables are created using 3d text objects which are created to follow the camera."
     ]
    },
    {
     "cell_type": "code",
     "collapsed": false,
     "input": [
      "scale = 12\n",
      "color = (0,0,0)\n",
      "\n",
      "atext_x = vtk.vtkVectorText()  \n",
      "atext_x.SetText(\"Sxx\")  \n",
      "textMapper_x = vtk.vtkPolyDataMapper()  \n",
      "textMapper_x.SetInput(atext_x.GetOutput())  \n",
      "textActor_x = vtk.vtkFollower()  \n",
      "textActor_x.SetMapper(textMapper_x)  \n",
      "textActor_x.SetScale(scale, scale, scale)  \n",
      "textActor_x.AddPosition(100, 10, 20) \n",
      "textActor_x.GetProperty().SetColor(*color)"
     ],
     "language": "python",
     "metadata": {},
     "outputs": [],
     "prompt_number": 74
    },
    {
     "cell_type": "code",
     "collapsed": false,
     "input": [
      "atext_y = vtk.vtkVectorText()  \n",
      "atext_y.SetText(\"Syy\")\n",
      "textMapper_y = vtk.vtkPolyDataMapper()  \n",
      "textMapper_y.SetInput(atext_y.GetOutput())  \n",
      "textActor_y = vtk.vtkFollower()  \n",
      "textActor_y.SetMapper(textMapper_y)  \n",
      "textActor_y.SetScale(scale, scale, scale)  \n",
      "textActor_y.AddPosition(10, 100, 20) \n",
      "textActor_y.GetProperty().SetColor(*color)"
     ],
     "language": "python",
     "metadata": {},
     "outputs": [],
     "prompt_number": 75
    },
    {
     "cell_type": "code",
     "collapsed": false,
     "input": [
      "atext_z = vtk.vtkVectorText()  \n",
      "atext_z.SetText(\"Sxy\")  \n",
      "textMapper_z = vtk.vtkPolyDataMapper()  \n",
      "textMapper_z.SetInput(atext_z.GetOutput())  \n",
      "textActor_z = vtk.vtkFollower()  \n",
      "textActor_z.SetMapper(textMapper_z)  \n",
      "textActor_z.SetScale(scale, scale, scale)  \n",
      "textActor_z.AddPosition(10, 10, 100) \n",
      "textActor_z.GetProperty().SetColor(*color)"
     ],
     "language": "python",
     "metadata": {},
     "outputs": [],
     "prompt_number": 76
    },
    {
     "cell_type": "heading",
     "level": 3,
     "metadata": {},
     "source": [
      "Set-up Scene"
     ]
    },
    {
     "cell_type": "code",
     "collapsed": false,
     "input": [
      "# screenshot code:\n",
      "def screenshot(obj,event):\n",
      "    if event == 'KeyPressEvent' and obj.GetKeySym() <>'p':\n",
      "        return\n",
      "    \n",
      "    renWin = obj.GetRenderWindow()\n",
      "    w2if = vtk.vtkWindowToImageFilter()\n",
      "    w2if.SetInput(renWin)\n",
      "    w2if.Update()\n",
      " \n",
      "    writer = vtk.vtkPNGWriter()\n",
      "    writer.SetFileName(\"screenshot.png\")\n",
      "    writer.SetInput(w2if.GetOutput())\n",
      "    writer.Write()"
     ],
     "language": "python",
     "metadata": {},
     "outputs": [],
     "prompt_number": 77
    },
    {
     "cell_type": "code",
     "collapsed": false,
     "input": [
      "# Visualize\n",
      "renderer = vtk.vtkRenderer()\n",
      "renderWindow = vtk.vtkRenderWindow()\n",
      "renderWindow.SetSize(1000,1000)\n",
      "renderWindow.AddRenderer(renderer)\n",
      "# create a renderwindowinteractor\n",
      "renderWindowInteractor = vtk.vtkRenderWindowInteractor()\n",
      "renderWindowInteractor.SetRenderWindow(renderWindow)\n",
      " \n",
      "style = vtk.vtkInteractorStyleTrackballCamera()\n",
      "renderWindowInteractor.SetInteractorStyle(style)\n",
      "\n",
      "renderer.SetBackground2(1,1,1)\n",
      "renderer.LightFollowCameraOn()\n",
      "renderer.SetBackground(0.6,0.6,0.6)\n",
      "renderer.GradientBackgroundOn()\n",
      "#renderer.SetBackground(1,1,1)\n",
      "renderWindowInteractor.AddObserver('KeyPressEvent', screenshot, 1.0);"
     ],
     "language": "python",
     "metadata": {},
     "outputs": [],
     "prompt_number": 78
    },
    {
     "cell_type": "heading",
     "level": 4,
     "metadata": {},
     "source": [
      "Add actors"
     ]
    },
    {
     "cell_type": "code",
     "collapsed": false,
     "input": [
      "renderer.AddActor(actor)\n",
      "renderer.AddActor(aractor)\n",
      "renderer.AddActor(lactor)\n",
      "for i in range(sets):\n",
      "    renderer.AddActor(triactor[i])\n",
      "renderer.AddActor(pl_actor)\n",
      "renderer.AddActor(pl_actor1)\n",
      "renderer.AddActor(axes)\n",
      "renderer.AddActor(txt)\n",
      "renderer.AddActor(textActor_x)\n",
      "renderer.AddActor(textActor_y)\n",
      "renderer.AddActor(textActor_z)\n",
      "\n",
      "renderer.ResetCameraClippingRange()  \n",
      "textActor_x.SetCamera(renderer.GetActiveCamera())\n",
      "textActor_y.SetCamera(renderer.GetActiveCamera())\n",
      "textActor_z.SetCamera(renderer.GetActiveCamera())"
     ],
     "language": "python",
     "metadata": {},
     "outputs": [],
     "prompt_number": 79
    },
    {
     "cell_type": "heading",
     "level": 3,
     "metadata": {},
     "source": [
      "Start"
     ]
    },
    {
     "cell_type": "code",
     "collapsed": false,
     "input": [
      "renderWindow.Render()\n",
      "renderWindowInteractor.Initialize()\n",
      "renderWindowInteractor.Start()"
     ],
     "language": "python",
     "metadata": {},
     "outputs": [],
     "prompt_number": 80
    },
    {
     "cell_type": "markdown",
     "metadata": {},
     "source": [
      "Intersection e.g. http://www.vtk.org/Wiki/VTK/Examples/Python/GeometricObjects/Display/PolygonIntersection"
     ]
    },
    {
     "cell_type": "code",
     "collapsed": false,
     "input": [],
     "language": "python",
     "metadata": {},
     "outputs": [],
     "prompt_number": 80
    }
   ],
   "metadata": {}
  }
 ]
}