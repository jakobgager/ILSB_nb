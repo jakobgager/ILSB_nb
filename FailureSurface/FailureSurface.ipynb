{
 "metadata": {
  "name": ""
 },
 "nbformat": 3,
 "nbformat_minor": 0,
 "worksheets": [
  {
   "cells": [
    {
     "cell_type": "heading",
     "level": 1,
     "metadata": {},
     "source": [
      "Laminate failure surface creator"
     ]
    },
    {
     "cell_type": "heading",
     "level": 1,
     "metadata": {},
     "source": [
      "Python prerequisites"
     ]
    },
    {
     "cell_type": "code",
     "collapsed": false,
     "input": [
      "from sympy import init_printing\n",
      "init_printing(use_latex=True)"
     ],
     "language": "python",
     "metadata": {},
     "outputs": [],
     "prompt_number": 522
    },
    {
     "cell_type": "code",
     "collapsed": false,
     "input": [
      "import numpy as np\n",
      "import sympy as sp\n",
      "from IPython.core.display import Math, Image, display\n",
      "from copy import copy, deepcopy\n",
      "from collections import defaultdict as ddict"
     ],
     "language": "python",
     "metadata": {},
     "outputs": [],
     "prompt_number": 523
    },
    {
     "cell_type": "code",
     "collapsed": false,
     "input": [
      "%load_ext nbtoc"
     ],
     "language": "python",
     "metadata": {},
     "outputs": [
      {
       "output_type": "stream",
       "stream": "stdout",
       "text": [
        "The nbtoc extension is already loaded. To reload it, use:\n",
        "  %reload_ext nbtoc\n"
       ]
      }
     ],
     "prompt_number": 524
    },
    {
     "cell_type": "code",
     "collapsed": false,
     "input": [
      "%nbtoc"
     ],
     "language": "python",
     "metadata": {},
     "outputs": [
      {
       "html": [
        "<!-- extracted from https://gist.github.com/magican/5574556 -->\n",
        "<div id=\"toc-wrapper\">\n",
        "    <div class=\"header\">Contents <a href=\"#\" class=\"hide-btn\">[hide]</a></div>\n",
        "    <div id=\"toc\"></div>\n",
        "</div>\n",
        " \n",
        "<style>\n",
        "  #toc {\n",
        "    overflow-y: scroll;\n",
        "    max-height: 300px;\n",
        "  }\n",
        "  #toc-wrapper {\n",
        "    position: fixed; top: 120px; max-width:430px; right: 20px;\n",
        "    border: thin solid rgba(0, 0, 0, 0.38); opacity: .8;\n",
        "    border-radius: 5px; background-color: #fff; padding:10px;\n",
        "    z-index: 100;\n",
        "  }\n",
        "  #toc-wrapper.closed {\n",
        "      min-width: 100px;\n",
        "      width: auto;\n",
        "      transition: width;\n",
        "  }\n",
        "  #toc-wrapper:hover{\n",
        "      opacity:1;\n",
        "  }\n",
        "  #toc-wrapper .header {\n",
        "      font-size:18px; font-weight: bold;\n",
        "  }\n",
        "  #toc-wrapper .hide-btn {\n",
        "      font-size: 14px;\n",
        "  }\n",
        " \n",
        "</style>\n",
        "\n",
        "<style>\n",
        "  ol.nested {\n",
        "    counter-reset: item;\n",
        "    list-style: none;\n",
        "  }\n",
        "  li.nested {\n",
        "        display: block;\n",
        "    }\n",
        "  li.nested:before {\n",
        "        counter-increment: item;\n",
        "        content: counters(item, \".\")\" \";\n",
        "    }\n",
        "</style>\n"
       ],
       "metadata": {},
       "output_type": "display_data"
      },
      {
       "javascript": [
        "// adapted from https://gist.github.com/magican/5574556\n",
        "\n",
        "function clone_anchor(element) {\n",
        "  // clone link\n",
        "  var h = element.find(\"div.text_cell_render\").children().first();\n",
        "  var a = h.find('a').clone();\n",
        "  var new_a = $(\"<a>\");\n",
        "  new_a.attr(\"href\", a.attr(\"href\"));\n",
        "  // get the text *excluding* the link text, whatever it may be\n",
        "  var hclone = h.clone();\n",
        "  hclone.find('a').remove();\n",
        "  hclone.find('script').remove();\n",
        "  new_a.text(hclone.text());\n",
        "  return new_a;\n",
        "}\n",
        "\n",
        "function ol_depth(element) {\n",
        "  // get depth of nested ol\n",
        "  var d = 0;\n",
        "  while (element.prop(\"tagName\").toLowerCase() == 'ol') {\n",
        "    d += 1;\n",
        "    element = element.parent();\n",
        "  }\n",
        "  return d;\n",
        "}\n",
        "\n",
        "function table_of_contents(threshold) {\n",
        "  if (threshold === undefined) {\n",
        "    threshold = 4;\n",
        "  }\n",
        "  var cells = IPython.notebook.get_cells();\n",
        "  \n",
        "  var ol = $(\"<ol/>\");\n",
        "  $(\"#toc\").empty().append(ol);\n",
        "  \n",
        "  for (var i=0; i < cells.length; i++) {\n",
        "    var cell = cells[i];\n",
        "    \n",
        "    if (cell.cell_type !== 'heading') continue;\n",
        "    \n",
        "    var level = cell.level;\n",
        "    if (level > threshold) continue;\n",
        "    \n",
        "    var depth = ol_depth(ol);\n",
        "\n",
        "    // walk down levels\n",
        "    for (; depth < level; depth++) {\n",
        "      var new_ol = $(\"<ol/>\");\n",
        "      ol.append(new_ol);\n",
        "      ol = new_ol;\n",
        "    }\n",
        "    // walk up levels\n",
        "    for (; depth > level; depth--) {\n",
        "      ol = ol.parent();\n",
        "    }\n",
        "    //\n",
        "    ol.append(\n",
        "      $(\"<li/>\").append(clone_anchor(cell.element))\n",
        "    );\n",
        "  }\n",
        "\n",
        "  $('#toc-wrapper .header').click(function(){\n",
        "    $('#toc').slideToggle();\n",
        "    $('#toc-wrapper').toggleClass('closed');\n",
        "    if ($('#toc-wrapper').hasClass('closed')){\n",
        "      $('#toc-wrapper .hide-btn').text('[show]');\n",
        "    } else {\n",
        "      $('#toc-wrapper .hide-btn').text('[hide]');\n",
        "    }\n",
        "    return false;\n",
        "  })\n",
        "\n",
        "  $(window).resize(function(){\n",
        "    $('#toc').css({maxHeight: $(window).height() - 200})\n",
        "  })\n",
        "\n",
        "  $(window).trigger('resize')\n",
        "}\n",
        "\n",
        "table_of_contents();\n",
        "\n",
        "\n"
       ],
       "metadata": {},
       "output_type": "display_data"
      }
     ],
     "prompt_number": 525
    },
    {
     "cell_type": "heading",
     "level": 3,
     "metadata": {},
     "source": [
      "Display functions"
     ]
    },
    {
     "cell_type": "code",
     "collapsed": false,
     "input": [
      "def dispeq(a,b):\n",
      "    display(Math('{0}={1}'.format(sp.latex(a),sp.latex(b))))"
     ],
     "language": "python",
     "metadata": {},
     "outputs": [],
     "prompt_number": 526
    },
    {
     "cell_type": "heading",
     "level": 3,
     "metadata": {},
     "source": [
      "Sign function"
     ]
    },
    {
     "cell_type": "code",
     "collapsed": false,
     "input": [
      "sign = lambda x: (1, -1)[x<0]"
     ],
     "language": "python",
     "metadata": {},
     "outputs": [],
     "prompt_number": 527
    },
    {
     "cell_type": "heading",
     "level": 3,
     "metadata": {},
     "source": [
      "Rotation matrix"
     ]
    },
    {
     "cell_type": "code",
     "collapsed": false,
     "input": [
      "Rs, Rbs, phi = sp.symbols(r'\\mathsf{R} \\bar{\\mathsf{R}} phi') "
     ],
     "language": "python",
     "metadata": {},
     "outputs": [],
     "prompt_number": 528
    },
    {
     "cell_type": "code",
     "collapsed": false,
     "input": [
      "s = sp.sin(phi)\n",
      "c = sp.cos(phi)\n",
      "R = sp.Matrix([[c**2,s**2,2*s*c],\n",
      "                [s**2,c**2,-2*s*c],\n",
      "                [-s*c,s*c,(c**2-s**2)]])\n",
      "dispeq(Rs,R)"
     ],
     "language": "python",
     "metadata": {},
     "outputs": [
      {
       "latex": [
        "$$\\mathsf{R}=\\left[\\begin{smallmatrix}{}\\cos^{2}{\\left (\\phi \\right )} & \\sin^{2}{\\left (\\phi \\right )} & 2 \\sin{\\left (\\phi \\right )} \\cos{\\left (\\phi \\right )}\\\\\\sin^{2}{\\left (\\phi \\right )} & \\cos^{2}{\\left (\\phi \\right )} & - 2 \\sin{\\left (\\phi \\right )} \\cos{\\left (\\phi \\right )}\\\\- \\sin{\\left (\\phi \\right )} \\cos{\\left (\\phi \\right )} & \\sin{\\left (\\phi \\right )} \\cos{\\left (\\phi \\right )} & - \\sin^{2}{\\left (\\phi \\right )} + \\cos^{2}{\\left (\\phi \\right )}\\end{smallmatrix}\\right]$$"
       ],
       "metadata": {},
       "output_type": "display_data",
       "text": [
        "<IPython.core.display.Math at 0xb531b10>"
       ]
      }
     ],
     "prompt_number": 529
    },
    {
     "cell_type": "code",
     "collapsed": false,
     "input": [
      "Rb = sp.Matrix([[c**2,s**2,s*c],\n",
      "                [s**2,c**2,-s*c],\n",
      "                [-2*s*c,2*s*c,(c**2-s**2)]])\n",
      "dispeq(Rbs,Rb)"
     ],
     "language": "python",
     "metadata": {},
     "outputs": [
      {
       "latex": [
        "$$\\bar{\\mathsf{R}}=\\left[\\begin{smallmatrix}{}\\cos^{2}{\\left (\\phi \\right )} & \\sin^{2}{\\left (\\phi \\right )} & \\sin{\\left (\\phi \\right )} \\cos{\\left (\\phi \\right )}\\\\\\sin^{2}{\\left (\\phi \\right )} & \\cos^{2}{\\left (\\phi \\right )} & - \\sin{\\left (\\phi \\right )} \\cos{\\left (\\phi \\right )}\\\\- 2 \\sin{\\left (\\phi \\right )} \\cos{\\left (\\phi \\right )} & 2 \\sin{\\left (\\phi \\right )} \\cos{\\left (\\phi \\right )} & - \\sin^{2}{\\left (\\phi \\right )} + \\cos^{2}{\\left (\\phi \\right )}\\end{smallmatrix}\\right]$$"
       ],
       "metadata": {},
       "output_type": "display_data",
       "text": [
        "<IPython.core.display.Math at 0x4ff9210>"
       ]
      }
     ],
     "prompt_number": 530
    },
    {
     "cell_type": "heading",
     "level": 3,
     "metadata": {},
     "source": [
      "VTK Writer"
     ]
    },
    {
     "cell_type": "code",
     "collapsed": false,
     "input": [
      "def writevtk(filename,nodes, translist, nr_sets, nr_levels, sym_idx=0, data=[]):\n",
      "    nonr=len(nodes)\n",
      "    elnr=len(translist)\n",
      "    f=open(filename,'w')\n",
      "    f.writelines('# vtk DataFile Version 3.0\\n')\n",
      "    f.write('{0} {1} {2} {3} {4}\\nASCII\\nDATASET POLYDATA\\n'.format(nonr/nr_sets, elnr/nr_sets, nr_sets, nr_levels, sym_idx))\n",
      "    f.write('POINTS %d float\\n'%nonr)\n",
      "    for i in range(nonr):\n",
      "        f.write('%f %f %f\\n'%tuple(nodes[i]))\n",
      "    f.write('POLYGONS %d %d\\n'%(elnr,elnr*4))\n",
      "    for n in range(elnr):\n",
      "        f.write('3 %d %d %d \\n'%tuple(translist[n]))\n",
      "    # write data tags\n",
      "    if len(data) > 0:\n",
      "        f.write('POINT_DATA {0}\\n'.format(nonr))\n",
      "        for dset in data:\n",
      "            f.write('SCALARS {0} int\\nLOOKUP_TABLE default\\n'.format(dset[0]))\n",
      "            for i in dset[1]:\n",
      "                f.write('{0}\\n'.format(i))\n",
      "            \n",
      "    f.close()"
     ],
     "language": "python",
     "metadata": {},
     "outputs": [],
     "prompt_number": 531
    },
    {
     "cell_type": "heading",
     "level": 3,
     "metadata": {},
     "source": [
      "VTK Reader"
     ]
    },
    {
     "cell_type": "code",
     "collapsed": false,
     "input": [
      "celltype = 'CELLS'  #'POLYGONS'\n",
      "\n",
      "def readVTK(filename, points=None, cells=None, celltype='CELLS'):\n",
      "    print filename\n",
      "    if points == None:\n",
      "        points = []\n",
      "    if cells == None:\n",
      "        cells = []\n",
      "    with open(filename,'r') as fil:\n",
      "        fil.readline()\n",
      "        dataline=fil.readline()\n",
      "        \n",
      "    with open(filename,'r') as fil:\n",
      "        lin = 1\n",
      "        while lin:\n",
      "            lin = fil.readline()\n",
      "            if lin.startswith('POINTS'):\n",
      "                numpt = int(lin.split()[1])\n",
      "                for i in range(numpt):\n",
      "                    points.append(np.array(fil.readline().split(),dtype=float).round(4))\n",
      "            if lin.startswith(celltype):\n",
      "                numcells = int(lin.split()[1])\n",
      "                for i in range(numcells):\n",
      "                    cells.append(np.array(fil.readline().split()[1:],dtype=int))\n",
      "                    \n",
      "    # process dataline\n",
      "    try:\n",
      "        sets = int(dataline.split()[2])\n",
      "        sym = int(dataline.split()[4])\n",
      "    except:\n",
      "        sets = sym = 0\n",
      "        \n",
      "    \n",
      "    return points, cells, sets, sym"
     ],
     "language": "python",
     "metadata": {},
     "outputs": [],
     "prompt_number": 532
    },
    {
     "cell_type": "heading",
     "level": 3,
     "metadata": {},
     "source": [
      "Ray-Triangle Intersection"
     ]
    },
    {
     "cell_type": "code",
     "collapsed": false,
     "input": [
      "def intersect3D_RayTriangle(R, T):\n",
      "    \"\"\" R ... Ray (dx, dy, dz)\n",
      "        T ... Triangle (P1, P2, P3)\n",
      "    \"\"\"\n",
      "    # get triangle edge vector\n",
      "    u = T[1] - T[0]\n",
      "    v = T[2] - T[0]\n",
      "    # normal\n",
      "    n = np.cross(u,v)\n",
      "    \n",
      "    #degenarate triangle?\n",
      "    if len(n) == 0: return -1\n",
      "\n",
      "    w0 = -T[0]\n",
      "    a = -np.dot(n,w0)\n",
      "    b = np.dot(n,R)\n",
      "    if abs(b) < 0.0000001:\n",
      "        if a == 0: return 2\n",
      "        else: return 0\n",
      "\n",
      "    # get intersect point of ray with triangle plane\n",
      "    r = float(a) / b\n",
      "    if r < 0.0:                   # ray goes away from triangle\n",
      "        return 0                  # => no intersect\n",
      "    # for a segment, also test if (r > 1.0) => no intersect\n",
      "\n",
      "    I = r * R;           # intersect point of ray and plane\n",
      "\n",
      "    # is I inside T?\n",
      "    uu = np.dot(u,u)\n",
      "    uv = np.dot(u,v)\n",
      "    vv = np.dot(v,v)\n",
      "    w = I - T[0]\n",
      "    wu = np.dot(w,u)\n",
      "    wv = np.dot(w,v)\n",
      "    D = uv * uv - uu * vv\n",
      "\n",
      "    # get and test parametric coords\n",
      "    s = (uv * wv - vv * wu) / D\n",
      "    if s < 0.0 or s > 1.0 :        # I is outside T\n",
      "        return 0\n",
      "    t = (uv * wu - uu * wv) / D\n",
      "    if t < 0.0 or (s + t) > 1.0:   # I is outside T\n",
      "        return 0\n",
      "\n",
      "    return I, r;"
     ],
     "language": "python",
     "metadata": {},
     "outputs": [],
     "prompt_number": 533
    },
    {
     "cell_type": "heading",
     "level": 2,
     "metadata": {},
     "source": [
      "Symbols"
     ]
    },
    {
     "cell_type": "code",
     "collapsed": false,
     "input": [
      "# symbols\n",
      "E1, E2 = sp.symbols('E1 E2')\n",
      "G12, G13, G23 = sp.symbols('G12 G13 G23')\n",
      "nu12, nu13, nu23 = sp.symbols('nu12 nu13 nu23')\n",
      "Elsf = sp.symbols(r'\\mathsf{E}^{\\mathrm{loc}}')\n",
      "Elbf = sp.symbols(r'\\bf{E}^{\\mathrm{loc}}')\n",
      "Els = sp.symbols(r'^{i}\\!\\Bbb{E}^{\\mathrm{loc}}')\n",
      "Cls = sp.symbols(r'^{i}\\!\\Bbb{C}^{\\mathrm{loc}}')\n",
      "Ers = sp.symbols(r'^{i}\\!\\Bbb{E}')\n",
      "# Input stress\n",
      "s11, s22, s12 = sp.symbols('S_{11} S_{22} S_{12}')\n",
      "# Strength quantities\n",
      "Rlt, Rlc, Rqt, Rqc, Rql, Sl, St = sp.symbols('R_{lt},R_{lc},R_{qt},R_{qc}, R_{ql}, S_l, S_t')\n",
      "# Tsai-Wu factor\n",
      "F12s = sp.symbols('F_{12}^*')\n",
      "\n",
      "# for tests\n",
      "strengths={Rlt:2100., Rlc:1407., Rqt:82., Rqc:249., Rql:60., F12s:0}"
     ],
     "language": "python",
     "metadata": {},
     "outputs": [],
     "prompt_number": 534
    },
    {
     "cell_type": "heading",
     "level": 1,
     "metadata": {},
     "source": [
      "Failure criteria"
     ]
    },
    {
     "cell_type": "code",
     "collapsed": false,
     "input": [
      "def mode2int(mode):\n",
      "    \"\"\"Converts failure mode to integer for postprocessing\n",
      "    \n",
      "    uses defaultdict from collections\n",
      "    \"\"\"\n",
      "    failmap = ddict(lambda:-1,{\n",
      "               'nA':0,\n",
      "               'mt':1,\n",
      "               'mc':2,\n",
      "               'ft':3,\n",
      "               'fc':4,\n",
      "               'vM':5,\n",
      "               'Tr':6,\n",
      "               'ED_dam':7,\n",
      "               'ED_pla':8\n",
      "               })\n",
      "    return failmap[mode]"
     ],
     "language": "python",
     "metadata": {},
     "outputs": [],
     "prompt_number": 535
    },
    {
     "cell_type": "heading",
     "level": 2,
     "metadata": {},
     "source": [
      "Max. Stress criterion"
     ]
    },
    {
     "cell_type": "code",
     "collapsed": false,
     "input": [
      "class Max_Stress():\n",
      "    \"\"\"simple local maximum stress criterion\"\"\"\n",
      "    def __init__(self, material, fibonly=False):\n",
      "        if fibonly:\n",
      "            self.F = sp.Max(s11/Rlt,-s11/Rlc,sp.Abs(s12/Rql))\n",
      "        else:\n",
      "            self.F = sp.Max(s11/Rlt,-s11/Rlc,s22/Rqt,-s22/Rqc,sp.Abs(s12/Rql))\n",
      "        self.fac = self.F.subs(material)\n",
      "    def _repr_latex_(self):\n",
      "        return '$$F='+sp.latex(self.F)+'$$'\n",
      "    def __str__(self):\n",
      "        return 'Max Stress'\n",
      "    def safety(self, stress):\n",
      "        return 1/self.fac.subs(stress), 'nA'"
     ],
     "language": "python",
     "metadata": {},
     "outputs": [],
     "prompt_number": 536
    },
    {
     "cell_type": "code",
     "collapsed": false,
     "input": [
      "a=Max_Stress(strengths, False)\n",
      "display(a)\n",
      "a.safety({s11:0.0,s22:0,s12:0})"
     ],
     "language": "python",
     "metadata": {},
     "outputs": [
      {
       "latex": [
        "$$F=\\max\\left(- \\frac{S_{{11}}}{R_{{lc}}}, \\frac{S_{{11}}}{R_{{lt}}}, - \\frac{S_{{22}}}{R_{{qc}}}, \\frac{S_{{22}}}{R_{{qt}}}, \\left\\lvert{\\frac{S_{{12}}}{R_{{ql}}}}\\right\\rvert\\right)$$"
       ],
       "metadata": {},
       "output_type": "display_data",
       "text": [
        "<__main__.Max_Stress instance at 0xb393ea8>"
       ]
      },
      {
       "metadata": {},
       "output_type": "pyout",
       "prompt_number": 537,
       "text": [
        "(oo, 'nA')"
       ]
      }
     ],
     "prompt_number": 537
    },
    {
     "cell_type": "heading",
     "level": 2,
     "metadata": {},
     "source": [
      "Tsai-Wu Failure surface"
     ]
    },
    {
     "cell_type": "code",
     "collapsed": false,
     "input": [
      "class Tsai_Wu():\n",
      "    \"\"\"Tsai-Wu Failure surface\n",
      "    \"\"\"\n",
      "    # Tsai-Wu (taken from http://de.wikipedia.org/wiki/Tsai-Wu-Kriterium)\n",
      "    # Here, the compressive strengths are to be inserted as positive values\n",
      "    f = sp.symbols('f')\n",
      "    #####\n",
      "    def __init__(self, strengths):\n",
      "        a11, a22 = sp.symbols('a11 a22')\n",
      "        f = self.f\n",
      "        b1111, b2222, b1122, b1212 = sp.symbols('b1111 b2222 b1122 b1212')\n",
      "    #\n",
      "        a11 = 1/Rlt - 1/Rlc\n",
      "        a22 = 1/Rqt - 1/Rqc\n",
      "        b1111 = 1/(Rlt*Rlc)\n",
      "        b2222 = 1/(Rqt*Rqc)\n",
      "        b1212 = 1/(4*Rql**2)\n",
      "        b1122 = F12s/sp.sqrt(Rlt*Rlc*Rqt*Rqc)\n",
      "\n",
      "        self.F = a11*s11*f + a22*s22*f + b1111*(s11*f)**2 + b2222*(s22*f)**2 + 2*b1122*s11*s22*f**2 + 4*b1212*(s12*f)**2\n",
      "        self.fac = sp.solve(self.F.subs(strengths)-1,f)\n",
      "        \n",
      "    def _repr_latex_(self):\n",
      "        return '$$F='+sp.latex(self.F.subs({self.f:1}))+'$$'\n",
      "\n",
      "    def safety(self,stress,both=False):\n",
      "        f1 = self.fac[0].evalf(4,subs=stress)\n",
      "        if both:\n",
      "            return f1, self.fac[1].evalf(4,subs=stress)\n",
      "        if f1 > 0: \n",
      "            return f1, 'nA'\n",
      "        else:\n",
      "            return self.fac[1].evalf(4,subs=stress), 'nA'\n",
      "        "
     ],
     "language": "python",
     "metadata": {},
     "outputs": [],
     "prompt_number": 538
    },
    {
     "cell_type": "code",
     "collapsed": false,
     "input": [
      "a=Tsai_Wu(strengths)\n",
      "display(a)"
     ],
     "language": "python",
     "metadata": {},
     "outputs": [
      {
       "latex": [
        "$$F=\\frac{2 F^{*}_{{12}} S_{{11}} S_{{22}}}{\\sqrt{R_{{lc}} R_{{lt}} R_{{qc}} R_{{qt}}}} + S_{{11}} \\left(\\frac{1}{R_{{lt}}} - \\frac{1}{R_{{lc}}}\\right) + S_{{22}} \\left(\\frac{1}{R_{{qt}}} - \\frac{1}{R_{{qc}}}\\right) + \\frac{S_{{12}}^{2}}{R_{{ql}}^{2}} + \\frac{S_{{22}}^{2}}{R_{{qc}} R_{{qt}}} + \\frac{S_{{11}}^{2}}{R_{{lc}} R_{{lt}}}$$"
       ],
       "metadata": {},
       "output_type": "display_data",
       "text": [
        "<__main__.Tsai_Wu instance at 0xb393cf8>"
       ]
      }
     ],
     "prompt_number": 539
    },
    {
     "cell_type": "heading",
     "level": 2,
     "metadata": {},
     "source": [
      "Hashin Failure Surface"
     ]
    },
    {
     "cell_type": "code",
     "collapsed": false,
     "input": [
      "#alpha, f = sp.symbols('alpha f')\n",
      "class Hashin():\n",
      "    \"\"\"Hashin Failure surface\n",
      "    \"\"\"\n",
      "    # Hashin (taken from Abaqus Manual)\n",
      "    # Here, again all strength values are to be supplied positive\n",
      "    #####\n",
      "    f = sp.symbols('f')\n",
      "    def __init__(self, material):\n",
      "        \n",
      "        alpha = sp.symbols('alpha')\n",
      "        f = self.f\n",
      "        # Input stress\n",
      "        s11, s22, s12 = sp.symbols('S_{11} S_{22} S_{12}')\n",
      "        # Strength quantities\n",
      "        Rlt, Rlc, Rqt, Rqc, Rql, Sl, St = sp.symbols('R_{lt},R_{lc},R_{qt},R_{qc}, R_{ql}, S_l, S_t')\n",
      "        \n",
      "        alphav = 0\n",
      "\n",
      "        self.Fft = (s11*f/Rlt)**2 + alpha*(s12*f/Sl)**2\n",
      "        self.Ffc = (s11*f/Rlc)**2\n",
      "        self.Fmt = (s22*f/Rqt)**2 + (s12*f/Sl)**2\n",
      "        self.Fmc = (s22*f/(2*St))**2 + ((Rqc/(2*St))**2-1)*(s22*f/Rqc) + (s12*f/Sl)**2\n",
      "        \n",
      "        self.facft = sp.solve(self.Fft.subs({Sl:Rql,St:Rql,alpha:alphav}).subs(material)-1,f)\n",
      "        self.facfc = sp.solve(self.Ffc.subs({Sl:Rql,St:Rql,alpha:alphav}).subs(material)-1,f)\n",
      "        self.facmt = sp.solve(self.Fmt.subs({Sl:Rql,St:Rql,alpha:alphav}).subs(material)-1,f)\n",
      "        self.facmc = sp.solve(self.Fmc.subs({Sl:Rql,St:Rql,alpha:alphav}).subs(material)-1,f)\n",
      "        \n",
      "    def _repr_latex_(self):\n",
      "        disp = r'$$F_\\mathrm{f}^\\mathrm{t}='+sp.latex(self.Fft.subs({self.f:1}))+'$$\\n'\n",
      "        disp += r'$$F_\\mathrm{f}^\\mathrm{c}='+sp.latex(self.Ffc.subs({self.f:1}))+'$$\\n'\n",
      "        disp += r'$$F_\\mathrm{m}^\\mathrm{t}='+sp.latex(self.Fmt.subs({self.f:1}))+'$$\\n'\n",
      "        disp += r'$$F_\\mathrm{m}^\\mathrm{c}='+sp.latex(self.Fmc.subs({self.f:1}))+'$$'\n",
      "        \n",
      "        return disp\n",
      "\n",
      "    def __str__(self):\n",
      "        return 'Hashin'\n",
      "    \n",
      "    def safety(self,stress,both=False):\n",
      "        if both:\n",
      "            display([i.subs(stress).evalf(4) for i in self.facft])\n",
      "            display([i.subs(stress).evalf(4) for i in self.facfc])\n",
      "            display([i.subs(stress).evalf(4) for i in self.facmt])\n",
      "            display([i.subs(stress).evalf(4) for i in self.facmc])\n",
      "        \n",
      "        if stress[s11]>0:\n",
      "            facf = max([i.subs(stress).evalf(4) for i in self.facft])\n",
      "            failmode_s11 = 't'\n",
      "        else:\n",
      "            facf = max([i.subs(stress).evalf(4) for i in self.facfc])\n",
      "            failmode_s11 = 'c'\n",
      "            \n",
      "        if stress[s22]>0:\n",
      "            facm = max([i.subs(stress).evalf(4) for i in self.facmt])\n",
      "            failmode_s22 = 't'\n",
      "        else:\n",
      "            facm = max([i.subs(stress).evalf(4) for i in self.facmc])\n",
      "            failmode_s22 = 'c'\n",
      "        \n",
      "        mfm = 'm'+failmode_s22\n",
      "        ffm = 'f'+failmode_s11\n",
      "        \n",
      "        if facf == 0: return facm, mfm\n",
      "        elif facm == 0: return facf, ffm\n",
      "        else: \n",
      "            return min((facm, mfm),(facf, ffm))"
     ],
     "language": "python",
     "metadata": {},
     "outputs": [],
     "prompt_number": 540
    },
    {
     "cell_type": "code",
     "collapsed": false,
     "input": [
      "b=Hashin(strengths)\n",
      "display(b)"
     ],
     "language": "python",
     "metadata": {},
     "outputs": [
      {
       "latex": [
        "$$F_\\mathrm{f}^\\mathrm{t}=\\frac{S_{{12}}^{2} \\alpha}{S_{l}^{2}} + \\frac{S_{{11}}^{2}}{R_{{lt}}^{2}}$$\n",
        "$$F_\\mathrm{f}^\\mathrm{c}=\\frac{S_{{11}}^{2}}{R_{{lc}}^{2}}$$\n",
        "$$F_\\mathrm{m}^\\mathrm{t}=\\frac{S_{{12}}^{2}}{S_{l}^{2}} + \\frac{S_{{22}}^{2}}{R_{{qt}}^{2}}$$\n",
        "$$F_\\mathrm{m}^\\mathrm{c}=\\frac{S_{{22}}^{2}}{4 S_{t}^{2}} + \\frac{S_{{12}}^{2}}{S_{l}^{2}} + \\frac{S_{{22}}}{R_{{qc}}} \\left(\\frac{R_{{qc}}^{2}}{4 S_{t}^{2}} - 1\\right)$$"
       ],
       "metadata": {},
       "output_type": "display_data",
       "text": [
        "<__main__.Hashin instance at 0xfa33560>"
       ]
      }
     ],
     "prompt_number": 541
    },
    {
     "cell_type": "code",
     "collapsed": false,
     "input": [
      "b.safety({s12:0., s11:0., s22:1}, both=True)"
     ],
     "language": "python",
     "metadata": {},
     "outputs": [
      {
       "latex": [
        "$$\\begin{bmatrix}- \\infty, & \\infty\\end{bmatrix}$$"
       ],
       "metadata": {},
       "output_type": "display_data",
       "png": "[encoded data removed]",
       "text": [
        "[-inf, +inf]"
       ]
      },
      {
       "latex": [
        "$$\\begin{bmatrix}- \\infty, & \\infty\\end{bmatrix}$$"
       ],
       "metadata": {},
       "output_type": "display_data",
       "png": "[encoded data removed]",
       "text": [
        "[-inf, +inf]"
       ]
      },
      {
       "latex": [
        "$$\\begin{bmatrix}-82.0, & 82.0\\end{bmatrix}$$"
       ],
       "metadata": {},
       "output_type": "display_data",
       "png": "[encoded data removed]",
       "text": [
        "[-82.0, 82.0]"
       ]
      },
      {
       "latex": [
        "$$\\begin{bmatrix}57.83, & -249.0\\end{bmatrix}$$"
       ],
       "metadata": {},
       "output_type": "display_data",
       "png": "[encoded data removed]",
       "text": [
        "[57.83, -249.0]"
       ]
      },
      {
       "metadata": {},
       "output_type": "pyout",
       "prompt_number": 542,
       "text": [
        "(82.00, 'mt')"
       ]
      }
     ],
     "prompt_number": 542
    },
    {
     "cell_type": "heading",
     "level": 2,
     "metadata": {},
     "source": [
      "von Mises Yield Surface"
     ]
    },
    {
     "cell_type": "code",
     "collapsed": false,
     "input": [
      "class vonMises():\n",
      "    \"\"\"von Mises Yield criterion\"\"\"\n",
      "    def __init__(self, material):\n",
      "        self.F = sp.sqrt(sp.S(1)/2*((s11-s22)**2+s22**2+s11**2+6*s12**2))\n",
      "        self.fac = (self.F/Rlt).subs(material)\n",
      "    def _repr_latex_(self):\n",
      "        return '$$F='+sp.latex(self.F)+'$$'\n",
      "    def __str__(self):\n",
      "        return 'von Mises'\n",
      "    def safety(self, stress):\n",
      "        return 1/self.fac.subs(stress), 'vM'"
     ],
     "language": "python",
     "metadata": {},
     "outputs": [],
     "prompt_number": 543
    },
    {
     "cell_type": "code",
     "collapsed": false,
     "input": [
      "b=vonMises(strengths)\n",
      "display(b)"
     ],
     "language": "python",
     "metadata": {},
     "outputs": [
      {
       "latex": [
        "$$F=\\sqrt{\\frac{S_{{11}}^{2}}{2} + 3 S_{{12}}^{2} + \\frac{S_{{22}}^{2}}{2} + \\frac{1}{2} \\left(S_{{11}} - S_{{22}}\\right)^{2}}$$"
       ],
       "metadata": {},
       "output_type": "display_data",
       "text": [
        "<__main__.vonMises instance at 0xfc153f8>"
       ]
      }
     ],
     "prompt_number": 544
    },
    {
     "cell_type": "code",
     "collapsed": false,
     "input": [
      "b.safety({s11:1,s22:0,s12:1})"
     ],
     "language": "python",
     "metadata": {},
     "outputs": [
      {
       "metadata": {},
       "output_type": "pyout",
       "prompt_number": 545,
       "text": [
        "(1050.00000000000, 'vM')"
       ]
      }
     ],
     "prompt_number": 545
    },
    {
     "cell_type": "heading",
     "level": 2,
     "metadata": {},
     "source": [
      "Tresca Yield Surface"
     ]
    },
    {
     "cell_type": "code",
     "collapsed": false,
     "input": [
      "class Tresca():\n",
      "    \"\"\"Tresca Yield criterion\"\"\"\n",
      "    def __init__(self, material):\n",
      "        self.s2,self.s1,self.s3 = sp.Matrix([[s11,s12,0],[s12,s22,0],[0,0,0]]).eigenvals().keys()\n",
      "        self.F = abs(self.s1-self.s2)\n",
      "        self.fac = (self.F/Rlt).subs(material)\n",
      "        self.Rltn = Rlt.subs(material)\n",
      "    def _repr_latex_(self):\n",
      "        return '$$F='+sp.latex(self.F)+'$$'\n",
      "    def __str__(self):\n",
      "        return 'Tresca'\n",
      "    def safety(self, stress):\n",
      "        s1n = self.s1.subs(stress)\n",
      "        s2n = self.s2.subs(stress)\n",
      "        #print s1n, s2n\n",
      "        if sign(s1n)<>sign(s2n):\n",
      "            return 1/self.fac.subs(stress), 'Tr'\n",
      "        else:\n",
      "            if abs(s1n)>abs(s2n): return abs(self.Rltn/s1n), 'Tr'\n",
      "            else: return abs(self.Rltn/s2n),'Tr'"
     ],
     "language": "python",
     "metadata": {},
     "outputs": [],
     "prompt_number": 546
    },
    {
     "cell_type": "code",
     "collapsed": false,
     "input": [
      "b=Tresca(strengths)\n",
      "display(b)"
     ],
     "language": "python",
     "metadata": {},
     "outputs": [
      {
       "latex": [
        "$$F=\\left\\lvert{\\sqrt{S_{{11}}^{2} - 2 S_{{11}} S_{{22}} + 4 S_{{12}}^{2} + S_{{22}}^{2}}}\\right\\rvert$$"
       ],
       "metadata": {},
       "output_type": "display_data",
       "text": [
        "<__main__.Tresca instance at 0xfaf1950>"
       ]
      }
     ],
     "prompt_number": 547
    },
    {
     "cell_type": "code",
     "collapsed": false,
     "input": [
      "b.safety({s11:-0.99,s22:-0.08,s12:0})"
     ],
     "language": "python",
     "metadata": {},
     "outputs": [
      {
       "metadata": {},
       "output_type": "pyout",
       "prompt_number": 548,
       "text": [
        "(2121.21212121212, 'Tr')"
       ]
      }
     ],
     "prompt_number": 548
    },
    {
     "cell_type": "heading",
     "level": 2,
     "metadata": {},
     "source": [
      "EDMC criteria"
     ]
    },
    {
     "cell_type": "code",
     "collapsed": false,
     "input": [
      "class EDMC():\n",
      "    def __init__(self,material):\n",
      "        self.points, self.cells, self.sets, self.sym = readVTK(material['filename'], celltype='POLYGONS')\n",
      "    def safety(self,stress):\n",
      "        lp = len(self.points)\n",
      "        lc = len(self.cells)\n",
      "        R = np.zeros(3)\n",
      "        \n",
      "        # apply symmetry\n",
      "        if (self.sym == 1):\n",
      "          if (stress[s22] > stress[s11]):\n",
      "              R[0] = stress[s22]\n",
      "              R[1] = stress[s11]\n",
      "          else:\n",
      "              R[0] = stress[s11]\n",
      "              R[1] = stress[s22]\n",
      "          R[2] = abs(stress[s12])\n",
      "        elif (self.sym == 2):\n",
      "          R[0] = stress[s11]\n",
      "          R[1] = stress[s22]\n",
      "          R[2] = abs(stress[s12])\n",
      "        else: #(sym_idx == 0) ... whole space\n",
      "          R[0] = stress[s11]\n",
      "          R[1] = stress[s22]\n",
      "          R[2] = stress[s12]\n",
      "      \n",
      "        # \"trim\"values\n",
      "        # = np.floor(R*1000)/1000\n",
      "        #R = np.array([stress[s11],stress[s22],stress[s12]])\n",
      "        Thitlist = []\n",
      "        Irlist = []\n",
      "        hit = False\n",
      "        for i in range(self.sets):\n",
      "            for idx,cell in enumerate(self.cells[i*lc/2:lc/2*(1+i)]):\n",
      "            #print 'Processing Cell: {0}'.format(idx)\n",
      "                T = np.array([self.points[cell[0]],self.points[cell[1]],self.points[cell[2]]])\n",
      "                out = intersect3D_RayTriangle(R, T)\n",
      "                if type(out) == int:\n",
      "                    pass\n",
      "                else:\n",
      "                    Irlist.append(out)\n",
      "                    hit = True\n",
      "                    Thitlist.append(T)\n",
      "                    break\n",
      "        print R,Irlist\n",
      "        try:\n",
      "            if Irlist[0][1]<Irlist[1][1]:\n",
      "                return Irlist[0][1], 'ED_dam'\n",
      "            else:\n",
      "                return Irlist[1][1], 'ED_pla'\n",
      "        except:\n",
      "            print Irlist, stress\n",
      "            return Irlist[0][1], 'ED_dam'"
     ],
     "language": "python",
     "metadata": {},
     "outputs": [],
     "prompt_number": 549
    },
    {
     "cell_type": "code",
     "collapsed": false,
     "input": [
      "edmcfilename = '/usr2/gager/Diplomas/Schwab/weave/vtk/DPE_radstress_stress_e5_cleaned.vtk'\n",
      "edmcfilename = '/usr2/gager/Diplomas/Schwab/weave/vtk/DPE_radstress_stress_umat_e5_ext.vtk'\n",
      "\n",
      "ed = EDMC({'filename':edmcfilename})\n",
      "#133.33,    0.  ,    0\n",
      "#ed.safety({s11:5.6568542494923797,s22:5.6568542494923797,s12:0})"
     ],
     "language": "python",
     "metadata": {},
     "outputs": [
      {
       "output_type": "stream",
       "stream": "stdout",
       "text": [
        "/usr2/gager/Diplomas/Schwab/weave/vtk/DPE_radstress_stress_umat_e5_ext.vtk\n"
       ]
      }
     ],
     "prompt_number": 550
    },
    {
     "cell_type": "code",
     "collapsed": false,
     "input": [
      "#ed.safety({s12: 0.0, s11: 7.8462822432258443, s22: 1.560722576129026})"
     ],
     "language": "python",
     "metadata": {},
     "outputs": [],
     "prompt_number": 551
    },
    {
     "cell_type": "code",
     "collapsed": false,
     "input": [
      "#ed.safety({s12: 0.00, s11: 7.391036260090293, s22: 3.0614674589207169})"
     ],
     "language": "python",
     "metadata": {},
     "outputs": [],
     "prompt_number": 552
    },
    {
     "cell_type": "code",
     "collapsed": false,
     "input": [
      "#ed.safety({s12: -8.00, s11: 0., s22: 0})"
     ],
     "language": "python",
     "metadata": {},
     "outputs": [],
     "prompt_number": 553
    },
    {
     "cell_type": "heading",
     "level": 1,
     "metadata": {},
     "source": [
      "Laminate properties"
     ]
    },
    {
     "cell_type": "code",
     "collapsed": false,
     "input": [
      "# available failure criteria?\n",
      "failcrit = {\n",
      "1: (Tsai_Wu,'Tsai Wu'),\n",
      "2: (Max_Stress,'Max Stress'),\n",
      "3: (Hashin,'Hashin'),\n",
      "4: (vonMises,'von Mises'),\n",
      "5: (Tresca,'Tresca'),\n",
      "6: (EDMC, 'EDMC')}\n",
      "# which default failure criteria?\n",
      "deffailcrit_nbr = 2"
     ],
     "language": "python",
     "metadata": {},
     "outputs": [],
     "prompt_number": 554
    },
    {
     "cell_type": "heading",
     "level": 3,
     "metadata": {},
     "source": [
      "Material data"
     ]
    },
    {
     "cell_type": "code",
     "collapsed": false,
     "input": [
      "edmcfilename = '/usr2/gager/Diplomas/Schwab/weave/vtk/DPE_radstress_stress_e5_cleaned.vtk'\n",
      "edmcfilename = '/usr2/gager/Diplomas/Schwab/weave/vtk/DPE_radstress_stress_umat_e5_ext.vtk'"
     ],
     "language": "python",
     "metadata": {},
     "outputs": [],
     "prompt_number": 555
    },
    {
     "cell_type": "code",
     "collapsed": false,
     "input": [
      "mat1 = {E1:146000, E2:9000, nu12:0.34, G12:4270}\n",
      "mat2_iso = {E1:210000, E2:210000, nu12:0.3, G12:80769}\n",
      "mat3 = {E1:3520, E2:3520, nu12:0.39, G12:1266.2}   #epoxy"
     ],
     "language": "python",
     "metadata": {},
     "outputs": [],
     "prompt_number": 556
    },
    {
     "cell_type": "code",
     "collapsed": false,
     "input": [
      "stre1 = {Rlt:2100., Rlc:1407., Rqt:82., Rqc:249., Rql:60., F12s:0}\n",
      "stre_ep = {Rlt:80.}\n",
      "stre_edmc = {'filename':edmcfilename}"
     ],
     "language": "python",
     "metadata": {},
     "outputs": [],
     "prompt_number": 557
    },
    {
     "cell_type": "heading",
     "level": 3,
     "metadata": {},
     "source": [
      "Manual definition"
     ]
    },
    {
     "cell_type": "code",
     "collapsed": false,
     "input": [
      "idx, t, zi, zim1 = sp.symbols(r'\\mathrm{idx} t z_i z_{i-1}')\n",
      "#Laminates\n",
      "\n",
      "layers1 = [\n",
      "{idx:1, 'gdata':{phi:0, t:0.125}, 'mdata':mat1, 'sdata':stre1, 'failcrit_nbr':2}\n",
      "          ]\n",
      "\n",
      "layers2 = [\n",
      "{idx:1, 'gdata':{phi:0, t:0.125}, 'mdata':mat1, 'sdata':stre1, 'failcrit_nbr':3},\n",
      "{idx:2, 'gdata':{phi:sp.pi/2., t:0.125}, 'mdata':mat3, 'sdata':stre_ep, 'failcrit_nbr':4}\n",
      "          ]\n",
      "\n",
      "layers2a = [\n",
      "{idx:1, 'gdata':{phi:0., t:0.125}, 'mdata':mat1, 'sdata':stre1},\n",
      "{idx:2, 'gdata':{phi:sp.pi/3., t:0.125}, 'mdata':mat1, 'sdata':stre1}\n",
      "          ]\n",
      "\n",
      "layers4 = [\n",
      "{idx:1, 'gdata':{phi:0., t:0.0875}, 'mdata':mat1, 'sdata':stre1, 'failcrit_nbr':3},\n",
      "{idx:2, 'gdata':{phi:sp.pi/2, t:0.0875}, 'mdata':mat3, 'sdata':stre_ep, 'failcrit_nbr':4},\n",
      "{idx:3, 'gdata':{phi:sp.pi/2, t:0.0875}, 'mdata':mat3, 'sdata':stre_ep, 'failcrit_nbr':4},\n",
      "{idx:4, 'gdata':{phi:0., t:0.0875}, 'mdata':mat1, 'sdata':stre1, 'failcrit_nbr':3}\n",
      "]\n",
      "\n",
      "layers6 = [\n",
      "{idx:1, 'gdata':{phi:0, t:0.125}, 'mdata':mat1, 'sdata':stre1},\n",
      "{idx:2, 'gdata':{phi:sp.pi/3, t:0.125}, 'mdata':mat1, 'sdata':stre1},\n",
      "{idx:3, 'gdata':{phi:2*sp.pi/3, t:0.125}, 'mdata':mat1, 'sdata':stre1},\n",
      "{idx:4, 'gdata':{phi:2*sp.pi/3, t:0.125}, 'mdata':mat1, 'sdata':stre1},\n",
      "{idx:5, 'gdata':{phi:sp.pi/3, t:0.125}, 'mdata':mat1, 'sdata':stre1},\n",
      "{idx:6, 'gdata':{phi:0, t:0.125}, 'mdata':mat1, 'sdata':stre1}\n",
      "]\n",
      "\n",
      "layers_iso = [\n",
      "{idx:1, 'gdata':{phi:0, t:0.125}, 'mdata':mat3, 'sdata':stre_ep, 'failcrit_nbr':4}\n",
      "          ]"
     ],
     "language": "python",
     "metadata": {},
     "outputs": [],
     "prompt_number": 558
    },
    {
     "cell_type": "heading",
     "level": 3,
     "metadata": {},
     "source": [
      "Analoge laminate model"
     ]
    },
    {
     "cell_type": "code",
     "collapsed": false,
     "input": [
      "# UC dimensions\n",
      "t_UC = 0.35\n",
      "l1_UC = 9.84\n",
      "l2_UC = 9.84\n",
      "A_UC = l1_UC * l2_UC\n",
      "# V total\n",
      "V_tot = t_UC * l1_UC * l2_UC\n",
      "\n",
      "### Tows 1 ### (in direction 1)\n",
      "A_T1 = 0.175*1.81  # Cross secion area\n",
      "V_T1 = 4* A_T1 * l1_UC\n",
      "\n",
      "# volume fractions (not really necessary)\n",
      "f_T1UC = float(V_T1) /  V_tot\n",
      "f_T2UC = f_T1UC\n",
      "f_MUC = 1 - f_T1UC - f_T2UC\n",
      "\n",
      "# 5 layer approach\n",
      "t_T1_aL5 = 0.5 * V_T1 / A_UC\n",
      "t_T2_aL5 = t_T1_aL5\n",
      "t_M_aL = t_UC - 2*(t_T1_aL5 + t_T2_aL5)\n",
      "analoge_Lam_5 = [\n",
      "{idx:1, 'gdata':{phi:0., t:t_T1_aL5}, 'mdata':mat1, 'sdata':stre1},\n",
      "{idx:2, 'gdata':{phi:sp.pi/2, t:t_T2_aL5}, 'mdata':mat1, 'sdata':stre1},\n",
      "{idx:3, 'gdata':{phi:0, t:t_M_aL}, 'mdata':mat3, 'sdata':stre_ep, 'failcrit_nbr':4},\n",
      "{idx:4, 'gdata':{phi:sp.pi/2, t:t_T2_aL5}, 'mdata':mat1, 'sdata':stre1},\n",
      "{idx:5, 'gdata':{phi:0., t:t_T1_aL5}, 'mdata':mat1, 'sdata':stre1},\n",
      "]\n",
      "\n",
      "# 3 layer approach\n",
      "t_T1_aL3 = V_T1 / A_UC\n",
      "t_T2_aL3 = t_T1_aL3\n",
      "analoge_Lam_3 = [\n",
      "{idx:1, 'gdata':{phi:0., t:t_T1_aL3}, 'mdata':mat1, 'sdata':stre1},\n",
      "{idx:2, 'gdata':{phi:0, t:t_M_aL}, 'mdata':mat3, 'sdata':stre_ep, 'failcrit_nbr':4},\n",
      "{idx:3, 'gdata':{phi:sp.pi/2, t:t_T2_aL3}, 'mdata':mat1, 'sdata':stre1},\n",
      "]\n",
      "\n",
      "print 'Analoge laminate model'\n",
      "print '######################'\n",
      "print '5 layers:'\n",
      "print 't_T1:',t_T1_aL5, ',  t_T2:',t_T2_aL5, ',  t_M:',t_M_aL\n",
      "print '3 layers:'\n",
      "print 't_T1:',t_T1_aL3, ',  t_T2:',t_T2_aL3, ',  t_M:',t_M_aL"
     ],
     "language": "python",
     "metadata": {},
     "outputs": [
      {
       "output_type": "stream",
       "stream": "stdout",
       "text": [
        "Analoge laminate model\n",
        "######################\n",
        "5 layers:\n",
        "t_T1: 0.0643800813008 ,  t_T2: 0.0643800813008 ,  t_M: 0.0924796747967\n",
        "3 layers:\n",
        "t_T1: 0.128760162602 ,  t_T2: 0.128760162602 ,  t_M: 0.0924796747967\n"
       ]
      }
     ],
     "prompt_number": 559
    },
    {
     "cell_type": "heading",
     "level": 3,
     "metadata": {},
     "source": [
      "Laminate setup"
     ]
    },
    {
     "cell_type": "code",
     "collapsed": false,
     "input": [
      "# which laminate to use?\n",
      "\n",
      "#layers = copy(analoge_Lam_3)\n",
      "layers = copy(layers_iso)\n",
      "\n",
      "# symmetric\n",
      "symmetric = 0"
     ],
     "language": "python",
     "metadata": {},
     "outputs": [],
     "prompt_number": 560
    },
    {
     "cell_type": "code",
     "collapsed": false,
     "input": [
      "if symmetric:\n",
      "    nbr_layers = len(layers)\n",
      "    i=0\n",
      "    for j in range(nbr_layers):\n",
      "        layers.append(deepcopy(layers[nbr_layers-j-1]))\n",
      "        layers[nbr_layers+j][idx] = nbr_layers+j+1"
     ],
     "language": "python",
     "metadata": {},
     "outputs": [],
     "prompt_number": 561
    },
    {
     "cell_type": "code",
     "collapsed": false,
     "input": [
      "# combine data fields and update failure criteria\n",
      "for layer in layers:\n",
      "    layer['data'] = dict(layer['gdata'].items()+layer['mdata'].items())#+layer['sdata'].items())\n",
      "    if not layer.has_key('failcrit_nbr'):\n",
      "        layer['failcrit_nbr'] = deffailcrit_nbr"
     ],
     "language": "python",
     "metadata": {},
     "outputs": [],
     "prompt_number": 562
    },
    {
     "cell_type": "code",
     "collapsed": false,
     "input": [
      "def print_layers(layers):\n",
      "    for layer in layers:\n",
      "        print 'Layer {0}:\\n------------'.format(layer[idx])\n",
      "        print 'Geo: ',layer['gdata']\n",
      "        print 'Elast: ',layer['mdata']\n",
      "        print 'Strength:, ',layer['sdata']\n",
      "        print 'Failure criteria: ',failcrit[layer['failcrit_nbr']][1]\n",
      "        print\n",
      "print_layers(layers)"
     ],
     "language": "python",
     "metadata": {},
     "outputs": [
      {
       "output_type": "stream",
       "stream": "stdout",
       "text": [
        "Layer 1:\n",
        "------------\n",
        "Geo:  {phi: 0, t: 0.125}\n",
        "Elast:  {nu12: 0.39000000000000001, E2: 3520, E1: 3520, G12: 1266.2}\n",
        "Strength:,  {R_{lt}: 80.0}\n",
        "Failure criteria:  von Mises\n",
        "\n"
       ]
      }
     ],
     "prompt_number": 563
    },
    {
     "cell_type": "code",
     "collapsed": false,
     "input": [
      "# compute total thickness:\n",
      "tt = 0\n",
      "for layer in layers:\n",
      "    tt += layer['data'][t]\n",
      "print 'total thickness: ',tt"
     ],
     "language": "python",
     "metadata": {},
     "outputs": [
      {
       "output_type": "stream",
       "stream": "stdout",
       "text": [
        "total thickness:  0.125\n"
       ]
      }
     ],
     "prompt_number": 564
    },
    {
     "cell_type": "heading",
     "level": 1,
     "metadata": {},
     "source": [
      "Lamination theory"
     ]
    },
    {
     "cell_type": "heading",
     "level": 3,
     "metadata": {},
     "source": [
      "Local elasticity matrix"
     ]
    },
    {
     "cell_type": "code",
     "collapsed": false,
     "input": [
      "E1, E2, G12, G13, G23, nu12, nu13, nu23, Els, Elsf, Elbf, Cls, Ers"
     ],
     "language": "python",
     "metadata": {},
     "outputs": [
      {
       "latex": [
        "$$\\begin{pmatrix}E_{1}, & E_{2}, & G_{12}, & G_{13}, & G_{23}, & \\nu_{12}, & \\nu_{13}, & \\nu_{23}, & ^{i}\\!\\Bbb{E}^{{\\mathrm{loc}}}, & \\mathsf{E}^{{\\mathrm{loc}}}, & \\bf{E}^{{\\mathrm{loc}}}, & ^{i}\\!\\Bbb{C}^{{\\mathrm{loc}}}, & ^{i}\\!\\Bbb{E}\\end{pmatrix}$$"
       ],
       "metadata": {},
       "output_type": "pyout",
       "prompt_number": 565,
       "text": [
        "(E\u2081, E\u2082, G\u2081\u2082, G\u2081\u2083, G\u2082\u2083, \u03bd\u2081\u2082, \u03bd\u2081\u2083, \u03bd\u2082\u2083, ^{i}\\!\\Bbb{E}^{\\mathrm{loc}}, \\mathsf{E\n",
        "}^{\\mathrm{loc}}, \\bf{E}^{\\mathrm{loc}}, ^{i}\\!\\Bbb{C}^{\\mathrm{loc}}, ^{i}\\!\\\n",
        "Bbb{E})"
       ]
      }
     ],
     "prompt_number": 565
    },
    {
     "cell_type": "markdown",
     "metadata": {},
     "source": [
      "Symmetry conditions"
     ]
    },
    {
     "cell_type": "code",
     "collapsed": false,
     "input": [
      "nu21 = nu12/E1 * E2"
     ],
     "language": "python",
     "metadata": {},
     "outputs": [],
     "prompt_number": 566
    },
    {
     "cell_type": "markdown",
     "metadata": {},
     "source": [
      "Compliance matrix"
     ]
    },
    {
     "cell_type": "code",
     "collapsed": false,
     "input": [
      "Cl = sp.Matrix([[1/E1, -nu21/E2, 0],[-nu12/E1, 1/E2, 0],[0, 0, 1/G12]])\n",
      "dispeq(Cls,Cl)"
     ],
     "language": "python",
     "metadata": {},
     "outputs": [
      {
       "latex": [
        "$$^{i}\\!\\Bbb{C}^{{\\mathrm{loc}}}=\\left[\\begin{smallmatrix}{}\\frac{1}{E_{1}} & - \\frac{\\nu_{12}}{E_{1}} & 0\\\\- \\frac{\\nu_{12}}{E_{1}} & \\frac{1}{E_{2}} & 0\\\\0 & 0 & \\frac{1}{G_{12}}\\end{smallmatrix}\\right]$$"
       ],
       "metadata": {},
       "output_type": "display_data",
       "text": [
        "<IPython.core.display.Math at 0xfac8610>"
       ]
      }
     ],
     "prompt_number": 567
    },
    {
     "cell_type": "markdown",
     "metadata": {},
     "source": [
      "Elasticity matrix"
     ]
    },
    {
     "cell_type": "code",
     "collapsed": false,
     "input": [
      "El = Cl.inv()\n",
      "dispeq(Els,El)"
     ],
     "language": "python",
     "metadata": {},
     "outputs": [
      {
       "latex": [
        "$$^{i}\\!\\Bbb{E}^{{\\mathrm{loc}}}=\\left[\\begin{smallmatrix}{}E_{1} + \\frac{\\nu_{12}^{2}}{\\frac{1}{E_{2}} - \\frac{\\nu_{12}^{2}}{E_{1}}} & \\frac{\\nu_{12}}{\\frac{1}{E_{2}} - \\frac{\\nu_{12}^{2}}{E_{1}}} & 0\\\\\\frac{\\nu_{12}}{\\frac{1}{E_{2}} - \\frac{\\nu_{12}^{2}}{E_{1}}} & \\frac{1}{\\frac{1}{E_{2}} - \\frac{\\nu_{12}^{2}}{E_{1}}} & 0\\\\0 & 0 & G_{12}\\end{smallmatrix}\\right]$$"
       ],
       "metadata": {},
       "output_type": "display_data",
       "text": [
        "<IPython.core.display.Math at 0xfac8290>"
       ]
      }
     ],
     "prompt_number": 568
    },
    {
     "cell_type": "code",
     "collapsed": false,
     "input": [
      "Er = R.subs({phi:-phi})*El*Rb\n",
      "dispeq(Ers(phi),Er.subs({phi:0}))"
     ],
     "language": "python",
     "metadata": {},
     "outputs": [
      {
       "latex": [
        "$$\\operatorname{^{i}\\!\\Bbb{E}}{\\left (\\phi \\right )}=\\left[\\begin{smallmatrix}{}E_{1} + \\frac{\\nu_{12}^{2}}{\\frac{1}{E_{2}} - \\frac{\\nu_{12}^{2}}{E_{1}}} & \\frac{\\nu_{12}}{\\frac{1}{E_{2}} - \\frac{\\nu_{12}^{2}}{E_{1}}} & 0\\\\\\frac{\\nu_{12}}{\\frac{1}{E_{2}} - \\frac{\\nu_{12}^{2}}{E_{1}}} & \\frac{1}{\\frac{1}{E_{2}} - \\frac{\\nu_{12}^{2}}{E_{1}}} & 0\\\\0 & 0 & G_{12}\\end{smallmatrix}\\right]$$"
       ],
       "metadata": {},
       "output_type": "display_data",
       "text": [
        "<IPython.core.display.Math at 0xfac8390>"
       ]
      }
     ],
     "prompt_number": 569
    },
    {
     "cell_type": "heading",
     "level": 3,
     "metadata": {},
     "source": [
      "Compute some layer properties"
     ]
    },
    {
     "cell_type": "code",
     "collapsed": false,
     "input": [
      "z0 = -tt/2.\n",
      "for layer in layers:\n",
      "    layer['data'][zim1] = z0\n",
      "    layer['data'][zi] = z0 + layer['data'][t]\n",
      "    z0 += layer['data'][t]\n",
      "    layer['failure'] = failcrit[layer['failcrit_nbr']][0](layer['sdata'])\n",
      "    layer['El'] = np.array(El.subs(layer['data'])).astype(float)\n",
      "    layer['Rb'] = np.array(Rb.subs(layer['data'])).astype(float)"
     ],
     "language": "python",
     "metadata": {},
     "outputs": [],
     "prompt_number": 570
    },
    {
     "cell_type": "heading",
     "level": 2,
     "metadata": {},
     "source": [
      "$\\mathsf{ABD-}$Matrix"
     ]
    },
    {
     "cell_type": "markdown",
     "metadata": {},
     "source": [
      "The individual sub-matrices $\\mathsf{A}$ (extensional), $\\mathsf{B}$ (coupling), and $\\mathsf{D}$ (bending) are computed as followed\n",
      "$$\\mathsf{A}=\\sum_{i=1}^N {}^i\\Bbb{E}\\cdot(z_i-z_{i-1})$$\n",
      "$$\\mathsf{B}=-\\sum_{i=1}^N {}^i\\Bbb{E}\\cdot\\frac{z_i^2-z_{i-1}^2}{2}$$\n",
      "$$\\mathsf{D}=\\sum_{i=1}^N {}^i\\Bbb{E}\\cdot\\frac{z_i^3-z_{i-1}^3}{3}$$\n",
      "with $N$ being the number of layers."
     ]
    },
    {
     "cell_type": "code",
     "collapsed": false,
     "input": [
      "As, Bs, Ds, ABDs= sp.symbols(r'\\mathsf{A} \\mathsf{B} \\mathsf{D} \\mathsf{ABD}') \n",
      "A = sp.zeros(3)\n",
      "B = sp.zeros(3)\n",
      "D = sp.zeros(3)\n",
      "dispeq(As,A)\n",
      "dispeq(Bs,B)\n",
      "dispeq(Ds,D)"
     ],
     "language": "python",
     "metadata": {},
     "outputs": [
      {
       "latex": [
        "$$\\mathsf{A}=\\left[\\begin{smallmatrix}{}0 & 0 & 0\\\\0 & 0 & 0\\\\0 & 0 & 0\\end{smallmatrix}\\right]$$"
       ],
       "metadata": {},
       "output_type": "display_data",
       "text": [
        "<IPython.core.display.Math at 0xb57bad0>"
       ]
      },
      {
       "latex": [
        "$$\\mathsf{B}=\\left[\\begin{smallmatrix}{}0 & 0 & 0\\\\0 & 0 & 0\\\\0 & 0 & 0\\end{smallmatrix}\\right]$$"
       ],
       "metadata": {},
       "output_type": "display_data",
       "text": [
        "<IPython.core.display.Math at 0xb531f50>"
       ]
      },
      {
       "latex": [
        "$$\\mathsf{D}=\\left[\\begin{smallmatrix}{}0 & 0 & 0\\\\0 & 0 & 0\\\\0 & 0 & 0\\end{smallmatrix}\\right]$$"
       ],
       "metadata": {},
       "output_type": "display_data",
       "text": [
        "<IPython.core.display.Math at 0x4ddd490>"
       ]
      }
     ],
     "prompt_number": 571
    },
    {
     "cell_type": "code",
     "collapsed": false,
     "input": [
      "for layer in layers:\n",
      "    A += (Er*(zi-zim1)).subs(layer['data'])\n",
      "    B -= (Er*(zi**2-zim1**2)/2).subs(layer['data'])\n",
      "    D += (Er*(zi**3-zim1**3)/3).subs(layer['data'])"
     ],
     "language": "python",
     "metadata": {},
     "outputs": [],
     "prompt_number": 572
    },
    {
     "cell_type": "code",
     "collapsed": false,
     "input": [
      "dispeq(As,A.evalf(4))\n",
      "dispeq(Bs,B.evalf(4))\n",
      "dispeq(Ds,D.evalf(4))"
     ],
     "language": "python",
     "metadata": {},
     "outputs": [
      {
       "latex": [
        "$$\\mathsf{A}=\\left[\\begin{smallmatrix}{}518.9 & 202.4 & 0\\\\202.4 & 518.9 & 0\\\\0 & 0 & 158.3\\end{smallmatrix}\\right]$$"
       ],
       "metadata": {},
       "output_type": "display_data",
       "text": [
        "<IPython.core.display.Math at 0xfac8c90>"
       ]
      },
      {
       "latex": [
        "$$\\mathsf{B}=\\left[\\begin{smallmatrix}{}0 & 0 & 0\\\\0 & 0 & 0\\\\0 & 0 & 0\\end{smallmatrix}\\right]$$"
       ],
       "metadata": {},
       "output_type": "display_data",
       "text": [
        "<IPython.core.display.Math at 0xfac8f90>"
       ]
      },
      {
       "latex": [
        "$$\\mathsf{D}=\\left[\\begin{smallmatrix}{}0.6757 & 0.2635 & 0\\\\0.2635 & 0.6757 & 0\\\\0 & 0 & 0.2061\\end{smallmatrix}\\right]$$"
       ],
       "metadata": {},
       "output_type": "display_data",
       "text": [
        "<IPython.core.display.Math at 0xfac8ad0>"
       ]
      }
     ],
     "prompt_number": 573
    },
    {
     "cell_type": "code",
     "collapsed": false,
     "input": [
      "ABD = (A.col_join(B)).row_join(B.col_join(D))\n",
      "ABDn = np.array(ABD).astype(float)\n",
      "dispeq(ABDs, ABD.evalf(4, chop=True))"
     ],
     "language": "python",
     "metadata": {},
     "outputs": [
      {
       "latex": [
        "$$\\mathsf{ABD}=\\left[\\begin{smallmatrix}{}518.9 & 202.4 & 0 & 0 & 0 & 0\\\\202.4 & 518.9 & 0 & 0 & 0 & 0\\\\0 & 0 & 158.3 & 0 & 0 & 0\\\\0 & 0 & 0 & 0.6757 & 0.2635 & 0\\\\0 & 0 & 0 & 0.2635 & 0.6757 & 0\\\\0 & 0 & 0 & 0 & 0 & 0.2061\\end{smallmatrix}\\right]$$"
       ],
       "metadata": {},
       "output_type": "display_data",
       "text": [
        "<IPython.core.display.Math at 0xfac8e50>"
       ]
      }
     ],
     "prompt_number": 574
    },
    {
     "cell_type": "heading",
     "level": 2,
     "metadata": {},
     "source": [
      "Solve Laminate Equation"
     ]
    },
    {
     "cell_type": "markdown",
     "metadata": {},
     "source": [
      "$$\\begin{pmatrix}\\tilde n \\\\\\\\ \\tilde m\\end{pmatrix} = \\begin{pmatrix}\\mathsf{A} & \\mathsf{B} \\\\\\\\ \\mathsf{B} & \\mathsf{D}\\end{pmatrix} \\begin{pmatrix}\\bar\\varepsilon \\\\\\\\ \\bar\\varphi'\\end{pmatrix}$$\n",
      "\n",
      "Compute symbolic example?"
     ]
    },
    {
     "cell_type": "code",
     "collapsed": false,
     "input": [
      "symbolic_ex = False"
     ],
     "language": "python",
     "metadata": {},
     "outputs": [],
     "prompt_number": 575
    },
    {
     "cell_type": "code",
     "collapsed": false,
     "input": [
      "n = sp.Matrix([1,0.0,0.0])\n",
      "m = sp.Matrix([0,0,0])"
     ],
     "language": "python",
     "metadata": {},
     "outputs": [],
     "prompt_number": 576
    },
    {
     "cell_type": "code",
     "collapsed": false,
     "input": [
      "ns,ms = sp.symbols(r\"\\tilde{n} \\tilde{m}\")\n",
      "ebs, pbs = sp.symbols(r\"\\bar{\\varepsilon} \\bar{\\varphi}'\")\n",
      "nm = sp.Matrix([n,m])\n",
      "dispeq(ns,n)\n",
      "dispeq(ms,m)"
     ],
     "language": "python",
     "metadata": {},
     "outputs": [
      {
       "latex": [
        "$$\\tilde{n}=\\left[\\begin{smallmatrix}{}1\\\\0.0\\\\0.0\\end{smallmatrix}\\right]$$"
       ],
       "metadata": {},
       "output_type": "display_data",
       "text": [
        "<IPython.core.display.Math at 0xb536b10>"
       ]
      },
      {
       "latex": [
        "$$\\tilde{m}=\\left[\\begin{smallmatrix}{}0\\\\0\\\\0\\end{smallmatrix}\\right]$$"
       ],
       "metadata": {},
       "output_type": "display_data",
       "text": [
        "<IPython.core.display.Math at 0x9e2be90>"
       ]
      }
     ],
     "prompt_number": 577
    },
    {
     "cell_type": "code",
     "collapsed": false,
     "input": [
      "if symbolic_ex:\n",
      "    epb = ABD.LUsolve(nm)\n",
      "    eb = sp.Matrix(epb[:3])\n",
      "    pb = sp.Matrix(epb[3:])"
     ],
     "language": "python",
     "metadata": {},
     "outputs": [],
     "prompt_number": 578
    },
    {
     "cell_type": "code",
     "collapsed": false,
     "input": [
      "if symbolic_ex:\n",
      "    dispeq(ebs,eb.evalf(4))\n",
      "    dispeq(pbs,pb.evalf(4))"
     ],
     "language": "python",
     "metadata": {},
     "outputs": [],
     "prompt_number": 579
    },
    {
     "cell_type": "heading",
     "level": 2,
     "metadata": {},
     "source": [
      "Compute layer strains and stresses"
     ]
    },
    {
     "cell_type": "markdown",
     "metadata": {},
     "source": [
      "$$^i\\varepsilon = \\bar\\varepsilon - \\frac{z_{i-1}+z_i}{2}\\bar\\varphi'$$"
     ]
    },
    {
     "cell_type": "code",
     "collapsed": false,
     "input": [
      "if symbolic_ex:\n",
      "    eis = sp.symbols(r'^i\\varepsilon')\n",
      "    eils = sp.symbols(r'^i\\varepsilon^\\mathrm{loc}')\n",
      "    sls = sp.symbols(r'^i\\sigma^\\rm{loc}')\n",
      "    ei = ebs-(zim1+zi)/2*pbs\n",
      "    dispeq(eis,ei)"
     ],
     "language": "python",
     "metadata": {},
     "outputs": [],
     "prompt_number": 580
    },
    {
     "cell_type": "code",
     "collapsed": false,
     "input": [
      "if symbolic_ex:\n",
      "    elg = []  #epsilon local (global cs)\n",
      "    ell = []  #epsilon local (local cs)\n",
      "    sll = []  #stress local (local cs)\n",
      "    ts = []   #tsai wu values\n",
      "    fm = []   # failure modes\n",
      "    for layer in layers[:]:\n",
      "        display('Layer {0}'.format(layer[idx]))\n",
      "        display('-'*30)\n",
      "        elg.append((eb-(zim1+zi)/2.*pb).subs(layer['data']))\n",
      "        dispeq(eis(layer[idx]),elg[-1].evalf(5))\n",
      "        ell.append(Rb.subs(layer['data'])*elg[-1])\n",
      "        dispeq(eils(layer[idx]),ell[-1].evalf(4))\n",
      "        sll.append(El.subs(layer['data'])*ell[-1])\n",
      "        dispeq(sls(layer[idx]),sll[-1].evalf(5))\n",
      "        fval, fmode = layer['failure'].safety(dict(zip([s11,s22,s12],sll[-1])))\n",
      "        ts.append(fval)\n",
      "        dispeq(sp.Symbol('f'),ts[-1].evalf(4))\n",
      "        fm.append(fmode)\n",
      "        dispeq('Failuremode',fm[-1])"
     ],
     "language": "python",
     "metadata": {},
     "outputs": [],
     "prompt_number": 581
    },
    {
     "cell_type": "heading",
     "level": 2,
     "metadata": {},
     "source": [
      "Combine the former to a comp_safety method"
     ]
    },
    {
     "cell_type": "code",
     "collapsed": false,
     "input": [
      "# symbolic approach\n",
      "def comp_safety(stress, ABD, layers):\n",
      "    elg = []  #epsilon local (global cs)\n",
      "    ell = []  #epsilon local (local cs)\n",
      "    sll = []  #stress local (local cs)\n",
      "    ts = []\n",
      "    \n",
      "    epb = ABD.LUsolve(stress)\n",
      "    eb = sp.ImmutableMatrix(epb[:3])\n",
      "    pb = sp.ImmutableMatrix(epb[3:])\n",
      "    for layer in layers:\n",
      "        data = layer['data']\n",
      "        elg.append((eb-(zim1+zi)/2*pb).subs(data))\n",
      "        ell.append(Rb.subs(data)*elg[-1])\n",
      "        sll.append(El.subs(data)*ell[-1])\n",
      "        ts.append(layer['failure'].safety(dict(zip([s11,s22,s12],sll[-1]))))\n",
      "    sf = min(ts)\n",
      "    #display('Safety factor:',sf)\n",
      "    return sf"
     ],
     "language": "python",
     "metadata": {},
     "outputs": [],
     "prompt_number": 582
    },
    {
     "cell_type": "code",
     "collapsed": false,
     "input": [
      "# numeric approach\n",
      "def comp_safetyN(stress, ABDn, layers):\n",
      "    elg = []  #epsilon local (global cs)\n",
      "    ell = []  #epsilon local (local cs)\n",
      "    sll = []  #stress local (local cs)\n",
      "    ts = []\n",
      "    fm = []\n",
      "    epb = np.linalg.solve(ABDn,stress)\n",
      "    eb = epb[:3]\n",
      "    pb = epb[3:]\n",
      "    for layer in layers:\n",
      "        data = layer['data']\n",
      "        elg.append((eb-(data[zim1]+data[zi])/2.*pb))\n",
      "        ell.append(np.dot(layer['Rb'],elg[-1]))\n",
      "        sll.append(np.dot(layer['El'],ell[-1]))\n",
      "        ts.append(layer['failure'].safety(dict(zip([s11,s22,s12],sll[-1]))))\n",
      "    sf = min(ts)\n",
      "    #display('Safety factor:',sf)\n",
      "    return sf"
     ],
     "language": "python",
     "metadata": {},
     "outputs": [],
     "prompt_number": 583
    },
    {
     "cell_type": "heading",
     "level": 1,
     "metadata": {},
     "source": [
      "Visualize Surface"
     ]
    },
    {
     "cell_type": "heading",
     "level": 2,
     "metadata": {},
     "source": [
      "Triangluate Sphere"
     ]
    },
    {
     "cell_type": "markdown",
     "metadata": {},
     "source": [
      "from: https://sites.google.com/site/dlampetest/python/triangulating-a-sphere-recursively"
     ]
    },
    {
     "cell_type": "code",
     "collapsed": false,
     "input": [
      "'''Create a unitsphere recursively by subdividing all triangles in an octahedron recursivly.\n",
      "\n",
      "A unitsphere has a radius of 1, which also means that all points in this sphere\n",
      "have an absolute value of 1. Another feature of an unitsphere is that the normals \n",
      "of this sphere are exactly the same as the vertices.\n",
      "\n",
      "This recursive method will avoid the common problem of the polar singularity, \n",
      "produced by 2d parameterization methods.\n",
      "\n",
      "If you wish a sphere with another radius than that of 1, simply multiply every single\n",
      "value in the vertex array with this new radius \n",
      "(although this will break the \"vertex array equal to normal array\" property)\n",
      "'''\n",
      "import numpy\n",
      "\n",
      "octahedron_vertices = numpy.array( [ \n",
      "    [ 1.0, 0.0, 0.0], # 0 \n",
      "    [-1.0, 0.0, 0.0], # 1\n",
      "    [ 0.0, 1.0, 0.0], # 2 \n",
      "    [ 0.0,-1.0, 0.0], # 3\n",
      "    [ 0.0, 0.0, 1.0], # 4 \n",
      "    [ 0.0, 0.0,-1.0]  # 5                                \n",
      "    ] )\n",
      "octahedron_triangles = numpy.array( [ \n",
      "    [ 0, 4, 2 ],\n",
      "    [ 2, 4, 1 ],\n",
      "    [ 1, 4, 3 ],\n",
      "    [ 3, 4, 0 ],\n",
      "    [ 0, 2, 5 ],\n",
      "    [ 2, 1, 5 ],\n",
      "    [ 1, 3, 5 ],\n",
      "    [ 3, 0, 5 ],\n",
      "    ] )\n",
      "\n",
      "def normalize_v3(arr):\n",
      "    ''' Normalize a numpy array of 3 component vectors shape=(n,3) '''\n",
      "    lens = numpy.sqrt( arr[:,0]**2 + arr[:,1]**2 + arr[:,2]**2 )\n",
      "    arr[:,0] /= lens\n",
      "    arr[:,1] /= lens\n",
      "    arr[:,2] /= lens                \n",
      "    return arr\n",
      "\n",
      "def divide_all( vertices, triangles ):    \n",
      "    #new_triangles = []\n",
      "    new_triangle_count = len( triangles ) * 4\n",
      "    # Subdivide each triangle in the old approximation and normalize\n",
      "    #  the new points thus generated to lie on the surface of the unit\n",
      "    #  sphere.\n",
      "    # Each input triangle with vertices labelled [0,1,2] as shown\n",
      "    #  below will be turned into four new triangles:\n",
      "    #\n",
      "    #            Make new points\n",
      "    #                 a = (0+2)/2\n",
      "    #                 b = (0+1)/2\n",
      "    #                 c = (1+2)/2\n",
      "    #        1\n",
      "    #       /\\        Normalize a, b, c\n",
      "    #      /  \\\n",
      "    #    b/____\\ c    Construct new triangles\n",
      "    #    /\\    /\\       t1 [0,b,a]\n",
      "    #   /  \\  /  \\      t2 [b,1,c]\n",
      "    #  /____\\/____\\     t3 [a,b,c]\n",
      "    # 0      a     2    t4 [a,c,2]    \n",
      "    v0 = vertices[ triangles[:,0] ]\n",
      "    v1 = vertices[ triangles[:,1] ]\n",
      "    v2 = vertices[ triangles[:,2] ]\n",
      "    a = ( v0+v2 ) * 0.5\n",
      "    b = ( v0+v1 ) * 0.5\n",
      "    c = ( v1+v2 ) * 0.5  \n",
      "    normalize_v3( a )\n",
      "    normalize_v3( b )\n",
      "    normalize_v3( c )\n",
      "    \n",
      "    #Stack the triangles together.\n",
      "    # modified the following line (add indices)\n",
      "    vertices = numpy.vstack( [(v0[i],b[i],a[i],  b[i],v1[i],c[i],  a[i],b[i],c[i], a[i],c[i],v2[i]) for i in range(len(v0))] )\n",
      "    #Now our vertices are duplicated, and thus our triangle structure are unnecesarry.    \n",
      "    return vertices, numpy.arange( len(vertices) ).reshape( (-1,3) )\n",
      "\n",
      "def create_unit_sphere( recursion_level=2 ):\n",
      "    vertex_array, index_array = octahedron_vertices, octahedron_triangles\n",
      "    for i in range( recursion_level - 1 ):\n",
      "        vertex_array, index_array  = divide_all(vertex_array, index_array)\n",
      "    return vertex_array, index_array\n",
      "\n",
      "\n",
      "def vertex_array_only_unit_sphere( recursion_level=2 ):\n",
      "    vertex_array, index_array = create_unit_sphere(recursion_level)\n",
      "    if recursion_level > 1:    \n",
      "        return vertex_array.reshape( (-1) )\n",
      "    else:\n",
      "        return vertex_array[index_array].reshape( (-1) )"
     ],
     "language": "python",
     "metadata": {},
     "outputs": [],
     "prompt_number": 584
    },
    {
     "cell_type": "code",
     "collapsed": false,
     "input": [
      "in_points, connect = create_unit_sphere(3)"
     ],
     "language": "python",
     "metadata": {},
     "outputs": [],
     "prompt_number": 585
    },
    {
     "cell_type": "heading",
     "level": 2,
     "metadata": {},
     "source": [
      "Read sphere-data from VTK instead of predefined above"
     ]
    },
    {
     "cell_type": "code",
     "collapsed": false,
     "input": [
      "if 1:\n",
      "    in_points, connect, sets, sym = readVTK('sphere_2.vtk', celltype='CELLS')"
     ],
     "language": "python",
     "metadata": {},
     "outputs": [
      {
       "output_type": "stream",
       "stream": "stdout",
       "text": [
        "sphere_2.vtk\n"
       ]
      }
     ],
     "prompt_number": 586
    },
    {
     "cell_type": "heading",
     "level": 2,
     "metadata": {},
     "source": [
      "Compute envelope - based on triangulated sphere"
     ]
    },
    {
     "cell_type": "code",
     "collapsed": false,
     "input": [
      "print 'Number of points: ', len(in_points)\n",
      "print 'Number of triangles: ', len(connect)"
     ],
     "language": "python",
     "metadata": {},
     "outputs": [
      {
       "output_type": "stream",
       "stream": "stdout",
       "text": [
        "Number of points:  1252\n",
        "Number of triangles:  2500\n"
       ]
      }
     ],
     "prompt_number": 587
    },
    {
     "cell_type": "code",
     "collapsed": false,
     "input": [
      "env_points = []\n",
      "env_mode = []\n",
      "for pt in in_points:\n",
      "    envt, mode = comp_safetyN(np.array([pt[0],pt[1],pt[2],0,0,0]),ABDn,layers)\n",
      "    env_points.append(pt*envt/tt)\n",
      "    env_mode.append(mode2int(mode))"
     ],
     "language": "python",
     "metadata": {},
     "outputs": [],
     "prompt_number": 588
    },
    {
     "cell_type": "raw",
     "metadata": {},
     "source": [
      "from IPython.parallel import Client, require, interactive\n",
      "rc = Client()\n",
      "print rc.ids\n",
      "dview = rc[:] # use all engines"
     ]
    },
    {
     "cell_type": "raw",
     "metadata": {},
     "source": [
      "# test parallel\n",
      "#@dview.remote(block=True)\n",
      "@interactive\n",
      "@require(comp_safetyN)\n",
      "@require(Hashin)\n",
      "@require(mode2int)\n",
      "def makeit(pt):\n",
      "    import numpy as np\n",
      "    env_points = []\n",
      "    env_mode = []\n",
      "    envt, mode = comp_safetyN(np.array([pt[0],pt[1],pt[2],0,0,0]),ABDn,layers)\n",
      "    env_points.append(pt*envt/tt)\n",
      "    env_mode.append(mode2int(mode))\n",
      "    return env_points, env_mode"
     ]
    },
    {
     "cell_type": "raw",
     "metadata": {},
     "source": [
      "dview['ABDn']=ABDn\n",
      "dview['layers']=layers\n",
      "#dview.push(dict(layers=layers,ABDn=ABDn))\n",
      "env_points, env_mode = dview.map(makeit,in_points)"
     ]
    },
    {
     "cell_type": "code",
     "collapsed": false,
     "input": [
      "pt = in_points[0]\n",
      "print pt\n",
      "for layer in layers:\n",
      "    fac, mode = comp_safetyN(np.array([pt[0],pt[1],pt[2],0,0,0]),ABDn, [layer])\n",
      "    print fac, mode\n",
      "    print fac/tt*pt"
     ],
     "language": "python",
     "metadata": {},
     "outputs": [
      {
       "output_type": "stream",
       "stream": "stdout",
       "text": [
        "[-1.  0.  0.]\n",
        "10.0000000000000 vM\n",
        "[-80.0000000000000 0 0]\n"
       ]
      }
     ],
     "prompt_number": 589
    },
    {
     "cell_type": "code",
     "collapsed": false,
     "input": [
      "filename = 'tsaiwu_layers.vtk'\n",
      "writevtk(filename, env_points, connect, 1, 1, data=[['mode',env_mode]])"
     ],
     "language": "python",
     "metadata": {},
     "outputs": [],
     "prompt_number": 590
    },
    {
     "cell_type": "markdown",
     "metadata": {},
     "source": [
      "Visualize base sphere instead of Failure Surface:"
     ]
    },
    {
     "cell_type": "code",
     "collapsed": false,
     "input": [
      "#visu sphere:\n",
      "if False:\n",
      "    filename = 'sphere_visu.vtk'\n",
      "    # scale points\n",
      "    env_points = []\n",
      "    for pt in in_points:\n",
      "        env_points.append(pt*100)\n",
      "    writevtk(filename, env_points, connect, 1, 1)"
     ],
     "language": "python",
     "metadata": {},
     "outputs": [],
     "prompt_number": 591
    },
    {
     "cell_type": "heading",
     "level": 2,
     "metadata": {},
     "source": [
      "Visualize"
     ]
    },
    {
     "cell_type": "code",
     "collapsed": false,
     "input": [
      "import vtk\n",
      "\n",
      "Reader = vtk.vtkDataSetReader()\n",
      "Reader.SetFileName(filename)\n",
      "Reader.Update()\n",
      "Data = Reader.GetOutput()\n",
      "scalar_range = Data.GetScalarRange()\n",
      "mapper = vtk.vtkPolyDataMapper()\n",
      "mapper.SetInput(Data)\n",
      "mapper.SetScalarRange(scalar_range)\n",
      "\n",
      "actor = vtk.vtkActor()\n",
      "actor.SetMapper(mapper)\n",
      "obj = actor.GetProperty()\n",
      "obj.EdgeVisibilityOn()\n",
      "obj.SetEdgeColor(0,0,0)"
     ],
     "language": "python",
     "metadata": {},
     "outputs": [],
     "prompt_number": 592
    },
    {
     "cell_type": "heading",
     "level": 5,
     "metadata": {},
     "source": [
      "Axes"
     ]
    },
    {
     "cell_type": "code",
     "collapsed": false,
     "input": [
      "axes = vtk.vtkAxesActor()\n",
      "axes.SetOrigin(0.,0.,0.)\n",
      "axes.SetTotalLength(400.,400.,400.)\n",
      "axes.AxisLabelsOff()\n",
      "axes.SetShaftTypeToCylinder()\n",
      "axes.SetCylinderRadius(0.015)\n",
      "axes.SetConeRadius(0.24)\n",
      "axes.SetXAxisLabelText('Sxx')\n",
      "axes.SetYAxisLabelText('Syy')\n",
      "axes.SetZAxisLabelText('Sxy')"
     ],
     "language": "python",
     "metadata": {},
     "outputs": [],
     "prompt_number": 593
    },
    {
     "cell_type": "heading",
     "level": 5,
     "metadata": {},
     "source": [
      "Plane"
     ]
    },
    {
     "cell_type": "code",
     "collapsed": false,
     "input": [
      "planesource = vtk.vtkPlaneSource()\n",
      "planesource.SetCenter(0,0,0)\n",
      "planesource.SetNormal(0,0,1)\n",
      "planesource.Update()\n",
      "# mapper\n",
      "pl_mapper = vtk.vtkPolyDataMapper()\n",
      "pl_mapper.SetInput(planesource.GetOutput())\n",
      "# actor\n",
      "pl_actor1 = vtk.vtkActor()\n",
      "pl_actor1.SetMapper(pl_mapper)\n",
      "pl_actor1.SetScale(900,900,900)\n",
      "pl_actor1.SetPosition(46,100,-0.1)\n",
      "obj1 = pl_actor1.GetProperty()\n",
      "obj1.SetColor(1,1,1)\n",
      "obj1.LightingOff()\n",
      "obj1.SetOpacity(0.3)\n",
      "\n",
      "#Textured plane\n",
      "mesh = planesource.GetOutput()\n",
      " \n",
      "# Read the image data from a file\n",
      "reader = vtk.vtkPNGReader()\n",
      "reader.SetFileName('grid.png')\n",
      " \n",
      "# Create texture object\n",
      "texture = vtk.vtkTexture()\n",
      "texture.SetInput(reader.GetOutput())\n",
      " \n",
      "# Map texture coordinates\n",
      "tmap = vtk.vtkTextureMapToPlane()\n",
      "tmap.SetInput(mesh)\n",
      "#tmap.PreventSeamOn()\n",
      " \n",
      "# Create mapper and set the mapped texture as input\n",
      "tmapper = vtk.vtkPolyDataMapper()\n",
      "tmapper.SetInput(tmap.GetOutput())\n",
      "pl_actor = vtk.vtkActor()\n",
      "pl_actor.SetMapper(tmapper)\n",
      "pl_actor.SetScale(900,900,900)\n",
      "pl_actor.SetPosition(46,100,0)\n",
      "pl_actor.SetTexture(texture)\n",
      "obj = pl_actor.GetProperty()\n",
      "obj.LightingOff()"
     ],
     "language": "python",
     "metadata": {},
     "outputs": [],
     "prompt_number": 594
    },
    {
     "cell_type": "heading",
     "level": 5,
     "metadata": {},
     "source": [
      "Cutter s11-s12"
     ]
    },
    {
     "cell_type": "code",
     "collapsed": false,
     "input": [
      "plcut1 = vtk.vtkPlane()\n",
      "plcut1.SetOrigin(0,0,0)\n",
      "plcut1.SetNormal(0,1,0)\n",
      "\n",
      "#create cutter\n",
      "cutter1=vtk.vtkCutter()\n",
      "cutter1.SetCutFunction(plcut1)\n",
      "cutter1.SetInputConnection(Reader.GetOutputPort())\n",
      "cutter1.Update()\n",
      "cutterMapper1=vtk.vtkPolyDataMapper()\n",
      "cutterMapper1.SetInputConnection( cutter1.GetOutputPort())\n",
      "cutterMapper1.SetColorModeToDefault()\n",
      " \n",
      "#create plane actor\n",
      "planeActor1=vtk.vtkActor()\n",
      "planeActor1.SetMapper(cutterMapper1)\n",
      "planeActor1.GetProperty().SetColor(0,1,0)\n",
      "planeActor1.GetProperty().SetLineWidth(2)"
     ],
     "language": "python",
     "metadata": {},
     "outputs": [],
     "prompt_number": 595
    },
    {
     "cell_type": "heading",
     "level": 5,
     "metadata": {},
     "source": [
      "Cutter s22-s12"
     ]
    },
    {
     "cell_type": "code",
     "collapsed": false,
     "input": [
      "plcut = vtk.vtkPlane()\n",
      "plcut.SetOrigin(0,0,0)\n",
      "plcut.SetNormal(1,0,0)\n",
      "\n",
      "#create cutter\n",
      "cutter=vtk.vtkCutter()\n",
      "cutter.SetCutFunction(plcut)\n",
      "cutter.SetInputConnection(Reader.GetOutputPort())\n",
      "cutter.Update()\n",
      "cutterMapper=vtk.vtkPolyDataMapper()\n",
      "cutterMapper.SetInputConnection( cutter.GetOutputPort())\n",
      " \n",
      "#create plane actor\n",
      "planeActor=vtk.vtkActor()\n",
      "planeActor.GetProperty().SetColor(1.0,1,0)\n",
      "planeActor.GetProperty().SetLineWidth(2)\n",
      "planeActor.SetMapper(cutterMapper)"
     ],
     "language": "python",
     "metadata": {},
     "outputs": [],
     "prompt_number": 596
    },
    {
     "cell_type": "heading",
     "level": 5,
     "metadata": {},
     "source": [
      "Cutter s11-s22"
     ]
    },
    {
     "cell_type": "code",
     "collapsed": false,
     "input": [
      "plcut3 = vtk.vtkPlane()\n",
      "plcut3.SetOrigin(0,0,0)\n",
      "plcut3.SetNormal(0,0,1)\n",
      "\n",
      "#create cutter\n",
      "cutter3=vtk.vtkCutter()\n",
      "cutter3.SetCutFunction(plcut3)\n",
      "cutter3.SetInputConnection(Reader.GetOutputPort())\n",
      "cutter3.Update()\n",
      "cutterMapper3=vtk.vtkPolyDataMapper()\n",
      "cutterMapper3.SetInputConnection( cutter3.GetOutputPort())\n",
      " \n",
      "#create plane actor\n",
      "planeActor3=vtk.vtkActor()\n",
      "planeActor3.GetProperty().SetColor(0,1,1)\n",
      "planeActor3.GetProperty().SetLineWidth(2)\n",
      "planeActor3.SetMapper(cutterMapper3)"
     ],
     "language": "python",
     "metadata": {},
     "outputs": [],
     "prompt_number": 597
    },
    {
     "cell_type": "code",
     "collapsed": false,
     "input": [
      "# Visualize\n",
      "renderer = vtk.vtkRenderer()\n",
      "renderWindow = vtk.vtkRenderWindow()\n",
      "renderWindow.SetSize(500,500)\n",
      "renderWindow.AddRenderer(renderer)\n",
      "# create a renderwindowinteractor\n",
      "renderWindowInteractor = vtk.vtkRenderWindowInteractor()\n",
      "renderWindowInteractor.SetRenderWindow(renderWindow)\n",
      " \n",
      "style = vtk.vtkInteractorStyleTrackballCamera()\n",
      "renderWindowInteractor.SetInteractorStyle(style)\n",
      "\n",
      "renderer.SetBackground2(0.95,0.95,0.95)\n",
      "renderer.LightFollowCameraOn()\n",
      "renderer.SetBackground(0.5,0.5,0.5)\n",
      "renderer.GradientBackgroundOn()\n",
      "\n",
      "renderer.AddActor(actor)\n",
      "renderer.AddActor(axes)\n",
      "renderer.AddActor(pl_actor)\n",
      "renderer.AddActor(pl_actor1)\n",
      "renderer.AddActor(planeActor)\n",
      "renderer.AddActor(planeActor1)\n",
      "renderer.AddActor(planeActor3)"
     ],
     "language": "python",
     "metadata": {},
     "outputs": [],
     "prompt_number": 598
    },
    {
     "cell_type": "code",
     "collapsed": false,
     "input": [
      "renderWindow.Render()\n",
      "renderWindowInteractor.Start()\n",
      "\n",
      "if 0:\n",
      "    # save screenshot\n",
      "    w2if = vtk.vtkWindowToImageFilter()\n",
      "    w2if.SetInput(renderWindow)\n",
      "    w2if.Update()\n",
      "     \n",
      "    writer = vtk.vtkPNGWriter()\n",
      "    writer.SetFileName(\"Failsurf1.png\")\n",
      "    writer.SetInput(w2if.GetOutput())\n",
      "    writer.Write()\n",
      "else:\n",
      "    # delete Window after close\n",
      "    renderWindow = None\n",
      "    renderWindowInteractor = None\n",
      "    renderer = None"
     ],
     "language": "python",
     "metadata": {},
     "outputs": [],
     "prompt_number": 599
    },
    {
     "cell_type": "code",
     "collapsed": false,
     "input": [
      "def close_window(iren):\n",
      "    render_window = iren.GetRenderWindow()\n",
      "    render_window.Finalize()\n",
      "    iren.TerminateApp()\n",
      "\n",
      "close_window(renderWindowInteractor)\n",
      "del renderWindow, renderWindowInteractor, renderer, writer"
     ],
     "language": "python",
     "metadata": {},
     "outputs": [
      {
       "ename": "AttributeError",
       "evalue": "'NoneType' object has no attribute 'GetRenderWindow'",
       "output_type": "pyerr",
       "traceback": [
        "\u001b[1;31m---------------------------------------------------------------------------\u001b[0m\n\u001b[1;31mAttributeError\u001b[0m                            Traceback (most recent call last)",
        "\u001b[1;32m<ipython-input-600-e7e5419b8cdb>\u001b[0m in \u001b[0;36m<module>\u001b[1;34m()\u001b[0m\n\u001b[0;32m      4\u001b[0m     \u001b[0miren\u001b[0m\u001b[1;33m.\u001b[0m\u001b[0mTerminateApp\u001b[0m\u001b[1;33m(\u001b[0m\u001b[1;33m)\u001b[0m\u001b[1;33m\u001b[0m\u001b[0m\n\u001b[0;32m      5\u001b[0m \u001b[1;33m\u001b[0m\u001b[0m\n\u001b[1;32m----> 6\u001b[1;33m \u001b[0mclose_window\u001b[0m\u001b[1;33m(\u001b[0m\u001b[0mrenderWindowInteractor\u001b[0m\u001b[1;33m)\u001b[0m\u001b[1;33m\u001b[0m\u001b[0m\n\u001b[0m\u001b[0;32m      7\u001b[0m \u001b[1;32mdel\u001b[0m \u001b[0mrenderWindow\u001b[0m\u001b[1;33m,\u001b[0m \u001b[0mrenderWindowInteractor\u001b[0m\u001b[1;33m,\u001b[0m \u001b[0mrenderer\u001b[0m\u001b[1;33m,\u001b[0m \u001b[0mwriter\u001b[0m\u001b[1;33m\u001b[0m\u001b[0m\n",
        "\u001b[1;32m<ipython-input-600-e7e5419b8cdb>\u001b[0m in \u001b[0;36mclose_window\u001b[1;34m(iren)\u001b[0m\n\u001b[0;32m      1\u001b[0m \u001b[1;32mdef\u001b[0m \u001b[0mclose_window\u001b[0m\u001b[1;33m(\u001b[0m\u001b[0miren\u001b[0m\u001b[1;33m)\u001b[0m\u001b[1;33m:\u001b[0m\u001b[1;33m\u001b[0m\u001b[0m\n\u001b[1;32m----> 2\u001b[1;33m     \u001b[0mrender_window\u001b[0m \u001b[1;33m=\u001b[0m \u001b[0miren\u001b[0m\u001b[1;33m.\u001b[0m\u001b[0mGetRenderWindow\u001b[0m\u001b[1;33m(\u001b[0m\u001b[1;33m)\u001b[0m\u001b[1;33m\u001b[0m\u001b[0m\n\u001b[0m\u001b[0;32m      3\u001b[0m     \u001b[0mrender_window\u001b[0m\u001b[1;33m.\u001b[0m\u001b[0mFinalize\u001b[0m\u001b[1;33m(\u001b[0m\u001b[1;33m)\u001b[0m\u001b[1;33m\u001b[0m\u001b[0m\n\u001b[0;32m      4\u001b[0m     \u001b[0miren\u001b[0m\u001b[1;33m.\u001b[0m\u001b[0mTerminateApp\u001b[0m\u001b[1;33m(\u001b[0m\u001b[1;33m)\u001b[0m\u001b[1;33m\u001b[0m\u001b[0m\n\u001b[0;32m      5\u001b[0m \u001b[1;33m\u001b[0m\u001b[0m\n",
        "\u001b[1;31mAttributeError\u001b[0m: 'NoneType' object has no attribute 'GetRenderWindow'"
       ]
      }
     ],
     "prompt_number": 600
    },
    {
     "cell_type": "code",
     "collapsed": false,
     "input": [
      "Image(filename=\"Failsurf1.png\")"
     ],
     "language": "python",
     "metadata": {},
     "outputs": []
    },
    {
     "cell_type": "code",
     "collapsed": false,
     "input": [
      "#!paraview tsaiwu_layers.vtk"
     ],
     "language": "python",
     "metadata": {},
     "outputs": []
    },
    {
     "cell_type": "code",
     "collapsed": false,
     "input": [],
     "language": "python",
     "metadata": {},
     "outputs": []
    }
   ],
   "metadata": {}
  }
 ]
}