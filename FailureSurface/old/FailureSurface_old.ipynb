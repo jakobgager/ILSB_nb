{
 "metadata": {
  "name": "FailureSurface"
 },
 "nbformat": 3,
 "nbformat_minor": 0,
 "worksheets": [
  {
   "cells": [
    {
     "cell_type": "heading",
     "level": 1,
     "metadata": {},
     "source": [
      "Laminate failure surface creator"
     ]
    },
    {
     "cell_type": "heading",
     "level": 1,
     "metadata": {},
     "source": [
      "Python prerequisites"
     ]
    },
    {
     "cell_type": "code",
     "collapsed": false,
     "input": [
      "%pylab inline\n",
      "%load_ext sympy.interactive.ipythonprinting"
     ],
     "language": "python",
     "metadata": {},
     "outputs": [
      {
       "output_type": "stream",
       "stream": "stdout",
       "text": [
        "\n",
        "Welcome to pylab, a matplotlib-based Python environment [backend: module://IPython.zmq.pylab.backend_inline].\n",
        "For more information, type 'help(pylab)'.\n"
       ]
      }
     ],
     "prompt_number": 112
    },
    {
     "cell_type": "code",
     "collapsed": false,
     "input": [
      "import numpy as np\n",
      "import sympy as sp\n",
      "from IPython.core.display import Math"
     ],
     "language": "python",
     "metadata": {},
     "outputs": [],
     "prompt_number": 113
    },
    {
     "cell_type": "heading",
     "level": 3,
     "metadata": {},
     "source": [
      "Display functions"
     ]
    },
    {
     "cell_type": "code",
     "collapsed": false,
     "input": [
      "def dispeq(a,b):\n",
      "    display(Math('{0}={1}'.format(sp.latex(a),sp.latex(b))))"
     ],
     "language": "python",
     "metadata": {},
     "outputs": [],
     "prompt_number": 114
    },
    {
     "cell_type": "heading",
     "level": 3,
     "metadata": {},
     "source": [
      "Rotation matrix"
     ]
    },
    {
     "cell_type": "code",
     "collapsed": false,
     "input": [
      "Rs, Rbs, phi = sp.symbols(r'\\mathsf{R} \\bar{\\mathsf{R}} phi') "
     ],
     "language": "python",
     "metadata": {},
     "outputs": [],
     "prompt_number": 115
    },
    {
     "cell_type": "code",
     "collapsed": false,
     "input": [
      "s = sp.sin(phi)\n",
      "c = sp.cos(phi)\n",
      "R = sp.Matrix([[c**2,s**2,2*s*c],\n",
      "                [s**2,c**2,-2*s*c],\n",
      "                [-s*c,s*c,(c**2-s**2)]])\n",
      "dispeq(Rs,R)"
     ],
     "language": "python",
     "metadata": {},
     "outputs": [
      {
       "latex": [
        "$$\\mathsf{R}=\\left[\\begin{smallmatrix}\\cos^{2}{\\left (\\phi \\right )} & \\sin^{2}{\\left (\\phi \\right )} & 2 \\sin{\\left (\\phi \\right )} \\cos{\\left (\\phi \\right )}\\\\\\sin^{2}{\\left (\\phi \\right )} & \\cos^{2}{\\left (\\phi \\right )} & - 2 \\sin{\\left (\\phi \\right )} \\cos{\\left (\\phi \\right )}\\\\- \\sin{\\left (\\phi \\right )} \\cos{\\left (\\phi \\right )} & \\sin{\\left (\\phi \\right )} \\cos{\\left (\\phi \\right )} & - \\sin^{2}{\\left (\\phi \\right )} + \\cos^{2}{\\left (\\phi \\right )}\\end{smallmatrix}\\right]$$"
       ],
       "output_type": "display_data",
       "text": [
        "<IPython.core.display.Math object at 0x5f8d3d0>"
       ]
      }
     ],
     "prompt_number": 116
    },
    {
     "cell_type": "code",
     "collapsed": false,
     "input": [
      "Rb = sp.Matrix([[c**2,s**2,s*c],\n",
      "                [s**2,c**2,-s*c],\n",
      "                [-2*s*c,2*s*c,(c**2-s**2)]])\n",
      "dispeq(Rbs,Rb)"
     ],
     "language": "python",
     "metadata": {},
     "outputs": [
      {
       "latex": [
        "$$\\bar{\\mathsf{R}}=\\left[\\begin{smallmatrix}\\cos^{2}{\\left (\\phi \\right )} & \\sin^{2}{\\left (\\phi \\right )} & \\sin{\\left (\\phi \\right )} \\cos{\\left (\\phi \\right )}\\\\\\sin^{2}{\\left (\\phi \\right )} & \\cos^{2}{\\left (\\phi \\right )} & - \\sin{\\left (\\phi \\right )} \\cos{\\left (\\phi \\right )}\\\\- 2 \\sin{\\left (\\phi \\right )} \\cos{\\left (\\phi \\right )} & 2 \\sin{\\left (\\phi \\right )} \\cos{\\left (\\phi \\right )} & - \\sin^{2}{\\left (\\phi \\right )} + \\cos^{2}{\\left (\\phi \\right )}\\end{smallmatrix}\\right]$$"
       ],
       "output_type": "display_data",
       "text": [
        "<IPython.core.display.Math object at 0x5f8d790>"
       ]
      }
     ],
     "prompt_number": 117
    },
    {
     "cell_type": "heading",
     "level": 3,
     "metadata": {},
     "source": [
      "VTK-Write Routine"
     ]
    },
    {
     "cell_type": "code",
     "collapsed": false,
     "input": [
      "def writevtk(filename,nodes, translist, nr_sets, nr_levels, sym_idx=0, data=[]):\n",
      "    nonr=len(nodes)\n",
      "    elnr=len(translist)\n",
      "    f=open(filename,'w')\n",
      "    f.writelines('# vtk DataFile Version 3.0\\n')\n",
      "    f.write('{0} {1} {2} {3} {4}\\nASCII\\nDATASET POLYDATA\\n'.format(nonr/nr_sets, elnr/nr_sets, nr_sets, nr_levels, sym_idx))\n",
      "    f.write('POINTS %d float\\n'%nonr)\n",
      "    for i in range(nonr):\n",
      "        f.write('%f %f %f\\n'%tuple(nodes[i]))\n",
      "    f.write('POLYGONS %d %d\\n'%(elnr,elnr*4))\n",
      "    for n in range(elnr):\n",
      "        f.write('3 %d %d %d \\n'%tuple(translist[n]))\n",
      "    # write data tags\n",
      "    if len(data) > 0:\n",
      "        f.write('POINT_DATA {0}\\n'.format(nonr))\n",
      "        for dset in data:\n",
      "            f.write('SCALARS {0} int\\nLOOKUP_TABLE default\\n'.format(dset[0]))\n",
      "            for i in dset[1]:\n",
      "                f.write('{0}\\n'.format(i))\n",
      "            \n",
      "    f.close()"
     ],
     "language": "python",
     "metadata": {},
     "outputs": [],
     "prompt_number": 118
    },
    {
     "cell_type": "heading",
     "level": 3,
     "metadata": {},
     "source": [
      "VTK Reader"
     ]
    },
    {
     "cell_type": "code",
     "collapsed": false,
     "input": [
      "celltype = 'CELLS'  #'POLYGONS'\n",
      "\n",
      "def readvtk(filename, points=[], cells=[], celltype='POLYGONS'):\n",
      "    offset = len(points)\n",
      "    with open(filename) as fil:\n",
      "\n",
      "        lin = 1\n",
      "        while lin:\n",
      "            lin = fil.readline()\n",
      "            if lin.startswith('POINTS'):\n",
      "                numpt = int(lin.split()[1])\n",
      "                for i in range(numpt):\n",
      "                    points.append(np.array(fil.readline().split(),dtype=float))\n",
      "            if lin.startswith(celltype):\n",
      "                numcells = int(lin.split()[1])\n",
      "                for i in range(numcells):\n",
      "                    cells.append(np.array(fil.readline().split()[1:],dtype=int)+offset)\n",
      "\n",
      "    return points, cells"
     ],
     "language": "python",
     "metadata": {},
     "outputs": [],
     "prompt_number": 119
    },
    {
     "cell_type": "heading",
     "level": 1,
     "metadata": {},
     "source": [
      "Failure criteria"
     ]
    },
    {
     "cell_type": "heading",
     "level": 2,
     "metadata": {},
     "source": [
      "Symbols"
     ]
    },
    {
     "cell_type": "code",
     "collapsed": false,
     "input": [
      "# symbols\n",
      "E1, E2 = sp.symbols('E1 E2')\n",
      "G12, G13, G23 = sp.symbols('G12 G13 G23')\n",
      "nu12, nu13, nu23 = sp.symbols('nu12 nu13 nu23')\n",
      "Elsf = sp.symbols(r'\\mathsf{E}^{\\mathrm{loc}}')\n",
      "Elbf = sp.symbols(r'\\bf{E}^{\\mathrm{loc}}')\n",
      "Els = sp.symbols(r'^{i}\\!\\Bbb{E}^{\\mathrm{loc}}')\n",
      "Cls = sp.symbols(r'^{i}\\!\\Bbb{C}^{\\mathrm{loc}}')\n",
      "Ers = sp.symbols(r'^{i}\\!\\Bbb{E}')\n",
      "# Input stress\n",
      "s11, s22, s12 = sp.symbols('S_{11} S_{22} S_{12}')\n",
      "# Strength quantities\n",
      "Rlt, Rlc, Rqt, Rqc, Rql, Sl, St = sp.symbols('R_{lt},R_{lc},R_{qt},R_{qc}, R_{ql}, S_l, S_t')\n",
      "# Tsai-Wu factor\n",
      "F12s = sp.symbols('F_{12}^*')\n",
      "\n",
      "# for tests\n",
      "strengths={Rlt:2100, Rlc:1407, Rqt:82, Rqc:249, Rql:60, F12s:0}"
     ],
     "language": "python",
     "metadata": {},
     "outputs": [],
     "prompt_number": 120
    },
    {
     "cell_type": "heading",
     "level": 2,
     "metadata": {},
     "source": [
      "Max. Stress criterion"
     ]
    },
    {
     "cell_type": "code",
     "collapsed": false,
     "input": [
      "class Max_Stress():\n",
      "    \"\"\"simple local maximum stress criterion\"\"\"\n",
      "    def __init__(self, material, fibonly=False):\n",
      "        if fibonly:\n",
      "            self.F = sp.Max(s11/Rlt,-s11/Rlc,sp.Abs(s12/Rql))\n",
      "        else:\n",
      "            self.F = sp.Max(s11/Rlt,-s11/Rlc,s22/Rqt,-s22/Rqc,sp.Abs(s12/Rql))\n",
      "        self.fac = self.F.subs(material)\n",
      "    def _repr_latex_(self):\n",
      "        return '$$F='+sp.latex(self.F)+'$$'\n",
      "    def safety(self, stress):\n",
      "        return 1/self.fac.subs(stress)"
     ],
     "language": "python",
     "metadata": {},
     "outputs": [],
     "prompt_number": 121
    },
    {
     "cell_type": "code",
     "collapsed": false,
     "input": [
      "a=Max_Stress(strengths, False)\n",
      "display(a)\n",
      "a.safety({s11:1,s22:0,s12:0})"
     ],
     "language": "python",
     "metadata": {},
     "outputs": [
      {
       "latex": [
        "$$F=\\max\\left(- \\frac{S_{{11}}}{R_{{lc}}}, \\frac{S_{{11}}}{R_{{lt}}}, - \\frac{S_{{22}}}{R_{{qc}}}, \\frac{S_{{22}}}{R_{{qt}}}, \\lvert{\\frac{S_{{12}}}{R_{{ql}}}}\\rvert\\right)$$"
       ],
       "output_type": "display_data",
       "text": [
        "<__main__.Max_Stress instance at 0x5690128>"
       ]
      },
      {
       "latex": [
        "$$2100$$"
       ],
       "output_type": "pyout",
       "png": "[encoded data removed]",
       "prompt_number": 122,
       "text": [
        "2100"
       ]
      }
     ],
     "prompt_number": 122
    },
    {
     "cell_type": "heading",
     "level": 2,
     "metadata": {},
     "source": [
      "Tsai-Wu Failure surface"
     ]
    },
    {
     "cell_type": "code",
     "collapsed": false,
     "input": [
      "class Tsai_Wu():\n",
      "    \"\"\"Tsai-Wu Failure surface\n",
      "    \"\"\"\n",
      "    # Tsai-Wu (taken from http://de.wikipedia.org/wiki/Tsai-Wu-Kriterium)\n",
      "    # Here, the compressive strengths are to be inserted as positive values\n",
      "    #####\n",
      "    def __init__(self, material):\n",
      "        a11, a22, f = sp.symbols('a11 a22 f')\n",
      "        b1111, b2222, b1122, b1212 = sp.symbols('b1111 b2222 b1122 b1212')\n",
      "    #\n",
      "        a11 = 1/Rlt - 1/Rlc\n",
      "        a22 = 1/Rqt - 1/Rqc\n",
      "        b1111 = 1/(Rlt*Rlc)\n",
      "        b2222 = 1/(Rqt*Rqc)\n",
      "        b1212 = 1/(4*Rql**2)\n",
      "        b1122 = F12s/sp.sqrt(Rlt*Rlc*Rqt*Rqc)\n",
      "\n",
      "        self.F = a11*s11*f + a22*s22*f + b1111*(s11*f)**2 + b2222*(s22*f)**2 + 2*b1122*s11*s22*f**2 + 4*b1212*(s12*f)**2\n",
      "        self.fac = sp.solve(self.F.subs(material)-1,f)\n",
      "        \n",
      "    def _repr_latex_(self):\n",
      "        return '$$F='+sp.latex(self.F.subs({f:1}))+'$$'\n",
      "    \n",
      "    def safety(self,stress,both=False):\n",
      "        f1 = self.fac[0].evalf(4,subs=stress)\n",
      "        if both:\n",
      "            return f1, self.fac[1].evalf(4,subs=stress)\n",
      "        if f1 > 0: \n",
      "            return f1\n",
      "        else:\n",
      "            return self.fac[1].evalf(4,subs=stress)\n",
      "        "
     ],
     "language": "python",
     "metadata": {},
     "outputs": [],
     "prompt_number": 123
    },
    {
     "cell_type": "code",
     "collapsed": false,
     "input": [
      "ts = Tsai_Wu(strengths)\n",
      "display(ts)\n",
      "ts.safety({s11:1,s22:0,s12:0})"
     ],
     "language": "python",
     "metadata": {},
     "outputs": [
      {
       "output_type": "display_data",
       "text": [
        "<__main__.Tsai_Wu instance at 0x5690f80>"
       ]
      },
      {
       "latex": [
        "$$2100.0$$"
       ],
       "output_type": "pyout",
       "png": "[encoded data removed]",
       "prompt_number": 124,
       "text": [
        "2100."
       ]
      }
     ],
     "prompt_number": 124
    },
    {
     "cell_type": "heading",
     "level": 2,
     "metadata": {},
     "source": [
      "Hashin Failure Surface"
     ]
    },
    {
     "cell_type": "code",
     "collapsed": false,
     "input": [
      "alpha, f = sp.symbols('alpha f')\n",
      "class Hashin():\n",
      "    \"\"\"Hashin Failure surface\n",
      "    \"\"\"\n",
      "    # Hashin (taken from Abaqus Manual)\n",
      "    # Here, again all strength values are to be suppied positive\n",
      "    #####\n",
      "    def __init__(self, material):\n",
      "        \n",
      "        alpha, f = sp.symbols('alpha f')\n",
      "        # Input stress\n",
      "        s11, s22, s12 = sp.symbols('S_{11} S_{22} S_{12}')\n",
      "        # Strength quantities\n",
      "        Rlt, Rlc, Rqt, Rqc, Rql, Sl, St = sp.symbols('R_{lt},R_{lc},R_{qt},R_{qc}, R_{ql}, S_l, S_t')\n",
      "        \n",
      "        alphav = 0\n",
      "\n",
      "        self.Fft = (s11*f/Rlt)**2 + alpha*(s12*f/Sl)**2\n",
      "        self.Ffc = (s11*f/Rlc)**2\n",
      "        self.Fmt = (s22*f/Rqt)**2 + (s12*f/Sl)**2\n",
      "        self.Fmc = (s22*f/(2*St))**2 + ((Rqc/(2*St))**2-1)*(s22*f/Rqc) + (s12*f/Sl)**2\n",
      "        \n",
      "        self.facft = sp.solve(self.Fft.subs({Sl:Rql,St:Rql,alpha:alphav}).subs(material)-1,f)\n",
      "        self.facfc = sp.solve(self.Ffc.subs({Sl:Rql,St:Rql,alpha:alphav}).subs(material)-1,f)\n",
      "        self.facmt = sp.solve(self.Fmt.subs({Sl:Rql,St:Rql,alpha:alphav}).subs(material)-1,f)\n",
      "        self.facmc = sp.solve(self.Fmc.subs({Sl:Rql,St:Rql,alpha:alphav}).subs(material)-1,f)\n",
      "        \n",
      "    def _repr_latex_(self):\n",
      "        disp = r'$$F_\\mathrm{f}^\\mathrm{t}='+sp.latex(self.Fft.subs({f:1}))+'$$\\n'\n",
      "        disp += r'$$F_\\mathrm{f}^\\mathrm{c}='+sp.latex(self.Ffc.subs({f:1}))+'$$\\n'\n",
      "        disp += r'$$F_\\mathrm{m}^\\mathrm{t}='+sp.latex(self.Fmt.subs({f:1}))+'$$\\n'\n",
      "        disp += r'$$F_\\mathrm{m}^\\mathrm{c}='+sp.latex(self.Fmc.subs({f:1}))+'$$'\n",
      "        \n",
      "        return disp\n",
      "    \n",
      "    def safety(self,stress,both=False):\n",
      "        if both:\n",
      "            display([i.evalf(4,subs=stress) for i in self.facft])\n",
      "            display([i.evalf(4,subs=stress) for i in self.facfc])\n",
      "            display([i.evalf(4,subs=stress) for i in self.facmt])\n",
      "            display([i.evalf(4,subs=stress) for i in self.facmc])\n",
      "        \n",
      "        if stress[s11]>0:\n",
      "            facf = max([i.evalf(4,subs=stress) for i in self.facft])\n",
      "        else:\n",
      "            facf = max([i.evalf(4,subs=stress) for i in self.facfc])\n",
      "        if stress[s22]>0:\n",
      "            facm = max([i.evalf(4,subs=stress) for i in self.facmt])\n",
      "        else:\n",
      "            facm = max([i.evalf(4,subs=stress) for i in self.facmc])\n",
      "        if facf == 0: return facm\n",
      "        elif facm == 0: return facf\n",
      "        else: return min(facm,facf)"
     ],
     "language": "python",
     "metadata": {},
     "outputs": [],
     "prompt_number": 125
    },
    {
     "cell_type": "code",
     "collapsed": false,
     "input": [
      "b=Hashin(strengths)\n",
      "display(b)"
     ],
     "language": "python",
     "metadata": {},
     "outputs": [
      {
       "latex": [
        "$$F_\\mathrm{f}^\\mathrm{t}=\\frac{S_{{12}}^{2} \\alpha}{S_{l}^{2}} + \\frac{S_{{11}}^{2}}{R_{{lt}}^{2}}$$\n",
        "$$F_\\mathrm{f}^\\mathrm{c}=\\frac{S_{{11}}^{2}}{R_{{lc}}^{2}}$$\n",
        "$$F_\\mathrm{m}^\\mathrm{t}=\\frac{S_{{12}}^{2}}{S_{l}^{2}} + \\frac{S_{{22}}^{2}}{R_{{qt}}^{2}}$$\n",
        "$$F_\\mathrm{m}^\\mathrm{c}=\\frac{S_{{22}}^{2}}{4 S_{t}^{2}} + \\frac{S_{{12}}^{2}}{S_{l}^{2}} + \\frac{S_{{22}} \\left(\\frac{R_{{qc}}^{2}}{4 S_{t}^{2}} -1\\right)}{R_{{qc}}}$$"
       ],
       "output_type": "display_data",
       "text": [
        "<__main__.Hashin instance at 0x5acb290>"
       ]
      }
     ],
     "prompt_number": 126
    },
    {
     "cell_type": "code",
     "collapsed": false,
     "input": [
      "b.safety({s11:-1,s22:0,s12:0}, True)"
     ],
     "language": "python",
     "metadata": {},
     "outputs": [
      {
       "latex": [
        "$$\\begin{bmatrix}2100.0, & -2100.0\\end{bmatrix}$$"
       ],
       "output_type": "display_data",
       "text": [
        "[2100.0, -2100.0]"
       ]
      },
      {
       "latex": [
        "$$\\begin{bmatrix}1407.0, & -1407.0\\end{bmatrix}$$"
       ],
       "output_type": "display_data",
       "text": [
        "[1407.0, -1407.0]"
       ]
      },
      {
       "latex": [
        "$$\\begin{bmatrix}0, & 0\\end{bmatrix}$$"
       ],
       "output_type": "display_data",
       "text": [
        "[0, 0]"
       ]
      },
      {
       "latex": [
        "$$\\begin{bmatrix}0, & 0\\end{bmatrix}$$"
       ],
       "output_type": "display_data",
       "text": [
        "[0, 0]"
       ]
      },
      {
       "latex": [
        "$$1407.0$$"
       ],
       "output_type": "pyout",
       "png": "[encoded data removed]",
       "prompt_number": 127,
       "text": [
        "1407."
       ]
      }
     ],
     "prompt_number": 127
    },
    {
     "cell_type": "heading",
     "level": 1,
     "metadata": {},
     "source": [
      "Lamination theory"
     ]
    },
    {
     "cell_type": "heading",
     "level": 3,
     "metadata": {},
     "source": [
      "Local elasticity matrix"
     ]
    },
    {
     "cell_type": "code",
     "collapsed": false,
     "input": [
      "E1, E2, G12, G13, G23, nu12, nu13, nu23, Els, Elsf, Elbf, Cls, Ers"
     ],
     "language": "python",
     "metadata": {},
     "outputs": [
      {
       "latex": [
        "$$\\begin{pmatrix}E_{1}, & E_{2}, & G_{12}, & G_{13}, & G_{23}, & \\nu_{12}, & \\nu_{13}, & \\nu_{23}, & ^{i}\\!\\Bbb{E}^{{\\mathrm{loc}}}, & \\mathsf{E}^{{\\mathrm{loc}}}, & \\bf{E}^{{\\mathrm{loc}}}, & ^{i}\\!\\Bbb{C}^{{\\mathrm{loc}}}, & ^{i}\\!\\Bbb{E}\\end{pmatrix}$$"
       ],
       "output_type": "pyout",
       "prompt_number": 128,
       "text": [
        "(E\u2081, E\u2082, G\u2081\u2082, G\u2081\u2083, G\u2082\u2083, \u03bd\u2081\u2082, \u03bd\u2081\u2083, \u03bd\u2082\u2083, ^{i}\\!\\Bbb{E}^{\\mathrm{loc}}, \\mathsf{E\n",
        "}^{\\mathrm{loc}}, \\bf{E}^{\\mathrm{loc}}, ^{i}\\!\\Bbb{C}^{\\mathrm{loc}}, ^{i}\\!\\\n",
        "Bbb{E})"
       ]
      }
     ],
     "prompt_number": 128
    },
    {
     "cell_type": "markdown",
     "metadata": {},
     "source": [
      "Symmetry conditions"
     ]
    },
    {
     "cell_type": "code",
     "collapsed": false,
     "input": [
      "nu21 = nu12/E1 * E2"
     ],
     "language": "python",
     "metadata": {},
     "outputs": [],
     "prompt_number": 129
    },
    {
     "cell_type": "markdown",
     "metadata": {},
     "source": [
      "Compliance matrix"
     ]
    },
    {
     "cell_type": "code",
     "collapsed": false,
     "input": [
      "Cl = sp.Matrix([[1/E1, -nu21/E2, 0],[-nu12/E1, 1/E2, 0],[0, 0, 1/G12]])\n",
      "dispeq(Cls,Cl)"
     ],
     "language": "python",
     "metadata": {},
     "outputs": [
      {
       "latex": [
        "$$^{i}\\!\\Bbb{C}^{{\\mathrm{loc}}}=\\left[\\begin{smallmatrix}\\frac{1}{E_{1}} & - \\frac{\\nu_{12}}{E_{1}} & 0\\\\- \\frac{\\nu_{12}}{E_{1}} & \\frac{1}{E_{2}} & 0\\\\0 & 0 & \\frac{1}{G_{12}}\\end{smallmatrix}\\right]$$"
       ],
       "output_type": "display_data",
       "text": [
        "<IPython.core.display.Math object at 0x522f850>"
       ]
      }
     ],
     "prompt_number": 130
    },
    {
     "cell_type": "markdown",
     "metadata": {},
     "source": [
      "Elasticity matrix"
     ]
    },
    {
     "cell_type": "code",
     "collapsed": false,
     "input": [
      "El = Cl.inv()\n",
      "dispeq(Els,El)"
     ],
     "language": "python",
     "metadata": {},
     "outputs": [
      {
       "latex": [
        "$$^{i}\\!\\Bbb{E}^{{\\mathrm{loc}}}=\\left[\\begin{smallmatrix}E_{1} + \\frac{\\nu_{12}^{2}}{\\frac{1}{E_{2}} - \\frac{\\nu_{12}^{2}}{E_{1}}} & \\frac{\\nu_{12}}{\\frac{1}{E_{2}} - \\frac{\\nu_{12}^{2}}{E_{1}}} & 0\\\\\\frac{\\nu_{12}}{\\frac{1}{E_{2}} - \\frac{\\nu_{12}^{2}}{E_{1}}} & \\frac{1}{\\frac{1}{E_{2}} - \\frac{\\nu_{12}^{2}}{E_{1}}} & 0\\\\0 & 0 & G_{12}\\end{smallmatrix}\\right]$$"
       ],
       "output_type": "display_data",
       "text": [
        "<IPython.core.display.Math object at 0x522fc10>"
       ]
      }
     ],
     "prompt_number": 131
    },
    {
     "cell_type": "code",
     "collapsed": false,
     "input": [
      "Er = R.subs({phi:-phi})*El*Rb\n",
      "dispeq(Ers(phi),Er.subs({phi:0}))"
     ],
     "language": "python",
     "metadata": {},
     "outputs": [
      {
       "latex": [
        "$$\\operatorname{^{i}\\!\\Bbb{E}}{\\left (\\phi \\right )}=\\left[\\begin{smallmatrix}E_{1} + \\frac{\\nu_{12}^{2}}{\\frac{1}{E_{2}} - \\frac{\\nu_{12}^{2}}{E_{1}}} & \\frac{\\nu_{12}}{\\frac{1}{E_{2}} - \\frac{\\nu_{12}^{2}}{E_{1}}} & 0\\\\\\frac{\\nu_{12}}{\\frac{1}{E_{2}} - \\frac{\\nu_{12}^{2}}{E_{1}}} & \\frac{1}{\\frac{1}{E_{2}} - \\frac{\\nu_{12}^{2}}{E_{1}}} & 0\\\\0 & 0 & G_{12}\\end{smallmatrix}\\right]$$"
       ],
       "output_type": "display_data",
       "text": [
        "<IPython.core.display.Math object at 0x522f0d0>"
       ]
      }
     ],
     "prompt_number": 132
    },
    {
     "cell_type": "heading",
     "level": 2,
     "metadata": {},
     "source": [
      "$\\mathsf{ABD-}$Matrix"
     ]
    },
    {
     "cell_type": "markdown",
     "metadata": {},
     "source": [
      "The individual sub-matrices $\\mathsf{A}$ (extensional), $\\mathsf{B}$ (coupling), and $\\mathsf{D}$ (bending) are computed as followed\n",
      "$$\\mathsf{A}=\\sum_{i=1}^N {}^i\\Bbb{E}\\cdot(z_i-z_{i-1})$$\n",
      "$$\\mathsf{B}=-\\sum_{i=1}^N {}^i\\Bbb{E}\\cdot\\frac{z_i^2-z_{i-1}^2}{2}$$\n",
      "$$\\mathsf{D}=\\sum_{i=1}^N {}^i\\Bbb{E}\\cdot\\frac{z_i^3-z_{i-1}^3}{3}$$\n",
      "with $N$ being the number of layers."
     ]
    },
    {
     "cell_type": "code",
     "collapsed": false,
     "input": [
      "i, t, zi, zim1 = sp.symbols(r'i t z_i z_{i-1}')\n",
      "#Layers\n",
      "layers6 = [\n",
      "{i:1, 'data':{E1:146000, E2:9000, nu12:0.34, G12:4270, phi:0, t:0.125}},\n",
      "{i:2, 'data':{E1:146000, E2:9000, nu12:0.34, G12:4270, phi:sp.pi/3, t:0.125}},\n",
      "{i:3, 'data':{E1:146000, E2:9000, nu12:0.34, G12:4270, phi:2*sp.pi/3, t:0.125}},\n",
      "{i:4, 'data':{E1:146000, E2:9000, nu12:0.34, G12:4270, phi:2*sp.pi/3, t:0.125}},\n",
      "{i:5, 'data':{E1:146000, E2:9000, nu12:0.34, G12:4270, phi:sp.pi/3, t:0.125}},\n",
      "{i:6, 'data':{E1:146000, E2:9000, nu12:0.34, G12:4270, phi:0, t:0.125}}\n",
      "]\n",
      "\n",
      "layers1 = [\n",
      "{i:1, 'data':{E1:146000, E2:9000, nu12:0.34, G12:4270, phi:0, t:0.125}}\n",
      "          ]\n",
      "\n",
      "layers2 = [\n",
      "{i:1, 'data':{E1:146000, E2:9000, nu12:0.34, G12:4270, phi:0, t:0.125}},\n",
      "{i:2, 'data':{E1:146000, E2:9000, nu12:0.34, G12:4270, phi:sp.pi/2., t:0.125}}\n",
      "          ]\n",
      "\n",
      "layers4 = [\n",
      "{i:1, 'data':{E1:146000, E2:9000, nu12:0.34, G12:4270, phi:0., t:0.0875}},\n",
      "{i:2, 'data':{E1:146000, E2:9000, nu12:0.34, G12:4270, phi:sp.pi/2, t:0.0875}},\n",
      "{i:3, 'data':{E1:146000, E2:9000, nu12:0.34, G12:4270, phi:sp.pi/2, t:0.0875}},\n",
      "{i:4, 'data':{E1:146000, E2:9000, nu12:0.34, G12:4270, phi:0., t:0.0875}}\n",
      "]\n",
      "\n",
      "# which laminate to use?\n",
      "layers = layers1\n",
      "\n",
      "strengths={Rlt:2100, Rlc:1407, Rqt:82, Rqc:249, Rql:60, F12s:0}\n",
      "#total thickness:\n",
      "tt = 0\n",
      "for layer in layers:\n",
      "    tt += layer['data'][t]\n",
      "\n",
      "#compute layer properties\n",
      "z0 = -tt/2.\n",
      "for layer in layers:\n",
      "    layer['data'][zim1] = z0\n",
      "    layer['data'][zi] = z0 + layer['data'][t]\n",
      "    z0 += layer['data'][t]\n",
      "    #layer['failure'] = Tsai_Wu(strengths)\n",
      "    #layer['failure'] = Max_Stress(strengths)\n",
      "    layer['failure'] = Hashin(strengths)\n",
      "    layer['El'] = np.array(El.subs(layer['data'])).astype(float)\n",
      "    layer['Rb'] = np.array(Rb.subs(layer['data'])).astype(float)\n",
      "    #display(layer)\n"
     ],
     "language": "python",
     "metadata": {},
     "outputs": [],
     "prompt_number": 133
    },
    {
     "cell_type": "code",
     "collapsed": false,
     "input": [
      "As, Bs, Ds, ABDs= sp.symbols(r'\\mathsf{A} \\mathsf{B} \\mathsf{D} \\mathsf{ABD}') \n",
      "A = sp.zeros(3)\n",
      "B = sp.zeros(3)\n",
      "D = sp.zeros(3)\n",
      "dispeq(As,A)\n",
      "dispeq(Bs,B)\n",
      "dispeq(Ds,D)"
     ],
     "language": "python",
     "metadata": {},
     "outputs": [
      {
       "latex": [
        "$$\\mathsf{A}=\\left[\\begin{smallmatrix}0 & 0 & 0\\\\0 & 0 & 0\\\\0 & 0 & 0\\end{smallmatrix}\\right]$$"
       ],
       "output_type": "display_data",
       "text": [
        "<IPython.core.display.Math object at 0x71dfa10>"
       ]
      },
      {
       "latex": [
        "$$\\mathsf{B}=\\left[\\begin{smallmatrix}0 & 0 & 0\\\\0 & 0 & 0\\\\0 & 0 & 0\\end{smallmatrix}\\right]$$"
       ],
       "output_type": "display_data",
       "text": [
        "<IPython.core.display.Math object at 0x5f8f9d0>"
       ]
      },
      {
       "latex": [
        "$$\\mathsf{D}=\\left[\\begin{smallmatrix}0 & 0 & 0\\\\0 & 0 & 0\\\\0 & 0 & 0\\end{smallmatrix}\\right]$$"
       ],
       "output_type": "display_data",
       "text": [
        "<IPython.core.display.Math object at 0x71dfa10>"
       ]
      }
     ],
     "prompt_number": 134
    },
    {
     "cell_type": "code",
     "collapsed": false,
     "input": [
      "for layer in layers:\n",
      "    A += (Er*(zi-zim1)).subs(layer['data'])\n",
      "    B -= (Er*(zi**2-zim1**2)/2).subs(layer['data'])\n",
      "    D += (Er*(zi**3-zim1**3)/3).subs(layer['data'])"
     ],
     "language": "python",
     "metadata": {},
     "outputs": [],
     "prompt_number": 135
    },
    {
     "cell_type": "code",
     "collapsed": false,
     "input": [
      "dispeq(As,A.evalf(4))\n",
      "dispeq(Bs,B.evalf(4))\n",
      "dispeq(Ds,D.evalf(4))"
     ],
     "language": "python",
     "metadata": {},
     "outputs": [
      {
       "latex": [
        "$$\\mathsf{A}=\\left[\\begin{smallmatrix}1.838 \\times 10^{4} & 385.2 & 0\\\\385.2 & 1133.0 & 0\\\\0 & 0 & 533.8\\end{smallmatrix}\\right]$$"
       ],
       "output_type": "display_data",
       "text": [
        "<IPython.core.display.Math object at 0x4942e90>"
       ]
      },
      {
       "latex": [
        "$$\\mathsf{B}=\\left[\\begin{smallmatrix}0 & 0 & 0\\\\0 & 0 & 0\\\\0 & 0 & 0\\end{smallmatrix}\\right]$$"
       ],
       "output_type": "display_data",
       "text": [
        "<IPython.core.display.Math object at 0x4942510>"
       ]
      },
      {
       "latex": [
        "$$\\mathsf{D}=\\left[\\begin{smallmatrix}23.93 & 0.5016 & 0\\\\0.5016 & 1.475 & 0\\\\0 & 0 & 0.695\\end{smallmatrix}\\right]$$"
       ],
       "output_type": "display_data",
       "text": [
        "<IPython.core.display.Math object at 0x4942c10>"
       ]
      }
     ],
     "prompt_number": 136
    },
    {
     "cell_type": "code",
     "collapsed": false,
     "input": [
      "ABD = (A.col_join(B)).row_join(B.col_join(D))\n",
      "ABDn = np.array(ABD).astype(float)\n",
      "dispeq(ABDs, ABD.evalf(4))"
     ],
     "language": "python",
     "metadata": {},
     "outputs": [
      {
       "latex": [
        "$$\\mathsf{ABD}=\\left[\\begin{smallmatrix}1.838 \\times 10^{4} & 385.2 & 0 & 0 & 0 & 0\\\\385.2 & 1133.0 & 0 & 0 & 0 & 0\\\\0 & 0 & 533.8 & 0 & 0 & 0\\\\0 & 0 & 0 & 23.93 & 0.5016 & 0\\\\0 & 0 & 0 & 0.5016 & 1.475 & 0\\\\0 & 0 & 0 & 0 & 0 & 0.695\\end{smallmatrix}\\right]$$"
       ],
       "output_type": "display_data",
       "text": [
        "<IPython.core.display.Math object at 0x3d33ed0>"
       ]
      }
     ],
     "prompt_number": 137
    },
    {
     "cell_type": "heading",
     "level": 2,
     "metadata": {},
     "source": [
      "Solve Laminate Equation"
     ]
    },
    {
     "cell_type": "markdown",
     "metadata": {},
     "source": [
      "$$\\begin{pmatrix}\\tilde n \\\\\\\\ \\tilde m\\end{pmatrix} = \\begin{pmatrix}\\mathsf{A} & \\mathsf{B} \\\\\\\\ \\mathsf{B} & \\mathsf{D}\\end{pmatrix} \\begin{pmatrix}\\bar\\varepsilon \\\\\\\\ \\bar\\varphi'\\end{pmatrix}$$"
     ]
    },
    {
     "cell_type": "code",
     "collapsed": false,
     "input": [
      "n = sp.Matrix([0.5,0.3,0.2])\n",
      "m = sp.Matrix([0,0,0])"
     ],
     "language": "python",
     "metadata": {},
     "outputs": [],
     "prompt_number": 138
    },
    {
     "cell_type": "code",
     "collapsed": false,
     "input": [
      "ns,ms = sp.symbols(r\"\\tilde{n} \\tilde{m}\")\n",
      "ebs, pbs = sp.symbols(r\"\\bar{\\varepsilon} \\bar{\\varphi}'\")\n",
      "nm = sp.Matrix([n,m])\n",
      "dispeq(ns,n)\n",
      "dispeq(ms,m)"
     ],
     "language": "python",
     "metadata": {},
     "outputs": [
      {
       "latex": [
        "$$\\tilde{n}=\\left[\\begin{smallmatrix}0.5\\\\0.3\\\\0.2\\end{smallmatrix}\\right]$$"
       ],
       "output_type": "display_data",
       "text": [
        "<IPython.core.display.Math object at 0x5f8fa10>"
       ]
      },
      {
       "latex": [
        "$$\\tilde{m}=\\left[\\begin{smallmatrix}0\\\\0\\\\0\\end{smallmatrix}\\right]$$"
       ],
       "output_type": "display_data",
       "text": [
        "<IPython.core.display.Math object at 0x5f8f810>"
       ]
      }
     ],
     "prompt_number": 139
    },
    {
     "cell_type": "code",
     "collapsed": false,
     "input": [
      "epb = ABD.LUsolve(nm)\n",
      "#eb = sp.ImmutableMatrix(epb[:3])\n",
      "#pb = sp.ImmutableMatrix(epb[3:])\n",
      "eb = sp.Matrix(epb[:3])\n",
      "pb = sp.Matrix(epb[3:])"
     ],
     "language": "python",
     "metadata": {},
     "outputs": [],
     "prompt_number": 140
    },
    {
     "cell_type": "code",
     "collapsed": false,
     "input": [
      "dispeq(ebs,eb.evalf(4))\n",
      "dispeq(pbs,pb.evalf(4))"
     ],
     "language": "python",
     "metadata": {},
     "outputs": [
      {
       "latex": [
        "$$\\bar{\\varepsilon}=\\left[\\begin{smallmatrix}2.181 \\times 10^{-5}\\\\0.0002574\\\\0.0003747\\end{smallmatrix}\\right]$$"
       ],
       "output_type": "display_data",
       "text": [
        "<IPython.core.display.Math object at 0x49429d0>"
       ]
      },
      {
       "latex": [
        "$$\\bar{\\varphi}'=\\left[\\begin{smallmatrix}0\\\\0\\\\0\\end{smallmatrix}\\right]$$"
       ],
       "output_type": "display_data",
       "text": [
        "<IPython.core.display.Math object at 0x4942fd0>"
       ]
      }
     ],
     "prompt_number": 141
    },
    {
     "cell_type": "heading",
     "level": 2,
     "metadata": {},
     "source": [
      "Compute layer strains and stresses"
     ]
    },
    {
     "cell_type": "markdown",
     "metadata": {},
     "source": [
      "$$^i\\varepsilon = \\bar\\varepsilon - \\frac{z_{i-1}+z_i}{2}\\bar\\varphi'$$"
     ]
    },
    {
     "cell_type": "code",
     "collapsed": false,
     "input": [
      "eis = sp.symbols(r'^i\\varepsilon')\n",
      "eils = sp.symbols(r'^i\\varepsilon^\\mathrm{loc}')\n",
      "sls = sp.symbols(r'^i\\sigma^\\rm{loc}')\n",
      "ei = ebs-(zim1+zi)/2*pbs\n",
      "dispeq(eis,ei)"
     ],
     "language": "python",
     "metadata": {},
     "outputs": [
      {
       "latex": [
        "$$^i\\varepsilon=\\bar{\\varepsilon} - \\bar{\\varphi}' \\left(\\frac{1}{2} z_{i} + \\frac{1}{2} z_{{i-1}}\\right)$$"
       ],
       "output_type": "display_data",
       "text": [
        "<IPython.core.display.Math object at 0x5f8fdd0>"
       ]
      }
     ],
     "prompt_number": 142
    },
    {
     "cell_type": "code",
     "collapsed": false,
     "input": [
      "elg = []  #epsilon local (global cs)\n",
      "ell = []  #epsilon local (local cs)\n",
      "sll = []  #stress local (local cs)\n",
      "ts = []   #tsai wu values\n",
      "for layer in layers[:]:\n",
      "    display('Layer {0}'.format(layer[i]))\n",
      "    display('-'*30)\n",
      "    elg.append((eb-(zim1+zi)/2.*pb).subs(layer['data']))\n",
      "    dispeq(eis(layer[i]),elg[-1].evalf(5))\n",
      "    ell.append(Rb.subs(layer['data'])*elg[-1])\n",
      "    dispeq(eils(layer[i]),ell[-1].evalf(4))\n",
      "    sll.append(El.subs(layer['data'])*ell[-1])\n",
      "    dispeq(sls(layer[i]),sll[-1].evalf(5))\n",
      "    ts.append(layer['failure'].safety(dict(zip([s11,s22,s12],sll[-1]))))\n",
      "    dispeq(sp.Symbol('f'),ts[-1].evalf(4))"
     ],
     "language": "python",
     "metadata": {},
     "outputs": [
      {
       "output_type": "display_data",
       "text": [
        "Layer 1"
       ]
      },
      {
       "output_type": "display_data",
       "text": [
        "------------------------------"
       ]
      },
      {
       "latex": [
        "$$\\operatorname{^i\\varepsilon}{\\left (1 \\right )}=\\left[\\begin{smallmatrix}2.1808 \\times 10^{-5}\\\\0.00025735\\\\0.00037471\\end{smallmatrix}\\right]$$"
       ],
       "output_type": "display_data",
       "text": [
        "<IPython.core.display.Math object at 0x4942190>"
       ]
      },
      {
       "latex": [
        "$$\\operatorname{^i\\varepsilon^\\mathrm{loc}}{\\left (1 \\right )}=\\left[\\begin{smallmatrix}2.181 \\times 10^{-5}\\\\0.0002574\\\\0.0003747\\end{smallmatrix}\\right]$$"
       ],
       "output_type": "display_data",
       "text": [
        "<IPython.core.display.Math object at 0x3f937d0>"
       ]
      },
      {
       "latex": [
        "$$\\operatorname{^i\\sigma^\\rm{loc}}{\\left (1 \\right )}=\\left[\\begin{smallmatrix}4.0\\\\2.4\\\\1.6\\end{smallmatrix}\\right]$$"
       ],
       "output_type": "display_data",
       "text": [
        "<IPython.core.display.Math object at 0x6d4dc50>"
       ]
      },
      {
       "latex": [
        "$$f=34.17$$"
       ],
       "output_type": "display_data",
       "text": [
        "<IPython.core.display.Math object at 0x7206310>"
       ]
      }
     ],
     "prompt_number": 143
    },
    {
     "cell_type": "heading",
     "level": 2,
     "metadata": {},
     "source": [
      "Combine the former to a comp_safety method"
     ]
    },
    {
     "cell_type": "code",
     "collapsed": false,
     "input": [
      "# symbolic approach\n",
      "def comp_safety(stress, ABD, layers):\n",
      "    elg = []  #epsilon local (global cs)\n",
      "    ell = []  #epsilon local (local cs)\n",
      "    sll = []  #stress local (local cs)\n",
      "    ts = []\n",
      "    epb = ABD.LUsolve(stress)\n",
      "    eb = sp.ImmutableMatrix(epb[:3])\n",
      "    pb = sp.ImmutableMatrix(epb[3:])\n",
      "    for layer in layers:\n",
      "        data = layer['data']\n",
      "        elg.append((eb-(zim1+zi)/2*pb).subs(data))\n",
      "        ell.append(Rb.subs(data)*elg[-1])\n",
      "        sll.append(El.subs(data)*ell[-1])\n",
      "        ts.append(layer['failure'].safety(dict(zip([s11,s22,s12],sll[-1]))))\n",
      "    sf = min(ts)\n",
      "    #display('Safety factor:',sf)\n",
      "    return sf"
     ],
     "language": "python",
     "metadata": {},
     "outputs": [],
     "prompt_number": 144
    },
    {
     "cell_type": "code",
     "collapsed": false,
     "input": [
      "# numeric approach\n",
      "def comp_safetyN(stress, ABDn, layers):\n",
      "    elg = []  #epsilon local (global cs)\n",
      "    ell = []  #epsilon local (local cs)\n",
      "    sll = []  #stress local (local cs)\n",
      "    ts = []\n",
      "    epb = np.linalg.solve(ABDn,stress)\n",
      "    eb = epb[:3]\n",
      "    pb = epb[3:]\n",
      "    for layer in layers:\n",
      "        data = layer['data']\n",
      "        elg.append((eb-(data[zim1]+data[zi])/2.*pb))\n",
      "        ell.append(np.dot(layer['Rb'],elg[-1]))\n",
      "        sll.append(np.dot(layer['El'],ell[-1]))\n",
      "        ts.append(layer['failure'].safety(dict(zip([s11,s22,s12],sll[-1]))))\n",
      "    sf = min(ts)\n",
      "    #display('Safety factor:',sf)\n",
      "    return sf"
     ],
     "language": "python",
     "metadata": {},
     "outputs": [],
     "prompt_number": 145
    },
    {
     "cell_type": "code",
     "collapsed": false,
     "input": [],
     "language": "python",
     "metadata": {},
     "outputs": [],
     "prompt_number": 145
    },
    {
     "cell_type": "heading",
     "level": 1,
     "metadata": {},
     "source": [
      "Triangluate Sphere"
     ]
    },
    {
     "cell_type": "markdown",
     "metadata": {},
     "source": [
      "from: https://sites.google.com/site/dlampetest/python/triangulating-a-sphere-recursively"
     ]
    },
    {
     "cell_type": "code",
     "collapsed": false,
     "input": [
      "'''Create a unitsphere recursively by subdividing all triangles in an octahedron recursivly.\n",
      "\n",
      "A unitsphere has a radius of 1, which also means that all points in this sphere\n",
      "have an absolute value of 1. Another feature of an unitsphere is that the normals \n",
      "of this sphere are exactly the same as the vertices.\n",
      "\n",
      "This recursive method will avoid the common problem of the polar singularity, \n",
      "produced by 2d parameterization methods.\n",
      "\n",
      "If you wish a sphere with another radius than that of 1, simply multiply every single\n",
      "value in the vertex array with this new radius \n",
      "(although this will break the \"vertex array equal to normal array\" property)\n",
      "'''\n",
      "import numpy\n",
      "\n",
      "octahedron_vertices = numpy.array( [ \n",
      "    [ 1.0, 0.0, 0.0], # 0 \n",
      "    [-1.0, 0.0, 0.0], # 1\n",
      "    [ 0.0, 1.0, 0.0], # 2 \n",
      "    [ 0.0,-1.0, 0.0], # 3\n",
      "    [ 0.0, 0.0, 1.0], # 4 \n",
      "    [ 0.0, 0.0,-1.0]  # 5                                \n",
      "    ] )\n",
      "octahedron_triangles = numpy.array( [ \n",
      "    [ 0, 4, 2 ],\n",
      "    [ 2, 4, 1 ],\n",
      "    [ 1, 4, 3 ],\n",
      "    [ 3, 4, 0 ],\n",
      "    [ 0, 2, 5 ],\n",
      "    [ 2, 1, 5 ],\n",
      "    [ 1, 3, 5 ],\n",
      "    [ 3, 0, 5 ],\n",
      "    ] )\n",
      "\n",
      "def normalize_v3(arr):\n",
      "    ''' Normalize a numpy array of 3 component vectors shape=(n,3) '''\n",
      "    lens = numpy.sqrt( arr[:,0]**2 + arr[:,1]**2 + arr[:,2]**2 )\n",
      "    arr[:,0] /= lens\n",
      "    arr[:,1] /= lens\n",
      "    arr[:,2] /= lens                \n",
      "    return arr\n",
      "\n",
      "def divide_all( vertices, triangles ):    \n",
      "    #new_triangles = []\n",
      "    new_triangle_count = len( triangles ) * 4\n",
      "    # Subdivide each triangle in the old approximation and normalize\n",
      "    #  the new points thus generated to lie on the surface of the unit\n",
      "    #  sphere.\n",
      "    # Each input triangle with vertices labelled [0,1,2] as shown\n",
      "    #  below will be turned into four new triangles:\n",
      "    #\n",
      "    #            Make new points\n",
      "    #                 a = (0+2)/2\n",
      "    #                 b = (0+1)/2\n",
      "    #                 c = (1+2)/2\n",
      "    #        1\n",
      "    #       /\\        Normalize a, b, c\n",
      "    #      /  \\\n",
      "    #    b/____\\ c    Construct new triangles\n",
      "    #    /\\    /\\       t1 [0,b,a]\n",
      "    #   /  \\  /  \\      t2 [b,1,c]\n",
      "    #  /____\\/____\\     t3 [a,b,c]\n",
      "    # 0      a     2    t4 [a,c,2]    \n",
      "    v0 = vertices[ triangles[:,0] ]\n",
      "    v1 = vertices[ triangles[:,1] ]\n",
      "    v2 = vertices[ triangles[:,2] ]\n",
      "    a = ( v0+v2 ) * 0.5\n",
      "    b = ( v0+v1 ) * 0.5\n",
      "    c = ( v1+v2 ) * 0.5  \n",
      "    normalize_v3( a )\n",
      "    normalize_v3( b )\n",
      "    normalize_v3( c )\n",
      "    \n",
      "    #Stack the triangles together.\n",
      "    # modified the following line (add indices)\n",
      "    vertices = numpy.vstack( [(v0[i],b[i],a[i],  b[i],v1[i],c[i],  a[i],b[i],c[i], a[i],c[i],v2[i]) for i in range(len(v0))] )\n",
      "    #Now our vertices are duplicated, and thus our triangle structure are unnecesarry.    \n",
      "    return vertices, numpy.arange( len(vertices) ).reshape( (-1,3) )\n",
      "\n",
      "def create_unit_sphere( recursion_level=2 ):\n",
      "    vertex_array, index_array = octahedron_vertices, octahedron_triangles\n",
      "    for i in range( recursion_level - 1 ):\n",
      "        vertex_array, index_array  = divide_all(vertex_array, index_array)\n",
      "    return vertex_array, index_array\n",
      "\n",
      "\n",
      "def vertex_array_only_unit_sphere( recursion_level=2 ):\n",
      "    vertex_array, index_array = create_unit_sphere(recursion_level)\n",
      "    if recursion_level > 1:    \n",
      "        return vertex_array.reshape( (-1) )\n",
      "    else:\n",
      "        return vertex_array[index_array].reshape( (-1) )"
     ],
     "language": "python",
     "metadata": {},
     "outputs": [],
     "prompt_number": 146
    },
    {
     "cell_type": "code",
     "collapsed": false,
     "input": [
      "in_points, connect = create_unit_sphere(5)"
     ],
     "language": "python",
     "metadata": {},
     "outputs": [],
     "prompt_number": 147
    },
    {
     "cell_type": "heading",
     "level": 2,
     "metadata": {},
     "source": [
      "Read sphere-data from VTK"
     ]
    },
    {
     "cell_type": "code",
     "collapsed": false,
     "input": [
      "if True:\n",
      "    in_points, connect = readvtk('sphere_2.vtk', celltype='CELLS')"
     ],
     "language": "python",
     "metadata": {},
     "outputs": [],
     "prompt_number": 148
    },
    {
     "cell_type": "heading",
     "level": 2,
     "metadata": {},
     "source": [
      "Compute envelope - based on triangulated sphere"
     ]
    },
    {
     "cell_type": "code",
     "collapsed": false,
     "input": [
      "print 'Number of points: ', len(in_points)\n",
      "print 'Number of triangles: ', len(connect)"
     ],
     "language": "python",
     "metadata": {},
     "outputs": [
      {
       "output_type": "stream",
       "stream": "stdout",
       "text": [
        "Number of points:  1252\n",
        "Number of triangles:  2500\n"
       ]
      }
     ],
     "prompt_number": 149
    },
    {
     "cell_type": "code",
     "collapsed": false,
     "input": [
      "env_points = []\n",
      "for pt in in_points:\n",
      "    envt = comp_safetyN(np.array([pt[0],pt[1],pt[2],0,0,0]),ABDn,layers)\n",
      "    env_points.append(pt*envt/tt)"
     ],
     "language": "python",
     "metadata": {},
     "outputs": [],
     "prompt_number": 150
    },
    {
     "cell_type": "code",
     "collapsed": false,
     "input": [
      "pt = in_points[1]\n",
      "print pt\n",
      "for layer in layers:\n",
      "    fac = comp_safetyN(np.array([pt[0],pt[1],pt[2],0,0,0]),ABDn, [layer])\n",
      "    print fac\n",
      "    print fac/tt*pt"
     ],
     "language": "python",
     "metadata": {},
     "outputs": [
      {
       "output_type": "stream",
       "stream": "stdout",
       "text": [
        "[ 0. -1.  0.]\n",
        "31.1250000000000\n",
        "[0 -249.000000000000 0]\n"
       ]
      }
     ],
     "prompt_number": 151
    },
    {
     "cell_type": "code",
     "collapsed": false,
     "input": [
      "filename = 'tsaiwu_layers.vtk'"
     ],
     "language": "python",
     "metadata": {},
     "outputs": [],
     "prompt_number": 152
    },
    {
     "cell_type": "code",
     "collapsed": false,
     "input": [
      "writevtk(filename, env_points, connect, 1, 1)"
     ],
     "language": "python",
     "metadata": {},
     "outputs": [],
     "prompt_number": 153
    },
    {
     "cell_type": "heading",
     "level": 2,
     "metadata": {},
     "source": [
      "Visualize"
     ]
    },
    {
     "cell_type": "code",
     "collapsed": false,
     "input": [
      "import vtk\n",
      "\n",
      "Reader = vtk.vtkDataSetReader()\n",
      "Reader.SetFileName(filename)\n",
      "Reader.Update()\n",
      "Data = Reader.GetOutput()\n",
      "scalar_range = Data.GetScalarRange()\n",
      "mapper = vtk.vtkPolyDataMapper()\n",
      "mapper.SetInput(Data)\n",
      "mapper.SetScalarRange(scalar_range)\n",
      "\n",
      "actor = vtk.vtkActor()\n",
      "actor.SetMapper(mapper)\n",
      "obj = actor.GetProperty()\n",
      "obj.EdgeVisibilityOn()\n",
      "obj.SetEdgeColor(0,0,0)"
     ],
     "language": "python",
     "metadata": {},
     "outputs": [],
     "prompt_number": 154
    },
    {
     "cell_type": "heading",
     "level": 3,
     "metadata": {},
     "source": [
      "Axes"
     ]
    },
    {
     "cell_type": "code",
     "collapsed": false,
     "input": [
      "axes = vtk.vtkAxesActor()\n",
      "axes.SetOrigin(0.,0.,0.)\n",
      "axes.SetTotalLength(100.,100.,100.)\n",
      "axes.AxisLabelsOff()\n",
      "axes.SetShaftTypeToCylinder()\n",
      "axes.SetCylinderRadius(0.02)\n",
      "axes.SetConeRadius(0.3)\n",
      "axes.SetXAxisLabelText('Sxx')\n",
      "axes.SetYAxisLabelText('Syy')\n",
      "axes.SetZAxisLabelText('Sxy')"
     ],
     "language": "python",
     "metadata": {},
     "outputs": [],
     "prompt_number": 155
    },
    {
     "cell_type": "heading",
     "level": 3,
     "metadata": {},
     "source": [
      "Plane"
     ]
    },
    {
     "cell_type": "code",
     "collapsed": false,
     "input": [
      "planesource = vtk.vtkPlaneSource()\n",
      "planesource.SetCenter(0,0,0)\n",
      "planesource.SetNormal(0,0,1)\n",
      "planesource.Update()\n",
      "# mapper\n",
      "pl_mapper = vtk.vtkPolyDataMapper()\n",
      "pl_mapper.SetInput(planesource.GetOutput())\n",
      "# actor\n",
      "pl_actor1 = vtk.vtkActor()\n",
      "pl_actor1.SetMapper(pl_mapper)\n",
      "pl_actor1.SetScale(900,900,900)\n",
      "pl_actor1.SetPosition(46,100,-0.1)\n",
      "obj1 = pl_actor1.GetProperty()\n",
      "obj1.SetColor(1,1,1)\n",
      "obj1.LightingOff()\n",
      "obj1.SetOpacity(0.3)\n",
      "\n",
      "#Textured plane\n",
      "mesh = planesource.GetOutput()\n",
      " \n",
      "# Read the image data from a file\n",
      "reader = vtk.vtkPNGReader()\n",
      "reader.SetFileName('grid.png')\n",
      " \n",
      "# Create texture object\n",
      "texture = vtk.vtkTexture()\n",
      "texture.SetInput(reader.GetOutput())\n",
      " \n",
      "# Map texture coordinates\n",
      "tmap = vtk.vtkTextureMapToPlane()\n",
      "tmap.SetInput(mesh)\n",
      "#tmap.PreventSeamOn()\n",
      " \n",
      "# Create mapper and set the mapped texture as input\n",
      "tmapper = vtk.vtkPolyDataMapper()\n",
      "tmapper.SetInput(tmap.GetOutput())\n",
      "pl_actor = vtk.vtkActor()\n",
      "pl_actor.SetMapper(tmapper)\n",
      "pl_actor.SetScale(900,900,900)\n",
      "pl_actor.SetPosition(46,100,0)\n",
      "pl_actor.SetTexture(texture)\n",
      "obj = pl_actor.GetProperty()\n",
      "obj.LightingOff()"
     ],
     "language": "python",
     "metadata": {},
     "outputs": [],
     "prompt_number": 156
    },
    {
     "cell_type": "heading",
     "level": 3,
     "metadata": {},
     "source": [
      "Cutter s11-s12"
     ]
    },
    {
     "cell_type": "code",
     "collapsed": false,
     "input": [
      "plcut1 = vtk.vtkPlane()\n",
      "plcut1.SetOrigin(0,0,0)\n",
      "plcut1.SetNormal(0,1,0)\n",
      "\n",
      "#create cutter\n",
      "cutter1=vtk.vtkCutter()\n",
      "cutter1.SetCutFunction(plcut1)\n",
      "cutter1.SetInputConnection(Reader.GetOutputPort())\n",
      "cutter1.Update()\n",
      "cutterMapper1=vtk.vtkPolyDataMapper()\n",
      "cutterMapper1.SetInputConnection( cutter1.GetOutputPort())\n",
      " \n",
      "#create plane actor\n",
      "planeActor1=vtk.vtkActor()\n",
      "planeActor1.GetProperty().SetColor(0,1,0)\n",
      "planeActor1.GetProperty().SetLineWidth(2)\n",
      "planeActor1.SetMapper(cutterMapper1)"
     ],
     "language": "python",
     "metadata": {},
     "outputs": [],
     "prompt_number": 157
    },
    {
     "cell_type": "heading",
     "level": 3,
     "metadata": {},
     "source": [
      "Cutter s22-s12"
     ]
    },
    {
     "cell_type": "code",
     "collapsed": false,
     "input": [
      "plcut = vtk.vtkPlane()\n",
      "plcut.SetOrigin(0,0,0)\n",
      "plcut.SetNormal(1,0,0)\n",
      "\n",
      "#create cutter\n",
      "cutter=vtk.vtkCutter()\n",
      "cutter.SetCutFunction(plcut)\n",
      "cutter.SetInputConnection(Reader.GetOutputPort())\n",
      "cutter.Update()\n",
      "cutterMapper=vtk.vtkPolyDataMapper()\n",
      "cutterMapper.SetInputConnection( cutter.GetOutputPort())\n",
      " \n",
      "#create plane actor\n",
      "planeActor=vtk.vtkActor()\n",
      "planeActor.GetProperty().SetColor(1.0,1,0)\n",
      "planeActor.GetProperty().SetLineWidth(2)\n",
      "planeActor.SetMapper(cutterMapper)"
     ],
     "language": "python",
     "metadata": {},
     "outputs": [],
     "prompt_number": 158
    },
    {
     "cell_type": "heading",
     "level": 3,
     "metadata": {},
     "source": [
      "Cutter s11-s22"
     ]
    },
    {
     "cell_type": "code",
     "collapsed": false,
     "input": [
      "plcut3 = vtk.vtkPlane()\n",
      "plcut3.SetOrigin(0,0,0)\n",
      "plcut3.SetNormal(0,0,1)\n",
      "\n",
      "#create cutter\n",
      "cutter3=vtk.vtkCutter()\n",
      "cutter3.SetCutFunction(plcut3)\n",
      "cutter3.SetInputConnection(Reader.GetOutputPort())\n",
      "cutter3.Update()\n",
      "cutterMapper3=vtk.vtkPolyDataMapper()\n",
      "cutterMapper3.SetInputConnection( cutter3.GetOutputPort())\n",
      " \n",
      "#create plane actor\n",
      "planeActor3=vtk.vtkActor()\n",
      "planeActor3.GetProperty().SetColor(0,1,1)\n",
      "planeActor3.GetProperty().SetLineWidth(2)\n",
      "planeActor3.SetMapper(cutterMapper3)"
     ],
     "language": "python",
     "metadata": {},
     "outputs": [],
     "prompt_number": 159
    },
    {
     "cell_type": "code",
     "collapsed": false,
     "input": [
      "# Visualize\n",
      "renderer = vtk.vtkRenderer()\n",
      "renderWindow = vtk.vtkRenderWindow()\n",
      "renderWindow.SetSize(500,500)\n",
      "renderWindow.AddRenderer(renderer)\n",
      "# create a renderwindowinteractor\n",
      "renderWindowInteractor = vtk.vtkRenderWindowInteractor()\n",
      "renderWindowInteractor.SetRenderWindow(renderWindow)\n",
      " \n",
      "style = vtk.vtkInteractorStyleTrackballCamera()\n",
      "renderWindowInteractor.SetInteractorStyle(style)\n",
      "\n",
      "renderer.SetBackground2(0.9,0.9,0.9)\n",
      "renderer.LightFollowCameraOn()\n",
      "renderer.SetBackground(0.4,0.4,0.8)\n",
      "renderer.GradientBackgroundOn()\n",
      "\n",
      "renderer.AddActor(actor)\n",
      "renderer.AddActor(axes)\n",
      "renderer.AddActor(pl_actor)\n",
      "renderer.AddActor(pl_actor1)\n",
      "renderer.AddActor(planeActor)\n",
      "renderer.AddActor(planeActor1)\n",
      "renderer.AddActor(planeActor3)"
     ],
     "language": "python",
     "metadata": {},
     "outputs": [],
     "prompt_number": 160
    },
    {
     "cell_type": "code",
     "collapsed": false,
     "input": [
      "renderWindow.Render()\n",
      "renderWindowInteractor.Start()\n",
      "# delete Window after close\n",
      "renderWindow = None\n",
      "renderWindowInteractor = None\n",
      "renderer = None"
     ],
     "language": "python",
     "metadata": {},
     "outputs": [],
     "prompt_number": 161
    },
    {
     "cell_type": "code",
     "collapsed": false,
     "input": [],
     "language": "python",
     "metadata": {},
     "outputs": [],
     "prompt_number": 161
    }
   ],
   "metadata": {}
  }
 ]
}