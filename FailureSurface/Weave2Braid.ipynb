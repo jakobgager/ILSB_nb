{
 "metadata": {
  "name": ""
 },
 "nbformat": 3,
 "nbformat_minor": 0,
 "worksheets": [
  {
   "cells": [
    {
     "cell_type": "heading",
     "level": 1,
     "metadata": {},
     "source": [
      "Weave to braid stress space converter"
     ]
    },
    {
     "cell_type": "markdown",
     "metadata": {},
     "source": [
      "What I do ...\n",
      "\n",
      "- take point of Initiation surface in weave stress space -> $(\\sigma_{xx}, \\sigma_{yy}, \\sigma_{xy})$\n",
      "- change coordinate system using $\\mathsf{R}$ -> $(\\sigma_{\\xi\\xi}, \\sigma_{\\eta\\eta}, \\sigma_{\\xi\\eta})^T = \\mathsf{R} (\\sigma_{xx}, \\sigma_{yy}, \\sigma_{xy})^T$\n",
      "- write file with new points"
     ]
    },
    {
     "cell_type": "heading",
     "level": 1,
     "metadata": {},
     "source": [
      "Python prerequisites"
     ]
    },
    {
     "cell_type": "code",
     "collapsed": false,
     "input": [
      "import os"
     ],
     "language": "python",
     "metadata": {},
     "outputs": [],
     "prompt_number": 581
    },
    {
     "cell_type": "code",
     "collapsed": false,
     "input": [
      "%pylab inline\n",
      "%load_ext sympy.interactive.ipythonprinting"
     ],
     "language": "python",
     "metadata": {},
     "outputs": [
      {
       "output_type": "stream",
       "stream": "stdout",
       "text": [
        "\n",
        "Welcome to pylab, a matplotlib-based Python environment [backend: module://IPython.zmq.pylab.backend_inline].\n",
        "For more information, type 'help(pylab)'.\n"
       ]
      }
     ],
     "prompt_number": 582
    },
    {
     "cell_type": "code",
     "collapsed": false,
     "input": [
      "import numpy as np\n",
      "import sympy as sp\n",
      "from IPython.core.display import Math"
     ],
     "language": "python",
     "metadata": {},
     "outputs": [],
     "prompt_number": 583
    },
    {
     "cell_type": "code",
     "collapsed": false,
     "input": [
      "from transform import trans_vtk"
     ],
     "language": "python",
     "metadata": {},
     "outputs": [],
     "prompt_number": 1
    },
    {
     "cell_type": "heading",
     "level": 3,
     "metadata": {},
     "source": [
      "Display functions"
     ]
    },
    {
     "cell_type": "code",
     "collapsed": false,
     "input": [
      "def dispeq(a,b):\n",
      "    display(Math('{0}={1}'.format(sp.latex(a),sp.latex(b))))"
     ],
     "language": "python",
     "metadata": {},
     "outputs": [],
     "prompt_number": 585
    },
    {
     "cell_type": "heading",
     "level": 3,
     "metadata": {},
     "source": [
      "Rotation matrix"
     ]
    },
    {
     "cell_type": "code",
     "collapsed": false,
     "input": [
      "Rs, Rbs, phi = sp.symbols(r'\\mathsf{R} \\bar{\\mathsf{R}} phi') "
     ],
     "language": "python",
     "metadata": {},
     "outputs": [],
     "prompt_number": 586
    },
    {
     "cell_type": "code",
     "collapsed": false,
     "input": [
      "s = sp.sin(phi)\n",
      "c = sp.cos(phi)\n",
      "R = sp.Matrix([[c**2,s**2,2*s*c],\n",
      "                [s**2,c**2,-2*s*c],\n",
      "                [-s*c,s*c,(c**2-s**2)]])\n",
      "dispeq(Rs,R)"
     ],
     "language": "python",
     "metadata": {},
     "outputs": [
      {
       "latex": [
        "$$\\mathsf{R}=\\left[\\begin{smallmatrix}\\cos^{2}{\\left (\\phi \\right )} & \\sin^{2}{\\left (\\phi \\right )} & 2 \\sin{\\left (\\phi \\right )} \\cos{\\left (\\phi \\right )}\\\\\\sin^{2}{\\left (\\phi \\right )} & \\cos^{2}{\\left (\\phi \\right )} & - 2 \\sin{\\left (\\phi \\right )} \\cos{\\left (\\phi \\right )}\\\\- \\sin{\\left (\\phi \\right )} \\cos{\\left (\\phi \\right )} & \\sin{\\left (\\phi \\right )} \\cos{\\left (\\phi \\right )} & - \\sin^{2}{\\left (\\phi \\right )} + \\cos^{2}{\\left (\\phi \\right )}\\end{smallmatrix}\\right]$$"
       ],
       "output_type": "display_data",
       "text": [
        "<IPython.core.display.Math object at 0x68f9250>"
       ]
      }
     ],
     "prompt_number": 587
    },
    {
     "cell_type": "code",
     "collapsed": false,
     "input": [
      "Rb = sp.Matrix([[c**2,s**2,s*c],\n",
      "                [s**2,c**2,-s*c],\n",
      "                [-2*s*c,2*s*c,(c**2-s**2)]])\n",
      "dispeq(Rbs,Rb)"
     ],
     "language": "python",
     "metadata": {},
     "outputs": [
      {
       "latex": [
        "$$\\bar{\\mathsf{R}}=\\left[\\begin{smallmatrix}\\cos^{2}{\\left (\\phi \\right )} & \\sin^{2}{\\left (\\phi \\right )} & \\sin{\\left (\\phi \\right )} \\cos{\\left (\\phi \\right )}\\\\\\sin^{2}{\\left (\\phi \\right )} & \\cos^{2}{\\left (\\phi \\right )} & - \\sin{\\left (\\phi \\right )} \\cos{\\left (\\phi \\right )}\\\\- 2 \\sin{\\left (\\phi \\right )} \\cos{\\left (\\phi \\right )} & 2 \\sin{\\left (\\phi \\right )} \\cos{\\left (\\phi \\right )} & - \\sin^{2}{\\left (\\phi \\right )} + \\cos^{2}{\\left (\\phi \\right )}\\end{smallmatrix}\\right]$$"
       ],
       "output_type": "display_data",
       "text": [
        "<IPython.core.display.Math object at 0x68e4310>"
       ]
      }
     ],
     "prompt_number": 588
    },
    {
     "cell_type": "heading",
     "level": 3,
     "metadata": {},
     "source": [
      "VTK-Write Routine (won't be used)"
     ]
    },
    {
     "cell_type": "code",
     "collapsed": false,
     "input": [
      "def writevtk(filename,nodes, translist, nr_sets, nr_levels, sym_idx=0, data=[]):\n",
      "    nonr=len(nodes)\n",
      "    elnr=len(translist)\n",
      "    f=open(filename,'w')\n",
      "    f.writelines('# vtk DataFile Version 3.0\\n')\n",
      "    f.write('{0} {1} {2} {3} {4}\\nASCII\\nDATASET POLYDATA\\n'.format(nonr/nr_sets, elnr/nr_sets, nr_sets, nr_levels, sym_idx))\n",
      "    f.write('POINTS %d float\\n'%nonr)\n",
      "    for i in range(nonr):\n",
      "        f.write('%f %f %f\\n'%tuple(nodes[i]))\n",
      "    f.write('POLYGONS %d %d\\n'%(elnr,elnr*4))\n",
      "    for n in range(elnr):\n",
      "        f.write('3 %d %d %d \\n'%tuple(translist[n]))\n",
      "    # write data tags\n",
      "    if len(data) > 0:\n",
      "        f.write('POINT_DATA {0}\\n'.format(nonr))\n",
      "        for dset in data:\n",
      "            f.write('SCALARS {0} int\\nLOOKUP_TABLE default\\n'.format(dset[0]))\n",
      "            for i in dset[1]:\n",
      "                f.write('{0}\\n'.format(i))\n",
      "            \n",
      "    f.close()"
     ],
     "language": "python",
     "metadata": {},
     "outputs": [],
     "prompt_number": 589
    },
    {
     "cell_type": "heading",
     "level": 3,
     "metadata": {},
     "source": [
      "VTK Reader (won't be used)"
     ]
    },
    {
     "cell_type": "code",
     "collapsed": false,
     "input": [
      "celltype = 'CELLS'  #'POLYGONS'\n",
      "\n",
      "def readvtk(filename, points=[], cells=[], celltype='POLYGONS'):\n",
      "    offset = len(points)\n",
      "    with open(filename) as fil:\n",
      "\n",
      "        lin = 1\n",
      "        while lin:\n",
      "            lin = fil.readline()\n",
      "            if lin.startswith('POINTS'):\n",
      "                numpt = int(lin.split()[1])\n",
      "                for i in range(numpt):\n",
      "                    points.append(np.array(fil.readline().split(),dtype=float))\n",
      "            if lin.startswith(celltype):\n",
      "                numcells = int(lin.split()[1])\n",
      "                for i in range(numcells):\n",
      "                    cells.append(np.array(fil.readline().split()[1:],dtype=int)+offset)\n",
      "\n",
      "    return points, cells"
     ],
     "language": "python",
     "metadata": {},
     "outputs": [],
     "prompt_number": 590
    },
    {
     "cell_type": "heading",
     "level": 2,
     "metadata": {},
     "source": [
      "Rotate coordinate system"
     ]
    },
    {
     "cell_type": "code",
     "collapsed": false,
     "input": [
      "def rotcoord(we_stress, matrix):\n",
      "    return np.dot(matrix,we_stress)\n"
     ],
     "language": "python",
     "metadata": {},
     "outputs": [],
     "prompt_number": 591
    },
    {
     "cell_type": "heading",
     "level": 2,
     "metadata": {},
     "source": [
      "Apply to file"
     ]
    },
    {
     "cell_type": "markdown",
     "metadata": {},
     "source": [
      "Sym_idx:\n",
      "\n",
      " - 0 whole space -> no mirroring\n",
      " - 1 DPE symmetry\n",
      " - 2 shear symmetry"
     ]
    },
    {
     "cell_type": "code",
     "collapsed": false,
     "input": [
      "filename = 'tsaiwu_layers.vtk'\n",
      "outfile = 'tsaiwu_layers_braid.vtk'\n",
      "\n",
      "filename = '/usr2/gager/Diplomas/Schwab/vtk/DPE_radstress_stress_e5_cleaned.vtk'\n",
      "outfile = 'DPE_radstress_stress_e5_cleaned_br.vtk'\n",
      "sym_idx = 1"
     ],
     "language": "python",
     "metadata": {},
     "outputs": [],
     "prompt_number": 1
    },
    {
     "cell_type": "code",
     "collapsed": false,
     "input": [
      "br_angle = np.deg2rad(45.)\n",
      "\n",
      "#points, cells = readvtk(filename)\n",
      "\n",
      "rotmat = np.array(R.evalf(15, subs={phi:br_angle})).astype(float)\n",
      "\n",
      "trans_vtk(filename, rotmat)\n",
      "\n",
      "outfile = os.path.splitext(filename)[0] + '_trans.vtk'\n",
      "#br_points = []\n",
      "\n",
      "#for point in points:\n",
      "#    br_points.append(rotcoord(point, rotmat))\n",
      " \n",
      "# write to file\n",
      "#writevtk(outfile, br_points, cells, 1, 1)"
     ],
     "language": "python",
     "metadata": {},
     "outputs": []
    },
    {
     "cell_type": "heading",
     "level": 2,
     "metadata": {},
     "source": [
      "Visualize"
     ]
    },
    {
     "cell_type": "code",
     "collapsed": false,
     "input": [
      "import vtk"
     ],
     "language": "python",
     "metadata": {},
     "outputs": [],
     "prompt_number": 2
    },
    {
     "cell_type": "code",
     "collapsed": false,
     "input": [
      "# read weave\n",
      "\n",
      "Reader_we = vtk.vtkDataSetReader()\n",
      "Reader_we.SetFileName(filename)\n",
      "Reader_we.Update()\n",
      "Data = Reader_we.GetOutput()\n",
      "scalar_range = Data.GetScalarRange()\n",
      "mapper_we = vtk.vtkPolyDataMapper()\n",
      "mapper_we.SetInput(Data)\n",
      "mapper_we.SetScalarRange(scalar_range)\n",
      "\n",
      "actor_we = vtk.vtkActor()\n",
      "actor_we.SetMapper(mapper_we)\n",
      "obj = actor_we.GetProperty()\n",
      "obj.EdgeVisibilityOn()\n",
      "obj.SetEdgeColor(0,0,0)\n",
      "obj.SetOpacity(0.2)\n",
      "obj.SetColor(0,0,0)"
     ],
     "language": "python",
     "metadata": {},
     "outputs": [],
     "prompt_number": 3
    },
    {
     "cell_type": "code",
     "collapsed": false,
     "input": [
      "# read braid\n",
      "\n",
      "Reader_br = vtk.vtkDataSetReader()\n",
      "Reader_br.SetFileName(outfile)\n",
      "Reader_br.Update()\n",
      "Data_br = Reader_br.GetOutput()\n",
      "scalar_range = Data_br.GetScalarRange()\n",
      "mapper_br = vtk.vtkPolyDataMapper()\n",
      "mapper_br.SetInput(Data_br)\n",
      "#mapper_br.SetScalarRange(scalar_range)\n",
      "\n",
      "actor_br = vtk.vtkActor()\n",
      "actor_br.SetMapper(mapper_br)\n",
      "obj = actor_br.GetProperty()\n",
      "obj.EdgeVisibilityOn()\n",
      "obj.SetEdgeColor(0,0,0)\n",
      "#obj.SetColor(0,0.8,0)"
     ],
     "language": "python",
     "metadata": {},
     "outputs": [],
     "prompt_number": 58
    },
    {
     "cell_type": "heading",
     "level": 3,
     "metadata": {},
     "source": [
      "Mirror"
     ]
    },
    {
     "cell_type": "code",
     "collapsed": false,
     "input": [
      "reflect = vtk.vtkReflectionFilter()\n",
      "reflect.SetInput(Data_br)\n",
      "reflect.SetPlaneToZ()\n",
      "reflect.CopyInputOn()\n",
      "reflect.Update()\n",
      "# reflect creates dataset (sort of unstructured grid) and needs to be converted to polydata again\n",
      "ref_conv = vtk.vtkDataSetSurfaceFilter()\n",
      "ref_conv.SetInput(reflect.GetOutput())\n",
      "ref_conv.Update()\n",
      "\n",
      "refmapper = vtk.vtkPolyDataMapper()\n",
      "refmapper.SetInput(ref_conv.GetOutput())\n",
      "#refmapper.SetScalarRange(scalar_range)\n",
      "\n",
      "actorref = vtk.vtkActor()\n",
      "actorref.SetMapper(refmapper)\n",
      "\n",
      "Data = ref_conv.GetOutput()"
     ],
     "language": "python",
     "metadata": {},
     "outputs": [],
     "prompt_number": 59
    },
    {
     "cell_type": "heading",
     "level": 3,
     "metadata": {},
     "source": [
      "Split data"
     ]
    },
    {
     "cell_type": "code",
     "collapsed": false,
     "input": [
      "idx = [0,1]\n",
      "surfs = []\n",
      "\n",
      "tra = vtk.vtkTransform()\n",
      "tra.Scale(-1,1,1)\n",
      "tra.RotateZ(90)\n",
      "\n",
      "for i in idx:\n",
      "\n",
      "    surfs.append([])\n",
      "    surfs[-1].append(vtk.vtkThreshold())\n",
      "    surfs[-1][-1].SetInput(Data)\n",
      "    if i == 1:\n",
      "        surfs[-1][-1].ThresholdByUpper(1.1)\n",
      "    else:\n",
      "        surfs[-1][-1].ThresholdByLower(1.0)\n",
      "    surfs[-1][-1].Update()\n",
      "    # geo filter\n",
      "    surfs[-1].append(vtk.vtkGeometryFilter())\n",
      "    surfs[-1][-1].SetInput(surfs[-1][0].GetOutput())\n",
      "    surfs[-1][-1].Update()\n",
      "    # transform\n",
      "    surfs[-1].append(vtk.vtkTransformPolyDataFilter())\n",
      "    surfs[-1][-1].SetInput(surfs[-1][-2].GetOutput())  \n",
      "    surfs[-1][-1].SetTransform(tra)\n",
      "    surfs[-1][-1].Update()\n",
      "    # combine\n",
      "    surfs[-1].append(vtk.vtkAppendPolyData())\n",
      "    surfs[-1][-1].AddInput(surfs[-1][1].GetOutput())\n",
      "    surfs[-1][-1].AddInput(surfs[-1][2].GetOutput())\n",
      "    surfs[-1][-1].Update()\n",
      "    # mapper\n",
      "    surfs[-1].append(vtk.vtkPolyDataMapper())\n",
      "    surfs[-1][-1].SetInput(surfs[-1][3].GetOutput())\n",
      "    # Actor\n",
      "    surfs[-1].append(vtk.vtkActor())\n",
      "    surfs[-1][-1].SetMapper(surfs[-1][4])\n",
      "\n",
      "\n",
      "t1 = vtk.vtkThreshold()\n",
      "t1.SetInput(Data)\n",
      "t1.ThresholdByUpper(1.1)\n",
      "t1.Update()\n",
      "geofilt = vtk.vtkGeometryFilter()\n",
      "geofilt.SetInput(t1.GetOutput())\n",
      "geofilt.Update()\n",
      "Data = geofilt.GetOutput()\n",
      "t1mapper = vtk.vtkPolyDataMapper()\n",
      "t1mapper.SetInput(geofilt.GetOutput())\n",
      "#t1mapper.SetScalarRange(scalar_range)\n",
      "    \n",
      "actor_t1 = vtk.vtkActor()\n",
      "actor_t1.SetMapper(t1mapper)"
     ],
     "language": "python",
     "metadata": {},
     "outputs": [],
     "prompt_number": 60
    },
    {
     "cell_type": "code",
     "collapsed": false,
     "input": [
      "tra = vtk.vtkTransform()\n",
      "tra.Scale(-1,1,1)\n",
      "tra.RotateZ(90)\n",
      "\n",
      "transf = vtk.vtkTransformPolyDataFilter()\n",
      "transf.SetInput(Data)\n",
      "transf.SetTransform(tra)\n",
      "transf.Update()\n",
      "Data2 = transf.GetOutput()"
     ],
     "language": "python",
     "metadata": {},
     "outputs": [],
     "prompt_number": 61
    },
    {
     "cell_type": "code",
     "collapsed": false,
     "input": [
      "comb = vtk.vtkAppendPolyData()\n",
      "comb.AddInput(Data)\n",
      "comb.AddInput(Data2)\n",
      "comb.Update()\n",
      "Data = comb.GetOutput()\n",
      "\n",
      "trdmapper = vtk.vtkPolyDataMapper()\n",
      "trdmapper.SetInput(Data)\n",
      "    #subdmapper.SetScalarRange(scalar_range)\n",
      "    \n",
      "actor_brsub = vtk.vtkActor()\n",
      "actor_brsub.SetMapper(trdmapper)\n",
      "#style\n",
      "obj = actor_brsub.GetProperty()\n",
      "obj.SetColor(0,0.8,0)"
     ],
     "language": "python",
     "metadata": {},
     "outputs": [],
     "prompt_number": 62
    },
    {
     "cell_type": "heading",
     "level": 3,
     "metadata": {},
     "source": [
      "Subdivision filter"
     ]
    },
    {
     "cell_type": "code",
     "collapsed": false,
     "input": [
      "subd = 0\n",
      "if subd:\n",
      "    #geometry filter\n",
      "    geofilt2 = vtk.vtkGeometryFilter()\n",
      "    geofilt2.SetInput(Data)\n",
      "    geofilt2.MergingOn()\n",
      "    geofilt2.Update()\n",
      "    Data = geofilt2.GetOutput()\n",
      "    #clean data\n",
      "    cleanPolyData = vtk.vtkCleanPolyData()\n",
      "    cleanPolyData.ConvertLinesToPointsOff()\n",
      "    cleanPolyData.ConvertPolysToLinesOff()\n",
      "    cleanPolyData.ConvertStripsToPolysOff()\n",
      "    cleanPolyData.SetInput(Data)\n",
      "    cleanPolyData.Update()\n",
      "    Data = cleanPolyData.GetOutput()\n",
      "    #subdivide data\n",
      "    subdivisionFilter =  vtk.vtkLoopSubdivisionFilter()\n",
      "    subdivisionFilter.SetNumberOfSubdivisions(2)\n",
      "    subdivisionFilter.SetInput(Data)\n",
      "    subdivisionFilter.Update()\n",
      "    subdmapper = vtk.vtkPolyDataMapper()\n",
      "    subdmapper.SetInput(subdivisionFilter.GetOutput())\n",
      "    #subdmapper.SetScalarRange(scalar_range)\n",
      "    \n",
      "    actor_brsub = vtk.vtkActor()\n",
      "    actor_brsub.SetMapper(subdmapper)\n",
      "    \n",
      "    #style\n",
      "    obj = actor_brsub.GetProperty()\n",
      "    obj.SetColor(0,0.8,0)"
     ],
     "language": "python",
     "metadata": {},
     "outputs": [],
     "prompt_number": 63
    },
    {
     "cell_type": "heading",
     "level": 3,
     "metadata": {},
     "source": [
      "Axes"
     ]
    },
    {
     "cell_type": "code",
     "collapsed": false,
     "input": [
      "axes = vtk.vtkAxesActor()\n",
      "axes.SetOrigin(0.,0.,0.)\n",
      "axes.SetTotalLength(100.,100.,100.)\n",
      "axes.AxisLabelsOff()\n",
      "axes.SetShaftTypeToCylinder()\n",
      "axes.SetCylinderRadius(0.02)\n",
      "axes.SetConeRadius(0.3)\n",
      "axes.SetXAxisLabelText('Sxx')\n",
      "axes.SetYAxisLabelText('Syy')\n",
      "axes.SetZAxisLabelText('Sxy')"
     ],
     "language": "python",
     "metadata": {},
     "outputs": [],
     "prompt_number": 64
    },
    {
     "cell_type": "heading",
     "level": 3,
     "metadata": {},
     "source": [
      "Plane"
     ]
    },
    {
     "cell_type": "code",
     "collapsed": false,
     "input": [
      "planesource = vtk.vtkPlaneSource()\n",
      "planesource.SetCenter(0,0,0)\n",
      "planesource.SetNormal(0,0,1)\n",
      "planesource.Update()\n",
      "# mapper\n",
      "pl_mapper = vtk.vtkPolyDataMapper()\n",
      "pl_mapper.SetInput(planesource.GetOutput())\n",
      "# actor\n",
      "pl_actor1 = vtk.vtkActor()\n",
      "pl_actor1.SetMapper(pl_mapper)\n",
      "pl_actor1.SetScale(900,900,900)\n",
      "pl_actor1.SetPosition(46,100,-0.1)\n",
      "obj1 = pl_actor1.GetProperty()\n",
      "obj1.SetColor(1,1,1)\n",
      "obj1.LightingOff()\n",
      "obj1.SetOpacity(0.3)\n",
      "\n",
      "#Textured plane\n",
      "mesh = planesource.GetOutput()\n",
      " \n",
      "# Read the image data from a file\n",
      "reader = vtk.vtkPNGReader()\n",
      "reader.SetFileName('grid.png')\n",
      " \n",
      "# Create texture object\n",
      "texture = vtk.vtkTexture()\n",
      "texture.SetInput(reader.GetOutput())\n",
      " \n",
      "# Map texture coordinates\n",
      "tmap = vtk.vtkTextureMapToPlane()\n",
      "tmap.SetInput(mesh)\n",
      "#tmap.PreventSeamOn()\n",
      " \n",
      "# Create mapper and set the mapped texture as input\n",
      "tmapper = vtk.vtkPolyDataMapper()\n",
      "tmapper.SetInput(tmap.GetOutput())\n",
      "pl_actor = vtk.vtkActor()\n",
      "pl_actor.SetMapper(tmapper)\n",
      "pl_actor.SetScale(900,900,900)\n",
      "pl_actor.SetPosition(46,100,0)\n",
      "pl_actor.SetTexture(texture)\n",
      "obj = pl_actor.GetProperty()\n",
      "obj.LightingOff()"
     ],
     "language": "python",
     "metadata": {},
     "outputs": [],
     "prompt_number": 65
    },
    {
     "cell_type": "heading",
     "level": 3,
     "metadata": {},
     "source": [
      "Cutter s11-s12"
     ]
    },
    {
     "cell_type": "code",
     "collapsed": false,
     "input": [
      "plcut1 = vtk.vtkPlane()\n",
      "plcut1.SetOrigin(0,0,0)\n",
      "plcut1.SetNormal(0,1,0)\n",
      "\n",
      "#create cutter\n",
      "cutter1=vtk.vtkCutter()\n",
      "cutter1.SetCutFunction(plcut1)\n",
      "cutter1.SetInput(Data)\n",
      "cutter1.Update()\n",
      "cutterMapper1=vtk.vtkPolyDataMapper()\n",
      "cutterMapper1.SetInputConnection( cutter1.GetOutputPort())\n",
      " \n",
      "#create plane actor\n",
      "planeActor1=vtk.vtkActor()\n",
      "planeActor1.GetProperty().SetColor(0,0,1)\n",
      "planeActor1.GetProperty().SetLineWidth(2)\n",
      "planeActor1.SetMapper(cutterMapper1)"
     ],
     "language": "python",
     "metadata": {},
     "outputs": [],
     "prompt_number": 66
    },
    {
     "cell_type": "heading",
     "level": 3,
     "metadata": {},
     "source": [
      "Cutter s22-s12"
     ]
    },
    {
     "cell_type": "code",
     "collapsed": false,
     "input": [
      "plcut = vtk.vtkPlane()\n",
      "plcut.SetOrigin(0,0,0)\n",
      "plcut.SetNormal(1,0,0)\n",
      "\n",
      "#create cutter\n",
      "cutter=vtk.vtkCutter()\n",
      "cutter.SetCutFunction(plcut)\n",
      "cutter.SetInput(Data)\n",
      "cutter.Update()\n",
      "cutterMapper=vtk.vtkPolyDataMapper()\n",
      "cutterMapper.SetInputConnection( cutter.GetOutputPort())\n",
      " \n",
      "#create plane actor\n",
      "planeActor=vtk.vtkActor()\n",
      "planeActor.GetProperty().SetColor(1.0,1,0)\n",
      "planeActor.GetProperty().SetLineWidth(2)\n",
      "planeActor.SetMapper(cutterMapper)"
     ],
     "language": "python",
     "metadata": {},
     "outputs": [],
     "prompt_number": 67
    },
    {
     "cell_type": "heading",
     "level": 3,
     "metadata": {},
     "source": [
      "Cutter s11-s22"
     ]
    },
    {
     "cell_type": "code",
     "collapsed": false,
     "input": [
      "plcut3 = vtk.vtkPlane()\n",
      "plcut3.SetOrigin(0,0,0)\n",
      "plcut3.SetNormal(0,0,1)\n",
      "\n",
      "#create cutter\n",
      "cutter3=vtk.vtkCutter()\n",
      "cutter3.SetCutFunction(plcut3)\n",
      "cutter3.SetInput(Data)\n",
      "cutter3.Update()\n",
      "cutterMapper3=vtk.vtkPolyDataMapper()\n",
      "cutterMapper3.SetInputConnection( cutter3.GetOutputPort())\n",
      " \n",
      "#create plane actor\n",
      "planeActor3=vtk.vtkActor()\n",
      "planeActor3.GetProperty().SetColor(0,1,1)\n",
      "planeActor3.GetProperty().SetLineWidth(2)\n",
      "planeActor3.SetMapper(cutterMapper3)"
     ],
     "language": "python",
     "metadata": {},
     "outputs": [],
     "prompt_number": 68
    },
    {
     "cell_type": "heading",
     "level": 2,
     "metadata": {},
     "source": [
      "Visualize"
     ]
    },
    {
     "cell_type": "code",
     "collapsed": false,
     "input": [
      "# screenshot code:\n",
      "def key(obj,event):\n",
      "    if event == 'KeyPressEvent' and obj.GetKeySym() =='p':\n",
      "        renWin = obj.GetRenderWindow()\n",
      "        w2if = vtk.vtkWindowToImageFilter()\n",
      "        w2if.SetInput(renWin)\n",
      "        w2if.Update()\n",
      "     \n",
      "        writer = vtk.vtkPNGWriter()\n",
      "        writer.SetFileName(\"screenshot.png\")\n",
      "        writer.SetInput(w2if.GetOutput())\n",
      "        writer.Write()\n",
      "\n",
      "    elif event == 'KeyPressEvent' and obj.GetKeySym() =='b':\n",
      "        #toggle braid#\n",
      "        actor_brsub.SetVisibility(not actor_brsub.GetVisibility())\n",
      "        return\n",
      "\n",
      "    elif event == 'KeyPressEvent' and obj.GetKeySym() =='n':\n",
      "        #toggle weave#\n",
      "        actor_we.SetVisibility(not actor_we.GetVisibility())\n",
      "        return\n",
      "    \n",
      "    else:\n",
      "        return"
     ],
     "language": "python",
     "metadata": {},
     "outputs": [],
     "prompt_number": 69
    },
    {
     "cell_type": "code",
     "collapsed": false,
     "input": [
      "# Visualize\n",
      "renderer = vtk.vtkRenderer()\n",
      "renderWindow = vtk.vtkRenderWindow()\n",
      "renderWindow.SetSize(500,500)\n",
      "renderWindow.AddRenderer(renderer)\n",
      "# create a renderwindowinteractor\n",
      "renderWindowInteractor = vtk.vtkRenderWindowInteractor()\n",
      "renderWindowInteractor.SetRenderWindow(renderWindow)\n",
      "renderWindowInteractor.AddObserver('KeyPressEvent', key, 1.0);\n",
      "    \n",
      "style = vtk.vtkInteractorStyleTrackballCamera()\n",
      "renderWindowInteractor.SetInteractorStyle(style)\n",
      "\n",
      "renderer.SetBackground2(0.95,0.95,0.95)\n",
      "renderer.LightFollowCameraOn()\n",
      "renderer.SetBackground(0.5,0.5,0.5)\n",
      "renderer.GradientBackgroundOn()\n",
      "#renderer.SetBackground(1,1,1)\n",
      "\n",
      "renderer.AddActor(actor_we)\n",
      "#renderer.AddActor(actorref)\n",
      "if subd:\n",
      "    renderer.AddActor(actor_brsub)\n",
      "else:\n",
      "#    pass\n",
      "    renderer.AddActor(actor_br)\n",
      "for i in [0,1]:\n",
      "    pass\n",
      "#    renderer.AddActor(surfs[i][-1])\n",
      "renderer.AddActor(axes)\n",
      "renderer.AddActor(pl_actor)\n",
      "renderer.AddActor(pl_actor1)\n",
      "renderer.AddActor(planeActor)\n",
      "renderer.AddActor(planeActor1)\n",
      "renderer.AddActor(planeActor3)\n",
      "#renderer.AddActor(actor_t1)"
     ],
     "language": "python",
     "metadata": {},
     "outputs": [],
     "prompt_number": 72
    },
    {
     "cell_type": "code",
     "collapsed": false,
     "input": [
      "renderWindow.Render()\n",
      "renderWindowInteractor.Initialize()\n",
      "renderWindowInteractor.Start()\n",
      "# delete Window after close\n",
      "renderWindow = None\n",
      "renderWindowInteractor = None\n",
      "renderer = None"
     ],
     "language": "python",
     "metadata": {},
     "outputs": [],
     "prompt_number": 73
    },
    {
     "cell_type": "code",
     "collapsed": false,
     "input": [],
     "language": "python",
     "metadata": {},
     "outputs": [],
     "prompt_number": 608
    }
   ],
   "metadata": {}
  }
 ]
}